{
  "nbformat": 4,
  "nbformat_minor": 0,
  "metadata": {
    "colab": {
      "provenance": [],
      "mount_file_id": "1imyl3dzq3WKMdxrDiRyD8TB2Bmu0PcUC",
      "authorship_tag": "ABX9TyN+89oGzcXoAeO0LfRwmL8r",
      "include_colab_link": true
    },
    "kernelspec": {
      "name": "python3",
      "display_name": "Python 3"
    },
    "language_info": {
      "name": "python"
    }
  },
  "cells": [
    {
      "cell_type": "markdown",
      "metadata": {
        "id": "view-in-github",
        "colab_type": "text"
      },
      "source": [
        "<a href=\"https://colab.research.google.com/github/nileshmalode11/Model_Monitoring_regression/blob/main/Model_Monetoring_Housing_Power_consumtion.ipynb\" target=\"_parent\"><img src=\"https://colab.research.google.com/assets/colab-badge.svg\" alt=\"Open In Colab\"/></a>"
      ]
    },
    {
      "cell_type": "code",
      "source": [
        "! pip install nannyml"
      ],
      "metadata": {
        "colab": {
          "base_uri": "https://localhost:8080/",
          "height": 1000
        },
        "id": "lO4RvmLdqSIH",
        "outputId": "b4c38f30-17fa-48ea-ee50-a45417440e7d"
      },
      "execution_count": null,
      "outputs": [
        {
          "output_type": "stream",
          "name": "stdout",
          "text": [
            "Collecting nannyml\n",
            "  Downloading nannyml-0.9.1-py3-none-any.whl (20.8 MB)\n",
            "\u001b[2K     \u001b[90m━━━━━━━━━━━━━━━━━━━━━━━━━━━━━━━━━━━━━━━━\u001b[0m \u001b[32m20.8/20.8 MB\u001b[0m \u001b[31m16.3 MB/s\u001b[0m eta \u001b[36m0:00:00\u001b[0m\n",
            "\u001b[?25hCollecting APScheduler<4.0.0,>=3.9.1 (from nannyml)\n",
            "  Downloading APScheduler-3.10.3-py3-none-any.whl (59 kB)\n",
            "\u001b[2K     \u001b[90m━━━━━━━━━━━━━━━━━━━━━━━━━━━━━━━━━━━━━━━━\u001b[0m \u001b[32m59.4/59.4 kB\u001b[0m \u001b[31m6.0 MB/s\u001b[0m eta \u001b[36m0:00:00\u001b[0m\n",
            "\u001b[?25hCollecting FLAML<2.0.0,>=1.0.11 (from nannyml)\n",
            "  Downloading FLAML-1.2.4-py3-none-any.whl (260 kB)\n",
            "\u001b[2K     \u001b[90m━━━━━━━━━━━━━━━━━━━━━━━━━━━━━━━━━━━━━━\u001b[0m \u001b[32m260.5/260.5 kB\u001b[0m \u001b[31m24.6 MB/s\u001b[0m eta \u001b[36m0:00:00\u001b[0m\n",
            "\u001b[?25hCollecting Jinja2<3.1 (from nannyml)\n",
            "  Downloading Jinja2-3.0.3-py3-none-any.whl (133 kB)\n",
            "\u001b[2K     \u001b[90m━━━━━━━━━━━━━━━━━━━━━━━━━━━━━━━━━━━━━━\u001b[0m \u001b[32m133.6/133.6 kB\u001b[0m \u001b[31m13.8 MB/s\u001b[0m eta \u001b[36m0:00:00\u001b[0m\n",
            "\u001b[?25hRequirement already satisfied: PyYAML<7.0,>=6.0 in /usr/local/lib/python3.10/dist-packages (from nannyml) (6.0.1)\n",
            "Collecting analytics-python<2.0.0,>=1.4.0 (from nannyml)\n",
            "  Downloading analytics_python-1.4.post1-py2.py3-none-any.whl (23 kB)\n",
            "Collecting category-encoders<3.0.0,>=2.3.0 (from nannyml)\n",
            "  Downloading category_encoders-2.6.1-py2.py3-none-any.whl (81 kB)\n",
            "\u001b[2K     \u001b[90m━━━━━━━━━━━━━━━━━━━━━━━━━━━━━━━━━━━━━━━━\u001b[0m \u001b[32m81.9/81.9 kB\u001b[0m \u001b[31m8.2 MB/s\u001b[0m eta \u001b[36m0:00:00\u001b[0m\n",
            "\u001b[?25hRequirement already satisfied: click<9.0.0,>=8.1.3 in /usr/local/lib/python3.10/dist-packages (from nannyml) (8.1.6)\n",
            "Collecting gcsfs<2023.0.0,>=2022.5.0 (from nannyml)\n",
            "  Downloading gcsfs-2022.11.0-py2.py3-none-any.whl (26 kB)\n",
            "Requirement already satisfied: joblib<2.0.0,>=1.1.0 in /usr/local/lib/python3.10/dist-packages (from nannyml) (1.3.2)\n",
            "Collecting kaleido==0.2.1 (from nannyml)\n",
            "  Downloading kaleido-0.2.1-py2.py3-none-manylinux1_x86_64.whl (79.9 MB)\n",
            "\u001b[2K     \u001b[90m━━━━━━━━━━━━━━━━━━━━━━━━━━━━━━━━━━━━━━━━\u001b[0m \u001b[32m79.9/79.9 MB\u001b[0m \u001b[31m9.6 MB/s\u001b[0m eta \u001b[36m0:00:00\u001b[0m\n",
            "\u001b[?25hCollecting lightgbm<4.0.0,>=3.3.2 (from nannyml)\n",
            "  Downloading lightgbm-3.3.5-py3-none-manylinux1_x86_64.whl (2.0 MB)\n",
            "\u001b[2K     \u001b[90m━━━━━━━━━━━━━━━━━━━━━━━━━━━━━━━━━━━━━━━━\u001b[0m \u001b[32m2.0/2.0 MB\u001b[0m \u001b[31m55.5 MB/s\u001b[0m eta \u001b[36m0:00:00\u001b[0m\n",
            "\u001b[?25hRequirement already satisfied: matplotlib<4.0,>=3.7 in /usr/local/lib/python3.10/dist-packages (from nannyml) (3.7.1)\n",
            "Collecting numpy<1.25,>=1.24 (from nannyml)\n",
            "  Downloading numpy-1.24.4-cp310-cp310-manylinux_2_17_x86_64.manylinux2014_x86_64.whl (17.3 MB)\n",
            "\u001b[2K     \u001b[90m━━━━━━━━━━━━━━━━━━━━━━━━━━━━━━━━━━━━━━━━\u001b[0m \u001b[32m17.3/17.3 MB\u001b[0m \u001b[31m45.1 MB/s\u001b[0m eta \u001b[36m0:00:00\u001b[0m\n",
            "\u001b[?25hRequirement already satisfied: pandas<2.0,>=1.5 in /usr/local/lib/python3.10/dist-packages (from nannyml) (1.5.3)\n",
            "Requirement already satisfied: plotly<6.0.0,>=5.6.0 in /usr/local/lib/python3.10/dist-packages (from nannyml) (5.15.0)\n",
            "Collecting psycopg2-binary<3.0.0,>=2.9.3 (from nannyml)\n",
            "  Downloading psycopg2_binary-2.9.7-cp310-cp310-manylinux_2_17_x86_64.manylinux2014_x86_64.whl (3.0 MB)\n",
            "\u001b[2K     \u001b[90m━━━━━━━━━━━━━━━━━━━━━━━━━━━━━━━━━━━━━━━━\u001b[0m \u001b[32m3.0/3.0 MB\u001b[0m \u001b[31m63.0 MB/s\u001b[0m eta \u001b[36m0:00:00\u001b[0m\n",
            "\u001b[?25hCollecting pyarrow<13.0.0,>=12.0.0 (from nannyml)\n",
            "  Downloading pyarrow-12.0.1-cp310-cp310-manylinux_2_17_x86_64.manylinux2014_x86_64.whl (38.9 MB)\n",
            "\u001b[2K     \u001b[90m━━━━━━━━━━━━━━━━━━━━━━━━━━━━━━━━━━━━━━━━\u001b[0m \u001b[32m38.9/38.9 MB\u001b[0m \u001b[31m15.3 MB/s\u001b[0m eta \u001b[36m0:00:00\u001b[0m\n",
            "\u001b[?25hCollecting pydantic<2.0.0,>=1.9.1 (from nannyml)\n",
            "  Downloading pydantic-1.10.12-cp310-cp310-manylinux_2_17_x86_64.manylinux2014_x86_64.whl (3.1 MB)\n",
            "\u001b[2K     \u001b[90m━━━━━━━━━━━━━━━━━━━━━━━━━━━━━━━━━━━━━━━━\u001b[0m \u001b[32m3.1/3.1 MB\u001b[0m \u001b[31m62.9 MB/s\u001b[0m eta \u001b[36m0:00:00\u001b[0m\n",
            "\u001b[?25hCollecting pyfiglet<0.9,>=0.8.post1 (from nannyml)\n",
            "  Downloading pyfiglet-0.8.post1-py2.py3-none-any.whl (865 kB)\n",
            "\u001b[2K     \u001b[90m━━━━━━━━━━━━━━━━━━━━━━━━━━━━━━━━━━━━━━\u001b[0m \u001b[32m865.8/865.8 kB\u001b[0m \u001b[31m42.8 MB/s\u001b[0m eta \u001b[36m0:00:00\u001b[0m\n",
            "\u001b[?25hRequirement already satisfied: python-dateutil<3.0.0,>=2.8.2 in /usr/local/lib/python3.10/dist-packages (from nannyml) (2.8.2)\n",
            "Collecting python-dotenv<0.22.0,>=0.21.0 (from nannyml)\n",
            "  Downloading python_dotenv-0.21.1-py3-none-any.whl (19 kB)\n",
            "Collecting rich<13.0.0,>=12.5.1 (from nannyml)\n",
            "  Downloading rich-12.6.0-py3-none-any.whl (237 kB)\n",
            "\u001b[2K     \u001b[90m━━━━━━━━━━━━━━━━━━━━━━━━━━━━━━━━━━━━━━\u001b[0m \u001b[32m237.5/237.5 kB\u001b[0m \u001b[31m20.1 MB/s\u001b[0m eta \u001b[36m0:00:00\u001b[0m\n",
            "\u001b[?25hCollecting s3fs<2023.0.0,>=2022.8.2 (from nannyml)\n",
            "  Downloading s3fs-2022.11.0-py3-none-any.whl (27 kB)\n",
            "Requirement already satisfied: scikit-learn<2.0,>=1.2 in /usr/local/lib/python3.10/dist-packages (from nannyml) (1.2.2)\n",
            "Requirement already satisfied: scipy<2.0,>=1.10 in /usr/local/lib/python3.10/dist-packages (from nannyml) (1.10.1)\n",
            "Collecting seaborn<0.12.0,>=0.11.2 (from nannyml)\n",
            "  Downloading seaborn-0.11.2-py3-none-any.whl (292 kB)\n",
            "\u001b[2K     \u001b[90m━━━━━━━━━━━━━━━━━━━━━━━━━━━━━━━━━━━━━━\u001b[0m \u001b[32m292.8/292.8 kB\u001b[0m \u001b[31m25.0 MB/s\u001b[0m eta \u001b[36m0:00:00\u001b[0m\n",
            "\u001b[?25hCollecting sqlmodel<0.0.9,>=0.0.8 (from nannyml)\n",
            "  Downloading sqlmodel-0.0.8-py3-none-any.whl (21 kB)\n",
            "Collecting types-python-dateutil<3.0.0.0,>=2.8.19.10 (from nannyml)\n",
            "  Downloading types_python_dateutil-2.8.19.14-py3-none-any.whl (9.4 kB)\n",
            "Collecting types-pyyaml<7.0.0.0,>=6.0.12.8 (from nannyml)\n",
            "  Downloading types_PyYAML-6.0.12.11-py3-none-any.whl (14 kB)\n",
            "Requirement already satisfied: requests<3.0,>=2.7 in /usr/local/lib/python3.10/dist-packages (from analytics-python<2.0.0,>=1.4.0->nannyml) (2.31.0)\n",
            "Requirement already satisfied: six>=1.5 in /usr/local/lib/python3.10/dist-packages (from analytics-python<2.0.0,>=1.4.0->nannyml) (1.16.0)\n",
            "Collecting monotonic>=1.5 (from analytics-python<2.0.0,>=1.4.0->nannyml)\n",
            "  Downloading monotonic-1.6-py2.py3-none-any.whl (8.2 kB)\n",
            "Collecting backoff==1.10.0 (from analytics-python<2.0.0,>=1.4.0->nannyml)\n",
            "  Downloading backoff-1.10.0-py2.py3-none-any.whl (31 kB)\n",
            "Requirement already satisfied: pytz in /usr/local/lib/python3.10/dist-packages (from APScheduler<4.0.0,>=3.9.1->nannyml) (2023.3)\n",
            "Requirement already satisfied: tzlocal!=3.*,>=2.0 in /usr/local/lib/python3.10/dist-packages (from APScheduler<4.0.0,>=3.9.1->nannyml) (5.0.1)\n",
            "Requirement already satisfied: statsmodels>=0.9.0 in /usr/local/lib/python3.10/dist-packages (from category-encoders<3.0.0,>=2.3.0->nannyml) (0.14.0)\n",
            "Requirement already satisfied: patsy>=0.5.1 in /usr/local/lib/python3.10/dist-packages (from category-encoders<3.0.0,>=2.3.0->nannyml) (0.5.3)\n",
            "Requirement already satisfied: xgboost>=0.90 in /usr/local/lib/python3.10/dist-packages (from FLAML<2.0.0,>=1.0.11->nannyml) (1.7.6)\n",
            "Requirement already satisfied: google-auth>=1.2 in /usr/local/lib/python3.10/dist-packages (from gcsfs<2023.0.0,>=2022.5.0->nannyml) (2.17.3)\n",
            "Requirement already satisfied: google-auth-oauthlib in /usr/local/lib/python3.10/dist-packages (from gcsfs<2023.0.0,>=2022.5.0->nannyml) (1.0.0)\n",
            "Requirement already satisfied: google-cloud-storage in /usr/local/lib/python3.10/dist-packages (from gcsfs<2023.0.0,>=2022.5.0->nannyml) (2.8.0)\n",
            "Requirement already satisfied: decorator>4.1.2 in /usr/local/lib/python3.10/dist-packages (from gcsfs<2023.0.0,>=2022.5.0->nannyml) (4.4.2)\n",
            "Collecting fsspec==2022.11.0 (from gcsfs<2023.0.0,>=2022.5.0->nannyml)\n",
            "  Downloading fsspec-2022.11.0-py3-none-any.whl (139 kB)\n",
            "\u001b[2K     \u001b[90m━━━━━━━━━━━━━━━━━━━━━━━━━━━━━━━━━━━━━━\u001b[0m \u001b[32m139.5/139.5 kB\u001b[0m \u001b[31m13.6 MB/s\u001b[0m eta \u001b[36m0:00:00\u001b[0m\n",
            "\u001b[?25hRequirement already satisfied: aiohttp!=4.0.0a0,!=4.0.0a1 in /usr/local/lib/python3.10/dist-packages (from gcsfs<2023.0.0,>=2022.5.0->nannyml) (3.8.5)\n",
            "Requirement already satisfied: MarkupSafe>=2.0 in /usr/local/lib/python3.10/dist-packages (from Jinja2<3.1->nannyml) (2.1.3)\n",
            "Requirement already satisfied: wheel in /usr/local/lib/python3.10/dist-packages (from lightgbm<4.0.0,>=3.3.2->nannyml) (0.41.1)\n",
            "Requirement already satisfied: contourpy>=1.0.1 in /usr/local/lib/python3.10/dist-packages (from matplotlib<4.0,>=3.7->nannyml) (1.1.0)\n",
            "Requirement already satisfied: cycler>=0.10 in /usr/local/lib/python3.10/dist-packages (from matplotlib<4.0,>=3.7->nannyml) (0.11.0)\n",
            "Requirement already satisfied: fonttools>=4.22.0 in /usr/local/lib/python3.10/dist-packages (from matplotlib<4.0,>=3.7->nannyml) (4.42.0)\n",
            "Requirement already satisfied: kiwisolver>=1.0.1 in /usr/local/lib/python3.10/dist-packages (from matplotlib<4.0,>=3.7->nannyml) (1.4.4)\n",
            "Requirement already satisfied: packaging>=20.0 in /usr/local/lib/python3.10/dist-packages (from matplotlib<4.0,>=3.7->nannyml) (23.1)\n",
            "Requirement already satisfied: pillow>=6.2.0 in /usr/local/lib/python3.10/dist-packages (from matplotlib<4.0,>=3.7->nannyml) (9.4.0)\n",
            "Requirement already satisfied: pyparsing>=2.3.1 in /usr/local/lib/python3.10/dist-packages (from matplotlib<4.0,>=3.7->nannyml) (3.1.1)\n",
            "Requirement already satisfied: tenacity>=6.2.0 in /usr/local/lib/python3.10/dist-packages (from plotly<6.0.0,>=5.6.0->nannyml) (8.2.2)\n",
            "Requirement already satisfied: typing-extensions>=4.2.0 in /usr/local/lib/python3.10/dist-packages (from pydantic<2.0.0,>=1.9.1->nannyml) (4.7.1)\n",
            "Collecting commonmark<0.10.0,>=0.9.0 (from rich<13.0.0,>=12.5.1->nannyml)\n",
            "  Downloading commonmark-0.9.1-py2.py3-none-any.whl (51 kB)\n",
            "\u001b[2K     \u001b[90m━━━━━━━━━━━━━━━━━━━━━━━━━━━━━━━━━━━━━━━━\u001b[0m \u001b[32m51.1/51.1 kB\u001b[0m \u001b[31m5.2 MB/s\u001b[0m eta \u001b[36m0:00:00\u001b[0m\n",
            "\u001b[?25hRequirement already satisfied: pygments<3.0.0,>=2.6.0 in /usr/local/lib/python3.10/dist-packages (from rich<13.0.0,>=12.5.1->nannyml) (2.16.1)\n",
            "Collecting aiobotocore~=2.4.0 (from s3fs<2023.0.0,>=2022.8.2->nannyml)\n",
            "  Downloading aiobotocore-2.4.2-py3-none-any.whl (66 kB)\n",
            "\u001b[2K     \u001b[90m━━━━━━━━━━━━━━━━━━━━━━━━━━━━━━━━━━━━━━━━\u001b[0m \u001b[32m66.8/66.8 kB\u001b[0m \u001b[31m7.2 MB/s\u001b[0m eta \u001b[36m0:00:00\u001b[0m\n",
            "\u001b[?25hRequirement already satisfied: threadpoolctl>=2.0.0 in /usr/local/lib/python3.10/dist-packages (from scikit-learn<2.0,>=1.2->nannyml) (3.2.0)\n",
            "Collecting SQLAlchemy<=1.4.41,>=1.4.17 (from sqlmodel<0.0.9,>=0.0.8->nannyml)\n",
            "  Downloading SQLAlchemy-1.4.41-cp310-cp310-manylinux_2_5_x86_64.manylinux1_x86_64.manylinux_2_17_x86_64.manylinux2014_x86_64.whl (1.6 MB)\n",
            "\u001b[2K     \u001b[90m━━━━━━━━━━━━━━━━━━━━━━━━━━━━━━━━━━━━━━━━\u001b[0m \u001b[32m1.6/1.6 MB\u001b[0m \u001b[31m63.0 MB/s\u001b[0m eta \u001b[36m0:00:00\u001b[0m\n",
            "\u001b[?25hCollecting sqlalchemy2-stubs (from sqlmodel<0.0.9,>=0.0.8->nannyml)\n",
            "  Downloading sqlalchemy2_stubs-0.0.2a35-py3-none-any.whl (191 kB)\n",
            "\u001b[2K     \u001b[90m━━━━━━━━━━━━━━━━━━━━━━━━━━━━━━━━━━━━━━\u001b[0m \u001b[32m191.7/191.7 kB\u001b[0m \u001b[31m17.4 MB/s\u001b[0m eta \u001b[36m0:00:00\u001b[0m\n",
            "\u001b[?25hCollecting botocore<1.27.60,>=1.27.59 (from aiobotocore~=2.4.0->s3fs<2023.0.0,>=2022.8.2->nannyml)\n",
            "  Downloading botocore-1.27.59-py3-none-any.whl (9.1 MB)\n",
            "\u001b[2K     \u001b[90m━━━━━━━━━━━━━━━━━━━━━━━━━━━━━━━━━━━━━━━━\u001b[0m \u001b[32m9.1/9.1 MB\u001b[0m \u001b[31m38.0 MB/s\u001b[0m eta \u001b[36m0:00:00\u001b[0m\n",
            "\u001b[?25hRequirement already satisfied: wrapt>=1.10.10 in /usr/local/lib/python3.10/dist-packages (from aiobotocore~=2.4.0->s3fs<2023.0.0,>=2022.8.2->nannyml) (1.14.1)\n",
            "Collecting aioitertools>=0.5.1 (from aiobotocore~=2.4.0->s3fs<2023.0.0,>=2022.8.2->nannyml)\n",
            "  Downloading aioitertools-0.11.0-py3-none-any.whl (23 kB)\n",
            "Requirement already satisfied: attrs>=17.3.0 in /usr/local/lib/python3.10/dist-packages (from aiohttp!=4.0.0a0,!=4.0.0a1->gcsfs<2023.0.0,>=2022.5.0->nannyml) (23.1.0)\n",
            "Requirement already satisfied: charset-normalizer<4.0,>=2.0 in /usr/local/lib/python3.10/dist-packages (from aiohttp!=4.0.0a0,!=4.0.0a1->gcsfs<2023.0.0,>=2022.5.0->nannyml) (3.2.0)\n",
            "Requirement already satisfied: multidict<7.0,>=4.5 in /usr/local/lib/python3.10/dist-packages (from aiohttp!=4.0.0a0,!=4.0.0a1->gcsfs<2023.0.0,>=2022.5.0->nannyml) (6.0.4)\n",
            "Requirement already satisfied: async-timeout<5.0,>=4.0.0a3 in /usr/local/lib/python3.10/dist-packages (from aiohttp!=4.0.0a0,!=4.0.0a1->gcsfs<2023.0.0,>=2022.5.0->nannyml) (4.0.2)\n",
            "Requirement already satisfied: yarl<2.0,>=1.0 in /usr/local/lib/python3.10/dist-packages (from aiohttp!=4.0.0a0,!=4.0.0a1->gcsfs<2023.0.0,>=2022.5.0->nannyml) (1.9.2)\n",
            "Requirement already satisfied: frozenlist>=1.1.1 in /usr/local/lib/python3.10/dist-packages (from aiohttp!=4.0.0a0,!=4.0.0a1->gcsfs<2023.0.0,>=2022.5.0->nannyml) (1.4.0)\n",
            "Requirement already satisfied: aiosignal>=1.1.2 in /usr/local/lib/python3.10/dist-packages (from aiohttp!=4.0.0a0,!=4.0.0a1->gcsfs<2023.0.0,>=2022.5.0->nannyml) (1.3.1)\n",
            "Requirement already satisfied: cachetools<6.0,>=2.0.0 in /usr/local/lib/python3.10/dist-packages (from google-auth>=1.2->gcsfs<2023.0.0,>=2022.5.0->nannyml) (5.3.1)\n",
            "Requirement already satisfied: pyasn1-modules>=0.2.1 in /usr/local/lib/python3.10/dist-packages (from google-auth>=1.2->gcsfs<2023.0.0,>=2022.5.0->nannyml) (0.3.0)\n",
            "Requirement already satisfied: rsa<5,>=3.1.4 in /usr/local/lib/python3.10/dist-packages (from google-auth>=1.2->gcsfs<2023.0.0,>=2022.5.0->nannyml) (4.9)\n",
            "Requirement already satisfied: idna<4,>=2.5 in /usr/local/lib/python3.10/dist-packages (from requests<3.0,>=2.7->analytics-python<2.0.0,>=1.4.0->nannyml) (3.4)\n",
            "Requirement already satisfied: urllib3<3,>=1.21.1 in /usr/local/lib/python3.10/dist-packages (from requests<3.0,>=2.7->analytics-python<2.0.0,>=1.4.0->nannyml) (2.0.4)\n",
            "Requirement already satisfied: certifi>=2017.4.17 in /usr/local/lib/python3.10/dist-packages (from requests<3.0,>=2.7->analytics-python<2.0.0,>=1.4.0->nannyml) (2023.7.22)\n",
            "Requirement already satisfied: greenlet!=0.4.17 in /usr/local/lib/python3.10/dist-packages (from SQLAlchemy<=1.4.41,>=1.4.17->sqlmodel<0.0.9,>=0.0.8->nannyml) (2.0.2)\n",
            "Requirement already satisfied: requests-oauthlib>=0.7.0 in /usr/local/lib/python3.10/dist-packages (from google-auth-oauthlib->gcsfs<2023.0.0,>=2022.5.0->nannyml) (1.3.1)\n",
            "Requirement already satisfied: google-api-core!=2.0.*,!=2.1.*,!=2.2.*,!=2.3.0,<3.0.0dev,>=1.31.5 in /usr/local/lib/python3.10/dist-packages (from google-cloud-storage->gcsfs<2023.0.0,>=2022.5.0->nannyml) (2.11.1)\n",
            "Requirement already satisfied: google-cloud-core<3.0dev,>=2.3.0 in /usr/local/lib/python3.10/dist-packages (from google-cloud-storage->gcsfs<2023.0.0,>=2022.5.0->nannyml) (2.3.3)\n",
            "Requirement already satisfied: google-resumable-media>=2.3.2 in /usr/local/lib/python3.10/dist-packages (from google-cloud-storage->gcsfs<2023.0.0,>=2022.5.0->nannyml) (2.5.0)\n",
            "Collecting jmespath<2.0.0,>=0.7.1 (from botocore<1.27.60,>=1.27.59->aiobotocore~=2.4.0->s3fs<2023.0.0,>=2022.8.2->nannyml)\n",
            "  Downloading jmespath-1.0.1-py3-none-any.whl (20 kB)\n",
            "Collecting urllib3<3,>=1.21.1 (from requests<3.0,>=2.7->analytics-python<2.0.0,>=1.4.0->nannyml)\n",
            "  Downloading urllib3-1.26.16-py2.py3-none-any.whl (143 kB)\n",
            "\u001b[2K     \u001b[90m━━━━━━━━━━━━━━━━━━━━━━━━━━━━━━━━━━━━━━\u001b[0m \u001b[32m143.1/143.1 kB\u001b[0m \u001b[31m11.1 MB/s\u001b[0m eta \u001b[36m0:00:00\u001b[0m\n",
            "\u001b[?25hRequirement already satisfied: googleapis-common-protos<2.0.dev0,>=1.56.2 in /usr/local/lib/python3.10/dist-packages (from google-api-core!=2.0.*,!=2.1.*,!=2.2.*,!=2.3.0,<3.0.0dev,>=1.31.5->google-cloud-storage->gcsfs<2023.0.0,>=2022.5.0->nannyml) (1.60.0)\n",
            "Requirement already satisfied: protobuf!=3.20.0,!=3.20.1,!=4.21.0,!=4.21.1,!=4.21.2,!=4.21.3,!=4.21.4,!=4.21.5,<5.0.0.dev0,>=3.19.5 in /usr/local/lib/python3.10/dist-packages (from google-api-core!=2.0.*,!=2.1.*,!=2.2.*,!=2.3.0,<3.0.0dev,>=1.31.5->google-cloud-storage->gcsfs<2023.0.0,>=2022.5.0->nannyml) (3.20.3)\n",
            "Requirement already satisfied: google-crc32c<2.0dev,>=1.0 in /usr/local/lib/python3.10/dist-packages (from google-resumable-media>=2.3.2->google-cloud-storage->gcsfs<2023.0.0,>=2022.5.0->nannyml) (1.5.0)\n",
            "Requirement already satisfied: pyasn1<0.6.0,>=0.4.6 in /usr/local/lib/python3.10/dist-packages (from pyasn1-modules>=0.2.1->google-auth>=1.2->gcsfs<2023.0.0,>=2022.5.0->nannyml) (0.5.0)\n",
            "Requirement already satisfied: oauthlib>=3.0.0 in /usr/local/lib/python3.10/dist-packages (from requests-oauthlib>=0.7.0->google-auth-oauthlib->gcsfs<2023.0.0,>=2022.5.0->nannyml) (3.2.2)\n",
            "Installing collected packages: types-pyyaml, types-python-dateutil, pyfiglet, monotonic, kaleido, commonmark, urllib3, sqlalchemy2-stubs, SQLAlchemy, rich, python-dotenv, pydantic, psycopg2-binary, numpy, jmespath, Jinja2, fsspec, backoff, APScheduler, aioitertools, sqlmodel, pyarrow, botocore, analytics-python, aiobotocore, seaborn, s3fs, lightgbm, category-encoders, FLAML, gcsfs, nannyml\n",
            "  Attempting uninstall: urllib3\n",
            "    Found existing installation: urllib3 2.0.4\n",
            "    Uninstalling urllib3-2.0.4:\n",
            "      Successfully uninstalled urllib3-2.0.4\n",
            "  Attempting uninstall: SQLAlchemy\n",
            "    Found existing installation: SQLAlchemy 2.0.19\n",
            "    Uninstalling SQLAlchemy-2.0.19:\n",
            "      Successfully uninstalled SQLAlchemy-2.0.19\n",
            "  Attempting uninstall: rich\n",
            "    Found existing installation: rich 13.5.2\n",
            "    Uninstalling rich-13.5.2:\n",
            "      Successfully uninstalled rich-13.5.2\n",
            "  Attempting uninstall: pydantic\n",
            "    Found existing installation: pydantic 2.1.1\n",
            "    Uninstalling pydantic-2.1.1:\n",
            "      Successfully uninstalled pydantic-2.1.1\n",
            "  Attempting uninstall: numpy\n",
            "    Found existing installation: numpy 1.23.5\n",
            "    Uninstalling numpy-1.23.5:\n",
            "      Successfully uninstalled numpy-1.23.5\n",
            "  Attempting uninstall: Jinja2\n",
            "    Found existing installation: Jinja2 3.1.2\n",
            "    Uninstalling Jinja2-3.1.2:\n",
            "      Successfully uninstalled Jinja2-3.1.2\n",
            "  Attempting uninstall: fsspec\n",
            "    Found existing installation: fsspec 2023.6.0\n",
            "    Uninstalling fsspec-2023.6.0:\n",
            "      Successfully uninstalled fsspec-2023.6.0\n",
            "  Attempting uninstall: pyarrow\n",
            "    Found existing installation: pyarrow 9.0.0\n",
            "    Uninstalling pyarrow-9.0.0:\n",
            "      Successfully uninstalled pyarrow-9.0.0\n",
            "  Attempting uninstall: seaborn\n",
            "    Found existing installation: seaborn 0.12.2\n",
            "    Uninstalling seaborn-0.12.2:\n",
            "      Successfully uninstalled seaborn-0.12.2\n",
            "  Attempting uninstall: lightgbm\n",
            "    Found existing installation: lightgbm 4.0.0\n",
            "    Uninstalling lightgbm-4.0.0:\n",
            "      Successfully uninstalled lightgbm-4.0.0\n",
            "  Attempting uninstall: gcsfs\n",
            "    Found existing installation: gcsfs 2023.6.0\n",
            "    Uninstalling gcsfs-2023.6.0:\n",
            "      Successfully uninstalled gcsfs-2023.6.0\n",
            "\u001b[31mERROR: pip's dependency resolver does not currently take into account all the packages that are installed. This behaviour is the source of the following dependency conflicts.\n",
            "ipython-sql 0.5.0 requires sqlalchemy>=2.0, but you have sqlalchemy 1.4.41 which is incompatible.\n",
            "numba 0.56.4 requires numpy<1.24,>=1.18, but you have numpy 1.24.4 which is incompatible.\n",
            "pandas-gbq 0.17.9 requires pyarrow<10.0dev,>=3.0.0, but you have pyarrow 12.0.1 which is incompatible.\n",
            "tensorflow 2.12.0 requires numpy<1.24,>=1.22, but you have numpy 1.24.4 which is incompatible.\u001b[0m\u001b[31m\n",
            "\u001b[0mSuccessfully installed APScheduler-3.10.3 FLAML-1.2.4 Jinja2-3.0.3 SQLAlchemy-1.4.41 aiobotocore-2.4.2 aioitertools-0.11.0 analytics-python-1.4.post1 backoff-1.10.0 botocore-1.27.59 category-encoders-2.6.1 commonmark-0.9.1 fsspec-2022.11.0 gcsfs-2022.11.0 jmespath-1.0.1 kaleido-0.2.1 lightgbm-3.3.5 monotonic-1.6 nannyml-0.9.1 numpy-1.24.4 psycopg2-binary-2.9.7 pyarrow-12.0.1 pydantic-1.10.12 pyfiglet-0.8.post1 python-dotenv-0.21.1 rich-12.6.0 s3fs-2022.11.0 seaborn-0.11.2 sqlalchemy2-stubs-0.0.2a35 sqlmodel-0.0.8 types-python-dateutil-2.8.19.14 types-pyyaml-6.0.12.11 urllib3-1.26.16\n"
          ]
        },
        {
          "output_type": "display_data",
          "data": {
            "application/vnd.colab-display-data+json": {
              "pip_warning": {
                "packages": [
                  "numpy"
                ]
              }
            }
          },
          "metadata": {}
        }
      ]
    },
    {
      "cell_type": "code",
      "source": [
        "! pip uninstall -y numpy\n",
        "! pip uninstall -y setuptools\n",
        "! pip install setuptools\n",
        "! pip install numpy"
      ],
      "metadata": {
        "colab": {
          "base_uri": "https://localhost:8080/",
          "height": 871
        },
        "id": "wi3ds4RjGGsH",
        "outputId": "a23d097f-13bf-4575-a14d-ceae4864f91b"
      },
      "execution_count": null,
      "outputs": [
        {
          "output_type": "stream",
          "name": "stdout",
          "text": [
            "Found existing installation: numpy 1.25.2\n",
            "Uninstalling numpy-1.25.2:\n",
            "  Successfully uninstalled numpy-1.25.2\n",
            "Found existing installation: setuptools 68.0.0\n",
            "Uninstalling setuptools-68.0.0:\n",
            "  Successfully uninstalled setuptools-68.0.0\n",
            "Collecting setuptools\n",
            "  Using cached setuptools-68.0.0-py3-none-any.whl (804 kB)\n",
            "Installing collected packages: setuptools\n",
            "\u001b[31mERROR: pip's dependency resolver does not currently take into account all the packages that are installed. This behaviour is the source of the following dependency conflicts.\n",
            "arviz 0.15.1 requires numpy>=1.20.0, which is not installed.\n",
            "cufflinks 0.17.3 requires numpy>=1.9.2, which is not installed.\n",
            "cvxpy 1.3.2 requires numpy>=1.15, which is not installed.\n",
            "datascience 0.17.6 requires numpy, which is not installed.\n",
            "ipython 7.34.0 requires jedi>=0.16, which is not installed.\n",
            "mlxtend 0.22.0 requires numpy>=1.16.2, which is not installed.\n",
            "nibabel 4.0.2 requires numpy>=1.17, which is not installed.\n",
            "numba 0.56.4 requires numpy<1.24,>=1.18, which is not installed.\n",
            "pandas-gbq 0.17.9 requires numpy>=1.16.6, which is not installed.\n",
            "pymc 5.7.2 requires numpy>=1.15.0, which is not installed.\n",
            "pytensor 2.14.2 requires numpy>=1.17.0, which is not installed.\n",
            "spacy 3.6.1 requires numpy>=1.15.0, which is not installed.\n",
            "tensorboard 2.12.3 requires numpy>=1.12.0, which is not installed.\n",
            "tensorflow 2.12.0 requires numpy<1.24,>=1.22, which is not installed.\n",
            "thinc 8.1.11 requires numpy>=1.19.0; python_version >= \"3.9\", which is not installed.\n",
            "ipython-sql 0.5.0 requires sqlalchemy>=2.0, but you have sqlalchemy 1.4.41 which is incompatible.\n",
            "pandas-gbq 0.17.9 requires pyarrow<10.0dev,>=3.0.0, but you have pyarrow 12.0.1 which is incompatible.\u001b[0m\u001b[31m\n",
            "\u001b[0mSuccessfully installed setuptools-68.0.0\n"
          ]
        },
        {
          "output_type": "display_data",
          "data": {
            "application/vnd.colab-display-data+json": {
              "pip_warning": {
                "packages": [
                  "_distutils_hack",
                  "pkg_resources",
                  "setuptools"
                ]
              }
            }
          },
          "metadata": {}
        },
        {
          "output_type": "stream",
          "name": "stdout",
          "text": [
            "Collecting numpy\n",
            "  Using cached numpy-1.25.2-cp310-cp310-manylinux_2_17_x86_64.manylinux2014_x86_64.whl (18.2 MB)\n",
            "Installing collected packages: numpy\n",
            "\u001b[31mERROR: pip's dependency resolver does not currently take into account all the packages that are installed. This behaviour is the source of the following dependency conflicts.\n",
            "nannyml 0.9.1 requires numpy<1.25,>=1.24; python_version >= \"3.8\" and python_version < \"3.12\", but you have numpy 1.25.2 which is incompatible.\n",
            "numba 0.56.4 requires numpy<1.24,>=1.18, but you have numpy 1.25.2 which is incompatible.\n",
            "pandas-gbq 0.17.9 requires pyarrow<10.0dev,>=3.0.0, but you have pyarrow 12.0.1 which is incompatible.\n",
            "tensorflow 2.12.0 requires numpy<1.24,>=1.22, but you have numpy 1.25.2 which is incompatible.\u001b[0m\u001b[31m\n",
            "\u001b[0mSuccessfully installed numpy-1.25.2\n"
          ]
        },
        {
          "output_type": "display_data",
          "data": {
            "application/vnd.colab-display-data+json": {
              "pip_warning": {
                "packages": [
                  "numpy"
                ]
              }
            }
          },
          "metadata": {}
        }
      ]
    },
    {
      "cell_type": "markdown",
      "source": [
        "### **Importing Required Library**"
      ],
      "metadata": {
        "id": "FevaWRHhnMSQ"
      }
    },
    {
      "cell_type": "code",
      "execution_count": null,
      "metadata": {
        "id": "X4Hqa0CMnLWS"
      },
      "outputs": [],
      "source": [
        "import pandas as pd\n",
        "import numpy as np\n",
        "import seaborn as sns\n",
        "import matplotlib.pyplot as plt\n",
        "from sklearn.model_selection import train_test_split\n",
        "from tensorflow.keras.models import Model\n",
        "from tensorflow.keras.layers import Dense,Input\n",
        "import os\n",
        "from sklearn.preprocessing import StandardScaler\n",
        "import sys\n",
        "from sklearn.model_selection import KFold\n",
        "from sklearn.pipeline import Pipeline\n",
        "from sklearn.model_selection import cross_val_score\n",
        "from sklearn.feature_selection import SelectFromModel\n",
        "from sklearn import metrics\n",
        "from sklearn.metrics import mean_squared_error,r2_score\n",
        "import keras\n",
        "from keras.layers import Dense\n",
        "from keras.models import Sequential\n",
        "from keras.utils import to_categorical\n",
        "from keras.optimizers import SGD\n",
        "import warnings"
      ]
    },
    {
      "cell_type": "code",
      "source": [
        "import nannyml as nml"
      ],
      "metadata": {
        "id": "l4DjjyXUqZqn"
      },
      "execution_count": null,
      "outputs": []
    },
    {
      "cell_type": "markdown",
      "source": [
        "\n",
        "### **Importing dataset**"
      ],
      "metadata": {
        "id": "xtxghogmnz7H"
      }
    },
    {
      "cell_type": "code",
      "source": [
        "df=pd.read_csv(\"/content/drive/MyDrive/household electricity.zip\",\";\")"
      ],
      "metadata": {
        "colab": {
          "base_uri": "https://localhost:8080/"
        },
        "id": "3LNyxYUpnwDq",
        "outputId": "2af8e481-8184-4bce-def5-5055a00d965b"
      },
      "execution_count": null,
      "outputs": [
        {
          "output_type": "stream",
          "name": "stderr",
          "text": [
            "<ipython-input-28-22fa9f0880bb>:1: FutureWarning: In a future version of pandas all arguments of read_csv except for the argument 'filepath_or_buffer' will be keyword-only.\n",
            "  df=pd.read_csv(\"/content/drive/MyDrive/household electricity.zip\",\";\")\n",
            "<ipython-input-28-22fa9f0880bb>:1: DtypeWarning: Columns (2,3,4,5,6,7) have mixed types. Specify dtype option on import or set low_memory=False.\n",
            "  df=pd.read_csv(\"/content/drive/MyDrive/household electricity.zip\",\";\")\n"
          ]
        }
      ]
    },
    {
      "cell_type": "code",
      "source": [
        "df\n"
      ],
      "metadata": {
        "colab": {
          "base_uri": "https://localhost:8080/",
          "height": 424
        },
        "id": "0-dirrCG_jNJ",
        "outputId": "85bc29f7-62ec-4376-a551-0d04b2015996"
      },
      "execution_count": null,
      "outputs": [
        {
          "output_type": "execute_result",
          "data": {
            "text/plain": [
              "               Date      Time Global_active_power Global_reactive_power  \\\n",
              "0        16/12/2006  17:24:00               4.216                 0.418   \n",
              "1        16/12/2006  17:25:00               5.360                 0.436   \n",
              "2        16/12/2006  17:26:00               5.374                 0.498   \n",
              "3        16/12/2006  17:27:00               5.388                 0.502   \n",
              "4        16/12/2006  17:28:00               3.666                 0.528   \n",
              "...             ...       ...                 ...                   ...   \n",
              "2075254  26/11/2010  20:58:00               0.946                   0.0   \n",
              "2075255  26/11/2010  20:59:00               0.944                   0.0   \n",
              "2075256  26/11/2010  21:00:00               0.938                   0.0   \n",
              "2075257  26/11/2010  21:01:00               0.934                   0.0   \n",
              "2075258  26/11/2010  21:02:00               0.932                   0.0   \n",
              "\n",
              "         Voltage Global_intensity Sub_metering_1 Sub_metering_2  \\\n",
              "0        234.840           18.400          0.000          1.000   \n",
              "1        233.630           23.000          0.000          1.000   \n",
              "2        233.290           23.000          0.000          2.000   \n",
              "3        233.740           23.000          0.000          1.000   \n",
              "4        235.680           15.800          0.000          1.000   \n",
              "...          ...              ...            ...            ...   \n",
              "2075254   240.43              4.0            0.0            0.0   \n",
              "2075255    240.0              4.0            0.0            0.0   \n",
              "2075256   239.82              3.8            0.0            0.0   \n",
              "2075257    239.7              3.8            0.0            0.0   \n",
              "2075258   239.55              3.8            0.0            0.0   \n",
              "\n",
              "         Sub_metering_3  \n",
              "0                  17.0  \n",
              "1                  16.0  \n",
              "2                  17.0  \n",
              "3                  17.0  \n",
              "4                  17.0  \n",
              "...                 ...  \n",
              "2075254             0.0  \n",
              "2075255             0.0  \n",
              "2075256             0.0  \n",
              "2075257             0.0  \n",
              "2075258             0.0  \n",
              "\n",
              "[2075259 rows x 9 columns]"
            ],
            "text/html": [
              "\n",
              "\n",
              "  <div id=\"df-9bb3ba87-d8d1-4eaf-8204-d9753f24ce08\">\n",
              "    <div class=\"colab-df-container\">\n",
              "      <div>\n",
              "<style scoped>\n",
              "    .dataframe tbody tr th:only-of-type {\n",
              "        vertical-align: middle;\n",
              "    }\n",
              "\n",
              "    .dataframe tbody tr th {\n",
              "        vertical-align: top;\n",
              "    }\n",
              "\n",
              "    .dataframe thead th {\n",
              "        text-align: right;\n",
              "    }\n",
              "</style>\n",
              "<table border=\"1\" class=\"dataframe\">\n",
              "  <thead>\n",
              "    <tr style=\"text-align: right;\">\n",
              "      <th></th>\n",
              "      <th>Date</th>\n",
              "      <th>Time</th>\n",
              "      <th>Global_active_power</th>\n",
              "      <th>Global_reactive_power</th>\n",
              "      <th>Voltage</th>\n",
              "      <th>Global_intensity</th>\n",
              "      <th>Sub_metering_1</th>\n",
              "      <th>Sub_metering_2</th>\n",
              "      <th>Sub_metering_3</th>\n",
              "    </tr>\n",
              "  </thead>\n",
              "  <tbody>\n",
              "    <tr>\n",
              "      <th>0</th>\n",
              "      <td>16/12/2006</td>\n",
              "      <td>17:24:00</td>\n",
              "      <td>4.216</td>\n",
              "      <td>0.418</td>\n",
              "      <td>234.840</td>\n",
              "      <td>18.400</td>\n",
              "      <td>0.000</td>\n",
              "      <td>1.000</td>\n",
              "      <td>17.0</td>\n",
              "    </tr>\n",
              "    <tr>\n",
              "      <th>1</th>\n",
              "      <td>16/12/2006</td>\n",
              "      <td>17:25:00</td>\n",
              "      <td>5.360</td>\n",
              "      <td>0.436</td>\n",
              "      <td>233.630</td>\n",
              "      <td>23.000</td>\n",
              "      <td>0.000</td>\n",
              "      <td>1.000</td>\n",
              "      <td>16.0</td>\n",
              "    </tr>\n",
              "    <tr>\n",
              "      <th>2</th>\n",
              "      <td>16/12/2006</td>\n",
              "      <td>17:26:00</td>\n",
              "      <td>5.374</td>\n",
              "      <td>0.498</td>\n",
              "      <td>233.290</td>\n",
              "      <td>23.000</td>\n",
              "      <td>0.000</td>\n",
              "      <td>2.000</td>\n",
              "      <td>17.0</td>\n",
              "    </tr>\n",
              "    <tr>\n",
              "      <th>3</th>\n",
              "      <td>16/12/2006</td>\n",
              "      <td>17:27:00</td>\n",
              "      <td>5.388</td>\n",
              "      <td>0.502</td>\n",
              "      <td>233.740</td>\n",
              "      <td>23.000</td>\n",
              "      <td>0.000</td>\n",
              "      <td>1.000</td>\n",
              "      <td>17.0</td>\n",
              "    </tr>\n",
              "    <tr>\n",
              "      <th>4</th>\n",
              "      <td>16/12/2006</td>\n",
              "      <td>17:28:00</td>\n",
              "      <td>3.666</td>\n",
              "      <td>0.528</td>\n",
              "      <td>235.680</td>\n",
              "      <td>15.800</td>\n",
              "      <td>0.000</td>\n",
              "      <td>1.000</td>\n",
              "      <td>17.0</td>\n",
              "    </tr>\n",
              "    <tr>\n",
              "      <th>...</th>\n",
              "      <td>...</td>\n",
              "      <td>...</td>\n",
              "      <td>...</td>\n",
              "      <td>...</td>\n",
              "      <td>...</td>\n",
              "      <td>...</td>\n",
              "      <td>...</td>\n",
              "      <td>...</td>\n",
              "      <td>...</td>\n",
              "    </tr>\n",
              "    <tr>\n",
              "      <th>2075254</th>\n",
              "      <td>26/11/2010</td>\n",
              "      <td>20:58:00</td>\n",
              "      <td>0.946</td>\n",
              "      <td>0.0</td>\n",
              "      <td>240.43</td>\n",
              "      <td>4.0</td>\n",
              "      <td>0.0</td>\n",
              "      <td>0.0</td>\n",
              "      <td>0.0</td>\n",
              "    </tr>\n",
              "    <tr>\n",
              "      <th>2075255</th>\n",
              "      <td>26/11/2010</td>\n",
              "      <td>20:59:00</td>\n",
              "      <td>0.944</td>\n",
              "      <td>0.0</td>\n",
              "      <td>240.0</td>\n",
              "      <td>4.0</td>\n",
              "      <td>0.0</td>\n",
              "      <td>0.0</td>\n",
              "      <td>0.0</td>\n",
              "    </tr>\n",
              "    <tr>\n",
              "      <th>2075256</th>\n",
              "      <td>26/11/2010</td>\n",
              "      <td>21:00:00</td>\n",
              "      <td>0.938</td>\n",
              "      <td>0.0</td>\n",
              "      <td>239.82</td>\n",
              "      <td>3.8</td>\n",
              "      <td>0.0</td>\n",
              "      <td>0.0</td>\n",
              "      <td>0.0</td>\n",
              "    </tr>\n",
              "    <tr>\n",
              "      <th>2075257</th>\n",
              "      <td>26/11/2010</td>\n",
              "      <td>21:01:00</td>\n",
              "      <td>0.934</td>\n",
              "      <td>0.0</td>\n",
              "      <td>239.7</td>\n",
              "      <td>3.8</td>\n",
              "      <td>0.0</td>\n",
              "      <td>0.0</td>\n",
              "      <td>0.0</td>\n",
              "    </tr>\n",
              "    <tr>\n",
              "      <th>2075258</th>\n",
              "      <td>26/11/2010</td>\n",
              "      <td>21:02:00</td>\n",
              "      <td>0.932</td>\n",
              "      <td>0.0</td>\n",
              "      <td>239.55</td>\n",
              "      <td>3.8</td>\n",
              "      <td>0.0</td>\n",
              "      <td>0.0</td>\n",
              "      <td>0.0</td>\n",
              "    </tr>\n",
              "  </tbody>\n",
              "</table>\n",
              "<p>2075259 rows × 9 columns</p>\n",
              "</div>\n",
              "      <button class=\"colab-df-convert\" onclick=\"convertToInteractive('df-9bb3ba87-d8d1-4eaf-8204-d9753f24ce08')\"\n",
              "              title=\"Convert this dataframe to an interactive table.\"\n",
              "              style=\"display:none;\">\n",
              "\n",
              "  <svg xmlns=\"http://www.w3.org/2000/svg\" height=\"24px\"viewBox=\"0 0 24 24\"\n",
              "       width=\"24px\">\n",
              "    <path d=\"M0 0h24v24H0V0z\" fill=\"none\"/>\n",
              "    <path d=\"M18.56 5.44l.94 2.06.94-2.06 2.06-.94-2.06-.94-.94-2.06-.94 2.06-2.06.94zm-11 1L8.5 8.5l.94-2.06 2.06-.94-2.06-.94L8.5 2.5l-.94 2.06-2.06.94zm10 10l.94 2.06.94-2.06 2.06-.94-2.06-.94-.94-2.06-.94 2.06-2.06.94z\"/><path d=\"M17.41 7.96l-1.37-1.37c-.4-.4-.92-.59-1.43-.59-.52 0-1.04.2-1.43.59L10.3 9.45l-7.72 7.72c-.78.78-.78 2.05 0 2.83L4 21.41c.39.39.9.59 1.41.59.51 0 1.02-.2 1.41-.59l7.78-7.78 2.81-2.81c.8-.78.8-2.07 0-2.86zM5.41 20L4 18.59l7.72-7.72 1.47 1.35L5.41 20z\"/>\n",
              "  </svg>\n",
              "      </button>\n",
              "\n",
              "\n",
              "\n",
              "    <div id=\"df-5bc759c5-2946-4efb-bdf4-1987047654d7\">\n",
              "      <button class=\"colab-df-quickchart\" onclick=\"quickchart('df-5bc759c5-2946-4efb-bdf4-1987047654d7')\"\n",
              "              title=\"Suggest charts.\"\n",
              "              style=\"display:none;\">\n",
              "\n",
              "<svg xmlns=\"http://www.w3.org/2000/svg\" height=\"24px\"viewBox=\"0 0 24 24\"\n",
              "     width=\"24px\">\n",
              "    <g>\n",
              "        <path d=\"M19 3H5c-1.1 0-2 .9-2 2v14c0 1.1.9 2 2 2h14c1.1 0 2-.9 2-2V5c0-1.1-.9-2-2-2zM9 17H7v-7h2v7zm4 0h-2V7h2v10zm4 0h-2v-4h2v4z\"/>\n",
              "    </g>\n",
              "</svg>\n",
              "      </button>\n",
              "    </div>\n",
              "\n",
              "<style>\n",
              "  .colab-df-quickchart {\n",
              "    background-color: #E8F0FE;\n",
              "    border: none;\n",
              "    border-radius: 50%;\n",
              "    cursor: pointer;\n",
              "    display: none;\n",
              "    fill: #1967D2;\n",
              "    height: 32px;\n",
              "    padding: 0 0 0 0;\n",
              "    width: 32px;\n",
              "  }\n",
              "\n",
              "  .colab-df-quickchart:hover {\n",
              "    background-color: #E2EBFA;\n",
              "    box-shadow: 0px 1px 2px rgba(60, 64, 67, 0.3), 0px 1px 3px 1px rgba(60, 64, 67, 0.15);\n",
              "    fill: #174EA6;\n",
              "  }\n",
              "\n",
              "  [theme=dark] .colab-df-quickchart {\n",
              "    background-color: #3B4455;\n",
              "    fill: #D2E3FC;\n",
              "  }\n",
              "\n",
              "  [theme=dark] .colab-df-quickchart:hover {\n",
              "    background-color: #434B5C;\n",
              "    box-shadow: 0px 1px 3px 1px rgba(0, 0, 0, 0.15);\n",
              "    filter: drop-shadow(0px 1px 2px rgba(0, 0, 0, 0.3));\n",
              "    fill: #FFFFFF;\n",
              "  }\n",
              "</style>\n",
              "\n",
              "    <script>\n",
              "      async function quickchart(key) {\n",
              "        const containerElement = document.querySelector('#' + key);\n",
              "        const charts = await google.colab.kernel.invokeFunction(\n",
              "            'suggestCharts', [key], {});\n",
              "      }\n",
              "    </script>\n",
              "\n",
              "      <script>\n",
              "\n",
              "function displayQuickchartButton(domScope) {\n",
              "  let quickchartButtonEl =\n",
              "    domScope.querySelector('#df-5bc759c5-2946-4efb-bdf4-1987047654d7 button.colab-df-quickchart');\n",
              "  quickchartButtonEl.style.display =\n",
              "    google.colab.kernel.accessAllowed ? 'block' : 'none';\n",
              "}\n",
              "\n",
              "        displayQuickchartButton(document);\n",
              "      </script>\n",
              "      <style>\n",
              "    .colab-df-container {\n",
              "      display:flex;\n",
              "      flex-wrap:wrap;\n",
              "      gap: 12px;\n",
              "    }\n",
              "\n",
              "    .colab-df-convert {\n",
              "      background-color: #E8F0FE;\n",
              "      border: none;\n",
              "      border-radius: 50%;\n",
              "      cursor: pointer;\n",
              "      display: none;\n",
              "      fill: #1967D2;\n",
              "      height: 32px;\n",
              "      padding: 0 0 0 0;\n",
              "      width: 32px;\n",
              "    }\n",
              "\n",
              "    .colab-df-convert:hover {\n",
              "      background-color: #E2EBFA;\n",
              "      box-shadow: 0px 1px 2px rgba(60, 64, 67, 0.3), 0px 1px 3px 1px rgba(60, 64, 67, 0.15);\n",
              "      fill: #174EA6;\n",
              "    }\n",
              "\n",
              "    [theme=dark] .colab-df-convert {\n",
              "      background-color: #3B4455;\n",
              "      fill: #D2E3FC;\n",
              "    }\n",
              "\n",
              "    [theme=dark] .colab-df-convert:hover {\n",
              "      background-color: #434B5C;\n",
              "      box-shadow: 0px 1px 3px 1px rgba(0, 0, 0, 0.15);\n",
              "      filter: drop-shadow(0px 1px 2px rgba(0, 0, 0, 0.3));\n",
              "      fill: #FFFFFF;\n",
              "    }\n",
              "  </style>\n",
              "\n",
              "      <script>\n",
              "        const buttonEl =\n",
              "          document.querySelector('#df-9bb3ba87-d8d1-4eaf-8204-d9753f24ce08 button.colab-df-convert');\n",
              "        buttonEl.style.display =\n",
              "          google.colab.kernel.accessAllowed ? 'block' : 'none';\n",
              "\n",
              "        async function convertToInteractive(key) {\n",
              "          const element = document.querySelector('#df-9bb3ba87-d8d1-4eaf-8204-d9753f24ce08');\n",
              "          const dataTable =\n",
              "            await google.colab.kernel.invokeFunction('convertToInteractive',\n",
              "                                                     [key], {});\n",
              "          if (!dataTable) return;\n",
              "\n",
              "          const docLinkHtml = 'Like what you see? Visit the ' +\n",
              "            '<a target=\"_blank\" href=https://colab.research.google.com/notebooks/data_table.ipynb>data table notebook</a>'\n",
              "            + ' to learn more about interactive tables.';\n",
              "          element.innerHTML = '';\n",
              "          dataTable['output_type'] = 'display_data';\n",
              "          await google.colab.output.renderOutput(dataTable, element);\n",
              "          const docLink = document.createElement('div');\n",
              "          docLink.innerHTML = docLinkHtml;\n",
              "          element.appendChild(docLink);\n",
              "        }\n",
              "      </script>\n",
              "    </div>\n",
              "  </div>\n"
            ]
          },
          "metadata": {},
          "execution_count": 4
        }
      ]
    },
    {
      "cell_type": "code",
      "source": [
        "df2 = df.copy()"
      ],
      "metadata": {
        "id": "wtTN4c36FjIU"
      },
      "execution_count": null,
      "outputs": []
    },
    {
      "cell_type": "markdown",
      "source": [
        "### **Data Understanding**"
      ],
      "metadata": {
        "id": "LvEaqR7_Esdf"
      }
    },
    {
      "cell_type": "code",
      "source": [
        "df.head()"
      ],
      "metadata": {
        "colab": {
          "base_uri": "https://localhost:8080/",
          "height": 206
        },
        "id": "64EZLHXrhMCT",
        "outputId": "f97a83fd-073b-4326-cbb8-84f61db0f0fb"
      },
      "execution_count": null,
      "outputs": [
        {
          "output_type": "execute_result",
          "data": {
            "text/plain": [
              "         Date      Time Global_active_power Global_reactive_power  Voltage  \\\n",
              "0  16/12/2006  17:24:00               4.216                 0.418  234.840   \n",
              "1  16/12/2006  17:25:00               5.360                 0.436  233.630   \n",
              "2  16/12/2006  17:26:00               5.374                 0.498  233.290   \n",
              "3  16/12/2006  17:27:00               5.388                 0.502  233.740   \n",
              "4  16/12/2006  17:28:00               3.666                 0.528  235.680   \n",
              "\n",
              "  Global_intensity Sub_metering_1 Sub_metering_2  Sub_metering_3  \n",
              "0           18.400          0.000          1.000            17.0  \n",
              "1           23.000          0.000          1.000            16.0  \n",
              "2           23.000          0.000          2.000            17.0  \n",
              "3           23.000          0.000          1.000            17.0  \n",
              "4           15.800          0.000          1.000            17.0  "
            ],
            "text/html": [
              "\n",
              "\n",
              "  <div id=\"df-97f243a1-5a28-4d36-bcf9-3b31a89623d8\">\n",
              "    <div class=\"colab-df-container\">\n",
              "      <div>\n",
              "<style scoped>\n",
              "    .dataframe tbody tr th:only-of-type {\n",
              "        vertical-align: middle;\n",
              "    }\n",
              "\n",
              "    .dataframe tbody tr th {\n",
              "        vertical-align: top;\n",
              "    }\n",
              "\n",
              "    .dataframe thead th {\n",
              "        text-align: right;\n",
              "    }\n",
              "</style>\n",
              "<table border=\"1\" class=\"dataframe\">\n",
              "  <thead>\n",
              "    <tr style=\"text-align: right;\">\n",
              "      <th></th>\n",
              "      <th>Date</th>\n",
              "      <th>Time</th>\n",
              "      <th>Global_active_power</th>\n",
              "      <th>Global_reactive_power</th>\n",
              "      <th>Voltage</th>\n",
              "      <th>Global_intensity</th>\n",
              "      <th>Sub_metering_1</th>\n",
              "      <th>Sub_metering_2</th>\n",
              "      <th>Sub_metering_3</th>\n",
              "    </tr>\n",
              "  </thead>\n",
              "  <tbody>\n",
              "    <tr>\n",
              "      <th>0</th>\n",
              "      <td>16/12/2006</td>\n",
              "      <td>17:24:00</td>\n",
              "      <td>4.216</td>\n",
              "      <td>0.418</td>\n",
              "      <td>234.840</td>\n",
              "      <td>18.400</td>\n",
              "      <td>0.000</td>\n",
              "      <td>1.000</td>\n",
              "      <td>17.0</td>\n",
              "    </tr>\n",
              "    <tr>\n",
              "      <th>1</th>\n",
              "      <td>16/12/2006</td>\n",
              "      <td>17:25:00</td>\n",
              "      <td>5.360</td>\n",
              "      <td>0.436</td>\n",
              "      <td>233.630</td>\n",
              "      <td>23.000</td>\n",
              "      <td>0.000</td>\n",
              "      <td>1.000</td>\n",
              "      <td>16.0</td>\n",
              "    </tr>\n",
              "    <tr>\n",
              "      <th>2</th>\n",
              "      <td>16/12/2006</td>\n",
              "      <td>17:26:00</td>\n",
              "      <td>5.374</td>\n",
              "      <td>0.498</td>\n",
              "      <td>233.290</td>\n",
              "      <td>23.000</td>\n",
              "      <td>0.000</td>\n",
              "      <td>2.000</td>\n",
              "      <td>17.0</td>\n",
              "    </tr>\n",
              "    <tr>\n",
              "      <th>3</th>\n",
              "      <td>16/12/2006</td>\n",
              "      <td>17:27:00</td>\n",
              "      <td>5.388</td>\n",
              "      <td>0.502</td>\n",
              "      <td>233.740</td>\n",
              "      <td>23.000</td>\n",
              "      <td>0.000</td>\n",
              "      <td>1.000</td>\n",
              "      <td>17.0</td>\n",
              "    </tr>\n",
              "    <tr>\n",
              "      <th>4</th>\n",
              "      <td>16/12/2006</td>\n",
              "      <td>17:28:00</td>\n",
              "      <td>3.666</td>\n",
              "      <td>0.528</td>\n",
              "      <td>235.680</td>\n",
              "      <td>15.800</td>\n",
              "      <td>0.000</td>\n",
              "      <td>1.000</td>\n",
              "      <td>17.0</td>\n",
              "    </tr>\n",
              "  </tbody>\n",
              "</table>\n",
              "</div>\n",
              "      <button class=\"colab-df-convert\" onclick=\"convertToInteractive('df-97f243a1-5a28-4d36-bcf9-3b31a89623d8')\"\n",
              "              title=\"Convert this dataframe to an interactive table.\"\n",
              "              style=\"display:none;\">\n",
              "\n",
              "  <svg xmlns=\"http://www.w3.org/2000/svg\" height=\"24px\"viewBox=\"0 0 24 24\"\n",
              "       width=\"24px\">\n",
              "    <path d=\"M0 0h24v24H0V0z\" fill=\"none\"/>\n",
              "    <path d=\"M18.56 5.44l.94 2.06.94-2.06 2.06-.94-2.06-.94-.94-2.06-.94 2.06-2.06.94zm-11 1L8.5 8.5l.94-2.06 2.06-.94-2.06-.94L8.5 2.5l-.94 2.06-2.06.94zm10 10l.94 2.06.94-2.06 2.06-.94-2.06-.94-.94-2.06-.94 2.06-2.06.94z\"/><path d=\"M17.41 7.96l-1.37-1.37c-.4-.4-.92-.59-1.43-.59-.52 0-1.04.2-1.43.59L10.3 9.45l-7.72 7.72c-.78.78-.78 2.05 0 2.83L4 21.41c.39.39.9.59 1.41.59.51 0 1.02-.2 1.41-.59l7.78-7.78 2.81-2.81c.8-.78.8-2.07 0-2.86zM5.41 20L4 18.59l7.72-7.72 1.47 1.35L5.41 20z\"/>\n",
              "  </svg>\n",
              "      </button>\n",
              "\n",
              "\n",
              "\n",
              "    <div id=\"df-59238fde-e93f-4f01-8460-f4af0056da4c\">\n",
              "      <button class=\"colab-df-quickchart\" onclick=\"quickchart('df-59238fde-e93f-4f01-8460-f4af0056da4c')\"\n",
              "              title=\"Suggest charts.\"\n",
              "              style=\"display:none;\">\n",
              "\n",
              "<svg xmlns=\"http://www.w3.org/2000/svg\" height=\"24px\"viewBox=\"0 0 24 24\"\n",
              "     width=\"24px\">\n",
              "    <g>\n",
              "        <path d=\"M19 3H5c-1.1 0-2 .9-2 2v14c0 1.1.9 2 2 2h14c1.1 0 2-.9 2-2V5c0-1.1-.9-2-2-2zM9 17H7v-7h2v7zm4 0h-2V7h2v10zm4 0h-2v-4h2v4z\"/>\n",
              "    </g>\n",
              "</svg>\n",
              "      </button>\n",
              "    </div>\n",
              "\n",
              "<style>\n",
              "  .colab-df-quickchart {\n",
              "    background-color: #E8F0FE;\n",
              "    border: none;\n",
              "    border-radius: 50%;\n",
              "    cursor: pointer;\n",
              "    display: none;\n",
              "    fill: #1967D2;\n",
              "    height: 32px;\n",
              "    padding: 0 0 0 0;\n",
              "    width: 32px;\n",
              "  }\n",
              "\n",
              "  .colab-df-quickchart:hover {\n",
              "    background-color: #E2EBFA;\n",
              "    box-shadow: 0px 1px 2px rgba(60, 64, 67, 0.3), 0px 1px 3px 1px rgba(60, 64, 67, 0.15);\n",
              "    fill: #174EA6;\n",
              "  }\n",
              "\n",
              "  [theme=dark] .colab-df-quickchart {\n",
              "    background-color: #3B4455;\n",
              "    fill: #D2E3FC;\n",
              "  }\n",
              "\n",
              "  [theme=dark] .colab-df-quickchart:hover {\n",
              "    background-color: #434B5C;\n",
              "    box-shadow: 0px 1px 3px 1px rgba(0, 0, 0, 0.15);\n",
              "    filter: drop-shadow(0px 1px 2px rgba(0, 0, 0, 0.3));\n",
              "    fill: #FFFFFF;\n",
              "  }\n",
              "</style>\n",
              "\n",
              "    <script>\n",
              "      async function quickchart(key) {\n",
              "        const containerElement = document.querySelector('#' + key);\n",
              "        const charts = await google.colab.kernel.invokeFunction(\n",
              "            'suggestCharts', [key], {});\n",
              "      }\n",
              "    </script>\n",
              "\n",
              "      <script>\n",
              "\n",
              "function displayQuickchartButton(domScope) {\n",
              "  let quickchartButtonEl =\n",
              "    domScope.querySelector('#df-59238fde-e93f-4f01-8460-f4af0056da4c button.colab-df-quickchart');\n",
              "  quickchartButtonEl.style.display =\n",
              "    google.colab.kernel.accessAllowed ? 'block' : 'none';\n",
              "}\n",
              "\n",
              "        displayQuickchartButton(document);\n",
              "      </script>\n",
              "      <style>\n",
              "    .colab-df-container {\n",
              "      display:flex;\n",
              "      flex-wrap:wrap;\n",
              "      gap: 12px;\n",
              "    }\n",
              "\n",
              "    .colab-df-convert {\n",
              "      background-color: #E8F0FE;\n",
              "      border: none;\n",
              "      border-radius: 50%;\n",
              "      cursor: pointer;\n",
              "      display: none;\n",
              "      fill: #1967D2;\n",
              "      height: 32px;\n",
              "      padding: 0 0 0 0;\n",
              "      width: 32px;\n",
              "    }\n",
              "\n",
              "    .colab-df-convert:hover {\n",
              "      background-color: #E2EBFA;\n",
              "      box-shadow: 0px 1px 2px rgba(60, 64, 67, 0.3), 0px 1px 3px 1px rgba(60, 64, 67, 0.15);\n",
              "      fill: #174EA6;\n",
              "    }\n",
              "\n",
              "    [theme=dark] .colab-df-convert {\n",
              "      background-color: #3B4455;\n",
              "      fill: #D2E3FC;\n",
              "    }\n",
              "\n",
              "    [theme=dark] .colab-df-convert:hover {\n",
              "      background-color: #434B5C;\n",
              "      box-shadow: 0px 1px 3px 1px rgba(0, 0, 0, 0.15);\n",
              "      filter: drop-shadow(0px 1px 2px rgba(0, 0, 0, 0.3));\n",
              "      fill: #FFFFFF;\n",
              "    }\n",
              "  </style>\n",
              "\n",
              "      <script>\n",
              "        const buttonEl =\n",
              "          document.querySelector('#df-97f243a1-5a28-4d36-bcf9-3b31a89623d8 button.colab-df-convert');\n",
              "        buttonEl.style.display =\n",
              "          google.colab.kernel.accessAllowed ? 'block' : 'none';\n",
              "\n",
              "        async function convertToInteractive(key) {\n",
              "          const element = document.querySelector('#df-97f243a1-5a28-4d36-bcf9-3b31a89623d8');\n",
              "          const dataTable =\n",
              "            await google.colab.kernel.invokeFunction('convertToInteractive',\n",
              "                                                     [key], {});\n",
              "          if (!dataTable) return;\n",
              "\n",
              "          const docLinkHtml = 'Like what you see? Visit the ' +\n",
              "            '<a target=\"_blank\" href=https://colab.research.google.com/notebooks/data_table.ipynb>data table notebook</a>'\n",
              "            + ' to learn more about interactive tables.';\n",
              "          element.innerHTML = '';\n",
              "          dataTable['output_type'] = 'display_data';\n",
              "          await google.colab.output.renderOutput(dataTable, element);\n",
              "          const docLink = document.createElement('div');\n",
              "          docLink.innerHTML = docLinkHtml;\n",
              "          element.appendChild(docLink);\n",
              "        }\n",
              "      </script>\n",
              "    </div>\n",
              "  </div>\n"
            ]
          },
          "metadata": {},
          "execution_count": 5
        }
      ]
    },
    {
      "cell_type": "code",
      "source": [
        "df.tail()"
      ],
      "metadata": {
        "colab": {
          "base_uri": "https://localhost:8080/",
          "height": 206
        },
        "id": "_ig2if_DhOtF",
        "outputId": "24dfa5cb-26a6-4cbf-f965-b8347b0c5212"
      },
      "execution_count": null,
      "outputs": [
        {
          "output_type": "execute_result",
          "data": {
            "text/plain": [
              "               Date      Time Global_active_power Global_reactive_power  \\\n",
              "2075254  26/11/2010  20:58:00               0.946                   0.0   \n",
              "2075255  26/11/2010  20:59:00               0.944                   0.0   \n",
              "2075256  26/11/2010  21:00:00               0.938                   0.0   \n",
              "2075257  26/11/2010  21:01:00               0.934                   0.0   \n",
              "2075258  26/11/2010  21:02:00               0.932                   0.0   \n",
              "\n",
              "        Voltage Global_intensity Sub_metering_1 Sub_metering_2  Sub_metering_3  \n",
              "2075254  240.43              4.0            0.0            0.0             0.0  \n",
              "2075255   240.0              4.0            0.0            0.0             0.0  \n",
              "2075256  239.82              3.8            0.0            0.0             0.0  \n",
              "2075257   239.7              3.8            0.0            0.0             0.0  \n",
              "2075258  239.55              3.8            0.0            0.0             0.0  "
            ],
            "text/html": [
              "\n",
              "\n",
              "  <div id=\"df-4b5c65c3-1e24-4549-988a-dee947603ca1\">\n",
              "    <div class=\"colab-df-container\">\n",
              "      <div>\n",
              "<style scoped>\n",
              "    .dataframe tbody tr th:only-of-type {\n",
              "        vertical-align: middle;\n",
              "    }\n",
              "\n",
              "    .dataframe tbody tr th {\n",
              "        vertical-align: top;\n",
              "    }\n",
              "\n",
              "    .dataframe thead th {\n",
              "        text-align: right;\n",
              "    }\n",
              "</style>\n",
              "<table border=\"1\" class=\"dataframe\">\n",
              "  <thead>\n",
              "    <tr style=\"text-align: right;\">\n",
              "      <th></th>\n",
              "      <th>Date</th>\n",
              "      <th>Time</th>\n",
              "      <th>Global_active_power</th>\n",
              "      <th>Global_reactive_power</th>\n",
              "      <th>Voltage</th>\n",
              "      <th>Global_intensity</th>\n",
              "      <th>Sub_metering_1</th>\n",
              "      <th>Sub_metering_2</th>\n",
              "      <th>Sub_metering_3</th>\n",
              "    </tr>\n",
              "  </thead>\n",
              "  <tbody>\n",
              "    <tr>\n",
              "      <th>2075254</th>\n",
              "      <td>26/11/2010</td>\n",
              "      <td>20:58:00</td>\n",
              "      <td>0.946</td>\n",
              "      <td>0.0</td>\n",
              "      <td>240.43</td>\n",
              "      <td>4.0</td>\n",
              "      <td>0.0</td>\n",
              "      <td>0.0</td>\n",
              "      <td>0.0</td>\n",
              "    </tr>\n",
              "    <tr>\n",
              "      <th>2075255</th>\n",
              "      <td>26/11/2010</td>\n",
              "      <td>20:59:00</td>\n",
              "      <td>0.944</td>\n",
              "      <td>0.0</td>\n",
              "      <td>240.0</td>\n",
              "      <td>4.0</td>\n",
              "      <td>0.0</td>\n",
              "      <td>0.0</td>\n",
              "      <td>0.0</td>\n",
              "    </tr>\n",
              "    <tr>\n",
              "      <th>2075256</th>\n",
              "      <td>26/11/2010</td>\n",
              "      <td>21:00:00</td>\n",
              "      <td>0.938</td>\n",
              "      <td>0.0</td>\n",
              "      <td>239.82</td>\n",
              "      <td>3.8</td>\n",
              "      <td>0.0</td>\n",
              "      <td>0.0</td>\n",
              "      <td>0.0</td>\n",
              "    </tr>\n",
              "    <tr>\n",
              "      <th>2075257</th>\n",
              "      <td>26/11/2010</td>\n",
              "      <td>21:01:00</td>\n",
              "      <td>0.934</td>\n",
              "      <td>0.0</td>\n",
              "      <td>239.7</td>\n",
              "      <td>3.8</td>\n",
              "      <td>0.0</td>\n",
              "      <td>0.0</td>\n",
              "      <td>0.0</td>\n",
              "    </tr>\n",
              "    <tr>\n",
              "      <th>2075258</th>\n",
              "      <td>26/11/2010</td>\n",
              "      <td>21:02:00</td>\n",
              "      <td>0.932</td>\n",
              "      <td>0.0</td>\n",
              "      <td>239.55</td>\n",
              "      <td>3.8</td>\n",
              "      <td>0.0</td>\n",
              "      <td>0.0</td>\n",
              "      <td>0.0</td>\n",
              "    </tr>\n",
              "  </tbody>\n",
              "</table>\n",
              "</div>\n",
              "      <button class=\"colab-df-convert\" onclick=\"convertToInteractive('df-4b5c65c3-1e24-4549-988a-dee947603ca1')\"\n",
              "              title=\"Convert this dataframe to an interactive table.\"\n",
              "              style=\"display:none;\">\n",
              "\n",
              "  <svg xmlns=\"http://www.w3.org/2000/svg\" height=\"24px\"viewBox=\"0 0 24 24\"\n",
              "       width=\"24px\">\n",
              "    <path d=\"M0 0h24v24H0V0z\" fill=\"none\"/>\n",
              "    <path d=\"M18.56 5.44l.94 2.06.94-2.06 2.06-.94-2.06-.94-.94-2.06-.94 2.06-2.06.94zm-11 1L8.5 8.5l.94-2.06 2.06-.94-2.06-.94L8.5 2.5l-.94 2.06-2.06.94zm10 10l.94 2.06.94-2.06 2.06-.94-2.06-.94-.94-2.06-.94 2.06-2.06.94z\"/><path d=\"M17.41 7.96l-1.37-1.37c-.4-.4-.92-.59-1.43-.59-.52 0-1.04.2-1.43.59L10.3 9.45l-7.72 7.72c-.78.78-.78 2.05 0 2.83L4 21.41c.39.39.9.59 1.41.59.51 0 1.02-.2 1.41-.59l7.78-7.78 2.81-2.81c.8-.78.8-2.07 0-2.86zM5.41 20L4 18.59l7.72-7.72 1.47 1.35L5.41 20z\"/>\n",
              "  </svg>\n",
              "      </button>\n",
              "\n",
              "\n",
              "\n",
              "    <div id=\"df-40de8629-c7f7-42e4-8eb4-f74519d461c9\">\n",
              "      <button class=\"colab-df-quickchart\" onclick=\"quickchart('df-40de8629-c7f7-42e4-8eb4-f74519d461c9')\"\n",
              "              title=\"Suggest charts.\"\n",
              "              style=\"display:none;\">\n",
              "\n",
              "<svg xmlns=\"http://www.w3.org/2000/svg\" height=\"24px\"viewBox=\"0 0 24 24\"\n",
              "     width=\"24px\">\n",
              "    <g>\n",
              "        <path d=\"M19 3H5c-1.1 0-2 .9-2 2v14c0 1.1.9 2 2 2h14c1.1 0 2-.9 2-2V5c0-1.1-.9-2-2-2zM9 17H7v-7h2v7zm4 0h-2V7h2v10zm4 0h-2v-4h2v4z\"/>\n",
              "    </g>\n",
              "</svg>\n",
              "      </button>\n",
              "    </div>\n",
              "\n",
              "<style>\n",
              "  .colab-df-quickchart {\n",
              "    background-color: #E8F0FE;\n",
              "    border: none;\n",
              "    border-radius: 50%;\n",
              "    cursor: pointer;\n",
              "    display: none;\n",
              "    fill: #1967D2;\n",
              "    height: 32px;\n",
              "    padding: 0 0 0 0;\n",
              "    width: 32px;\n",
              "  }\n",
              "\n",
              "  .colab-df-quickchart:hover {\n",
              "    background-color: #E2EBFA;\n",
              "    box-shadow: 0px 1px 2px rgba(60, 64, 67, 0.3), 0px 1px 3px 1px rgba(60, 64, 67, 0.15);\n",
              "    fill: #174EA6;\n",
              "  }\n",
              "\n",
              "  [theme=dark] .colab-df-quickchart {\n",
              "    background-color: #3B4455;\n",
              "    fill: #D2E3FC;\n",
              "  }\n",
              "\n",
              "  [theme=dark] .colab-df-quickchart:hover {\n",
              "    background-color: #434B5C;\n",
              "    box-shadow: 0px 1px 3px 1px rgba(0, 0, 0, 0.15);\n",
              "    filter: drop-shadow(0px 1px 2px rgba(0, 0, 0, 0.3));\n",
              "    fill: #FFFFFF;\n",
              "  }\n",
              "</style>\n",
              "\n",
              "    <script>\n",
              "      async function quickchart(key) {\n",
              "        const containerElement = document.querySelector('#' + key);\n",
              "        const charts = await google.colab.kernel.invokeFunction(\n",
              "            'suggestCharts', [key], {});\n",
              "      }\n",
              "    </script>\n",
              "\n",
              "      <script>\n",
              "\n",
              "function displayQuickchartButton(domScope) {\n",
              "  let quickchartButtonEl =\n",
              "    domScope.querySelector('#df-40de8629-c7f7-42e4-8eb4-f74519d461c9 button.colab-df-quickchart');\n",
              "  quickchartButtonEl.style.display =\n",
              "    google.colab.kernel.accessAllowed ? 'block' : 'none';\n",
              "}\n",
              "\n",
              "        displayQuickchartButton(document);\n",
              "      </script>\n",
              "      <style>\n",
              "    .colab-df-container {\n",
              "      display:flex;\n",
              "      flex-wrap:wrap;\n",
              "      gap: 12px;\n",
              "    }\n",
              "\n",
              "    .colab-df-convert {\n",
              "      background-color: #E8F0FE;\n",
              "      border: none;\n",
              "      border-radius: 50%;\n",
              "      cursor: pointer;\n",
              "      display: none;\n",
              "      fill: #1967D2;\n",
              "      height: 32px;\n",
              "      padding: 0 0 0 0;\n",
              "      width: 32px;\n",
              "    }\n",
              "\n",
              "    .colab-df-convert:hover {\n",
              "      background-color: #E2EBFA;\n",
              "      box-shadow: 0px 1px 2px rgba(60, 64, 67, 0.3), 0px 1px 3px 1px rgba(60, 64, 67, 0.15);\n",
              "      fill: #174EA6;\n",
              "    }\n",
              "\n",
              "    [theme=dark] .colab-df-convert {\n",
              "      background-color: #3B4455;\n",
              "      fill: #D2E3FC;\n",
              "    }\n",
              "\n",
              "    [theme=dark] .colab-df-convert:hover {\n",
              "      background-color: #434B5C;\n",
              "      box-shadow: 0px 1px 3px 1px rgba(0, 0, 0, 0.15);\n",
              "      filter: drop-shadow(0px 1px 2px rgba(0, 0, 0, 0.3));\n",
              "      fill: #FFFFFF;\n",
              "    }\n",
              "  </style>\n",
              "\n",
              "      <script>\n",
              "        const buttonEl =\n",
              "          document.querySelector('#df-4b5c65c3-1e24-4549-988a-dee947603ca1 button.colab-df-convert');\n",
              "        buttonEl.style.display =\n",
              "          google.colab.kernel.accessAllowed ? 'block' : 'none';\n",
              "\n",
              "        async function convertToInteractive(key) {\n",
              "          const element = document.querySelector('#df-4b5c65c3-1e24-4549-988a-dee947603ca1');\n",
              "          const dataTable =\n",
              "            await google.colab.kernel.invokeFunction('convertToInteractive',\n",
              "                                                     [key], {});\n",
              "          if (!dataTable) return;\n",
              "\n",
              "          const docLinkHtml = 'Like what you see? Visit the ' +\n",
              "            '<a target=\"_blank\" href=https://colab.research.google.com/notebooks/data_table.ipynb>data table notebook</a>'\n",
              "            + ' to learn more about interactive tables.';\n",
              "          element.innerHTML = '';\n",
              "          dataTable['output_type'] = 'display_data';\n",
              "          await google.colab.output.renderOutput(dataTable, element);\n",
              "          const docLink = document.createElement('div');\n",
              "          docLink.innerHTML = docLinkHtml;\n",
              "          element.appendChild(docLink);\n",
              "        }\n",
              "      </script>\n",
              "    </div>\n",
              "  </div>\n"
            ]
          },
          "metadata": {},
          "execution_count": 6
        }
      ]
    },
    {
      "cell_type": "code",
      "source": [
        "df.info()\n"
      ],
      "metadata": {
        "id": "uEWr5mbUAVsf",
        "colab": {
          "base_uri": "https://localhost:8080/"
        },
        "outputId": "9cde4cd2-fb82-4ed8-a0f3-ac7309ac8ba8"
      },
      "execution_count": null,
      "outputs": [
        {
          "output_type": "stream",
          "name": "stdout",
          "text": [
            "<class 'pandas.core.frame.DataFrame'>\n",
            "RangeIndex: 2075259 entries, 0 to 2075258\n",
            "Data columns (total 9 columns):\n",
            " #   Column                 Dtype  \n",
            "---  ------                 -----  \n",
            " 0   Date                   object \n",
            " 1   Time                   object \n",
            " 2   Global_active_power    object \n",
            " 3   Global_reactive_power  object \n",
            " 4   Voltage                object \n",
            " 5   Global_intensity       object \n",
            " 6   Sub_metering_1         object \n",
            " 7   Sub_metering_2         object \n",
            " 8   Sub_metering_3         float64\n",
            "dtypes: float64(1), object(8)\n",
            "memory usage: 142.5+ MB\n"
          ]
        }
      ]
    },
    {
      "cell_type": "code",
      "source": [
        "df.shape"
      ],
      "metadata": {
        "colab": {
          "base_uri": "https://localhost:8080/"
        },
        "id": "2HtkGZnXE5C4",
        "outputId": "77755d36-7844-4120-b4bc-2bf112a18535"
      },
      "execution_count": null,
      "outputs": [
        {
          "output_type": "execute_result",
          "data": {
            "text/plain": [
              "(2075259, 9)"
            ]
          },
          "metadata": {},
          "execution_count": 8
        }
      ]
    },
    {
      "cell_type": "code",
      "source": [
        "df.describe()"
      ],
      "metadata": {
        "colab": {
          "base_uri": "https://localhost:8080/",
          "height": 300
        },
        "id": "XLwJ7MMDE7_O",
        "outputId": "d9b26358-72ca-4d5e-d537-fb8c0ae03638"
      },
      "execution_count": null,
      "outputs": [
        {
          "output_type": "execute_result",
          "data": {
            "text/plain": [
              "       Sub_metering_3\n",
              "count    2.049280e+06\n",
              "mean     6.458447e+00\n",
              "std      8.437154e+00\n",
              "min      0.000000e+00\n",
              "25%      0.000000e+00\n",
              "50%      1.000000e+00\n",
              "75%      1.700000e+01\n",
              "max      3.100000e+01"
            ],
            "text/html": [
              "\n",
              "\n",
              "  <div id=\"df-516b0fa8-f5b7-4b0c-b3e3-9a0326cb89f5\">\n",
              "    <div class=\"colab-df-container\">\n",
              "      <div>\n",
              "<style scoped>\n",
              "    .dataframe tbody tr th:only-of-type {\n",
              "        vertical-align: middle;\n",
              "    }\n",
              "\n",
              "    .dataframe tbody tr th {\n",
              "        vertical-align: top;\n",
              "    }\n",
              "\n",
              "    .dataframe thead th {\n",
              "        text-align: right;\n",
              "    }\n",
              "</style>\n",
              "<table border=\"1\" class=\"dataframe\">\n",
              "  <thead>\n",
              "    <tr style=\"text-align: right;\">\n",
              "      <th></th>\n",
              "      <th>Sub_metering_3</th>\n",
              "    </tr>\n",
              "  </thead>\n",
              "  <tbody>\n",
              "    <tr>\n",
              "      <th>count</th>\n",
              "      <td>2.049280e+06</td>\n",
              "    </tr>\n",
              "    <tr>\n",
              "      <th>mean</th>\n",
              "      <td>6.458447e+00</td>\n",
              "    </tr>\n",
              "    <tr>\n",
              "      <th>std</th>\n",
              "      <td>8.437154e+00</td>\n",
              "    </tr>\n",
              "    <tr>\n",
              "      <th>min</th>\n",
              "      <td>0.000000e+00</td>\n",
              "    </tr>\n",
              "    <tr>\n",
              "      <th>25%</th>\n",
              "      <td>0.000000e+00</td>\n",
              "    </tr>\n",
              "    <tr>\n",
              "      <th>50%</th>\n",
              "      <td>1.000000e+00</td>\n",
              "    </tr>\n",
              "    <tr>\n",
              "      <th>75%</th>\n",
              "      <td>1.700000e+01</td>\n",
              "    </tr>\n",
              "    <tr>\n",
              "      <th>max</th>\n",
              "      <td>3.100000e+01</td>\n",
              "    </tr>\n",
              "  </tbody>\n",
              "</table>\n",
              "</div>\n",
              "      <button class=\"colab-df-convert\" onclick=\"convertToInteractive('df-516b0fa8-f5b7-4b0c-b3e3-9a0326cb89f5')\"\n",
              "              title=\"Convert this dataframe to an interactive table.\"\n",
              "              style=\"display:none;\">\n",
              "\n",
              "  <svg xmlns=\"http://www.w3.org/2000/svg\" height=\"24px\"viewBox=\"0 0 24 24\"\n",
              "       width=\"24px\">\n",
              "    <path d=\"M0 0h24v24H0V0z\" fill=\"none\"/>\n",
              "    <path d=\"M18.56 5.44l.94 2.06.94-2.06 2.06-.94-2.06-.94-.94-2.06-.94 2.06-2.06.94zm-11 1L8.5 8.5l.94-2.06 2.06-.94-2.06-.94L8.5 2.5l-.94 2.06-2.06.94zm10 10l.94 2.06.94-2.06 2.06-.94-2.06-.94-.94-2.06-.94 2.06-2.06.94z\"/><path d=\"M17.41 7.96l-1.37-1.37c-.4-.4-.92-.59-1.43-.59-.52 0-1.04.2-1.43.59L10.3 9.45l-7.72 7.72c-.78.78-.78 2.05 0 2.83L4 21.41c.39.39.9.59 1.41.59.51 0 1.02-.2 1.41-.59l7.78-7.78 2.81-2.81c.8-.78.8-2.07 0-2.86zM5.41 20L4 18.59l7.72-7.72 1.47 1.35L5.41 20z\"/>\n",
              "  </svg>\n",
              "      </button>\n",
              "\n",
              "\n",
              "\n",
              "    <div id=\"df-fb59f43f-638c-4e3c-8de4-d70fc108701d\">\n",
              "      <button class=\"colab-df-quickchart\" onclick=\"quickchart('df-fb59f43f-638c-4e3c-8de4-d70fc108701d')\"\n",
              "              title=\"Suggest charts.\"\n",
              "              style=\"display:none;\">\n",
              "\n",
              "<svg xmlns=\"http://www.w3.org/2000/svg\" height=\"24px\"viewBox=\"0 0 24 24\"\n",
              "     width=\"24px\">\n",
              "    <g>\n",
              "        <path d=\"M19 3H5c-1.1 0-2 .9-2 2v14c0 1.1.9 2 2 2h14c1.1 0 2-.9 2-2V5c0-1.1-.9-2-2-2zM9 17H7v-7h2v7zm4 0h-2V7h2v10zm4 0h-2v-4h2v4z\"/>\n",
              "    </g>\n",
              "</svg>\n",
              "      </button>\n",
              "    </div>\n",
              "\n",
              "<style>\n",
              "  .colab-df-quickchart {\n",
              "    background-color: #E8F0FE;\n",
              "    border: none;\n",
              "    border-radius: 50%;\n",
              "    cursor: pointer;\n",
              "    display: none;\n",
              "    fill: #1967D2;\n",
              "    height: 32px;\n",
              "    padding: 0 0 0 0;\n",
              "    width: 32px;\n",
              "  }\n",
              "\n",
              "  .colab-df-quickchart:hover {\n",
              "    background-color: #E2EBFA;\n",
              "    box-shadow: 0px 1px 2px rgba(60, 64, 67, 0.3), 0px 1px 3px 1px rgba(60, 64, 67, 0.15);\n",
              "    fill: #174EA6;\n",
              "  }\n",
              "\n",
              "  [theme=dark] .colab-df-quickchart {\n",
              "    background-color: #3B4455;\n",
              "    fill: #D2E3FC;\n",
              "  }\n",
              "\n",
              "  [theme=dark] .colab-df-quickchart:hover {\n",
              "    background-color: #434B5C;\n",
              "    box-shadow: 0px 1px 3px 1px rgba(0, 0, 0, 0.15);\n",
              "    filter: drop-shadow(0px 1px 2px rgba(0, 0, 0, 0.3));\n",
              "    fill: #FFFFFF;\n",
              "  }\n",
              "</style>\n",
              "\n",
              "    <script>\n",
              "      async function quickchart(key) {\n",
              "        const containerElement = document.querySelector('#' + key);\n",
              "        const charts = await google.colab.kernel.invokeFunction(\n",
              "            'suggestCharts', [key], {});\n",
              "      }\n",
              "    </script>\n",
              "\n",
              "      <script>\n",
              "\n",
              "function displayQuickchartButton(domScope) {\n",
              "  let quickchartButtonEl =\n",
              "    domScope.querySelector('#df-fb59f43f-638c-4e3c-8de4-d70fc108701d button.colab-df-quickchart');\n",
              "  quickchartButtonEl.style.display =\n",
              "    google.colab.kernel.accessAllowed ? 'block' : 'none';\n",
              "}\n",
              "\n",
              "        displayQuickchartButton(document);\n",
              "      </script>\n",
              "      <style>\n",
              "    .colab-df-container {\n",
              "      display:flex;\n",
              "      flex-wrap:wrap;\n",
              "      gap: 12px;\n",
              "    }\n",
              "\n",
              "    .colab-df-convert {\n",
              "      background-color: #E8F0FE;\n",
              "      border: none;\n",
              "      border-radius: 50%;\n",
              "      cursor: pointer;\n",
              "      display: none;\n",
              "      fill: #1967D2;\n",
              "      height: 32px;\n",
              "      padding: 0 0 0 0;\n",
              "      width: 32px;\n",
              "    }\n",
              "\n",
              "    .colab-df-convert:hover {\n",
              "      background-color: #E2EBFA;\n",
              "      box-shadow: 0px 1px 2px rgba(60, 64, 67, 0.3), 0px 1px 3px 1px rgba(60, 64, 67, 0.15);\n",
              "      fill: #174EA6;\n",
              "    }\n",
              "\n",
              "    [theme=dark] .colab-df-convert {\n",
              "      background-color: #3B4455;\n",
              "      fill: #D2E3FC;\n",
              "    }\n",
              "\n",
              "    [theme=dark] .colab-df-convert:hover {\n",
              "      background-color: #434B5C;\n",
              "      box-shadow: 0px 1px 3px 1px rgba(0, 0, 0, 0.15);\n",
              "      filter: drop-shadow(0px 1px 2px rgba(0, 0, 0, 0.3));\n",
              "      fill: #FFFFFF;\n",
              "    }\n",
              "  </style>\n",
              "\n",
              "      <script>\n",
              "        const buttonEl =\n",
              "          document.querySelector('#df-516b0fa8-f5b7-4b0c-b3e3-9a0326cb89f5 button.colab-df-convert');\n",
              "        buttonEl.style.display =\n",
              "          google.colab.kernel.accessAllowed ? 'block' : 'none';\n",
              "\n",
              "        async function convertToInteractive(key) {\n",
              "          const element = document.querySelector('#df-516b0fa8-f5b7-4b0c-b3e3-9a0326cb89f5');\n",
              "          const dataTable =\n",
              "            await google.colab.kernel.invokeFunction('convertToInteractive',\n",
              "                                                     [key], {});\n",
              "          if (!dataTable) return;\n",
              "\n",
              "          const docLinkHtml = 'Like what you see? Visit the ' +\n",
              "            '<a target=\"_blank\" href=https://colab.research.google.com/notebooks/data_table.ipynb>data table notebook</a>'\n",
              "            + ' to learn more about interactive tables.';\n",
              "          element.innerHTML = '';\n",
              "          dataTable['output_type'] = 'display_data';\n",
              "          await google.colab.output.renderOutput(dataTable, element);\n",
              "          const docLink = document.createElement('div');\n",
              "          docLink.innerHTML = docLinkHtml;\n",
              "          element.appendChild(docLink);\n",
              "        }\n",
              "      </script>\n",
              "    </div>\n",
              "  </div>\n"
            ]
          },
          "metadata": {},
          "execution_count": 9
        }
      ]
    },
    {
      "cell_type": "markdown",
      "source": [
        "**Checking for missing value**"
      ],
      "metadata": {
        "id": "q_uGzCE-FePM"
      }
    },
    {
      "cell_type": "code",
      "source": [
        "df.isnull().sum()"
      ],
      "metadata": {
        "colab": {
          "base_uri": "https://localhost:8080/"
        },
        "id": "BvGKAwt6E-aD",
        "outputId": "ed89d0f3-def7-418f-8621-6ce0fb591807"
      },
      "execution_count": null,
      "outputs": [
        {
          "output_type": "execute_result",
          "data": {
            "text/plain": [
              "Date                         0\n",
              "Time                         0\n",
              "Global_active_power          0\n",
              "Global_reactive_power        0\n",
              "Voltage                      0\n",
              "Global_intensity             0\n",
              "Sub_metering_1               0\n",
              "Sub_metering_2               0\n",
              "Sub_metering_3           25979\n",
              "dtype: int64"
            ]
          },
          "metadata": {},
          "execution_count": 10
        }
      ]
    },
    {
      "cell_type": "markdown",
      "source": [
        "### **Data Processing**\n"
      ],
      "metadata": {
        "id": "kJc94kkAGGQ4"
      }
    },
    {
      "cell_type": "markdown",
      "source": [
        "**Droping Unwanted Columns**"
      ],
      "metadata": {
        "id": "27cn5TsdGQVx"
      }
    },
    {
      "cell_type": "code",
      "source": [
        "df=df.drop([\"Date\",\"Time\"],axis=1)"
      ],
      "metadata": {
        "id": "PjZThGnEFnzJ"
      },
      "execution_count": null,
      "outputs": []
    },
    {
      "cell_type": "markdown",
      "source": [
        "**Missing Value Treatement**"
      ],
      "metadata": {
        "id": "SW8U4HhnGecE"
      }
    },
    {
      "cell_type": "code",
      "source": [
        "df=df.dropna()"
      ],
      "metadata": {
        "id": "6bS1jsuYGbdl"
      },
      "execution_count": null,
      "outputs": []
    },
    {
      "cell_type": "markdown",
      "source": [
        "**Converting object to float**"
      ],
      "metadata": {
        "id": "VgXw19sBGxp-"
      }
    },
    {
      "cell_type": "code",
      "source": [
        "df = df.astype(\"float\")\n",
        "df.info()"
      ],
      "metadata": {
        "colab": {
          "base_uri": "https://localhost:8080/"
        },
        "id": "2WP-lHNuGq4N",
        "outputId": "1f509131-0493-4988-e6b3-66ff974def2b"
      },
      "execution_count": null,
      "outputs": [
        {
          "output_type": "stream",
          "name": "stdout",
          "text": [
            "<class 'pandas.core.frame.DataFrame'>\n",
            "Int64Index: 2049280 entries, 0 to 2075258\n",
            "Data columns (total 7 columns):\n",
            " #   Column                 Dtype  \n",
            "---  ------                 -----  \n",
            " 0   Global_active_power    float64\n",
            " 1   Global_reactive_power  float64\n",
            " 2   Voltage                float64\n",
            " 3   Global_intensity       float64\n",
            " 4   Sub_metering_1         float64\n",
            " 5   Sub_metering_2         float64\n",
            " 6   Sub_metering_3         float64\n",
            "dtypes: float64(7)\n",
            "memory usage: 125.1 MB\n"
          ]
        }
      ]
    },
    {
      "cell_type": "markdown",
      "source": [
        "**Process to formulate target variable¶**"
      ],
      "metadata": {
        "id": "RCsMLQCfHHBS"
      }
    },
    {
      "cell_type": "code",
      "source": [
        "df[\"power_consumtion\"]=((df[\"Global_active_power\"]*1000/60) - df[\"Sub_metering_1\"] - df[\"Sub_metering_2\"] - df[\"Sub_metering_3\"])"
      ],
      "metadata": {
        "id": "6gsgzfEtG-So"
      },
      "execution_count": null,
      "outputs": []
    },
    {
      "cell_type": "code",
      "source": [
        "df.head()"
      ],
      "metadata": {
        "colab": {
          "base_uri": "https://localhost:8080/",
          "height": 206
        },
        "id": "9ZPYvms7HTCf",
        "outputId": "8903e42a-8153-47a9-dff7-aaedceccef30"
      },
      "execution_count": null,
      "outputs": [
        {
          "output_type": "execute_result",
          "data": {
            "text/plain": [
              "   Global_active_power  Global_reactive_power  Voltage  Global_intensity  \\\n",
              "0                4.216                  0.418   234.84              18.4   \n",
              "1                5.360                  0.436   233.63              23.0   \n",
              "2                5.374                  0.498   233.29              23.0   \n",
              "3                5.388                  0.502   233.74              23.0   \n",
              "4                3.666                  0.528   235.68              15.8   \n",
              "\n",
              "   Sub_metering_1  Sub_metering_2  Sub_metering_3  power_consumtion  \n",
              "0             0.0             1.0            17.0         52.266667  \n",
              "1             0.0             1.0            16.0         72.333333  \n",
              "2             0.0             2.0            17.0         70.566667  \n",
              "3             0.0             1.0            17.0         71.800000  \n",
              "4             0.0             1.0            17.0         43.100000  "
            ],
            "text/html": [
              "\n",
              "\n",
              "  <div id=\"df-53ba2679-fd94-4c6d-85d6-c93365150b18\">\n",
              "    <div class=\"colab-df-container\">\n",
              "      <div>\n",
              "<style scoped>\n",
              "    .dataframe tbody tr th:only-of-type {\n",
              "        vertical-align: middle;\n",
              "    }\n",
              "\n",
              "    .dataframe tbody tr th {\n",
              "        vertical-align: top;\n",
              "    }\n",
              "\n",
              "    .dataframe thead th {\n",
              "        text-align: right;\n",
              "    }\n",
              "</style>\n",
              "<table border=\"1\" class=\"dataframe\">\n",
              "  <thead>\n",
              "    <tr style=\"text-align: right;\">\n",
              "      <th></th>\n",
              "      <th>Global_active_power</th>\n",
              "      <th>Global_reactive_power</th>\n",
              "      <th>Voltage</th>\n",
              "      <th>Global_intensity</th>\n",
              "      <th>Sub_metering_1</th>\n",
              "      <th>Sub_metering_2</th>\n",
              "      <th>Sub_metering_3</th>\n",
              "      <th>power_consumtion</th>\n",
              "    </tr>\n",
              "  </thead>\n",
              "  <tbody>\n",
              "    <tr>\n",
              "      <th>0</th>\n",
              "      <td>4.216</td>\n",
              "      <td>0.418</td>\n",
              "      <td>234.84</td>\n",
              "      <td>18.4</td>\n",
              "      <td>0.0</td>\n",
              "      <td>1.0</td>\n",
              "      <td>17.0</td>\n",
              "      <td>52.266667</td>\n",
              "    </tr>\n",
              "    <tr>\n",
              "      <th>1</th>\n",
              "      <td>5.360</td>\n",
              "      <td>0.436</td>\n",
              "      <td>233.63</td>\n",
              "      <td>23.0</td>\n",
              "      <td>0.0</td>\n",
              "      <td>1.0</td>\n",
              "      <td>16.0</td>\n",
              "      <td>72.333333</td>\n",
              "    </tr>\n",
              "    <tr>\n",
              "      <th>2</th>\n",
              "      <td>5.374</td>\n",
              "      <td>0.498</td>\n",
              "      <td>233.29</td>\n",
              "      <td>23.0</td>\n",
              "      <td>0.0</td>\n",
              "      <td>2.0</td>\n",
              "      <td>17.0</td>\n",
              "      <td>70.566667</td>\n",
              "    </tr>\n",
              "    <tr>\n",
              "      <th>3</th>\n",
              "      <td>5.388</td>\n",
              "      <td>0.502</td>\n",
              "      <td>233.74</td>\n",
              "      <td>23.0</td>\n",
              "      <td>0.0</td>\n",
              "      <td>1.0</td>\n",
              "      <td>17.0</td>\n",
              "      <td>71.800000</td>\n",
              "    </tr>\n",
              "    <tr>\n",
              "      <th>4</th>\n",
              "      <td>3.666</td>\n",
              "      <td>0.528</td>\n",
              "      <td>235.68</td>\n",
              "      <td>15.8</td>\n",
              "      <td>0.0</td>\n",
              "      <td>1.0</td>\n",
              "      <td>17.0</td>\n",
              "      <td>43.100000</td>\n",
              "    </tr>\n",
              "  </tbody>\n",
              "</table>\n",
              "</div>\n",
              "      <button class=\"colab-df-convert\" onclick=\"convertToInteractive('df-53ba2679-fd94-4c6d-85d6-c93365150b18')\"\n",
              "              title=\"Convert this dataframe to an interactive table.\"\n",
              "              style=\"display:none;\">\n",
              "\n",
              "  <svg xmlns=\"http://www.w3.org/2000/svg\" height=\"24px\"viewBox=\"0 0 24 24\"\n",
              "       width=\"24px\">\n",
              "    <path d=\"M0 0h24v24H0V0z\" fill=\"none\"/>\n",
              "    <path d=\"M18.56 5.44l.94 2.06.94-2.06 2.06-.94-2.06-.94-.94-2.06-.94 2.06-2.06.94zm-11 1L8.5 8.5l.94-2.06 2.06-.94-2.06-.94L8.5 2.5l-.94 2.06-2.06.94zm10 10l.94 2.06.94-2.06 2.06-.94-2.06-.94-.94-2.06-.94 2.06-2.06.94z\"/><path d=\"M17.41 7.96l-1.37-1.37c-.4-.4-.92-.59-1.43-.59-.52 0-1.04.2-1.43.59L10.3 9.45l-7.72 7.72c-.78.78-.78 2.05 0 2.83L4 21.41c.39.39.9.59 1.41.59.51 0 1.02-.2 1.41-.59l7.78-7.78 2.81-2.81c.8-.78.8-2.07 0-2.86zM5.41 20L4 18.59l7.72-7.72 1.47 1.35L5.41 20z\"/>\n",
              "  </svg>\n",
              "      </button>\n",
              "\n",
              "\n",
              "\n",
              "    <div id=\"df-88015df6-c53d-481a-9a88-89e6429c4dc6\">\n",
              "      <button class=\"colab-df-quickchart\" onclick=\"quickchart('df-88015df6-c53d-481a-9a88-89e6429c4dc6')\"\n",
              "              title=\"Suggest charts.\"\n",
              "              style=\"display:none;\">\n",
              "\n",
              "<svg xmlns=\"http://www.w3.org/2000/svg\" height=\"24px\"viewBox=\"0 0 24 24\"\n",
              "     width=\"24px\">\n",
              "    <g>\n",
              "        <path d=\"M19 3H5c-1.1 0-2 .9-2 2v14c0 1.1.9 2 2 2h14c1.1 0 2-.9 2-2V5c0-1.1-.9-2-2-2zM9 17H7v-7h2v7zm4 0h-2V7h2v10zm4 0h-2v-4h2v4z\"/>\n",
              "    </g>\n",
              "</svg>\n",
              "      </button>\n",
              "    </div>\n",
              "\n",
              "<style>\n",
              "  .colab-df-quickchart {\n",
              "    background-color: #E8F0FE;\n",
              "    border: none;\n",
              "    border-radius: 50%;\n",
              "    cursor: pointer;\n",
              "    display: none;\n",
              "    fill: #1967D2;\n",
              "    height: 32px;\n",
              "    padding: 0 0 0 0;\n",
              "    width: 32px;\n",
              "  }\n",
              "\n",
              "  .colab-df-quickchart:hover {\n",
              "    background-color: #E2EBFA;\n",
              "    box-shadow: 0px 1px 2px rgba(60, 64, 67, 0.3), 0px 1px 3px 1px rgba(60, 64, 67, 0.15);\n",
              "    fill: #174EA6;\n",
              "  }\n",
              "\n",
              "  [theme=dark] .colab-df-quickchart {\n",
              "    background-color: #3B4455;\n",
              "    fill: #D2E3FC;\n",
              "  }\n",
              "\n",
              "  [theme=dark] .colab-df-quickchart:hover {\n",
              "    background-color: #434B5C;\n",
              "    box-shadow: 0px 1px 3px 1px rgba(0, 0, 0, 0.15);\n",
              "    filter: drop-shadow(0px 1px 2px rgba(0, 0, 0, 0.3));\n",
              "    fill: #FFFFFF;\n",
              "  }\n",
              "</style>\n",
              "\n",
              "    <script>\n",
              "      async function quickchart(key) {\n",
              "        const containerElement = document.querySelector('#' + key);\n",
              "        const charts = await google.colab.kernel.invokeFunction(\n",
              "            'suggestCharts', [key], {});\n",
              "      }\n",
              "    </script>\n",
              "\n",
              "      <script>\n",
              "\n",
              "function displayQuickchartButton(domScope) {\n",
              "  let quickchartButtonEl =\n",
              "    domScope.querySelector('#df-88015df6-c53d-481a-9a88-89e6429c4dc6 button.colab-df-quickchart');\n",
              "  quickchartButtonEl.style.display =\n",
              "    google.colab.kernel.accessAllowed ? 'block' : 'none';\n",
              "}\n",
              "\n",
              "        displayQuickchartButton(document);\n",
              "      </script>\n",
              "      <style>\n",
              "    .colab-df-container {\n",
              "      display:flex;\n",
              "      flex-wrap:wrap;\n",
              "      gap: 12px;\n",
              "    }\n",
              "\n",
              "    .colab-df-convert {\n",
              "      background-color: #E8F0FE;\n",
              "      border: none;\n",
              "      border-radius: 50%;\n",
              "      cursor: pointer;\n",
              "      display: none;\n",
              "      fill: #1967D2;\n",
              "      height: 32px;\n",
              "      padding: 0 0 0 0;\n",
              "      width: 32px;\n",
              "    }\n",
              "\n",
              "    .colab-df-convert:hover {\n",
              "      background-color: #E2EBFA;\n",
              "      box-shadow: 0px 1px 2px rgba(60, 64, 67, 0.3), 0px 1px 3px 1px rgba(60, 64, 67, 0.15);\n",
              "      fill: #174EA6;\n",
              "    }\n",
              "\n",
              "    [theme=dark] .colab-df-convert {\n",
              "      background-color: #3B4455;\n",
              "      fill: #D2E3FC;\n",
              "    }\n",
              "\n",
              "    [theme=dark] .colab-df-convert:hover {\n",
              "      background-color: #434B5C;\n",
              "      box-shadow: 0px 1px 3px 1px rgba(0, 0, 0, 0.15);\n",
              "      filter: drop-shadow(0px 1px 2px rgba(0, 0, 0, 0.3));\n",
              "      fill: #FFFFFF;\n",
              "    }\n",
              "  </style>\n",
              "\n",
              "      <script>\n",
              "        const buttonEl =\n",
              "          document.querySelector('#df-53ba2679-fd94-4c6d-85d6-c93365150b18 button.colab-df-convert');\n",
              "        buttonEl.style.display =\n",
              "          google.colab.kernel.accessAllowed ? 'block' : 'none';\n",
              "\n",
              "        async function convertToInteractive(key) {\n",
              "          const element = document.querySelector('#df-53ba2679-fd94-4c6d-85d6-c93365150b18');\n",
              "          const dataTable =\n",
              "            await google.colab.kernel.invokeFunction('convertToInteractive',\n",
              "                                                     [key], {});\n",
              "          if (!dataTable) return;\n",
              "\n",
              "          const docLinkHtml = 'Like what you see? Visit the ' +\n",
              "            '<a target=\"_blank\" href=https://colab.research.google.com/notebooks/data_table.ipynb>data table notebook</a>'\n",
              "            + ' to learn more about interactive tables.';\n",
              "          element.innerHTML = '';\n",
              "          dataTable['output_type'] = 'display_data';\n",
              "          await google.colab.output.renderOutput(dataTable, element);\n",
              "          const docLink = document.createElement('div');\n",
              "          docLink.innerHTML = docLinkHtml;\n",
              "          element.appendChild(docLink);\n",
              "        }\n",
              "      </script>\n",
              "    </div>\n",
              "  </div>\n"
            ]
          },
          "metadata": {},
          "execution_count": 15
        }
      ]
    },
    {
      "cell_type": "markdown",
      "source": [
        "### **Exploratory Data Analysis**"
      ],
      "metadata": {
        "id": "BqX6QoRoHcLd"
      }
    },
    {
      "cell_type": "code",
      "source": [
        "df.hist(figsize = (12,10))\n",
        "plt.show()"
      ],
      "metadata": {
        "colab": {
          "base_uri": "https://localhost:8080/",
          "height": 853
        },
        "id": "HTTe0z1NHZti",
        "outputId": "498bcc21-153b-47ad-f8c6-cbeefc882e4c"
      },
      "execution_count": null,
      "outputs": [
        {
          "output_type": "display_data",
          "data": {
            "text/plain": [
              "<Figure size 1200x1000 with 9 Axes>"
            ],
            "image/png": "[encoded data removed]"
          },
          "metadata": {}
        }
      ]
    },
    {
      "cell_type": "markdown",
      "source": [
        "### **Data Splitting**"
      ],
      "metadata": {
        "id": "0rhOH7QVghtl"
      }
    },
    {
      "cell_type": "code",
      "source": [
        "df1 = df.copy()"
      ],
      "metadata": {
        "id": "AvZEgQF8Fgs6"
      },
      "execution_count": null,
      "outputs": []
    },
    {
      "cell_type": "code",
      "source": [
        "X=df.drop([\"power_consumtion\"],axis=1)\n",
        "y=df[\"power_consumtion\"]"
      ],
      "metadata": {
        "id": "S7IxiAwKgf9I"
      },
      "execution_count": null,
      "outputs": []
    },
    {
      "cell_type": "code",
      "source": [
        "X_train,X_test,y_train,y_test=train_test_split(X,y,test_size=0.10,random_state=0)\n",
        "X_train,X_prod,y_train,y_prod=train_test_split(X_train,y_train,test_size=0.10,random_state=0)"
      ],
      "metadata": {
        "id": "QwfpEE-2gf6K"
      },
      "execution_count": null,
      "outputs": []
    },
    {
      "cell_type": "markdown",
      "source": [
        "### **Model Fitting**"
      ],
      "metadata": {
        "id": "HQgkuFasgEXm"
      }
    },
    {
      "cell_type": "markdown",
      "source": [
        "**Deep Neural Network**"
      ],
      "metadata": {
        "id": "sqxKpIn3iL7d"
      }
    },
    {
      "cell_type": "code",
      "source": [
        "model = Sequential()\n",
        "\n",
        "# The Input Layer :\n",
        "model.add(Dense(128, kernel_initializer='normal',input_dim = X_train.shape[1], activation='relu'))\n",
        "\n",
        "# The Hidden Layers :\n",
        "model.add(Dense(256, kernel_initializer='normal',activation='relu'))\n",
        "model.add(Dense(256, kernel_initializer='normal',activation='relu'))\n",
        "model.add(Dense(256, kernel_initializer='normal',activation='relu'))\n",
        "\n",
        "# The Output Layer :\n",
        "model.add(Dense(1, kernel_initializer='normal',activation='linear'))\n",
        "\n",
        "# Compile the network :\n",
        "model.compile(loss='mean_absolute_error', optimizer='adam', metrics=['mean_absolute_error'])\n"
      ],
      "metadata": {
        "id": "j9E3zAHPHqsJ"
      },
      "execution_count": null,
      "outputs": []
    },
    {
      "cell_type": "markdown",
      "source": [
        "**Model Summary**"
      ],
      "metadata": {
        "id": "_5P7GgiOiKVN"
      }
    },
    {
      "cell_type": "code",
      "source": [
        "model.summary()"
      ],
      "metadata": {
        "colab": {
          "base_uri": "https://localhost:8080/"
        },
        "id": "vgSlGubciXeV",
        "outputId": "4aded4ce-59d9-47df-95b9-00243677b3d3"
      },
      "execution_count": null,
      "outputs": [
        {
          "output_type": "stream",
          "name": "stdout",
          "text": [
            "Model: \"sequential\"\n",
            "_________________________________________________________________\n",
            " Layer (type)                Output Shape              Param #   \n",
            "=================================================================\n",
            " dense (Dense)               (None, 128)               1024      \n",
            "                                                                 \n",
            " dense_1 (Dense)             (None, 256)               33024     \n",
            "                                                                 \n",
            " dense_2 (Dense)             (None, 256)               65792     \n",
            "                                                                 \n",
            " dense_3 (Dense)             (None, 256)               65792     \n",
            "                                                                 \n",
            " dense_4 (Dense)             (None, 1)                 257       \n",
            "                                                                 \n",
            "=================================================================\n",
            "Total params: 165,889\n",
            "Trainable params: 165,889\n",
            "Non-trainable params: 0\n",
            "_________________________________________________________________\n"
          ]
        }
      ]
    },
    {
      "cell_type": "markdown",
      "source": [
        "**Model Training**"
      ],
      "metadata": {
        "id": "8qyK7zt6iu6e"
      }
    },
    {
      "cell_type": "code",
      "source": [
        "\n",
        "model.fit(X_train, y_train, epochs=2, batch_size=32, validation_split = 0.1)\n"
      ],
      "metadata": {
        "colab": {
          "base_uri": "https://localhost:8080/"
        },
        "id": "dyMmyDdFihCQ",
        "outputId": "7753666d-ce30-46c9-dbdf-857f10c5ef60"
      },
      "execution_count": null,
      "outputs": [
        {
          "output_type": "stream",
          "name": "stdout",
          "text": [
            "Epoch 1/2\n",
            "46686/46686 [==============================] - 357s 8ms/step - loss: 0.3302 - mean_absolute_error: 0.3302 - val_loss: 0.1639 - val_mean_absolute_error: 0.1639\n",
            "Epoch 2/2\n",
            "46686/46686 [==============================] - 333s 7ms/step - loss: 0.1772 - mean_absolute_error: 0.1772 - val_loss: 0.1651 - val_mean_absolute_error: 0.1651\n"
          ]
        },
        {
          "output_type": "execute_result",
          "data": {
            "text/plain": [
              "<keras.callbacks.History at 0x7dedd73dba60>"
            ]
          },
          "metadata": {},
          "execution_count": 21
        }
      ]
    },
    {
      "cell_type": "markdown",
      "source": [
        "**Model Prediction**"
      ],
      "metadata": {
        "id": "qDpVD6TImTX_"
      }
    },
    {
      "cell_type": "code",
      "source": [
        "y_pred = model.predict(X_test)"
      ],
      "metadata": {
        "colab": {
          "base_uri": "https://localhost:8080/"
        },
        "id": "m1eaPsLHjCbD",
        "outputId": "4f2eddce-9006-4878-a7b8-bae6ca6f6ff4"
      },
      "execution_count": null,
      "outputs": [
        {
          "output_type": "stream",
          "name": "stdout",
          "text": [
            "6404/6404 [==============================] - 16s 3ms/step\n"
          ]
        }
      ]
    },
    {
      "cell_type": "code",
      "source": [
        "y_pred_train = model.predict(X_train)"
      ],
      "metadata": {
        "colab": {
          "base_uri": "https://localhost:8080/"
        },
        "id": "VsDO0u9qoPe8",
        "outputId": "76fc1b35-2eee-44cc-f61a-98db72ae0701"
      },
      "execution_count": null,
      "outputs": [
        {
          "output_type": "stream",
          "name": "stdout",
          "text": [
            "51873/51873 [==============================] - 134s 3ms/step\n"
          ]
        }
      ]
    },
    {
      "cell_type": "code",
      "source": [
        "from sklearn.metrics import r2_score\n",
        "score_train=r2_score(y_train,y_pred_train)\n",
        "print(score_train)\n",
        "score_test=r2_score(y_test,y_pred)\n",
        "print(score_test)"
      ],
      "metadata": {
        "id": "76MwYdYPnz-4"
      },
      "execution_count": null,
      "outputs": []
    },
    {
      "cell_type": "code",
      "source": [
        "from sklearn.metrics import mean_squared_error\n",
        "mse_score_train = mean_squared_error(y_train,y_pred_train)\n",
        "mse_score = mean_squared_error(y_test,y_pred)\n",
        "print(mse_score_train)\n",
        "print(mse_score)"
      ],
      "metadata": {
        "id": "sSpohqfiLCUI"
      },
      "execution_count": null,
      "outputs": []
    },
    {
      "cell_type": "markdown",
      "source": [
        "### **Model Evaluaton**"
      ],
      "metadata": {
        "id": "F_zJrfLXpQxH"
      }
    },
    {
      "cell_type": "code",
      "source": [
        "from sklearn.metrics import mean_absolute_error\n",
        "# Make baseline predictions\n",
        "y_pred_train_baseline = np.ones_like(y_train) * y_train.mean()\n",
        "y_pred_test_baseline = np.ones_like(y_test) * y_train.mean()\n",
        "\n",
        "# Measure train, test and baseline performance\n",
        "mae_train = mean_absolute_error(y_train, y_pred_train).round(4)\n",
        "mae_test = mean_absolute_error(y_test, y_pred).round(4)\n",
        "\n",
        "mae_train_baseline = mean_absolute_error(y_train, y_pred_train_baseline).round(4)\n",
        "mae_test_baseline = mean_absolute_error(y_test, y_pred_test_baseline).round(4)"
      ],
      "metadata": {
        "id": "NZPvCZD2pWFf"
      },
      "execution_count": null,
      "outputs": []
    },
    {
      "cell_type": "markdown",
      "source": [
        "**Adding Timestamp Column**"
      ],
      "metadata": {
        "id": "uXox2dIFFSpq"
      }
    },
    {
      "cell_type": "code",
      "source": [
        "df1['date_time'] = df2['Date'].astype(str) + ' ' + df2['Time'].astype(str)"
      ],
      "metadata": {
        "id": "O_SYDBBUFYg4"
      },
      "execution_count": null,
      "outputs": []
    },
    {
      "cell_type": "code",
      "source": [
        "df1"
      ],
      "metadata": {
        "id": "AOil7ZM4FYc9"
      },
      "execution_count": null,
      "outputs": []
    },
    {
      "cell_type": "code",
      "source": [
        "X_train['date_time'] = df2['Date'].astype(str) + ' ' + df2['Time'].astype(str)"
      ],
      "metadata": {
        "id": "YULky4yFFYas"
      },
      "execution_count": null,
      "outputs": []
    },
    {
      "cell_type": "code",
      "source": [
        "X_test['date_time'] = df2['Date'].astype(str) + ' ' + df2['Time'].astype(str)"
      ],
      "metadata": {
        "id": "rQ18N7d_HFTR"
      },
      "execution_count": null,
      "outputs": []
    },
    {
      "cell_type": "code",
      "source": [],
      "metadata": {
        "id": "0sJvOew5HFQW"
      },
      "execution_count": null,
      "outputs": []
    },
    {
      "cell_type": "markdown",
      "source": [
        "### **Model Monitoring**"
      ],
      "metadata": {
        "id": "hHbCDoBKqJh1"
      }
    },
    {
      "cell_type": "code",
      "source": [
        "y_pred_prod = model.predict(X_prod)"
      ],
      "metadata": {
        "colab": {
          "base_uri": "https://localhost:8080/"
        },
        "id": "KHpK59LOqD90",
        "outputId": "ed3d8927-df5b-48dd-fab8-30644e1aed5a"
      },
      "execution_count": null,
      "outputs": [
        {
          "output_type": "stream",
          "name": "stdout",
          "text": [
            "5764/5764 [==============================] - 18s 3ms/step\n"
          ]
        }
      ]
    },
    {
      "cell_type": "code",
      "source": [
        "X_prod['date_time'] = df2['Date'].astype(str) + ' ' + df2['Time'].astype(str)"
      ],
      "metadata": {
        "id": "WWgmANOBIRR6"
      },
      "execution_count": null,
      "outputs": []
    },
    {
      "cell_type": "code",
      "source": [
        "X_prod"
      ],
      "metadata": {
        "colab": {
          "base_uri": "https://localhost:8080/",
          "height": 424
        },
        "id": "vUKTcCPnLzvF",
        "outputId": "5094e768-1cc9-4206-8693-29b67729698f"
      },
      "execution_count": null,
      "outputs": [
        {
          "output_type": "execute_result",
          "data": {
            "text/plain": [
              "         Global_active_power  Global_reactive_power  Voltage  \\\n",
              "577392                 0.356                  0.000   241.43   \n",
              "1545623                0.436                  0.100   243.57   \n",
              "690698                 1.396                  0.072   241.21   \n",
              "1547442                2.484                  0.000   239.94   \n",
              "73550                  1.428                  0.176   238.09   \n",
              "...                      ...                    ...      ...   \n",
              "55829                  0.440                  0.146   240.86   \n",
              "1075549                0.308                  0.052   248.16   \n",
              "1865095                1.234                  0.170   241.21   \n",
              "1647561                3.038                  0.068   238.28   \n",
              "767966                 0.416                  0.330   239.61   \n",
              "\n",
              "         Global_intensity  Sub_metering_1  Sub_metering_2  Sub_metering_3  \\\n",
              "577392                1.8             0.0             0.0             0.0   \n",
              "1545623               1.8             0.0             2.0             1.0   \n",
              "690698                5.8             0.0             0.0            19.0   \n",
              "1547442              10.2             0.0             0.0            18.0   \n",
              "73550                 6.0             0.0             0.0             0.0   \n",
              "...                   ...             ...             ...             ...   \n",
              "55829                 1.8             0.0             0.0             0.0   \n",
              "1075549               1.2             0.0             0.0             0.0   \n",
              "1865095               5.2             0.0             1.0             0.0   \n",
              "1647561              13.0             0.0             1.0            18.0   \n",
              "767966                2.2             0.0             2.0             1.0   \n",
              "\n",
              "                   date_time  \n",
              "577392    21/1/2008 16:36:00  \n",
              "1545623  24/11/2009 01:47:00  \n",
              "690698     9/4/2008 09:02:00  \n",
              "1547442  25/11/2009 08:06:00  \n",
              "73550      5/2/2007 19:14:00  \n",
              "...                      ...  \n",
              "55829     24/1/2007 11:53:00  \n",
              "1075549    1/1/2009 15:13:00  \n",
              "1865095    3/7/2010 22:19:00  \n",
              "1647561    2/2/2010 20:45:00  \n",
              "767966     2/6/2008 00:50:00  \n",
              "\n",
              "[184436 rows x 8 columns]"
            ],
            "text/html": [
              "\n",
              "\n",
              "  <div id=\"df-1063f915-5910-431e-a8f8-98808b9baa10\">\n",
              "    <div class=\"colab-df-container\">\n",
              "      <div>\n",
              "<style scoped>\n",
              "    .dataframe tbody tr th:only-of-type {\n",
              "        vertical-align: middle;\n",
              "    }\n",
              "\n",
              "    .dataframe tbody tr th {\n",
              "        vertical-align: top;\n",
              "    }\n",
              "\n",
              "    .dataframe thead th {\n",
              "        text-align: right;\n",
              "    }\n",
              "</style>\n",
              "<table border=\"1\" class=\"dataframe\">\n",
              "  <thead>\n",
              "    <tr style=\"text-align: right;\">\n",
              "      <th></th>\n",
              "      <th>Global_active_power</th>\n",
              "      <th>Global_reactive_power</th>\n",
              "      <th>Voltage</th>\n",
              "      <th>Global_intensity</th>\n",
              "      <th>Sub_metering_1</th>\n",
              "      <th>Sub_metering_2</th>\n",
              "      <th>Sub_metering_3</th>\n",
              "      <th>date_time</th>\n",
              "    </tr>\n",
              "  </thead>\n",
              "  <tbody>\n",
              "    <tr>\n",
              "      <th>577392</th>\n",
              "      <td>0.356</td>\n",
              "      <td>0.000</td>\n",
              "      <td>241.43</td>\n",
              "      <td>1.8</td>\n",
              "      <td>0.0</td>\n",
              "      <td>0.0</td>\n",
              "      <td>0.0</td>\n",
              "      <td>21/1/2008 16:36:00</td>\n",
              "    </tr>\n",
              "    <tr>\n",
              "      <th>1545623</th>\n",
              "      <td>0.436</td>\n",
              "      <td>0.100</td>\n",
              "      <td>243.57</td>\n",
              "      <td>1.8</td>\n",
              "      <td>0.0</td>\n",
              "      <td>2.0</td>\n",
              "      <td>1.0</td>\n",
              "      <td>24/11/2009 01:47:00</td>\n",
              "    </tr>\n",
              "    <tr>\n",
              "      <th>690698</th>\n",
              "      <td>1.396</td>\n",
              "      <td>0.072</td>\n",
              "      <td>241.21</td>\n",
              "      <td>5.8</td>\n",
              "      <td>0.0</td>\n",
              "      <td>0.0</td>\n",
              "      <td>19.0</td>\n",
              "      <td>9/4/2008 09:02:00</td>\n",
              "    </tr>\n",
              "    <tr>\n",
              "      <th>1547442</th>\n",
              "      <td>2.484</td>\n",
              "      <td>0.000</td>\n",
              "      <td>239.94</td>\n",
              "      <td>10.2</td>\n",
              "      <td>0.0</td>\n",
              "      <td>0.0</td>\n",
              "      <td>18.0</td>\n",
              "      <td>25/11/2009 08:06:00</td>\n",
              "    </tr>\n",
              "    <tr>\n",
              "      <th>73550</th>\n",
              "      <td>1.428</td>\n",
              "      <td>0.176</td>\n",
              "      <td>238.09</td>\n",
              "      <td>6.0</td>\n",
              "      <td>0.0</td>\n",
              "      <td>0.0</td>\n",
              "      <td>0.0</td>\n",
              "      <td>5/2/2007 19:14:00</td>\n",
              "    </tr>\n",
              "    <tr>\n",
              "      <th>...</th>\n",
              "      <td>...</td>\n",
              "      <td>...</td>\n",
              "      <td>...</td>\n",
              "      <td>...</td>\n",
              "      <td>...</td>\n",
              "      <td>...</td>\n",
              "      <td>...</td>\n",
              "      <td>...</td>\n",
              "    </tr>\n",
              "    <tr>\n",
              "      <th>55829</th>\n",
              "      <td>0.440</td>\n",
              "      <td>0.146</td>\n",
              "      <td>240.86</td>\n",
              "      <td>1.8</td>\n",
              "      <td>0.0</td>\n",
              "      <td>0.0</td>\n",
              "      <td>0.0</td>\n",
              "      <td>24/1/2007 11:53:00</td>\n",
              "    </tr>\n",
              "    <tr>\n",
              "      <th>1075549</th>\n",
              "      <td>0.308</td>\n",
              "      <td>0.052</td>\n",
              "      <td>248.16</td>\n",
              "      <td>1.2</td>\n",
              "      <td>0.0</td>\n",
              "      <td>0.0</td>\n",
              "      <td>0.0</td>\n",
              "      <td>1/1/2009 15:13:00</td>\n",
              "    </tr>\n",
              "    <tr>\n",
              "      <th>1865095</th>\n",
              "      <td>1.234</td>\n",
              "      <td>0.170</td>\n",
              "      <td>241.21</td>\n",
              "      <td>5.2</td>\n",
              "      <td>0.0</td>\n",
              "      <td>1.0</td>\n",
              "      <td>0.0</td>\n",
              "      <td>3/7/2010 22:19:00</td>\n",
              "    </tr>\n",
              "    <tr>\n",
              "      <th>1647561</th>\n",
              "      <td>3.038</td>\n",
              "      <td>0.068</td>\n",
              "      <td>238.28</td>\n",
              "      <td>13.0</td>\n",
              "      <td>0.0</td>\n",
              "      <td>1.0</td>\n",
              "      <td>18.0</td>\n",
              "      <td>2/2/2010 20:45:00</td>\n",
              "    </tr>\n",
              "    <tr>\n",
              "      <th>767966</th>\n",
              "      <td>0.416</td>\n",
              "      <td>0.330</td>\n",
              "      <td>239.61</td>\n",
              "      <td>2.2</td>\n",
              "      <td>0.0</td>\n",
              "      <td>2.0</td>\n",
              "      <td>1.0</td>\n",
              "      <td>2/6/2008 00:50:00</td>\n",
              "    </tr>\n",
              "  </tbody>\n",
              "</table>\n",
              "<p>184436 rows × 8 columns</p>\n",
              "</div>\n",
              "      <button class=\"colab-df-convert\" onclick=\"convertToInteractive('df-1063f915-5910-431e-a8f8-98808b9baa10')\"\n",
              "              title=\"Convert this dataframe to an interactive table.\"\n",
              "              style=\"display:none;\">\n",
              "\n",
              "  <svg xmlns=\"http://www.w3.org/2000/svg\" height=\"24px\"viewBox=\"0 0 24 24\"\n",
              "       width=\"24px\">\n",
              "    <path d=\"M0 0h24v24H0V0z\" fill=\"none\"/>\n",
              "    <path d=\"M18.56 5.44l.94 2.06.94-2.06 2.06-.94-2.06-.94-.94-2.06-.94 2.06-2.06.94zm-11 1L8.5 8.5l.94-2.06 2.06-.94-2.06-.94L8.5 2.5l-.94 2.06-2.06.94zm10 10l.94 2.06.94-2.06 2.06-.94-2.06-.94-.94-2.06-.94 2.06-2.06.94z\"/><path d=\"M17.41 7.96l-1.37-1.37c-.4-.4-.92-.59-1.43-.59-.52 0-1.04.2-1.43.59L10.3 9.45l-7.72 7.72c-.78.78-.78 2.05 0 2.83L4 21.41c.39.39.9.59 1.41.59.51 0 1.02-.2 1.41-.59l7.78-7.78 2.81-2.81c.8-.78.8-2.07 0-2.86zM5.41 20L4 18.59l7.72-7.72 1.47 1.35L5.41 20z\"/>\n",
              "  </svg>\n",
              "      </button>\n",
              "\n",
              "\n",
              "\n",
              "    <div id=\"df-6f2baf81-4de4-4cd3-8068-05d4c1856605\">\n",
              "      <button class=\"colab-df-quickchart\" onclick=\"quickchart('df-6f2baf81-4de4-4cd3-8068-05d4c1856605')\"\n",
              "              title=\"Suggest charts.\"\n",
              "              style=\"display:none;\">\n",
              "\n",
              "<svg xmlns=\"http://www.w3.org/2000/svg\" height=\"24px\"viewBox=\"0 0 24 24\"\n",
              "     width=\"24px\">\n",
              "    <g>\n",
              "        <path d=\"M19 3H5c-1.1 0-2 .9-2 2v14c0 1.1.9 2 2 2h14c1.1 0 2-.9 2-2V5c0-1.1-.9-2-2-2zM9 17H7v-7h2v7zm4 0h-2V7h2v10zm4 0h-2v-4h2v4z\"/>\n",
              "    </g>\n",
              "</svg>\n",
              "      </button>\n",
              "    </div>\n",
              "\n",
              "<style>\n",
              "  .colab-df-quickchart {\n",
              "    background-color: #E8F0FE;\n",
              "    border: none;\n",
              "    border-radius: 50%;\n",
              "    cursor: pointer;\n",
              "    display: none;\n",
              "    fill: #1967D2;\n",
              "    height: 32px;\n",
              "    padding: 0 0 0 0;\n",
              "    width: 32px;\n",
              "  }\n",
              "\n",
              "  .colab-df-quickchart:hover {\n",
              "    background-color: #E2EBFA;\n",
              "    box-shadow: 0px 1px 2px rgba(60, 64, 67, 0.3), 0px 1px 3px 1px rgba(60, 64, 67, 0.15);\n",
              "    fill: #174EA6;\n",
              "  }\n",
              "\n",
              "  [theme=dark] .colab-df-quickchart {\n",
              "    background-color: #3B4455;\n",
              "    fill: #D2E3FC;\n",
              "  }\n",
              "\n",
              "  [theme=dark] .colab-df-quickchart:hover {\n",
              "    background-color: #434B5C;\n",
              "    box-shadow: 0px 1px 3px 1px rgba(0, 0, 0, 0.15);\n",
              "    filter: drop-shadow(0px 1px 2px rgba(0, 0, 0, 0.3));\n",
              "    fill: #FFFFFF;\n",
              "  }\n",
              "</style>\n",
              "\n",
              "    <script>\n",
              "      async function quickchart(key) {\n",
              "        const containerElement = document.querySelector('#' + key);\n",
              "        const charts = await google.colab.kernel.invokeFunction(\n",
              "            'suggestCharts', [key], {});\n",
              "      }\n",
              "    </script>\n",
              "\n",
              "      <script>\n",
              "\n",
              "function displayQuickchartButton(domScope) {\n",
              "  let quickchartButtonEl =\n",
              "    domScope.querySelector('#df-6f2baf81-4de4-4cd3-8068-05d4c1856605 button.colab-df-quickchart');\n",
              "  quickchartButtonEl.style.display =\n",
              "    google.colab.kernel.accessAllowed ? 'block' : 'none';\n",
              "}\n",
              "\n",
              "        displayQuickchartButton(document);\n",
              "      </script>\n",
              "      <style>\n",
              "    .colab-df-container {\n",
              "      display:flex;\n",
              "      flex-wrap:wrap;\n",
              "      gap: 12px;\n",
              "    }\n",
              "\n",
              "    .colab-df-convert {\n",
              "      background-color: #E8F0FE;\n",
              "      border: none;\n",
              "      border-radius: 50%;\n",
              "      cursor: pointer;\n",
              "      display: none;\n",
              "      fill: #1967D2;\n",
              "      height: 32px;\n",
              "      padding: 0 0 0 0;\n",
              "      width: 32px;\n",
              "    }\n",
              "\n",
              "    .colab-df-convert:hover {\n",
              "      background-color: #E2EBFA;\n",
              "      box-shadow: 0px 1px 2px rgba(60, 64, 67, 0.3), 0px 1px 3px 1px rgba(60, 64, 67, 0.15);\n",
              "      fill: #174EA6;\n",
              "    }\n",
              "\n",
              "    [theme=dark] .colab-df-convert {\n",
              "      background-color: #3B4455;\n",
              "      fill: #D2E3FC;\n",
              "    }\n",
              "\n",
              "    [theme=dark] .colab-df-convert:hover {\n",
              "      background-color: #434B5C;\n",
              "      box-shadow: 0px 1px 3px 1px rgba(0, 0, 0, 0.15);\n",
              "      filter: drop-shadow(0px 1px 2px rgba(0, 0, 0, 0.3));\n",
              "      fill: #FFFFFF;\n",
              "    }\n",
              "  </style>\n",
              "\n",
              "      <script>\n",
              "        const buttonEl =\n",
              "          document.querySelector('#df-1063f915-5910-431e-a8f8-98808b9baa10 button.colab-df-convert');\n",
              "        buttonEl.style.display =\n",
              "          google.colab.kernel.accessAllowed ? 'block' : 'none';\n",
              "\n",
              "        async function convertToInteractive(key) {\n",
              "          const element = document.querySelector('#df-1063f915-5910-431e-a8f8-98808b9baa10');\n",
              "          const dataTable =\n",
              "            await google.colab.kernel.invokeFunction('convertToInteractive',\n",
              "                                                     [key], {});\n",
              "          if (!dataTable) return;\n",
              "\n",
              "          const docLinkHtml = 'Like what you see? Visit the ' +\n",
              "            '<a target=\"_blank\" href=https://colab.research.google.com/notebooks/data_table.ipynb>data table notebook</a>'\n",
              "            + ' to learn more about interactive tables.';\n",
              "          element.innerHTML = '';\n",
              "          dataTable['output_type'] = 'display_data';\n",
              "          await google.colab.output.renderOutput(dataTable, element);\n",
              "          const docLink = document.createElement('div');\n",
              "          docLink.innerHTML = docLinkHtml;\n",
              "          element.appendChild(docLink);\n",
              "        }\n",
              "      </script>\n",
              "    </div>\n",
              "  </div>\n"
            ]
          },
          "metadata": {},
          "execution_count": 49
        }
      ]
    },
    {
      "cell_type": "code",
      "source": [
        "reference = X_test.copy() # using the test set as a reference\n",
        "reference['y_pred'] = y_pred # reference predictions\n",
        "reference['power_consumtion'] = y_test # ground truth (currect targets)\n",
        "#reference = reference.join(data['lpep_pickup_datetime']) # date\n",
        "\n",
        "analysis = X_prod.copy() # features\n",
        "analysis['y_pred'] = y_pred_prod # prod predictions\n",
        "#analysis = analysis.join(data['lpep_pickup_datetime']) # date"
      ],
      "metadata": {
        "id": "oEDw4_wZqDl4"
      },
      "execution_count": null,
      "outputs": []
    },
    {
      "cell_type": "code",
      "source": [
        "df.columns"
      ],
      "metadata": {
        "id": "7IgMJSuNsotE"
      },
      "execution_count": null,
      "outputs": []
    },
    {
      "cell_type": "code",
      "source": [
        "features = ['Global_active_power', 'Global_reactive_power', 'Voltage', 'Global_intensity', 'Sub_metering_1', 'Sub_metering_2', 'Sub_metering_3']"
      ],
      "metadata": {
        "id": "Baw4362graC6"
      },
      "execution_count": null,
      "outputs": []
    },
    {
      "cell_type": "code",
      "source": [
        "dle = nml.DLE(\n",
        "    metrics=['mae'],\n",
        "    y_true='power_consumtion',\n",
        "    y_pred='y_pred',\n",
        "    feature_column_names=features,\n",
        "    timestamp_column_name='date_time',\n",
        "    chunk_period='m' # perform an estimation daily\n",
        ")\n",
        "\n",
        "dle.fit(reference) # fit on the reference (test) data\n",
        "estimated_performance = dle.estimate(analysis) # estimate on the prod data\n"
      ],
      "metadata": {
        "colab": {
          "base_uri": "https://localhost:8080/"
        },
        "id": "QCPnJLkxrCQ4",
        "outputId": "af9606cf-43d5-4050-eb2a-78831fe7dc21"
      },
      "execution_count": null,
      "outputs": [
        {
          "output_type": "stream",
          "name": "stderr",
          "text": [
            "/usr/local/lib/python3.10/dist-packages/lightgbm/basic.py:2065: UserWarning:\n",
            "\n",
            "Using categorical_feature in Dataset.\n",
            "\n"
          ]
        }
      ]
    },
    {
      "cell_type": "code",
      "source": [
        "figure = estimated_performance.plot()\n",
        "figure"
      ],
      "metadata": {
        "colab": {
          "base_uri": "https://localhost:8080/",
          "height": 517
        },
        "id": "dJylYMDFtQVz",
        "outputId": "af736052-1a01-461b-e898-98884d8b894c"
      },
      "execution_count": null,
      "outputs": [
        {
          "output_type": "display_data",
          "data": {
            "text/html": [
              "<html>\n",
              "<head><meta charset=\"utf-8\" /></head>\n",
              "<body>\n",
              "    <div>            <script src=\"https://cdnjs.cloudflare.com/ajax/libs/mathjax/2.7.5/MathJax.js?config=TeX-AMS-MML_SVG\"></script><script type=\"text/javascript\">if (window.MathJax && window.MathJax.Hub && window.MathJax.Hub.Config) {window.MathJax.Hub.Config({SVG: {font: \"STIX-Web\"}});}</script>                <script type=\"text/javascript\">window.PlotlyConfig = {MathJaxConfig: 'local'};</script>\n",
              "        <script charset=\"utf-8\" src=\"https://cdn.plot.ly/plotly-2.24.1.min.js\"></script>                <div id=\"6e8f2762-8ec8-4948-b803-09a5125e8034\" class=\"plotly-graph-div\" style=\"height:500.0px; width:100%;\"></div>            <script type=\"text/javascript\">                                    window.PLOTLYENV=window.PLOTLYENV || {};                                    if (document.getElementById(\"6e8f2762-8ec8-4948-b803-09a5125e8034\")) {                    Plotly.newPlot(                        \"6e8f2762-8ec8-4948-b803-09a5125e8034\",                        [{\"hoverinfo\":\"skip\",\"legendgroup\":\"metric_reference\",\"line\":{\"color\":\"#3b0280\",\"dash\":\"dash\",\"shape\":\"hv\",\"width\":2},\"mode\":\"lines\",\"name\":\"Metric\",\"showlegend\":true,\"x\":[\"2006-12-01T00:00:00\",\"2007-01-01T00:00:00\",\"2007-02-01T00:00:00\",\"2007-03-01T00:00:00\",\"2007-04-01T00:00:00\",\"2007-05-01T00:00:00\",\"2007-06-01T00:00:00\",\"2007-07-01T00:00:00\",\"2007-08-01T00:00:00\",\"2007-09-01T00:00:00\",\"2007-10-01T00:00:00\",\"2007-11-01T00:00:00\",\"2007-12-01T00:00:00\",\"2008-01-01T00:00:00\",\"2008-02-01T00:00:00\",\"2008-03-01T00:00:00\",\"2008-04-01T00:00:00\",\"2008-05-01T00:00:00\",\"2008-06-01T00:00:00\",\"2008-07-01T00:00:00\",\"2008-08-01T00:00:00\",\"2008-09-01T00:00:00\",\"2008-10-01T00:00:00\",\"2008-11-01T00:00:00\",\"2008-12-01T00:00:00\",\"2009-01-01T00:00:00\",\"2009-02-01T00:00:00\",\"2009-03-01T00:00:00\",\"2009-04-01T00:00:00\",\"2009-05-01T00:00:00\",\"2009-06-01T00:00:00\",\"2009-07-01T00:00:00\",\"2009-08-01T00:00:00\",\"2009-09-01T00:00:00\",\"2009-10-01T00:00:00\",\"2009-11-01T00:00:00\",\"2009-12-01T00:00:00\",\"2010-01-01T00:00:00\",\"2010-02-01T00:00:00\",\"2010-03-01T00:00:00\",\"2010-04-01T00:00:00\",\"2010-05-01T00:00:00\",\"2010-06-01T00:00:00\",\"2010-07-01T00:00:00\",\"2010-08-01T00:00:00\",\"2010-09-01T00:00:00\",\"2010-10-01T00:00:00\",\"2010-11-01T00:00:00\",\"2010-12-01T00:00:00\",\"2010-12-31T23:59:59.999999999\"],\"y\":[0.2542305032536845,0.19558781942066578,0.1824149500151208,0.17710722324964634,0.16456562978128275,0.16988424045952746,0.14649115208799707,0.15668600275494118,0.1525605685897559,0.1563807827610516,0.17318753995680355,0.18836378360355344,0.19203791391661343,0.187012279021744,0.17402746107123168,0.17225574393229823,0.16543209872136694,0.1525032728241806,0.15202879436977745,0.14709925806906252,0.114678313929172,0.1568339008788753,0.17509545724645814,0.18862954390429695,0.18296601653245217,0.1819058301691883,0.17536349373363344,0.16833686204528686,0.16421309918110327,0.1550239635729334,0.1415040784788747,0.13249406816250486,0.13730773794944426,0.1530691237966789,0.1690810927901727,0.17166345959441354,0.17139259627284203,0.1723590919489432,0.16388875346541384,0.16141689343094204,0.15917302162566574,0.15517906186876307,0.14519046231707075,0.1454105139334594,0.14334446050220503,0.151995942812173,0.17055332034104448,0.16972974163843055,0.1559433831009153,0.1559433831009153],\"type\":\"scatter\",\"xaxis\":\"x\",\"yaxis\":\"y\"},{\"customdata\":[[\"Estimated \\u003cb\\u003eMAE\\u003c\\u002fb\\u003e\",\"\\u003cb style=\\\"color:#3b0280;line-height:60px\\\"\\u003eReference\\u003c\\u002fb\\u003e\",\"\\u003cspan style=\\\"color:#AD0000\\\"\\u003e\\u26a0 \\u003cb\\u003eDrift detected\\u003c\\u002fb\\u003e\\u003c\\u002fspan\\u003e\",\"2006-12\",\"From \\u003cb\\u003eDec-01-2006\\u003c\\u002fb\\u003e to \\u003cb\\u003eDec-31-2006\\u003c\\u002fb\\u003e\",0.2542,0.0061],[\"Estimated \\u003cb\\u003eMAE\\u003c\\u002fb\\u003e\",\"\\u003cb style=\\\"color:#3b0280;line-height:60px\\\"\\u003eReference\\u003c\\u002fb\\u003e\",\"\",\"2007-01\",\"From \\u003cb\\u003eJan-01-2007\\u003c\\u002fb\\u003e to \\u003cb\\u003eJan-31-2007\\u003c\\u002fb\\u003e\",0.1956,0.0043],[\"Estimated \\u003cb\\u003eMAE\\u003c\\u002fb\\u003e\",\"\\u003cb style=\\\"color:#3b0280;line-height:60px\\\"\\u003eReference\\u003c\\u002fb\\u003e\",\"\",\"2007-02\",\"From \\u003cb\\u003eFeb-01-2007\\u003c\\u002fb\\u003e to \\u003cb\\u003eFeb-28-2007\\u003c\\u002fb\\u003e\",0.1824,0.0045],[\"Estimated \\u003cb\\u003eMAE\\u003c\\u002fb\\u003e\",\"\\u003cb style=\\\"color:#3b0280;line-height:60px\\\"\\u003eReference\\u003c\\u002fb\\u003e\",\"\",\"2007-03\",\"From \\u003cb\\u003eMar-01-2007\\u003c\\u002fb\\u003e to \\u003cb\\u003eMar-31-2007\\u003c\\u002fb\\u003e\",0.1771,0.0043],[\"Estimated \\u003cb\\u003eMAE\\u003c\\u002fb\\u003e\",\"\\u003cb style=\\\"color:#3b0280;line-height:60px\\\"\\u003eReference\\u003c\\u002fb\\u003e\",\"\",\"2007-04\",\"From \\u003cb\\u003eApr-01-2007\\u003c\\u002fb\\u003e to \\u003cb\\u003eApr-30-2007\\u003c\\u002fb\\u003e\",0.1646,0.0045],[\"Estimated \\u003cb\\u003eMAE\\u003c\\u002fb\\u003e\",\"\\u003cb style=\\\"color:#3b0280;line-height:60px\\\"\\u003eReference\\u003c\\u002fb\\u003e\",\"\",\"2007-05\",\"From \\u003cb\\u003eMay-01-2007\\u003c\\u002fb\\u003e to \\u003cb\\u003eMay-31-2007\\u003c\\u002fb\\u003e\",0.1699,0.0043],[\"Estimated \\u003cb\\u003eMAE\\u003c\\u002fb\\u003e\",\"\\u003cb style=\\\"color:#3b0280;line-height:60px\\\"\\u003eReference\\u003c\\u002fb\\u003e\",\"\",\"2007-06\",\"From \\u003cb\\u003eJun-01-2007\\u003c\\u002fb\\u003e to \\u003cb\\u003eJun-30-2007\\u003c\\u002fb\\u003e\",0.1465,0.0043],[\"Estimated \\u003cb\\u003eMAE\\u003c\\u002fb\\u003e\",\"\\u003cb style=\\\"color:#3b0280;line-height:60px\\\"\\u003eReference\\u003c\\u002fb\\u003e\",\"\",\"2007-07\",\"From \\u003cb\\u003eJul-01-2007\\u003c\\u002fb\\u003e to \\u003cb\\u003eJul-31-2007\\u003c\\u002fb\\u003e\",0.1567,0.0044],[\"Estimated \\u003cb\\u003eMAE\\u003c\\u002fb\\u003e\",\"\\u003cb style=\\\"color:#3b0280;line-height:60px\\\"\\u003eReference\\u003c\\u002fb\\u003e\",\"\",\"2007-08\",\"From \\u003cb\\u003eAug-01-2007\\u003c\\u002fb\\u003e to \\u003cb\\u003eAug-31-2007\\u003c\\u002fb\\u003e\",0.1526,0.0043],[\"Estimated \\u003cb\\u003eMAE\\u003c\\u002fb\\u003e\",\"\\u003cb style=\\\"color:#3b0280;line-height:60px\\\"\\u003eReference\\u003c\\u002fb\\u003e\",\"\",\"2007-09\",\"From \\u003cb\\u003eSep-01-2007\\u003c\\u002fb\\u003e to \\u003cb\\u003eSep-30-2007\\u003c\\u002fb\\u003e\",0.1564,0.0044],[\"Estimated \\u003cb\\u003eMAE\\u003c\\u002fb\\u003e\",\"\\u003cb style=\\\"color:#3b0280;line-height:60px\\\"\\u003eReference\\u003c\\u002fb\\u003e\",\"\",\"2007-10\",\"From \\u003cb\\u003eOct-01-2007\\u003c\\u002fb\\u003e to \\u003cb\\u003eOct-31-2007\\u003c\\u002fb\\u003e\",0.1732,0.0043],[\"Estimated \\u003cb\\u003eMAE\\u003c\\u002fb\\u003e\",\"\\u003cb style=\\\"color:#3b0280;line-height:60px\\\"\\u003eReference\\u003c\\u002fb\\u003e\",\"\",\"2007-11\",\"From \\u003cb\\u003eNov-01-2007\\u003c\\u002fb\\u003e to \\u003cb\\u003eNov-30-2007\\u003c\\u002fb\\u003e\",0.1884,0.0044],[\"Estimated \\u003cb\\u003eMAE\\u003c\\u002fb\\u003e\",\"\\u003cb style=\\\"color:#3b0280;line-height:60px\\\"\\u003eReference\\u003c\\u002fb\\u003e\",\"\",\"2007-12\",\"From \\u003cb\\u003eDec-01-2007\\u003c\\u002fb\\u003e to \\u003cb\\u003eDec-31-2007\\u003c\\u002fb\\u003e\",0.192,0.0043],[\"Estimated \\u003cb\\u003eMAE\\u003c\\u002fb\\u003e\",\"\\u003cb style=\\\"color:#3b0280;line-height:60px\\\"\\u003eReference\\u003c\\u002fb\\u003e\",\"\",\"2008-01\",\"From \\u003cb\\u003eJan-01-2008\\u003c\\u002fb\\u003e to \\u003cb\\u003eJan-31-2008\\u003c\\u002fb\\u003e\",0.187,0.0043],[\"Estimated \\u003cb\\u003eMAE\\u003c\\u002fb\\u003e\",\"\\u003cb style=\\\"color:#3b0280;line-height:60px\\\"\\u003eReference\\u003c\\u002fb\\u003e\",\"\",\"2008-02\",\"From \\u003cb\\u003eFeb-01-2008\\u003c\\u002fb\\u003e to \\u003cb\\u003eFeb-29-2008\\u003c\\u002fb\\u003e\",0.174,0.0044],[\"Estimated \\u003cb\\u003eMAE\\u003c\\u002fb\\u003e\",\"\\u003cb style=\\\"color:#3b0280;line-height:60px\\\"\\u003eReference\\u003c\\u002fb\\u003e\",\"\",\"2008-03\",\"From \\u003cb\\u003eMar-01-2008\\u003c\\u002fb\\u003e to \\u003cb\\u003eMar-31-2008\\u003c\\u002fb\\u003e\",0.1723,0.0043],[\"Estimated \\u003cb\\u003eMAE\\u003c\\u002fb\\u003e\",\"\\u003cb style=\\\"color:#3b0280;line-height:60px\\\"\\u003eReference\\u003c\\u002fb\\u003e\",\"\",\"2008-04\",\"From \\u003cb\\u003eApr-01-2008\\u003c\\u002fb\\u003e to \\u003cb\\u003eApr-30-2008\\u003c\\u002fb\\u003e\",0.1654,0.0043],[\"Estimated \\u003cb\\u003eMAE\\u003c\\u002fb\\u003e\",\"\\u003cb style=\\\"color:#3b0280;line-height:60px\\\"\\u003eReference\\u003c\\u002fb\\u003e\",\"\",\"2008-05\",\"From \\u003cb\\u003eMay-01-2008\\u003c\\u002fb\\u003e to \\u003cb\\u003eMay-31-2008\\u003c\\u002fb\\u003e\",0.1525,0.0043],[\"Estimated \\u003cb\\u003eMAE\\u003c\\u002fb\\u003e\",\"\\u003cb style=\\\"color:#3b0280;line-height:60px\\\"\\u003eReference\\u003c\\u002fb\\u003e\",\"\",\"2008-06\",\"From \\u003cb\\u003eJun-01-2008\\u003c\\u002fb\\u003e to \\u003cb\\u003eJun-30-2008\\u003c\\u002fb\\u003e\",0.152,0.0044],[\"Estimated \\u003cb\\u003eMAE\\u003c\\u002fb\\u003e\",\"\\u003cb style=\\\"color:#3b0280;line-height:60px\\\"\\u003eReference\\u003c\\u002fb\\u003e\",\"\",\"2008-07\",\"From \\u003cb\\u003eJul-01-2008\\u003c\\u002fb\\u003e to \\u003cb\\u003eJul-31-2008\\u003c\\u002fb\\u003e\",0.1471,0.0043],[\"Estimated \\u003cb\\u003eMAE\\u003c\\u002fb\\u003e\",\"\\u003cb style=\\\"color:#3b0280;line-height:60px\\\"\\u003eReference\\u003c\\u002fb\\u003e\",\"\",\"2008-08\",\"From \\u003cb\\u003eAug-01-2008\\u003c\\u002fb\\u003e to \\u003cb\\u003eAug-31-2008\\u003c\\u002fb\\u003e\",0.1147,0.0043],[\"Estimated \\u003cb\\u003eMAE\\u003c\\u002fb\\u003e\",\"\\u003cb style=\\\"color:#3b0280;line-height:60px\\\"\\u003eReference\\u003c\\u002fb\\u003e\",\"\",\"2008-09\",\"From \\u003cb\\u003eSep-01-2008\\u003c\\u002fb\\u003e to \\u003cb\\u003eSep-30-2008\\u003c\\u002fb\\u003e\",0.1568,0.0044],[\"Estimated \\u003cb\\u003eMAE\\u003c\\u002fb\\u003e\",\"\\u003cb style=\\\"color:#3b0280;line-height:60px\\\"\\u003eReference\\u003c\\u002fb\\u003e\",\"\",\"2008-10\",\"From \\u003cb\\u003eOct-01-2008\\u003c\\u002fb\\u003e to \\u003cb\\u003eOct-31-2008\\u003c\\u002fb\\u003e\",0.1751,0.0043],[\"Estimated \\u003cb\\u003eMAE\\u003c\\u002fb\\u003e\",\"\\u003cb style=\\\"color:#3b0280;line-height:60px\\\"\\u003eReference\\u003c\\u002fb\\u003e\",\"\",\"2008-11\",\"From \\u003cb\\u003eNov-01-2008\\u003c\\u002fb\\u003e to \\u003cb\\u003eNov-30-2008\\u003c\\u002fb\\u003e\",0.1886,0.0044],[\"Estimated \\u003cb\\u003eMAE\\u003c\\u002fb\\u003e\",\"\\u003cb style=\\\"color:#3b0280;line-height:60px\\\"\\u003eReference\\u003c\\u002fb\\u003e\",\"\",\"2008-12\",\"From \\u003cb\\u003eDec-01-2008\\u003c\\u002fb\\u003e to \\u003cb\\u003eDec-31-2008\\u003c\\u002fb\\u003e\",0.183,0.0043],[\"Estimated \\u003cb\\u003eMAE\\u003c\\u002fb\\u003e\",\"\\u003cb style=\\\"color:#3b0280;line-height:60px\\\"\\u003eReference\\u003c\\u002fb\\u003e\",\"\",\"2009-01\",\"From \\u003cb\\u003eJan-01-2009\\u003c\\u002fb\\u003e to \\u003cb\\u003eJan-31-2009\\u003c\\u002fb\\u003e\",0.1819,0.0043],[\"Estimated \\u003cb\\u003eMAE\\u003c\\u002fb\\u003e\",\"\\u003cb style=\\\"color:#3b0280;line-height:60px\\\"\\u003eReference\\u003c\\u002fb\\u003e\",\"\",\"2009-02\",\"From \\u003cb\\u003eFeb-01-2009\\u003c\\u002fb\\u003e to \\u003cb\\u003eFeb-28-2009\\u003c\\u002fb\\u003e\",0.1754,0.0045],[\"Estimated \\u003cb\\u003eMAE\\u003c\\u002fb\\u003e\",\"\\u003cb style=\\\"color:#3b0280;line-height:60px\\\"\\u003eReference\\u003c\\u002fb\\u003e\",\"\",\"2009-03\",\"From \\u003cb\\u003eMar-01-2009\\u003c\\u002fb\\u003e to \\u003cb\\u003eMar-31-2009\\u003c\\u002fb\\u003e\",0.1683,0.0043],[\"Estimated \\u003cb\\u003eMAE\\u003c\\u002fb\\u003e\",\"\\u003cb style=\\\"color:#3b0280;line-height:60px\\\"\\u003eReference\\u003c\\u002fb\\u003e\",\"\",\"2009-04\",\"From \\u003cb\\u003eApr-01-2009\\u003c\\u002fb\\u003e to \\u003cb\\u003eApr-30-2009\\u003c\\u002fb\\u003e\",0.1642,0.0044],[\"Estimated \\u003cb\\u003eMAE\\u003c\\u002fb\\u003e\",\"\\u003cb style=\\\"color:#3b0280;line-height:60px\\\"\\u003eReference\\u003c\\u002fb\\u003e\",\"\",\"2009-05\",\"From \\u003cb\\u003eMay-01-2009\\u003c\\u002fb\\u003e to \\u003cb\\u003eMay-31-2009\\u003c\\u002fb\\u003e\",0.155,0.0043],[\"Estimated \\u003cb\\u003eMAE\\u003c\\u002fb\\u003e\",\"\\u003cb style=\\\"color:#3b0280;line-height:60px\\\"\\u003eReference\\u003c\\u002fb\\u003e\",\"\",\"2009-06\",\"From \\u003cb\\u003eJun-01-2009\\u003c\\u002fb\\u003e to \\u003cb\\u003eJun-30-2009\\u003c\\u002fb\\u003e\",0.1415,0.0045],[\"Estimated \\u003cb\\u003eMAE\\u003c\\u002fb\\u003e\",\"\\u003cb style=\\\"color:#3b0280;line-height:60px\\\"\\u003eReference\\u003c\\u002fb\\u003e\",\"\",\"2009-07\",\"From \\u003cb\\u003eJul-01-2009\\u003c\\u002fb\\u003e to \\u003cb\\u003eJul-31-2009\\u003c\\u002fb\\u003e\",0.1325,0.0043],[\"Estimated \\u003cb\\u003eMAE\\u003c\\u002fb\\u003e\",\"\\u003cb style=\\\"color:#3b0280;line-height:60px\\\"\\u003eReference\\u003c\\u002fb\\u003e\",\"\",\"2009-08\",\"From \\u003cb\\u003eAug-01-2009\\u003c\\u002fb\\u003e to \\u003cb\\u003eAug-31-2009\\u003c\\u002fb\\u003e\",0.1373,0.0043],[\"Estimated \\u003cb\\u003eMAE\\u003c\\u002fb\\u003e\",\"\\u003cb style=\\\"color:#3b0280;line-height:60px\\\"\\u003eReference\\u003c\\u002fb\\u003e\",\"\",\"2009-09\",\"From \\u003cb\\u003eSep-01-2009\\u003c\\u002fb\\u003e to \\u003cb\\u003eSep-30-2009\\u003c\\u002fb\\u003e\",0.1531,0.0044],[\"Estimated \\u003cb\\u003eMAE\\u003c\\u002fb\\u003e\",\"\\u003cb style=\\\"color:#3b0280;line-height:60px\\\"\\u003eReference\\u003c\\u002fb\\u003e\",\"\",\"2009-10\",\"From \\u003cb\\u003eOct-01-2009\\u003c\\u002fb\\u003e to \\u003cb\\u003eOct-31-2009\\u003c\\u002fb\\u003e\",0.1691,0.0042],[\"Estimated \\u003cb\\u003eMAE\\u003c\\u002fb\\u003e\",\"\\u003cb style=\\\"color:#3b0280;line-height:60px\\\"\\u003eReference\\u003c\\u002fb\\u003e\",\"\",\"2009-11\",\"From \\u003cb\\u003eNov-01-2009\\u003c\\u002fb\\u003e to \\u003cb\\u003eNov-30-2009\\u003c\\u002fb\\u003e\",0.1717,0.0044],[\"Estimated \\u003cb\\u003eMAE\\u003c\\u002fb\\u003e\",\"\\u003cb style=\\\"color:#3b0280;line-height:60px\\\"\\u003eReference\\u003c\\u002fb\\u003e\",\"\",\"2009-12\",\"From \\u003cb\\u003eDec-01-2009\\u003c\\u002fb\\u003e to \\u003cb\\u003eDec-31-2009\\u003c\\u002fb\\u003e\",0.1714,0.0043],[\"Estimated \\u003cb\\u003eMAE\\u003c\\u002fb\\u003e\",\"\\u003cb style=\\\"color:#3b0280;line-height:60px\\\"\\u003eReference\\u003c\\u002fb\\u003e\",\"\",\"2010-01\",\"From \\u003cb\\u003eJan-01-2010\\u003c\\u002fb\\u003e to \\u003cb\\u003eJan-31-2010\\u003c\\u002fb\\u003e\",0.1724,0.0045],[\"Estimated \\u003cb\\u003eMAE\\u003c\\u002fb\\u003e\",\"\\u003cb style=\\\"color:#3b0280;line-height:60px\\\"\\u003eReference\\u003c\\u002fb\\u003e\",\"\",\"2010-02\",\"From \\u003cb\\u003eFeb-01-2010\\u003c\\u002fb\\u003e to \\u003cb\\u003eFeb-28-2010\\u003c\\u002fb\\u003e\",0.1639,0.0046],[\"Estimated \\u003cb\\u003eMAE\\u003c\\u002fb\\u003e\",\"\\u003cb style=\\\"color:#3b0280;line-height:60px\\\"\\u003eReference\\u003c\\u002fb\\u003e\",\"\",\"2010-03\",\"From \\u003cb\\u003eMar-01-2010\\u003c\\u002fb\\u003e to \\u003cb\\u003eMar-31-2010\\u003c\\u002fb\\u003e\",0.1614,0.0045],[\"Estimated \\u003cb\\u003eMAE\\u003c\\u002fb\\u003e\",\"\\u003cb style=\\\"color:#3b0280;line-height:60px\\\"\\u003eReference\\u003c\\u002fb\\u003e\",\"\",\"2010-04\",\"From \\u003cb\\u003eApr-01-2010\\u003c\\u002fb\\u003e to \\u003cb\\u003eApr-30-2010\\u003c\\u002fb\\u003e\",0.1592,0.0044],[\"Estimated \\u003cb\\u003eMAE\\u003c\\u002fb\\u003e\",\"\\u003cb style=\\\"color:#3b0280;line-height:60px\\\"\\u003eReference\\u003c\\u002fb\\u003e\",\"\",\"2010-05\",\"From \\u003cb\\u003eMay-01-2010\\u003c\\u002fb\\u003e to \\u003cb\\u003eMay-31-2010\\u003c\\u002fb\\u003e\",0.1552,0.0044],[\"Estimated \\u003cb\\u003eMAE\\u003c\\u002fb\\u003e\",\"\\u003cb style=\\\"color:#3b0280;line-height:60px\\\"\\u003eReference\\u003c\\u002fb\\u003e\",\"\",\"2010-06\",\"From \\u003cb\\u003eJun-01-2010\\u003c\\u002fb\\u003e to \\u003cb\\u003eJun-30-2010\\u003c\\u002fb\\u003e\",0.1452,0.0044],[\"Estimated \\u003cb\\u003eMAE\\u003c\\u002fb\\u003e\",\"\\u003cb style=\\\"color:#3b0280;line-height:60px\\\"\\u003eReference\\u003c\\u002fb\\u003e\",\"\",\"2010-07\",\"From \\u003cb\\u003eJul-01-2010\\u003c\\u002fb\\u003e to \\u003cb\\u003eJul-31-2010\\u003c\\u002fb\\u003e\",0.1454,0.0043],[\"Estimated \\u003cb\\u003eMAE\\u003c\\u002fb\\u003e\",\"\\u003cb style=\\\"color:#3b0280;line-height:60px\\\"\\u003eReference\\u003c\\u002fb\\u003e\",\"\",\"2010-08\",\"From \\u003cb\\u003eAug-01-2010\\u003c\\u002fb\\u003e to \\u003cb\\u003eAug-31-2010\\u003c\\u002fb\\u003e\",0.1433,0.0048],[\"Estimated \\u003cb\\u003eMAE\\u003c\\u002fb\\u003e\",\"\\u003cb style=\\\"color:#3b0280;line-height:60px\\\"\\u003eReference\\u003c\\u002fb\\u003e\",\"\",\"2010-09\",\"From \\u003cb\\u003eSep-01-2010\\u003c\\u002fb\\u003e to \\u003cb\\u003eSep-30-2010\\u003c\\u002fb\\u003e\",0.152,0.0048],[\"Estimated \\u003cb\\u003eMAE\\u003c\\u002fb\\u003e\",\"\\u003cb style=\\\"color:#3b0280;line-height:60px\\\"\\u003eReference\\u003c\\u002fb\\u003e\",\"\",\"2010-10\",\"From \\u003cb\\u003eOct-01-2010\\u003c\\u002fb\\u003e to \\u003cb\\u003eOct-31-2010\\u003c\\u002fb\\u003e\",0.1706,0.0043],[\"Estimated \\u003cb\\u003eMAE\\u003c\\u002fb\\u003e\",\"\\u003cb style=\\\"color:#3b0280;line-height:60px\\\"\\u003eReference\\u003c\\u002fb\\u003e\",\"\",\"2010-11\",\"From \\u003cb\\u003eNov-01-2010\\u003c\\u002fb\\u003e to \\u003cb\\u003eNov-30-2010\\u003c\\u002fb\\u003e\",0.1697,0.0048],[\"Estimated \\u003cb\\u003eMAE\\u003c\\u002fb\\u003e\",\"\\u003cb style=\\\"color:#3b0280;line-height:60px\\\"\\u003eReference\\u003c\\u002fb\\u003e\",\"\",\"2010-12\",\"From \\u003cb\\u003eDec-01-2010\\u003c\\u002fb\\u003e to \\u003cb\\u003eDec-31-2010\\u003c\\u002fb\\u003e\",0.1559,0.0074]],\"hovertemplate\":\"%{customdata[1]} &nbsp; &nbsp; %{customdata[2]} \\u003cbr \\u002f\\u003eChunk: \\u003cb\\u003e%{customdata[3]}\\u003c\\u002fb\\u003e &nbsp; &nbsp; %{customdata[4]} \\u003cbr \\u002f\\u003e%{customdata[0]}: \\u003cb\\u003e%{customdata[5]}\\u003c\\u002fb\\u003e\\u003cbr \\u002f\\u003eConfidence band: +\\u002f- \\u003cb\\u003e%{customdata[6]}\\u003c\\u002fb\\u003e\\u003cbr \\u002f\\u003e\\u003cextra\\u003e\\u003c\\u002fextra\\u003e\",\"legendgroup\":\"metric_reference\",\"line\":{\"dash\":\"dash\"},\"marker\":{\"color\":\"#3b0280\",\"size\":5,\"symbol\":\"circle\"},\"mode\":\"markers\",\"name\":\"Metric\",\"showlegend\":false,\"x\":[\"2006-12-16T12:00:00\",\"2007-01-16T12:00:00\",\"2007-02-15T00:00:00\",\"2007-03-16T12:00:00\",\"2007-04-16T00:00:00\",\"2007-05-16T12:00:00\",\"2007-06-16T00:00:00\",\"2007-07-16T12:00:00\",\"2007-08-16T12:00:00\",\"2007-09-16T00:00:00\",\"2007-10-16T12:00:00\",\"2007-11-16T00:00:00\",\"2007-12-16T12:00:00\",\"2008-01-16T12:00:00\",\"2008-02-15T12:00:00\",\"2008-03-16T12:00:00\",\"2008-04-16T00:00:00\",\"2008-05-16T12:00:00\",\"2008-06-16T00:00:00\",\"2008-07-16T12:00:00\",\"2008-08-16T12:00:00\",\"2008-09-16T00:00:00\",\"2008-10-16T12:00:00\",\"2008-11-16T00:00:00\",\"2008-12-16T12:00:00\",\"2009-01-16T12:00:00\",\"2009-02-15T00:00:00\",\"2009-03-16T12:00:00\",\"2009-04-16T00:00:00\",\"2009-05-16T12:00:00\",\"2009-06-16T00:00:00\",\"2009-07-16T12:00:00\",\"2009-08-16T12:00:00\",\"2009-09-16T00:00:00\",\"2009-10-16T12:00:00\",\"2009-11-16T00:00:00\",\"2009-12-16T12:00:00\",\"2010-01-16T12:00:00\",\"2010-02-15T00:00:00\",\"2010-03-16T12:00:00\",\"2010-04-16T00:00:00\",\"2010-05-16T12:00:00\",\"2010-06-16T00:00:00\",\"2010-07-16T12:00:00\",\"2010-08-16T12:00:00\",\"2010-09-16T00:00:00\",\"2010-10-16T12:00:00\",\"2010-11-16T00:00:00\",\"2010-12-16T11:59:59.999999999\"],\"y\":[0.2542305032536845,0.19558781942066578,0.1824149500151208,0.17710722324964634,0.16456562978128275,0.16988424045952746,0.14649115208799707,0.15668600275494118,0.1525605685897559,0.1563807827610516,0.17318753995680355,0.18836378360355344,0.19203791391661343,0.187012279021744,0.17402746107123168,0.17225574393229823,0.16543209872136694,0.1525032728241806,0.15202879436977745,0.14709925806906252,0.114678313929172,0.1568339008788753,0.17509545724645814,0.18862954390429695,0.18296601653245217,0.1819058301691883,0.17536349373363344,0.16833686204528686,0.16421309918110327,0.1550239635729334,0.1415040784788747,0.13249406816250486,0.13730773794944426,0.1530691237966789,0.1690810927901727,0.17166345959441354,0.17139259627284203,0.1723590919489432,0.16388875346541384,0.16141689343094204,0.15917302162566574,0.15517906186876307,0.14519046231707075,0.1454105139334594,0.14334446050220503,0.151995942812173,0.17055332034104448,0.16972974163843055,0.1559433831009153,0.1559433831009153],\"type\":\"scatter\",\"xaxis\":\"x\",\"yaxis\":\"y\"},{\"hoverinfo\":\"skip\",\"legendgroup\":\"metric_analysis\",\"line\":{\"color\":\"#3b0280\",\"dash\":\"dash\",\"shape\":\"hv\",\"width\":2},\"mode\":\"lines\",\"name\":\"Metric\",\"showlegend\":false,\"x\":[\"2006-12-01T00:00:00\",\"2007-01-01T00:00:00\",\"2007-02-01T00:00:00\",\"2007-03-01T00:00:00\",\"2007-04-01T00:00:00\",\"2007-05-01T00:00:00\",\"2007-06-01T00:00:00\",\"2007-07-01T00:00:00\",\"2007-08-01T00:00:00\",\"2007-09-01T00:00:00\",\"2007-10-01T00:00:00\",\"2007-11-01T00:00:00\",\"2007-12-01T00:00:00\",\"2008-01-01T00:00:00\",\"2008-02-01T00:00:00\",\"2008-03-01T00:00:00\",\"2008-04-01T00:00:00\",\"2008-05-01T00:00:00\",\"2008-06-01T00:00:00\",\"2008-07-01T00:00:00\",\"2008-08-01T00:00:00\",\"2008-09-01T00:00:00\",\"2008-10-01T00:00:00\",\"2008-11-01T00:00:00\",\"2008-12-01T00:00:00\",\"2009-01-01T00:00:00\",\"2009-02-01T00:00:00\",\"2009-03-01T00:00:00\",\"2009-04-01T00:00:00\",\"2009-05-01T00:00:00\",\"2009-06-01T00:00:00\",\"2009-07-01T00:00:00\",\"2009-08-01T00:00:00\",\"2009-09-01T00:00:00\",\"2009-10-01T00:00:00\",\"2009-11-01T00:00:00\",\"2009-12-01T00:00:00\",\"2010-01-01T00:00:00\",\"2010-02-01T00:00:00\",\"2010-03-01T00:00:00\",\"2010-04-01T00:00:00\",\"2010-05-01T00:00:00\",\"2010-06-01T00:00:00\",\"2010-07-01T00:00:00\",\"2010-08-01T00:00:00\",\"2010-09-01T00:00:00\",\"2010-10-01T00:00:00\",\"2010-11-01T00:00:00\",\"2010-12-01T00:00:00\",\"2010-12-31T23:59:59.999999999\"],\"y\":[0.25585174908990344,0.19997972836847258,0.18304955592607847,0.1802315553474513,0.16443549920575457,0.17250662486643312,0.14561799659350189,0.15566947398552794,0.1499618281768685,0.15664226918651467,0.17668357051797282,0.18887499016861337,0.19324703044352523,0.18255270457810213,0.1745923543703072,0.16953141879710093,0.1648954916011152,0.15389414550662486,0.15226346276662447,0.14746562875768224,0.11549240746609052,0.15768682659705766,0.17335085268922137,0.18992455093336713,0.18251507489665927,0.18429086735202477,0.17204184753333282,0.16675794383283257,0.16390149826704548,0.15549705261295094,0.1425417928652887,0.1343464375829726,0.13629213120392422,0.15089773486634392,0.17258336412961445,0.1697127935588115,0.17247250385751156,0.17366727460813347,0.16602233660784999,0.16065441618083967,0.15849158932552282,0.15493112264904665,0.1441755088194077,0.1443612708464043,0.14476541331365303,0.15384404217908643,0.16836874533932655,0.17090711944656914,0.15354794801504792,0.15354794801504792],\"type\":\"scatter\",\"xaxis\":\"x\",\"yaxis\":\"y\"},{\"customdata\":[[\"Estimated \\u003cb\\u003eMAE\\u003c\\u002fb\\u003e\",\"\\u003cb style=\\\"color:#3b0280;line-height:60px\\\"\\u003eAnalysis\\u003c\\u002fb\\u003e\",\"\\u003cspan style=\\\"color:#AD0000\\\"\\u003e\\u26a0 \\u003cb\\u003eDrift detected\\u003c\\u002fb\\u003e\\u003c\\u002fspan\\u003e\",\"2006-12\",\"From \\u003cb\\u003eDec-01-2006\\u003c\\u002fb\\u003e to \\u003cb\\u003eDec-31-2006\\u003c\\u002fb\\u003e\",0.2559,0.0066],[\"Estimated \\u003cb\\u003eMAE\\u003c\\u002fb\\u003e\",\"\\u003cb style=\\\"color:#3b0280;line-height:60px\\\"\\u003eAnalysis\\u003c\\u002fb\\u003e\",\"\",\"2007-01\",\"From \\u003cb\\u003eJan-01-2007\\u003c\\u002fb\\u003e to \\u003cb\\u003eJan-31-2007\\u003c\\u002fb\\u003e\",0.2,0.0045],[\"Estimated \\u003cb\\u003eMAE\\u003c\\u002fb\\u003e\",\"\\u003cb style=\\\"color:#3b0280;line-height:60px\\\"\\u003eAnalysis\\u003c\\u002fb\\u003e\",\"\",\"2007-02\",\"From \\u003cb\\u003eFeb-01-2007\\u003c\\u002fb\\u003e to \\u003cb\\u003eFeb-28-2007\\u003c\\u002fb\\u003e\",0.183,0.0047],[\"Estimated \\u003cb\\u003eMAE\\u003c\\u002fb\\u003e\",\"\\u003cb style=\\\"color:#3b0280;line-height:60px\\\"\\u003eAnalysis\\u003c\\u002fb\\u003e\",\"\",\"2007-03\",\"From \\u003cb\\u003eMar-01-2007\\u003c\\u002fb\\u003e to \\u003cb\\u003eMar-31-2007\\u003c\\u002fb\\u003e\",0.1802,0.0045],[\"Estimated \\u003cb\\u003eMAE\\u003c\\u002fb\\u003e\",\"\\u003cb style=\\\"color:#3b0280;line-height:60px\\\"\\u003eAnalysis\\u003c\\u002fb\\u003e\",\"\",\"2007-04\",\"From \\u003cb\\u003eApr-01-2007\\u003c\\u002fb\\u003e to \\u003cb\\u003eApr-30-2007\\u003c\\u002fb\\u003e\",0.1644,0.0048],[\"Estimated \\u003cb\\u003eMAE\\u003c\\u002fb\\u003e\",\"\\u003cb style=\\\"color:#3b0280;line-height:60px\\\"\\u003eAnalysis\\u003c\\u002fb\\u003e\",\"\",\"2007-05\",\"From \\u003cb\\u003eMay-01-2007\\u003c\\u002fb\\u003e to \\u003cb\\u003eMay-31-2007\\u003c\\u002fb\\u003e\",0.1725,0.0045],[\"Estimated \\u003cb\\u003eMAE\\u003c\\u002fb\\u003e\",\"\\u003cb style=\\\"color:#3b0280;line-height:60px\\\"\\u003eAnalysis\\u003c\\u002fb\\u003e\",\"\",\"2007-06\",\"From \\u003cb\\u003eJun-01-2007\\u003c\\u002fb\\u003e to \\u003cb\\u003eJun-30-2007\\u003c\\u002fb\\u003e\",0.1456,0.0046],[\"Estimated \\u003cb\\u003eMAE\\u003c\\u002fb\\u003e\",\"\\u003cb style=\\\"color:#3b0280;line-height:60px\\\"\\u003eAnalysis\\u003c\\u002fb\\u003e\",\"\",\"2007-07\",\"From \\u003cb\\u003eJul-01-2007\\u003c\\u002fb\\u003e to \\u003cb\\u003eJul-31-2007\\u003c\\u002fb\\u003e\",0.1557,0.0045],[\"Estimated \\u003cb\\u003eMAE\\u003c\\u002fb\\u003e\",\"\\u003cb style=\\\"color:#3b0280;line-height:60px\\\"\\u003eAnalysis\\u003c\\u002fb\\u003e\",\"\",\"2007-08\",\"From \\u003cb\\u003eAug-01-2007\\u003c\\u002fb\\u003e to \\u003cb\\u003eAug-31-2007\\u003c\\u002fb\\u003e\",0.15,0.0045],[\"Estimated \\u003cb\\u003eMAE\\u003c\\u002fb\\u003e\",\"\\u003cb style=\\\"color:#3b0280;line-height:60px\\\"\\u003eAnalysis\\u003c\\u002fb\\u003e\",\"\",\"2007-09\",\"From \\u003cb\\u003eSep-01-2007\\u003c\\u002fb\\u003e to \\u003cb\\u003eSep-30-2007\\u003c\\u002fb\\u003e\",0.1566,0.0047],[\"Estimated \\u003cb\\u003eMAE\\u003c\\u002fb\\u003e\",\"\\u003cb style=\\\"color:#3b0280;line-height:60px\\\"\\u003eAnalysis\\u003c\\u002fb\\u003e\",\"\",\"2007-10\",\"From \\u003cb\\u003eOct-01-2007\\u003c\\u002fb\\u003e to \\u003cb\\u003eOct-31-2007\\u003c\\u002fb\\u003e\",0.1767,0.0045],[\"Estimated \\u003cb\\u003eMAE\\u003c\\u002fb\\u003e\",\"\\u003cb style=\\\"color:#3b0280;line-height:60px\\\"\\u003eAnalysis\\u003c\\u002fb\\u003e\",\"\",\"2007-11\",\"From \\u003cb\\u003eNov-01-2007\\u003c\\u002fb\\u003e to \\u003cb\\u003eNov-30-2007\\u003c\\u002fb\\u003e\",0.1889,0.0046],[\"Estimated \\u003cb\\u003eMAE\\u003c\\u002fb\\u003e\",\"\\u003cb style=\\\"color:#3b0280;line-height:60px\\\"\\u003eAnalysis\\u003c\\u002fb\\u003e\",\"\",\"2007-12\",\"From \\u003cb\\u003eDec-01-2007\\u003c\\u002fb\\u003e to \\u003cb\\u003eDec-31-2007\\u003c\\u002fb\\u003e\",0.1932,0.0046],[\"Estimated \\u003cb\\u003eMAE\\u003c\\u002fb\\u003e\",\"\\u003cb style=\\\"color:#3b0280;line-height:60px\\\"\\u003eAnalysis\\u003c\\u002fb\\u003e\",\"\",\"2008-01\",\"From \\u003cb\\u003eJan-01-2008\\u003c\\u002fb\\u003e to \\u003cb\\u003eJan-31-2008\\u003c\\u002fb\\u003e\",0.1826,0.0045],[\"Estimated \\u003cb\\u003eMAE\\u003c\\u002fb\\u003e\",\"\\u003cb style=\\\"color:#3b0280;line-height:60px\\\"\\u003eAnalysis\\u003c\\u002fb\\u003e\",\"\",\"2008-02\",\"From \\u003cb\\u003eFeb-01-2008\\u003c\\u002fb\\u003e to \\u003cb\\u003eFeb-29-2008\\u003c\\u002fb\\u003e\",0.1746,0.0047],[\"Estimated \\u003cb\\u003eMAE\\u003c\\u002fb\\u003e\",\"\\u003cb style=\\\"color:#3b0280;line-height:60px\\\"\\u003eAnalysis\\u003c\\u002fb\\u003e\",\"\",\"2008-03\",\"From \\u003cb\\u003eMar-01-2008\\u003c\\u002fb\\u003e to \\u003cb\\u003eMar-31-2008\\u003c\\u002fb\\u003e\",0.1695,0.0046],[\"Estimated \\u003cb\\u003eMAE\\u003c\\u002fb\\u003e\",\"\\u003cb style=\\\"color:#3b0280;line-height:60px\\\"\\u003eAnalysis\\u003c\\u002fb\\u003e\",\"\",\"2008-04\",\"From \\u003cb\\u003eApr-01-2008\\u003c\\u002fb\\u003e to \\u003cb\\u003eApr-30-2008\\u003c\\u002fb\\u003e\",0.1649,0.0047],[\"Estimated \\u003cb\\u003eMAE\\u003c\\u002fb\\u003e\",\"\\u003cb style=\\\"color:#3b0280;line-height:60px\\\"\\u003eAnalysis\\u003c\\u002fb\\u003e\",\"\",\"2008-05\",\"From \\u003cb\\u003eMay-01-2008\\u003c\\u002fb\\u003e to \\u003cb\\u003eMay-31-2008\\u003c\\u002fb\\u003e\",0.1539,0.0044],[\"Estimated \\u003cb\\u003eMAE\\u003c\\u002fb\\u003e\",\"\\u003cb style=\\\"color:#3b0280;line-height:60px\\\"\\u003eAnalysis\\u003c\\u002fb\\u003e\",\"\",\"2008-06\",\"From \\u003cb\\u003eJun-01-2008\\u003c\\u002fb\\u003e to \\u003cb\\u003eJun-30-2008\\u003c\\u002fb\\u003e\",0.1523,0.0046],[\"Estimated \\u003cb\\u003eMAE\\u003c\\u002fb\\u003e\",\"\\u003cb style=\\\"color:#3b0280;line-height:60px\\\"\\u003eAnalysis\\u003c\\u002fb\\u003e\",\"\",\"2008-07\",\"From \\u003cb\\u003eJul-01-2008\\u003c\\u002fb\\u003e to \\u003cb\\u003eJul-31-2008\\u003c\\u002fb\\u003e\",0.1475,0.0045],[\"Estimated \\u003cb\\u003eMAE\\u003c\\u002fb\\u003e\",\"\\u003cb style=\\\"color:#3b0280;line-height:60px\\\"\\u003eAnalysis\\u003c\\u002fb\\u003e\",\"\",\"2008-08\",\"From \\u003cb\\u003eAug-01-2008\\u003c\\u002fb\\u003e to \\u003cb\\u003eAug-31-2008\\u003c\\u002fb\\u003e\",0.1155,0.0046],[\"Estimated \\u003cb\\u003eMAE\\u003c\\u002fb\\u003e\",\"\\u003cb style=\\\"color:#3b0280;line-height:60px\\\"\\u003eAnalysis\\u003c\\u002fb\\u003e\",\"\",\"2008-09\",\"From \\u003cb\\u003eSep-01-2008\\u003c\\u002fb\\u003e to \\u003cb\\u003eSep-30-2008\\u003c\\u002fb\\u003e\",0.1577,0.0046],[\"Estimated \\u003cb\\u003eMAE\\u003c\\u002fb\\u003e\",\"\\u003cb style=\\\"color:#3b0280;line-height:60px\\\"\\u003eAnalysis\\u003c\\u002fb\\u003e\",\"\",\"2008-10\",\"From \\u003cb\\u003eOct-01-2008\\u003c\\u002fb\\u003e to \\u003cb\\u003eOct-31-2008\\u003c\\u002fb\\u003e\",0.1734,0.0046],[\"Estimated \\u003cb\\u003eMAE\\u003c\\u002fb\\u003e\",\"\\u003cb style=\\\"color:#3b0280;line-height:60px\\\"\\u003eAnalysis\\u003c\\u002fb\\u003e\",\"\",\"2008-11\",\"From \\u003cb\\u003eNov-01-2008\\u003c\\u002fb\\u003e to \\u003cb\\u003eNov-30-2008\\u003c\\u002fb\\u003e\",0.1899,0.0045],[\"Estimated \\u003cb\\u003eMAE\\u003c\\u002fb\\u003e\",\"\\u003cb style=\\\"color:#3b0280;line-height:60px\\\"\\u003eAnalysis\\u003c\\u002fb\\u003e\",\"\",\"2008-12\",\"From \\u003cb\\u003eDec-01-2008\\u003c\\u002fb\\u003e to \\u003cb\\u003eDec-31-2008\\u003c\\u002fb\\u003e\",0.1825,0.0045],[\"Estimated \\u003cb\\u003eMAE\\u003c\\u002fb\\u003e\",\"\\u003cb style=\\\"color:#3b0280;line-height:60px\\\"\\u003eAnalysis\\u003c\\u002fb\\u003e\",\"\",\"2009-01\",\"From \\u003cb\\u003eJan-01-2009\\u003c\\u002fb\\u003e to \\u003cb\\u003eJan-31-2009\\u003c\\u002fb\\u003e\",0.1843,0.0045],[\"Estimated \\u003cb\\u003eMAE\\u003c\\u002fb\\u003e\",\"\\u003cb style=\\\"color:#3b0280;line-height:60px\\\"\\u003eAnalysis\\u003c\\u002fb\\u003e\",\"\",\"2009-02\",\"From \\u003cb\\u003eFeb-01-2009\\u003c\\u002fb\\u003e to \\u003cb\\u003eFeb-28-2009\\u003c\\u002fb\\u003e\",0.172,0.0048],[\"Estimated \\u003cb\\u003eMAE\\u003c\\u002fb\\u003e\",\"\\u003cb style=\\\"color:#3b0280;line-height:60px\\\"\\u003eAnalysis\\u003c\\u002fb\\u003e\",\"\",\"2009-03\",\"From \\u003cb\\u003eMar-01-2009\\u003c\\u002fb\\u003e to \\u003cb\\u003eMar-31-2009\\u003c\\u002fb\\u003e\",0.1668,0.0045],[\"Estimated \\u003cb\\u003eMAE\\u003c\\u002fb\\u003e\",\"\\u003cb style=\\\"color:#3b0280;line-height:60px\\\"\\u003eAnalysis\\u003c\\u002fb\\u003e\",\"\",\"2009-04\",\"From \\u003cb\\u003eApr-01-2009\\u003c\\u002fb\\u003e to \\u003cb\\u003eApr-30-2009\\u003c\\u002fb\\u003e\",0.1639,0.0046],[\"Estimated \\u003cb\\u003eMAE\\u003c\\u002fb\\u003e\",\"\\u003cb style=\\\"color:#3b0280;line-height:60px\\\"\\u003eAnalysis\\u003c\\u002fb\\u003e\",\"\",\"2009-05\",\"From \\u003cb\\u003eMay-01-2009\\u003c\\u002fb\\u003e to \\u003cb\\u003eMay-31-2009\\u003c\\u002fb\\u003e\",0.1555,0.0045],[\"Estimated \\u003cb\\u003eMAE\\u003c\\u002fb\\u003e\",\"\\u003cb style=\\\"color:#3b0280;line-height:60px\\\"\\u003eAnalysis\\u003c\\u002fb\\u003e\",\"\",\"2009-06\",\"From \\u003cb\\u003eJun-01-2009\\u003c\\u002fb\\u003e to \\u003cb\\u003eJun-30-2009\\u003c\\u002fb\\u003e\",0.1425,0.0048],[\"Estimated \\u003cb\\u003eMAE\\u003c\\u002fb\\u003e\",\"\\u003cb style=\\\"color:#3b0280;line-height:60px\\\"\\u003eAnalysis\\u003c\\u002fb\\u003e\",\"\",\"2009-07\",\"From \\u003cb\\u003eJul-01-2009\\u003c\\u002fb\\u003e to \\u003cb\\u003eJul-31-2009\\u003c\\u002fb\\u003e\",0.1343,0.0045],[\"Estimated \\u003cb\\u003eMAE\\u003c\\u002fb\\u003e\",\"\\u003cb style=\\\"color:#3b0280;line-height:60px\\\"\\u003eAnalysis\\u003c\\u002fb\\u003e\",\"\",\"2009-08\",\"From \\u003cb\\u003eAug-01-2009\\u003c\\u002fb\\u003e to \\u003cb\\u003eAug-31-2009\\u003c\\u002fb\\u003e\",0.1363,0.0046],[\"Estimated \\u003cb\\u003eMAE\\u003c\\u002fb\\u003e\",\"\\u003cb style=\\\"color:#3b0280;line-height:60px\\\"\\u003eAnalysis\\u003c\\u002fb\\u003e\",\"\",\"2009-09\",\"From \\u003cb\\u003eSep-01-2009\\u003c\\u002fb\\u003e to \\u003cb\\u003eSep-30-2009\\u003c\\u002fb\\u003e\",0.1509,0.0046],[\"Estimated \\u003cb\\u003eMAE\\u003c\\u002fb\\u003e\",\"\\u003cb style=\\\"color:#3b0280;line-height:60px\\\"\\u003eAnalysis\\u003c\\u002fb\\u003e\",\"\",\"2009-10\",\"From \\u003cb\\u003eOct-01-2009\\u003c\\u002fb\\u003e to \\u003cb\\u003eOct-31-2009\\u003c\\u002fb\\u003e\",0.1726,0.0045],[\"Estimated \\u003cb\\u003eMAE\\u003c\\u002fb\\u003e\",\"\\u003cb style=\\\"color:#3b0280;line-height:60px\\\"\\u003eAnalysis\\u003c\\u002fb\\u003e\",\"\",\"2009-11\",\"From \\u003cb\\u003eNov-01-2009\\u003c\\u002fb\\u003e to \\u003cb\\u003eNov-30-2009\\u003c\\u002fb\\u003e\",0.1697,0.0046],[\"Estimated \\u003cb\\u003eMAE\\u003c\\u002fb\\u003e\",\"\\u003cb style=\\\"color:#3b0280;line-height:60px\\\"\\u003eAnalysis\\u003c\\u002fb\\u003e\",\"\",\"2009-12\",\"From \\u003cb\\u003eDec-01-2009\\u003c\\u002fb\\u003e to \\u003cb\\u003eDec-31-2009\\u003c\\u002fb\\u003e\",0.1725,0.0045],[\"Estimated \\u003cb\\u003eMAE\\u003c\\u002fb\\u003e\",\"\\u003cb style=\\\"color:#3b0280;line-height:60px\\\"\\u003eAnalysis\\u003c\\u002fb\\u003e\",\"\",\"2010-01\",\"From \\u003cb\\u003eJan-01-2010\\u003c\\u002fb\\u003e to \\u003cb\\u003eJan-31-2010\\u003c\\u002fb\\u003e\",0.1737,0.0047],[\"Estimated \\u003cb\\u003eMAE\\u003c\\u002fb\\u003e\",\"\\u003cb style=\\\"color:#3b0280;line-height:60px\\\"\\u003eAnalysis\\u003c\\u002fb\\u003e\",\"\",\"2010-02\",\"From \\u003cb\\u003eFeb-01-2010\\u003c\\u002fb\\u003e to \\u003cb\\u003eFeb-28-2010\\u003c\\u002fb\\u003e\",0.166,0.0049],[\"Estimated \\u003cb\\u003eMAE\\u003c\\u002fb\\u003e\",\"\\u003cb style=\\\"color:#3b0280;line-height:60px\\\"\\u003eAnalysis\\u003c\\u002fb\\u003e\",\"\",\"2010-03\",\"From \\u003cb\\u003eMar-01-2010\\u003c\\u002fb\\u003e to \\u003cb\\u003eMar-31-2010\\u003c\\u002fb\\u003e\",0.1607,0.0047],[\"Estimated \\u003cb\\u003eMAE\\u003c\\u002fb\\u003e\",\"\\u003cb style=\\\"color:#3b0280;line-height:60px\\\"\\u003eAnalysis\\u003c\\u002fb\\u003e\",\"\",\"2010-04\",\"From \\u003cb\\u003eApr-01-2010\\u003c\\u002fb\\u003e to \\u003cb\\u003eApr-30-2010\\u003c\\u002fb\\u003e\",0.1585,0.0047],[\"Estimated \\u003cb\\u003eMAE\\u003c\\u002fb\\u003e\",\"\\u003cb style=\\\"color:#3b0280;line-height:60px\\\"\\u003eAnalysis\\u003c\\u002fb\\u003e\",\"\",\"2010-05\",\"From \\u003cb\\u003eMay-01-2010\\u003c\\u002fb\\u003e to \\u003cb\\u003eMay-31-2010\\u003c\\u002fb\\u003e\",0.1549,0.0046],[\"Estimated \\u003cb\\u003eMAE\\u003c\\u002fb\\u003e\",\"\\u003cb style=\\\"color:#3b0280;line-height:60px\\\"\\u003eAnalysis\\u003c\\u002fb\\u003e\",\"\",\"2010-06\",\"From \\u003cb\\u003eJun-01-2010\\u003c\\u002fb\\u003e to \\u003cb\\u003eJun-30-2010\\u003c\\u002fb\\u003e\",0.1442,0.0046],[\"Estimated \\u003cb\\u003eMAE\\u003c\\u002fb\\u003e\",\"\\u003cb style=\\\"color:#3b0280;line-height:60px\\\"\\u003eAnalysis\\u003c\\u002fb\\u003e\",\"\",\"2010-07\",\"From \\u003cb\\u003eJul-01-2010\\u003c\\u002fb\\u003e to \\u003cb\\u003eJul-31-2010\\u003c\\u002fb\\u003e\",0.1444,0.0046],[\"Estimated \\u003cb\\u003eMAE\\u003c\\u002fb\\u003e\",\"\\u003cb style=\\\"color:#3b0280;line-height:60px\\\"\\u003eAnalysis\\u003c\\u002fb\\u003e\",\"\",\"2010-08\",\"From \\u003cb\\u003eAug-01-2010\\u003c\\u002fb\\u003e to \\u003cb\\u003eAug-31-2010\\u003c\\u002fb\\u003e\",0.1448,0.005],[\"Estimated \\u003cb\\u003eMAE\\u003c\\u002fb\\u003e\",\"\\u003cb style=\\\"color:#3b0280;line-height:60px\\\"\\u003eAnalysis\\u003c\\u002fb\\u003e\",\"\",\"2010-09\",\"From \\u003cb\\u003eSep-01-2010\\u003c\\u002fb\\u003e to \\u003cb\\u003eSep-30-2010\\u003c\\u002fb\\u003e\",0.1538,0.0051],[\"Estimated \\u003cb\\u003eMAE\\u003c\\u002fb\\u003e\",\"\\u003cb style=\\\"color:#3b0280;line-height:60px\\\"\\u003eAnalysis\\u003c\\u002fb\\u003e\",\"\",\"2010-10\",\"From \\u003cb\\u003eOct-01-2010\\u003c\\u002fb\\u003e to \\u003cb\\u003eOct-31-2010\\u003c\\u002fb\\u003e\",0.1684,0.0046],[\"Estimated \\u003cb\\u003eMAE\\u003c\\u002fb\\u003e\",\"\\u003cb style=\\\"color:#3b0280;line-height:60px\\\"\\u003eAnalysis\\u003c\\u002fb\\u003e\",\"\",\"2010-11\",\"From \\u003cb\\u003eNov-01-2010\\u003c\\u002fb\\u003e to \\u003cb\\u003eNov-30-2010\\u003c\\u002fb\\u003e\",0.1709,0.0051],[\"Estimated \\u003cb\\u003eMAE\\u003c\\u002fb\\u003e\",\"\\u003cb style=\\\"color:#3b0280;line-height:60px\\\"\\u003eAnalysis\\u003c\\u002fb\\u003e\",\"\",\"2010-12\",\"From \\u003cb\\u003eDec-01-2010\\u003c\\u002fb\\u003e to \\u003cb\\u003eDec-31-2010\\u003c\\u002fb\\u003e\",0.1535,0.0079]],\"hovertemplate\":\"%{customdata[1]} &nbsp; &nbsp; %{customdata[2]} \\u003cbr \\u002f\\u003eChunk: \\u003cb\\u003e%{customdata[3]}\\u003c\\u002fb\\u003e &nbsp; &nbsp; %{customdata[4]} \\u003cbr \\u002f\\u003e%{customdata[0]}: \\u003cb\\u003e%{customdata[5]}\\u003c\\u002fb\\u003e\\u003cbr \\u002f\\u003eConfidence band: +\\u002f- \\u003cb\\u003e%{customdata[6]}\\u003c\\u002fb\\u003e\\u003cbr \\u002f\\u003e\\u003cextra\\u003e\\u003c\\u002fextra\\u003e\",\"legendgroup\":\"metric_analysis\",\"line\":{\"dash\":\"dash\"},\"marker\":{\"color\":\"#3b0280\",\"size\":5,\"symbol\":\"circle\"},\"mode\":\"markers\",\"name\":\"Metric\",\"showlegend\":false,\"x\":[\"2006-12-16T12:00:00\",\"2007-01-16T12:00:00\",\"2007-02-15T00:00:00\",\"2007-03-16T12:00:00\",\"2007-04-16T00:00:00\",\"2007-05-16T12:00:00\",\"2007-06-16T00:00:00\",\"2007-07-16T12:00:00\",\"2007-08-16T12:00:00\",\"2007-09-16T00:00:00\",\"2007-10-16T12:00:00\",\"2007-11-16T00:00:00\",\"2007-12-16T12:00:00\",\"2008-01-16T12:00:00\",\"2008-02-15T12:00:00\",\"2008-03-16T12:00:00\",\"2008-04-16T00:00:00\",\"2008-05-16T12:00:00\",\"2008-06-16T00:00:00\",\"2008-07-16T12:00:00\",\"2008-08-16T12:00:00\",\"2008-09-16T00:00:00\",\"2008-10-16T12:00:00\",\"2008-11-16T00:00:00\",\"2008-12-16T12:00:00\",\"2009-01-16T12:00:00\",\"2009-02-15T00:00:00\",\"2009-03-16T12:00:00\",\"2009-04-16T00:00:00\",\"2009-05-16T12:00:00\",\"2009-06-16T00:00:00\",\"2009-07-16T12:00:00\",\"2009-08-16T12:00:00\",\"2009-09-16T00:00:00\",\"2009-10-16T12:00:00\",\"2009-11-16T00:00:00\",\"2009-12-16T12:00:00\",\"2010-01-16T12:00:00\",\"2010-02-15T00:00:00\",\"2010-03-16T12:00:00\",\"2010-04-16T00:00:00\",\"2010-05-16T12:00:00\",\"2010-06-16T00:00:00\",\"2010-07-16T12:00:00\",\"2010-08-16T12:00:00\",\"2010-09-16T00:00:00\",\"2010-10-16T12:00:00\",\"2010-11-16T00:00:00\",\"2010-12-16T11:59:59.999999999\"],\"y\":[0.25585174908990344,0.19997972836847258,0.18304955592607847,0.1802315553474513,0.16443549920575457,0.17250662486643312,0.14561799659350189,0.15566947398552794,0.1499618281768685,0.15664226918651467,0.17668357051797282,0.18887499016861337,0.19324703044352523,0.18255270457810213,0.1745923543703072,0.16953141879710093,0.1648954916011152,0.15389414550662486,0.15226346276662447,0.14746562875768224,0.11549240746609052,0.15768682659705766,0.17335085268922137,0.18992455093336713,0.18251507489665927,0.18429086735202477,0.17204184753333282,0.16675794383283257,0.16390149826704548,0.15549705261295094,0.1425417928652887,0.1343464375829726,0.13629213120392422,0.15089773486634392,0.17258336412961445,0.1697127935588115,0.17247250385751156,0.17366727460813347,0.16602233660784999,0.16065441618083967,0.15849158932552282,0.15493112264904665,0.1441755088194077,0.1443612708464043,0.14476541331365303,0.15384404217908643,0.16836874533932655,0.17090711944656914,0.15354794801504792,0.15354794801504792],\"type\":\"scatter\",\"xaxis\":\"x\",\"yaxis\":\"y\"},{\"hoverinfo\":\"skip\",\"legendgroup\":\"alert\",\"marker\":{\"color\":\"#DD4040\",\"size\":8,\"symbol\":\"diamond\"},\"mode\":\"markers\",\"name\":\"Alert\",\"showlegend\":true,\"x\":[\"2006-12-16T12:00:00\"],\"y\":[0.25585174908990344],\"type\":\"scatter\",\"xaxis\":\"x\",\"yaxis\":\"y\"},{\"hoverinfo\":\"skip\",\"legendgroup\":\"thresh\",\"line\":{\"color\":\"#DD4040\",\"dash\":\"dash\",\"width\":2},\"mode\":\"lines\",\"name\":\"Threshold\",\"showlegend\":true,\"x\":[\"2006-12-01T00:00:00\",\"2007-01-01T00:00:00\",\"2007-02-01T00:00:00\",\"2007-03-01T00:00:00\",\"2007-04-01T00:00:00\",\"2007-05-01T00:00:00\",\"2007-06-01T00:00:00\",\"2007-07-01T00:00:00\",\"2007-08-01T00:00:00\",\"2007-09-01T00:00:00\",\"2007-10-01T00:00:00\",\"2007-11-01T00:00:00\",\"2007-12-01T00:00:00\",\"2008-01-01T00:00:00\",\"2008-02-01T00:00:00\",\"2008-03-01T00:00:00\",\"2008-04-01T00:00:00\",\"2008-05-01T00:00:00\",\"2008-06-01T00:00:00\",\"2008-07-01T00:00:00\",\"2008-08-01T00:00:00\",\"2008-09-01T00:00:00\",\"2008-10-01T00:00:00\",\"2008-11-01T00:00:00\",\"2008-12-01T00:00:00\",\"2009-01-01T00:00:00\",\"2009-02-01T00:00:00\",\"2009-03-01T00:00:00\",\"2009-04-01T00:00:00\",\"2009-05-01T00:00:00\",\"2009-06-01T00:00:00\",\"2009-07-01T00:00:00\",\"2009-08-01T00:00:00\",\"2009-09-01T00:00:00\",\"2009-10-01T00:00:00\",\"2009-11-01T00:00:00\",\"2009-12-01T00:00:00\",\"2010-01-01T00:00:00\",\"2010-02-01T00:00:00\",\"2010-03-01T00:00:00\",\"2010-04-01T00:00:00\",\"2010-05-01T00:00:00\",\"2010-06-01T00:00:00\",\"2010-07-01T00:00:00\",\"2010-08-01T00:00:00\",\"2010-09-01T00:00:00\",\"2010-10-01T00:00:00\",\"2010-11-01T00:00:00\",\"2010-12-01T00:00:00\",\"2010-12-31T23:59:59.999999999\"],\"y\":[0.2289034333912522,0.2289034333912522,0.2289034333912522,0.2289034333912522,0.2289034333912522,0.2289034333912522,0.2289034333912522,0.2289034333912522,0.2289034333912522,0.2289034333912522,0.2289034333912522,0.2289034333912522,0.2289034333912522,0.2289034333912522,0.2289034333912522,0.2289034333912522,0.2289034333912522,0.2289034333912522,0.2289034333912522,0.2289034333912522,0.2289034333912522,0.2289034333912522,0.2289034333912522,0.2289034333912522,0.2289034333912522,0.2289034333912522,0.2289034333912522,0.2289034333912522,0.2289034333912522,0.2289034333912522,0.2289034333912522,0.2289034333912522,0.2289034333912522,0.2289034333912522,0.2289034333912522,0.2289034333912522,0.2289034333912522,0.2289034333912522,0.2289034333912522,0.2289034333912522,0.2289034333912522,0.2289034333912522,0.2289034333912522,0.2289034333912522,0.2289034333912522,0.2289034333912522,0.2289034333912522,0.2289034333912522,0.2289034333912522,0.2289034333912522],\"type\":\"scatter\",\"xaxis\":\"x\",\"yaxis\":\"y\"},{\"hoverinfo\":\"skip\",\"legendgroup\":\"thresh\",\"line\":{\"color\":\"#DD4040\",\"dash\":\"dash\",\"width\":2},\"mode\":\"lines\",\"name\":\"Threshold\",\"showlegend\":false,\"x\":[\"2006-12-01T00:00:00\",\"2007-01-01T00:00:00\",\"2007-02-01T00:00:00\",\"2007-03-01T00:00:00\",\"2007-04-01T00:00:00\",\"2007-05-01T00:00:00\",\"2007-06-01T00:00:00\",\"2007-07-01T00:00:00\",\"2007-08-01T00:00:00\",\"2007-09-01T00:00:00\",\"2007-10-01T00:00:00\",\"2007-11-01T00:00:00\",\"2007-12-01T00:00:00\",\"2008-01-01T00:00:00\",\"2008-02-01T00:00:00\",\"2008-03-01T00:00:00\",\"2008-04-01T00:00:00\",\"2008-05-01T00:00:00\",\"2008-06-01T00:00:00\",\"2008-07-01T00:00:00\",\"2008-08-01T00:00:00\",\"2008-09-01T00:00:00\",\"2008-10-01T00:00:00\",\"2008-11-01T00:00:00\",\"2008-12-01T00:00:00\",\"2009-01-01T00:00:00\",\"2009-02-01T00:00:00\",\"2009-03-01T00:00:00\",\"2009-04-01T00:00:00\",\"2009-05-01T00:00:00\",\"2009-06-01T00:00:00\",\"2009-07-01T00:00:00\",\"2009-08-01T00:00:00\",\"2009-09-01T00:00:00\",\"2009-10-01T00:00:00\",\"2009-11-01T00:00:00\",\"2009-12-01T00:00:00\",\"2010-01-01T00:00:00\",\"2010-02-01T00:00:00\",\"2010-03-01T00:00:00\",\"2010-04-01T00:00:00\",\"2010-05-01T00:00:00\",\"2010-06-01T00:00:00\",\"2010-07-01T00:00:00\",\"2010-08-01T00:00:00\",\"2010-09-01T00:00:00\",\"2010-10-01T00:00:00\",\"2010-11-01T00:00:00\",\"2010-12-01T00:00:00\",\"2010-12-31T23:59:59.999999999\"],\"y\":[0.1015268357313166,0.1015268357313166,0.1015268357313166,0.1015268357313166,0.1015268357313166,0.1015268357313166,0.1015268357313166,0.1015268357313166,0.1015268357313166,0.1015268357313166,0.1015268357313166,0.1015268357313166,0.1015268357313166,0.1015268357313166,0.1015268357313166,0.1015268357313166,0.1015268357313166,0.1015268357313166,0.1015268357313166,0.1015268357313166,0.1015268357313166,0.1015268357313166,0.1015268357313166,0.1015268357313166,0.1015268357313166,0.1015268357313166,0.1015268357313166,0.1015268357313166,0.1015268357313166,0.1015268357313166,0.1015268357313166,0.1015268357313166,0.1015268357313166,0.1015268357313166,0.1015268357313166,0.1015268357313166,0.1015268357313166,0.1015268357313166,0.1015268357313166,0.1015268357313166,0.1015268357313166,0.1015268357313166,0.1015268357313166,0.1015268357313166,0.1015268357313166,0.1015268357313166,0.1015268357313166,0.1015268357313166,0.1015268357313166,0.1015268357313166],\"type\":\"scatter\",\"xaxis\":\"x\",\"yaxis\":\"y\"},{\"hoverinfo\":\"skip\",\"legendgroup\":\"thresh\",\"line\":{\"color\":\"#DD4040\",\"dash\":\"dash\",\"width\":2},\"mode\":\"lines\",\"name\":\"Threshold\",\"showlegend\":false,\"x\":[\"2006-12-01T00:00:00\",\"2007-01-01T00:00:00\",\"2007-02-01T00:00:00\",\"2007-03-01T00:00:00\",\"2007-04-01T00:00:00\",\"2007-05-01T00:00:00\",\"2007-06-01T00:00:00\",\"2007-07-01T00:00:00\",\"2007-08-01T00:00:00\",\"2007-09-01T00:00:00\",\"2007-10-01T00:00:00\",\"2007-11-01T00:00:00\",\"2007-12-01T00:00:00\",\"2008-01-01T00:00:00\",\"2008-02-01T00:00:00\",\"2008-03-01T00:00:00\",\"2008-04-01T00:00:00\",\"2008-05-01T00:00:00\",\"2008-06-01T00:00:00\",\"2008-07-01T00:00:00\",\"2008-08-01T00:00:00\",\"2008-09-01T00:00:00\",\"2008-10-01T00:00:00\",\"2008-11-01T00:00:00\",\"2008-12-01T00:00:00\",\"2009-01-01T00:00:00\",\"2009-02-01T00:00:00\",\"2009-03-01T00:00:00\",\"2009-04-01T00:00:00\",\"2009-05-01T00:00:00\",\"2009-06-01T00:00:00\",\"2009-07-01T00:00:00\",\"2009-08-01T00:00:00\",\"2009-09-01T00:00:00\",\"2009-10-01T00:00:00\",\"2009-11-01T00:00:00\",\"2009-12-01T00:00:00\",\"2010-01-01T00:00:00\",\"2010-02-01T00:00:00\",\"2010-03-01T00:00:00\",\"2010-04-01T00:00:00\",\"2010-05-01T00:00:00\",\"2010-06-01T00:00:00\",\"2010-07-01T00:00:00\",\"2010-08-01T00:00:00\",\"2010-09-01T00:00:00\",\"2010-10-01T00:00:00\",\"2010-11-01T00:00:00\",\"2010-12-01T00:00:00\",\"2010-12-31T23:59:59.999999999\"],\"y\":[0.2289034333912522,0.2289034333912522,0.2289034333912522,0.2289034333912522,0.2289034333912522,0.2289034333912522,0.2289034333912522,0.2289034333912522,0.2289034333912522,0.2289034333912522,0.2289034333912522,0.2289034333912522,0.2289034333912522,0.2289034333912522,0.2289034333912522,0.2289034333912522,0.2289034333912522,0.2289034333912522,0.2289034333912522,0.2289034333912522,0.2289034333912522,0.2289034333912522,0.2289034333912522,0.2289034333912522,0.2289034333912522,0.2289034333912522,0.2289034333912522,0.2289034333912522,0.2289034333912522,0.2289034333912522,0.2289034333912522,0.2289034333912522,0.2289034333912522,0.2289034333912522,0.2289034333912522,0.2289034333912522,0.2289034333912522,0.2289034333912522,0.2289034333912522,0.2289034333912522,0.2289034333912522,0.2289034333912522,0.2289034333912522,0.2289034333912522,0.2289034333912522,0.2289034333912522,0.2289034333912522,0.2289034333912522,0.2289034333912522,0.2289034333912522],\"type\":\"scatter\",\"xaxis\":\"x\",\"yaxis\":\"y\"},{\"hoverinfo\":\"skip\",\"legendgroup\":\"thresh\",\"line\":{\"color\":\"#DD4040\",\"dash\":\"dash\",\"width\":2},\"mode\":\"lines\",\"name\":\"Threshold\",\"showlegend\":false,\"x\":[\"2006-12-01T00:00:00\",\"2007-01-01T00:00:00\",\"2007-02-01T00:00:00\",\"2007-03-01T00:00:00\",\"2007-04-01T00:00:00\",\"2007-05-01T00:00:00\",\"2007-06-01T00:00:00\",\"2007-07-01T00:00:00\",\"2007-08-01T00:00:00\",\"2007-09-01T00:00:00\",\"2007-10-01T00:00:00\",\"2007-11-01T00:00:00\",\"2007-12-01T00:00:00\",\"2008-01-01T00:00:00\",\"2008-02-01T00:00:00\",\"2008-03-01T00:00:00\",\"2008-04-01T00:00:00\",\"2008-05-01T00:00:00\",\"2008-06-01T00:00:00\",\"2008-07-01T00:00:00\",\"2008-08-01T00:00:00\",\"2008-09-01T00:00:00\",\"2008-10-01T00:00:00\",\"2008-11-01T00:00:00\",\"2008-12-01T00:00:00\",\"2009-01-01T00:00:00\",\"2009-02-01T00:00:00\",\"2009-03-01T00:00:00\",\"2009-04-01T00:00:00\",\"2009-05-01T00:00:00\",\"2009-06-01T00:00:00\",\"2009-07-01T00:00:00\",\"2009-08-01T00:00:00\",\"2009-09-01T00:00:00\",\"2009-10-01T00:00:00\",\"2009-11-01T00:00:00\",\"2009-12-01T00:00:00\",\"2010-01-01T00:00:00\",\"2010-02-01T00:00:00\",\"2010-03-01T00:00:00\",\"2010-04-01T00:00:00\",\"2010-05-01T00:00:00\",\"2010-06-01T00:00:00\",\"2010-07-01T00:00:00\",\"2010-08-01T00:00:00\",\"2010-09-01T00:00:00\",\"2010-10-01T00:00:00\",\"2010-11-01T00:00:00\",\"2010-12-01T00:00:00\",\"2010-12-31T23:59:59.999999999\"],\"y\":[0.1015268357313166,0.1015268357313166,0.1015268357313166,0.1015268357313166,0.1015268357313166,0.1015268357313166,0.1015268357313166,0.1015268357313166,0.1015268357313166,0.1015268357313166,0.1015268357313166,0.1015268357313166,0.1015268357313166,0.1015268357313166,0.1015268357313166,0.1015268357313166,0.1015268357313166,0.1015268357313166,0.1015268357313166,0.1015268357313166,0.1015268357313166,0.1015268357313166,0.1015268357313166,0.1015268357313166,0.1015268357313166,0.1015268357313166,0.1015268357313166,0.1015268357313166,0.1015268357313166,0.1015268357313166,0.1015268357313166,0.1015268357313166,0.1015268357313166,0.1015268357313166,0.1015268357313166,0.1015268357313166,0.1015268357313166,0.1015268357313166,0.1015268357313166,0.1015268357313166,0.1015268357313166,0.1015268357313166,0.1015268357313166,0.1015268357313166,0.1015268357313166,0.1015268357313166,0.1015268357313166,0.1015268357313166,0.1015268357313166,0.1015268357313166],\"type\":\"scatter\",\"xaxis\":\"x\",\"yaxis\":\"y\"},{\"hoverinfo\":\"skip\",\"line\":{\"color\":\"rgba(0,0,0,0)\",\"shape\":\"hv\"},\"mode\":\"lines\",\"name\":\"Confidence band\",\"showlegend\":false,\"x\":[\"2006-12-01T00:00:00\",\"2007-01-01T00:00:00\",\"2007-02-01T00:00:00\",\"2007-03-01T00:00:00\",\"2007-04-01T00:00:00\",\"2007-05-01T00:00:00\",\"2007-06-01T00:00:00\",\"2007-07-01T00:00:00\",\"2007-08-01T00:00:00\",\"2007-09-01T00:00:00\",\"2007-10-01T00:00:00\",\"2007-11-01T00:00:00\",\"2007-12-01T00:00:00\",\"2008-01-01T00:00:00\",\"2008-02-01T00:00:00\",\"2008-03-01T00:00:00\",\"2008-04-01T00:00:00\",\"2008-05-01T00:00:00\",\"2008-06-01T00:00:00\",\"2008-07-01T00:00:00\",\"2008-08-01T00:00:00\",\"2008-09-01T00:00:00\",\"2008-10-01T00:00:00\",\"2008-11-01T00:00:00\",\"2008-12-01T00:00:00\",\"2009-01-01T00:00:00\",\"2009-02-01T00:00:00\",\"2009-03-01T00:00:00\",\"2009-04-01T00:00:00\",\"2009-05-01T00:00:00\",\"2009-06-01T00:00:00\",\"2009-07-01T00:00:00\",\"2009-08-01T00:00:00\",\"2009-09-01T00:00:00\",\"2009-10-01T00:00:00\",\"2009-11-01T00:00:00\",\"2009-12-01T00:00:00\",\"2010-01-01T00:00:00\",\"2010-02-01T00:00:00\",\"2010-03-01T00:00:00\",\"2010-04-01T00:00:00\",\"2010-05-01T00:00:00\",\"2010-06-01T00:00:00\",\"2010-07-01T00:00:00\",\"2010-08-01T00:00:00\",\"2010-09-01T00:00:00\",\"2010-10-01T00:00:00\",\"2010-11-01T00:00:00\",\"2010-12-01T00:00:00\",\"2010-12-31T23:59:59.999999999\"],\"y\":[0.26029023480816993,0.19987509409758042,0.1868927256817963,0.18140654559454508,0.1691082069671727,0.1741806621030874,0.15080653398707128,0.16104208265828157,0.15681417242829113,0.16076173879638153,0.17748347872071674,0.19271986350689382,0.19631229019488675,0.19129955369865864,0.1784573562204346,0.17653583844226312,0.1697523827938939,0.1568103591886675,0.15642157486935382,0.15137363434733583,0.11901092690089368,0.16121281021657644,0.17937316637223844,0.19299623300606678,0.18726243817601212,0.18615943400772353,0.17985444904813966,0.1726203028071249,0.16857472662694473,0.1593117182134294,0.14602624458064511,0.13675519052893753,0.14163097135721464,0.15746448752523454,0.17332721775903084,0.17604851764940177,0.175709937038063,0.17690452592222694,0.16849129165558657,0.16592839734055703,0.16356993748082918,0.1595641199237513,0.14961612844846078,0.14975107301542726,0.14811685845207218,0.15678832297623166,0.17487753820366259,0.17453828956333425,0.16337415278727113,0.16337415278727113],\"type\":\"scatter\",\"xaxis\":\"x\",\"yaxis\":\"y\"},{\"fill\":\"tonexty\",\"fillcolor\":\"rgba(0.23137254901960785, 0.00784313725490196, 0.5019607843137255, 0.2)\",\"hoverinfo\":\"skip\",\"line\":{\"color\":\"rgba(0,0,0,0)\",\"shape\":\"hv\"},\"mode\":\"lines\",\"name\":\"Confidence band\",\"showlegend\":true,\"x\":[\"2006-12-01T00:00:00\",\"2007-01-01T00:00:00\",\"2007-02-01T00:00:00\",\"2007-03-01T00:00:00\",\"2007-04-01T00:00:00\",\"2007-05-01T00:00:00\",\"2007-06-01T00:00:00\",\"2007-07-01T00:00:00\",\"2007-08-01T00:00:00\",\"2007-09-01T00:00:00\",\"2007-10-01T00:00:00\",\"2007-11-01T00:00:00\",\"2007-12-01T00:00:00\",\"2008-01-01T00:00:00\",\"2008-02-01T00:00:00\",\"2008-03-01T00:00:00\",\"2008-04-01T00:00:00\",\"2008-05-01T00:00:00\",\"2008-06-01T00:00:00\",\"2008-07-01T00:00:00\",\"2008-08-01T00:00:00\",\"2008-09-01T00:00:00\",\"2008-10-01T00:00:00\",\"2008-11-01T00:00:00\",\"2008-12-01T00:00:00\",\"2009-01-01T00:00:00\",\"2009-02-01T00:00:00\",\"2009-03-01T00:00:00\",\"2009-04-01T00:00:00\",\"2009-05-01T00:00:00\",\"2009-06-01T00:00:00\",\"2009-07-01T00:00:00\",\"2009-08-01T00:00:00\",\"2009-09-01T00:00:00\",\"2009-10-01T00:00:00\",\"2009-11-01T00:00:00\",\"2009-12-01T00:00:00\",\"2010-01-01T00:00:00\",\"2010-02-01T00:00:00\",\"2010-03-01T00:00:00\",\"2010-04-01T00:00:00\",\"2010-05-01T00:00:00\",\"2010-06-01T00:00:00\",\"2010-07-01T00:00:00\",\"2010-08-01T00:00:00\",\"2010-09-01T00:00:00\",\"2010-10-01T00:00:00\",\"2010-11-01T00:00:00\",\"2010-12-01T00:00:00\",\"2010-12-31T23:59:59.999999999\"],\"y\":[0.24817077169919907,0.19130054474375113,0.17793717434844533,0.1728079009047476,0.16002305259539282,0.1655878188159675,0.14217577018892286,0.1523299228516008,0.14830696475122065,0.15199982672572168,0.16889160119289037,0.18400770370021305,0.1877635376383401,0.18272500434482936,0.16959756592202876,0.16797564942233334,0.16111181464883997,0.1481961864596937,0.1476360138702011,0.1428248817907892,0.1103457009574503,0.15245499154117417,0.17081774812067785,0.18426285480252713,0.17866959488889222,0.17765222633065306,0.17087253841912722,0.16405342128344882,0.15985147173526182,0.15073620893243742,0.13698191237710428,0.1282329457960722,0.13298450454167388,0.14867376006812325,0.16483496782131454,0.1672784015394253,0.16707525550762106,0.16781365797565945,0.15928621527524112,0.15690538952132704,0.1547761057705023,0.15079400381377484,0.14076479618568072,0.14106995485149157,0.1385720625523379,0.14720356264811432,0.16622910247842637,0.16492119371352684,0.14851261341455946,0.14851261341455946],\"type\":\"scatter\",\"xaxis\":\"x\",\"yaxis\":\"y\"},{\"hoverinfo\":\"skip\",\"line\":{\"color\":\"rgba(0,0,0,0)\",\"shape\":\"hv\"},\"mode\":\"lines\",\"name\":\"Confidence band\",\"showlegend\":false,\"x\":[\"2006-12-01T00:00:00\",\"2007-01-01T00:00:00\",\"2007-02-01T00:00:00\",\"2007-03-01T00:00:00\",\"2007-04-01T00:00:00\",\"2007-05-01T00:00:00\",\"2007-06-01T00:00:00\",\"2007-07-01T00:00:00\",\"2007-08-01T00:00:00\",\"2007-09-01T00:00:00\",\"2007-10-01T00:00:00\",\"2007-11-01T00:00:00\",\"2007-12-01T00:00:00\",\"2008-01-01T00:00:00\",\"2008-02-01T00:00:00\",\"2008-03-01T00:00:00\",\"2008-04-01T00:00:00\",\"2008-05-01T00:00:00\",\"2008-06-01T00:00:00\",\"2008-07-01T00:00:00\",\"2008-08-01T00:00:00\",\"2008-09-01T00:00:00\",\"2008-10-01T00:00:00\",\"2008-11-01T00:00:00\",\"2008-12-01T00:00:00\",\"2009-01-01T00:00:00\",\"2009-02-01T00:00:00\",\"2009-03-01T00:00:00\",\"2009-04-01T00:00:00\",\"2009-05-01T00:00:00\",\"2009-06-01T00:00:00\",\"2009-07-01T00:00:00\",\"2009-08-01T00:00:00\",\"2009-09-01T00:00:00\",\"2009-10-01T00:00:00\",\"2009-11-01T00:00:00\",\"2009-12-01T00:00:00\",\"2010-01-01T00:00:00\",\"2010-02-01T00:00:00\",\"2010-03-01T00:00:00\",\"2010-04-01T00:00:00\",\"2010-05-01T00:00:00\",\"2010-06-01T00:00:00\",\"2010-07-01T00:00:00\",\"2010-08-01T00:00:00\",\"2010-09-01T00:00:00\",\"2010-10-01T00:00:00\",\"2010-11-01T00:00:00\",\"2010-12-01T00:00:00\",\"2010-12-31T23:59:59.999999999\"],\"y\":[0.26243937181369764,0.2044767633742074,0.18779114485895476,0.184698979021491,0.1691855500378913,0.17704066390082557,0.15024386618546307,0.16013526968854216,0.15444672839167187,0.16130535375936167,0.18119005016875184,0.19348169005534535,0.19781203456620103,0.18703321643548004,0.17926348675524165,0.17408200859859194,0.16956166656105526,0.15834107877698403,0.15685476153052064,0.15200706473587022,0.12005915052761018,0.1622716558404914,0.17792457143158114,0.19447284709065926,0.18704741207086,0.18876155231644215,0.1768188856378691,0.17129539234686542,0.16848985294678903,0.16001921871472136,0.14732748442851074,0.13885850078148948,0.14087989774616874,0.15551939063907624,0.1770573175372351,0.1743082235776533,0.17696511482380287,0.1783621724471285,0.17090998008037478,0.1653651484588488,0.16318837887012372,0.15951477855164395,0.14880560377757163,0.14898412939229236,0.14980100911531935,0.1588952619581094,0.17296004410322272,0.1759717345749435,0.16142285245516183,0.16142285245516183],\"type\":\"scatter\",\"xaxis\":\"x\",\"yaxis\":\"y\"},{\"fill\":\"tonexty\",\"fillcolor\":\"rgba(0.23137254901960785, 0.00784313725490196, 0.5019607843137255, 0.2)\",\"hoverinfo\":\"skip\",\"line\":{\"color\":\"rgba(0,0,0,0)\",\"shape\":\"hv\"},\"mode\":\"lines\",\"name\":\"Confidence band\",\"showlegend\":false,\"x\":[\"2006-12-01T00:00:00\",\"2007-01-01T00:00:00\",\"2007-02-01T00:00:00\",\"2007-03-01T00:00:00\",\"2007-04-01T00:00:00\",\"2007-05-01T00:00:00\",\"2007-06-01T00:00:00\",\"2007-07-01T00:00:00\",\"2007-08-01T00:00:00\",\"2007-09-01T00:00:00\",\"2007-10-01T00:00:00\",\"2007-11-01T00:00:00\",\"2007-12-01T00:00:00\",\"2008-01-01T00:00:00\",\"2008-02-01T00:00:00\",\"2008-03-01T00:00:00\",\"2008-04-01T00:00:00\",\"2008-05-01T00:00:00\",\"2008-06-01T00:00:00\",\"2008-07-01T00:00:00\",\"2008-08-01T00:00:00\",\"2008-09-01T00:00:00\",\"2008-10-01T00:00:00\",\"2008-11-01T00:00:00\",\"2008-12-01T00:00:00\",\"2009-01-01T00:00:00\",\"2009-02-01T00:00:00\",\"2009-03-01T00:00:00\",\"2009-04-01T00:00:00\",\"2009-05-01T00:00:00\",\"2009-06-01T00:00:00\",\"2009-07-01T00:00:00\",\"2009-08-01T00:00:00\",\"2009-09-01T00:00:00\",\"2009-10-01T00:00:00\",\"2009-11-01T00:00:00\",\"2009-12-01T00:00:00\",\"2010-01-01T00:00:00\",\"2010-02-01T00:00:00\",\"2010-03-01T00:00:00\",\"2010-04-01T00:00:00\",\"2010-05-01T00:00:00\",\"2010-06-01T00:00:00\",\"2010-07-01T00:00:00\",\"2010-08-01T00:00:00\",\"2010-09-01T00:00:00\",\"2010-10-01T00:00:00\",\"2010-11-01T00:00:00\",\"2010-12-01T00:00:00\",\"2010-12-31T23:59:59.999999999\"],\"y\":[0.24926412636610926,0.19548269336273777,0.17830796699320217,0.17576413167341162,0.15968544837361784,0.16797258583204067,0.1409921270015407,0.15120367828251371,0.14547692796206516,0.15197918461366766,0.1721770908671938,0.18426829028188138,0.18868202632084943,0.17807219272072422,0.16992122198537277,0.16498082899560992,0.16022931664117512,0.1494472122362657,0.1476721640027283,0.14292419277949425,0.11092566440457086,0.1531019973536239,0.1687771339468616,0.185376254776075,0.17798273772245854,0.17982018238760739,0.16726480942879654,0.16222049531879973,0.15931314358730192,0.15097488651118052,0.13775610130206667,0.12983437438445572,0.1317043646616797,0.1462760790936116,0.16810941072199378,0.1651173635399697,0.16797989289122026,0.16897237676913845,0.1611346931353252,0.15594368390283053,0.15379479978092192,0.15034746674644936,0.13954541386124375,0.13973841230051623,0.1397298175119867,0.14879282240006345,0.1637774465754304,0.16584250431819478,0.14567304357493402,0.14567304357493402],\"type\":\"scatter\",\"xaxis\":\"x\",\"yaxis\":\"y\"}],                        {\"height\":500.0,\"hoverlabel\":{\"bgcolor\":\"white\",\"font\":{\"size\":14}},\"legend\":{\"itemclick\":false,\"itemdoubleclick\":false,\"traceorder\":\"grouped\"},\"paper_bgcolor\":\"rgba(255,255,255,1)\",\"plot_bgcolor\":\"rgba(255,255,255,1)\",\"title\":{\"text\":\"Estimated performance \\u003cb\\u003e(DLE)\\u003c\\u002fb\\u003e\"},\"xaxis\":{\"linecolor\":\"#3b0280\",\"mirror\":true,\"showgrid\":false,\"title\":{\"text\":\"Time\"},\"zeroline\":false,\"anchor\":\"y\",\"domain\":[0.0,1.0],\"matches\":\"x\"},\"yaxis\":{\"linecolor\":\"#3b0280\",\"mirror\":true,\"showgrid\":false,\"title\":{\"text\":\"MAE\"},\"zeroline\":false,\"anchor\":\"x\",\"domain\":[0.0,1.0]},\"template\":{\"data\":{\"histogram2dcontour\":[{\"type\":\"histogram2dcontour\",\"colorbar\":{\"outlinewidth\":0,\"ticks\":\"\"},\"colorscale\":[[0.0,\"#0d0887\"],[0.1111111111111111,\"#46039f\"],[0.2222222222222222,\"#7201a8\"],[0.3333333333333333,\"#9c179e\"],[0.4444444444444444,\"#bd3786\"],[0.5555555555555556,\"#d8576b\"],[0.6666666666666666,\"#ed7953\"],[0.7777777777777778,\"#fb9f3a\"],[0.8888888888888888,\"#fdca26\"],[1.0,\"#f0f921\"]]}],\"choropleth\":[{\"type\":\"choropleth\",\"colorbar\":{\"outlinewidth\":0,\"ticks\":\"\"}}],\"histogram2d\":[{\"type\":\"histogram2d\",\"colorbar\":{\"outlinewidth\":0,\"ticks\":\"\"},\"colorscale\":[[0.0,\"#0d0887\"],[0.1111111111111111,\"#46039f\"],[0.2222222222222222,\"#7201a8\"],[0.3333333333333333,\"#9c179e\"],[0.4444444444444444,\"#bd3786\"],[0.5555555555555556,\"#d8576b\"],[0.6666666666666666,\"#ed7953\"],[0.7777777777777778,\"#fb9f3a\"],[0.8888888888888888,\"#fdca26\"],[1.0,\"#f0f921\"]]}],\"heatmap\":[{\"type\":\"heatmap\",\"colorbar\":{\"outlinewidth\":0,\"ticks\":\"\"},\"colorscale\":[[0.0,\"#0d0887\"],[0.1111111111111111,\"#46039f\"],[0.2222222222222222,\"#7201a8\"],[0.3333333333333333,\"#9c179e\"],[0.4444444444444444,\"#bd3786\"],[0.5555555555555556,\"#d8576b\"],[0.6666666666666666,\"#ed7953\"],[0.7777777777777778,\"#fb9f3a\"],[0.8888888888888888,\"#fdca26\"],[1.0,\"#f0f921\"]]}],\"heatmapgl\":[{\"type\":\"heatmapgl\",\"colorbar\":{\"outlinewidth\":0,\"ticks\":\"\"},\"colorscale\":[[0.0,\"#0d0887\"],[0.1111111111111111,\"#46039f\"],[0.2222222222222222,\"#7201a8\"],[0.3333333333333333,\"#9c179e\"],[0.4444444444444444,\"#bd3786\"],[0.5555555555555556,\"#d8576b\"],[0.6666666666666666,\"#ed7953\"],[0.7777777777777778,\"#fb9f3a\"],[0.8888888888888888,\"#fdca26\"],[1.0,\"#f0f921\"]]}],\"contourcarpet\":[{\"type\":\"contourcarpet\",\"colorbar\":{\"outlinewidth\":0,\"ticks\":\"\"}}],\"contour\":[{\"type\":\"contour\",\"colorbar\":{\"outlinewidth\":0,\"ticks\":\"\"},\"colorscale\":[[0.0,\"#0d0887\"],[0.1111111111111111,\"#46039f\"],[0.2222222222222222,\"#7201a8\"],[0.3333333333333333,\"#9c179e\"],[0.4444444444444444,\"#bd3786\"],[0.5555555555555556,\"#d8576b\"],[0.6666666666666666,\"#ed7953\"],[0.7777777777777778,\"#fb9f3a\"],[0.8888888888888888,\"#fdca26\"],[1.0,\"#f0f921\"]]}],\"surface\":[{\"type\":\"surface\",\"colorbar\":{\"outlinewidth\":0,\"ticks\":\"\"},\"colorscale\":[[0.0,\"#0d0887\"],[0.1111111111111111,\"#46039f\"],[0.2222222222222222,\"#7201a8\"],[0.3333333333333333,\"#9c179e\"],[0.4444444444444444,\"#bd3786\"],[0.5555555555555556,\"#d8576b\"],[0.6666666666666666,\"#ed7953\"],[0.7777777777777778,\"#fb9f3a\"],[0.8888888888888888,\"#fdca26\"],[1.0,\"#f0f921\"]]}],\"mesh3d\":[{\"type\":\"mesh3d\",\"colorbar\":{\"outlinewidth\":0,\"ticks\":\"\"}}],\"scatter\":[{\"fillpattern\":{\"fillmode\":\"overlay\",\"size\":10,\"solidity\":0.2},\"type\":\"scatter\"}],\"parcoords\":[{\"type\":\"parcoords\",\"line\":{\"colorbar\":{\"outlinewidth\":0,\"ticks\":\"\"}}}],\"scatterpolargl\":[{\"type\":\"scatterpolargl\",\"marker\":{\"colorbar\":{\"outlinewidth\":0,\"ticks\":\"\"}}}],\"bar\":[{\"error_x\":{\"color\":\"#2a3f5f\"},\"error_y\":{\"color\":\"#2a3f5f\"},\"marker\":{\"line\":{\"color\":\"#E5ECF6\",\"width\":0.5},\"pattern\":{\"fillmode\":\"overlay\",\"size\":10,\"solidity\":0.2}},\"type\":\"bar\"}],\"scattergeo\":[{\"type\":\"scattergeo\",\"marker\":{\"colorbar\":{\"outlinewidth\":0,\"ticks\":\"\"}}}],\"scatterpolar\":[{\"type\":\"scatterpolar\",\"marker\":{\"colorbar\":{\"outlinewidth\":0,\"ticks\":\"\"}}}],\"histogram\":[{\"marker\":{\"pattern\":{\"fillmode\":\"overlay\",\"size\":10,\"solidity\":0.2}},\"type\":\"histogram\"}],\"scattergl\":[{\"type\":\"scattergl\",\"marker\":{\"colorbar\":{\"outlinewidth\":0,\"ticks\":\"\"}}}],\"scatter3d\":[{\"type\":\"scatter3d\",\"line\":{\"colorbar\":{\"outlinewidth\":0,\"ticks\":\"\"}},\"marker\":{\"colorbar\":{\"outlinewidth\":0,\"ticks\":\"\"}}}],\"scattermapbox\":[{\"type\":\"scattermapbox\",\"marker\":{\"colorbar\":{\"outlinewidth\":0,\"ticks\":\"\"}}}],\"scatterternary\":[{\"type\":\"scatterternary\",\"marker\":{\"colorbar\":{\"outlinewidth\":0,\"ticks\":\"\"}}}],\"scattercarpet\":[{\"type\":\"scattercarpet\",\"marker\":{\"colorbar\":{\"outlinewidth\":0,\"ticks\":\"\"}}}],\"carpet\":[{\"aaxis\":{\"endlinecolor\":\"#2a3f5f\",\"gridcolor\":\"white\",\"linecolor\":\"white\",\"minorgridcolor\":\"white\",\"startlinecolor\":\"#2a3f5f\"},\"baxis\":{\"endlinecolor\":\"#2a3f5f\",\"gridcolor\":\"white\",\"linecolor\":\"white\",\"minorgridcolor\":\"white\",\"startlinecolor\":\"#2a3f5f\"},\"type\":\"carpet\"}],\"table\":[{\"cells\":{\"fill\":{\"color\":\"#EBF0F8\"},\"line\":{\"color\":\"white\"}},\"header\":{\"fill\":{\"color\":\"#C8D4E3\"},\"line\":{\"color\":\"white\"}},\"type\":\"table\"}],\"barpolar\":[{\"marker\":{\"line\":{\"color\":\"#E5ECF6\",\"width\":0.5},\"pattern\":{\"fillmode\":\"overlay\",\"size\":10,\"solidity\":0.2}},\"type\":\"barpolar\"}],\"pie\":[{\"automargin\":true,\"type\":\"pie\"}]},\"layout\":{\"autotypenumbers\":\"strict\",\"colorway\":[\"#636efa\",\"#EF553B\",\"#00cc96\",\"#ab63fa\",\"#FFA15A\",\"#19d3f3\",\"#FF6692\",\"#B6E880\",\"#FF97FF\",\"#FECB52\"],\"font\":{\"color\":\"#2a3f5f\"},\"hovermode\":\"closest\",\"hoverlabel\":{\"align\":\"left\"},\"paper_bgcolor\":\"white\",\"plot_bgcolor\":\"#E5ECF6\",\"polar\":{\"bgcolor\":\"#E5ECF6\",\"angularaxis\":{\"gridcolor\":\"white\",\"linecolor\":\"white\",\"ticks\":\"\"},\"radialaxis\":{\"gridcolor\":\"white\",\"linecolor\":\"white\",\"ticks\":\"\"}},\"ternary\":{\"bgcolor\":\"#E5ECF6\",\"aaxis\":{\"gridcolor\":\"white\",\"linecolor\":\"white\",\"ticks\":\"\"},\"baxis\":{\"gridcolor\":\"white\",\"linecolor\":\"white\",\"ticks\":\"\"},\"caxis\":{\"gridcolor\":\"white\",\"linecolor\":\"white\",\"ticks\":\"\"}},\"coloraxis\":{\"colorbar\":{\"outlinewidth\":0,\"ticks\":\"\"}},\"colorscale\":{\"sequential\":[[0.0,\"#0d0887\"],[0.1111111111111111,\"#46039f\"],[0.2222222222222222,\"#7201a8\"],[0.3333333333333333,\"#9c179e\"],[0.4444444444444444,\"#bd3786\"],[0.5555555555555556,\"#d8576b\"],[0.6666666666666666,\"#ed7953\"],[0.7777777777777778,\"#fb9f3a\"],[0.8888888888888888,\"#fdca26\"],[1.0,\"#f0f921\"]],\"sequentialminus\":[[0.0,\"#0d0887\"],[0.1111111111111111,\"#46039f\"],[0.2222222222222222,\"#7201a8\"],[0.3333333333333333,\"#9c179e\"],[0.4444444444444444,\"#bd3786\"],[0.5555555555555556,\"#d8576b\"],[0.6666666666666666,\"#ed7953\"],[0.7777777777777778,\"#fb9f3a\"],[0.8888888888888888,\"#fdca26\"],[1.0,\"#f0f921\"]],\"diverging\":[[0,\"#8e0152\"],[0.1,\"#c51b7d\"],[0.2,\"#de77ae\"],[0.3,\"#f1b6da\"],[0.4,\"#fde0ef\"],[0.5,\"#f7f7f7\"],[0.6,\"#e6f5d0\"],[0.7,\"#b8e186\"],[0.8,\"#7fbc41\"],[0.9,\"#4d9221\"],[1,\"#276419\"]]},\"xaxis\":{\"gridcolor\":\"white\",\"linecolor\":\"white\",\"ticks\":\"\",\"title\":{\"standoff\":15},\"zerolinecolor\":\"white\",\"automargin\":true,\"zerolinewidth\":2},\"yaxis\":{\"gridcolor\":\"white\",\"linecolor\":\"white\",\"ticks\":\"\",\"title\":{\"standoff\":15},\"zerolinecolor\":\"white\",\"automargin\":true,\"zerolinewidth\":2},\"scene\":{\"xaxis\":{\"backgroundcolor\":\"#E5ECF6\",\"gridcolor\":\"white\",\"linecolor\":\"white\",\"showbackground\":true,\"ticks\":\"\",\"zerolinecolor\":\"white\",\"gridwidth\":2},\"yaxis\":{\"backgroundcolor\":\"#E5ECF6\",\"gridcolor\":\"white\",\"linecolor\":\"white\",\"showbackground\":true,\"ticks\":\"\",\"zerolinecolor\":\"white\",\"gridwidth\":2},\"zaxis\":{\"backgroundcolor\":\"#E5ECF6\",\"gridcolor\":\"white\",\"linecolor\":\"white\",\"showbackground\":true,\"ticks\":\"\",\"zerolinecolor\":\"white\",\"gridwidth\":2}},\"shapedefaults\":{\"line\":{\"color\":\"#2a3f5f\"}},\"annotationdefaults\":{\"arrowcolor\":\"#2a3f5f\",\"arrowhead\":0,\"arrowwidth\":1},\"geo\":{\"bgcolor\":\"white\",\"landcolor\":\"#E5ECF6\",\"subunitcolor\":\"white\",\"showland\":true,\"showlakes\":true,\"lakecolor\":\"white\"},\"title\":{\"x\":0.05},\"mapbox\":{\"style\":\"light\"}}},\"annotations\":[{\"font\":{\"size\":16},\"showarrow\":false,\"text\":\"Estimated \\u003cb\\u003eMAE\\u003c\\u002fb\\u003e\",\"x\":0.5,\"xanchor\":\"center\",\"xref\":\"paper\",\"y\":1.0,\"yanchor\":\"bottom\",\"yref\":\"paper\"},{\"showarrow\":false,\"text\":\"Reference\",\"x\":\"2008-11-30T11:45:18.367346944\",\"xref\":\"x\",\"xshift\":10,\"y\":1.01,\"yref\":\"y domain\"},{\"showarrow\":false,\"text\":\"Analysis\",\"x\":\"2008-11-30T11:45:18.367346944\",\"xref\":\"x\",\"xshift\":15,\"y\":1.01,\"yref\":\"y domain\"}],\"shapes\":[{\"layer\":\"below\",\"line\":{\"color\":\"#666666\",\"width\":1},\"type\":\"line\",\"x0\":\"2006-12-01T00:00:00\",\"x1\":\"2006-12-01T00:00:00\",\"xref\":\"x\",\"y0\":0,\"y1\":1,\"yref\":\"y domain\"}]},                        {\"responsive\": true}                    ).then(function(){\n",
              "                            \n",
              "var gd = document.getElementById('6e8f2762-8ec8-4948-b803-09a5125e8034');\n",
              "var x = new MutationObserver(function (mutations, observer) {{\n",
              "        var display = window.getComputedStyle(gd).display;\n",
              "        if (!display || display === 'none') {{\n",
              "            console.log([gd, 'removed!']);\n",
              "            Plotly.purge(gd);\n",
              "            observer.disconnect();\n",
              "        }}\n",
              "}});\n",
              "\n",
              "// Listen for the removal of the full notebook cells\n",
              "var notebookContainer = gd.closest('#notebook-container');\n",
              "if (notebookContainer) {{\n",
              "    x.observe(notebookContainer, {childList: true});\n",
              "}}\n",
              "\n",
              "// Listen for the clearing of the current output cell\n",
              "var outputEl = gd.closest('.output');\n",
              "if (outputEl) {{\n",
              "    x.observe(outputEl, {childList: true});\n",
              "}}\n",
              "\n",
              "                        })                };                            </script>        </div>\n",
              "</body>\n",
              "</html>"
            ]
          },
          "metadata": {}
        }
      ]
    },
    {
      "cell_type": "markdown",
      "source": [
        "**Multivariate Data Drift**"
      ],
      "metadata": {
        "id": "EjFAGeofum8l"
      }
    },
    {
      "cell_type": "code",
      "source": [
        "drdc = nml.DataReconstructionDriftCalculator(\n",
        "    column_names=features,\n",
        "    timestamp_column_name='date_time',\n",
        "    chunk_period='y',\n",
        ")\n",
        "\n",
        "drdc.fit(reference)\n",
        "multivariate_data_drift = drdc.calculate(analysis)"
      ],
      "metadata": {
        "id": "qOA9H-I6tRGl",
        "colab": {
          "base_uri": "https://localhost:8080/"
        },
        "outputId": "7c9aa216-e7e4-4ffd-f2c6-8c1f5cc6aef8"
      },
      "execution_count": null,
      "outputs": [
        {
          "output_type": "stream",
          "name": "stderr",
          "text": [
            "/usr/local/lib/python3.10/dist-packages/nannyml/chunk.py:181: UserWarning:\n",
            "\n",
            "The resulting number of chunks is too low. Please consider splitting your data in a different way or continue at your own risk.\n",
            "\n",
            "/usr/local/lib/python3.10/dist-packages/nannyml/chunk.py:181: UserWarning:\n",
            "\n",
            "The resulting number of chunks is too low. Please consider splitting your data in a different way or continue at your own risk.\n",
            "\n",
            "/usr/local/lib/python3.10/dist-packages/nannyml/chunk.py:181: UserWarning:\n",
            "\n",
            "The resulting number of chunks is too low. Please consider splitting your data in a different way or continue at your own risk.\n",
            "\n"
          ]
        }
      ]
    },
    {
      "cell_type": "code",
      "source": [
        "figure = multivariate_data_drift.plot()\n",
        "figure"
      ],
      "metadata": {
        "colab": {
          "base_uri": "https://localhost:8080/",
          "height": 542
        },
        "id": "KuXxfoiNt9h-",
        "outputId": "d9102414-54db-4c4d-bae6-b7dfdbfb6b58"
      },
      "execution_count": null,
      "outputs": [
        {
          "output_type": "display_data",
          "data": {
            "text/html": [
              "<html>\n",
              "<head><meta charset=\"utf-8\" /></head>\n",
              "<body>\n",
              "    <div>            <script src=\"https://cdnjs.cloudflare.com/ajax/libs/mathjax/2.7.5/MathJax.js?config=TeX-AMS-MML_SVG\"></script><script type=\"text/javascript\">if (window.MathJax && window.MathJax.Hub && window.MathJax.Hub.Config) {window.MathJax.Hub.Config({SVG: {font: \"STIX-Web\"}});}</script>                <script type=\"text/javascript\">window.PlotlyConfig = {MathJaxConfig: 'local'};</script>\n",
              "        <script charset=\"utf-8\" src=\"https://cdn.plot.ly/plotly-2.24.1.min.js\"></script>                <div id=\"1bd4d2f7-92d3-489a-b4ba-4c13086ba480\" class=\"plotly-graph-div\" style=\"height:525px; width:100%;\"></div>            <script type=\"text/javascript\">                                    window.PLOTLYENV=window.PLOTLYENV || {};                                    if (document.getElementById(\"1bd4d2f7-92d3-489a-b4ba-4c13086ba480\")) {                    Plotly.newPlot(                        \"1bd4d2f7-92d3-489a-b4ba-4c13086ba480\",                        [{\"hoverinfo\":\"skip\",\"legendgroup\":\"metric_reference\",\"line\":{\"color\":\"#00c8e5\",\"shape\":\"hv\",\"width\":2},\"mode\":\"lines\",\"name\":\"Metric\",\"showlegend\":true,\"x\":[\"2006-01-01T00:00:00\",\"2007-01-01T00:00:00\",\"2008-01-01T00:00:00\",\"2009-01-01T00:00:00\",\"2010-01-01T00:00:00\",\"2010-12-31T23:59:59.999999999\"],\"y\":[1.542669108438453,1.2868130158774083,1.080121062197965,1.1206115961292966,1.089245126866907,1.089245126866907],\"type\":\"scatter\"},{\"customdata\":[[\"Data reconstruction drift\",\"\\u003cb style=\\\"color:#00c8e5;line-height:60px\\\"\\u003eReference\\u003c\\u002fb\\u003e\",\"\",\"2006\",\"From \\u003cb\\u003eJan-01-2006\\u003c\\u002fb\\u003e to \\u003cb\\u003eDec-31-2006\\u003c\\u002fb\\u003e\",1.5427,0.0459],[\"Data reconstruction drift\",\"\\u003cb style=\\\"color:#00c8e5;line-height:60px\\\"\\u003eReference\\u003c\\u002fb\\u003e\",\"\",\"2007\",\"From \\u003cb\\u003eJan-01-2007\\u003c\\u002fb\\u003e to \\u003cb\\u003eDec-31-2007\\u003c\\u002fb\\u003e\",1.2868,0.0095],[\"Data reconstruction drift\",\"\\u003cb style=\\\"color:#00c8e5;line-height:60px\\\"\\u003eReference\\u003c\\u002fb\\u003e\",\"\",\"2008\",\"From \\u003cb\\u003eJan-01-2008\\u003c\\u002fb\\u003e to \\u003cb\\u003eDec-31-2008\\u003c\\u002fb\\u003e\",1.0801,0.0095],[\"Data reconstruction drift\",\"\\u003cb style=\\\"color:#00c8e5;line-height:60px\\\"\\u003eReference\\u003c\\u002fb\\u003e\",\"\",\"2009\",\"From \\u003cb\\u003eJan-01-2009\\u003c\\u002fb\\u003e to \\u003cb\\u003eDec-31-2009\\u003c\\u002fb\\u003e\",1.1206,0.0095],[\"Data reconstruction drift\",\"\\u003cb style=\\\"color:#00c8e5;line-height:60px\\\"\\u003eReference\\u003c\\u002fb\\u003e\",\"\",\"2010\",\"From \\u003cb\\u003eJan-01-2010\\u003c\\u002fb\\u003e to \\u003cb\\u003eDec-31-2010\\u003c\\u002fb\\u003e\",1.0892,0.0102]],\"hovertemplate\":\"%{customdata[1]} &nbsp; &nbsp; %{customdata[2]} \\u003cbr \\u002f\\u003eChunk: \\u003cb\\u003e%{customdata[3]}\\u003c\\u002fb\\u003e &nbsp; &nbsp; %{customdata[4]} \\u003cbr \\u002f\\u003e%{customdata[0]}: \\u003cb\\u003e%{customdata[5]}\\u003c\\u002fb\\u003e\\u003cbr \\u002f\\u003eConfidence band: +\\u002f- \\u003cb\\u003e%{customdata[6]}\\u003c\\u002fb\\u003e\\u003cbr \\u002f\\u003e\\u003cextra\\u003e\\u003c\\u002fextra\\u003e\",\"legendgroup\":\"metric_reference\",\"marker\":{\"color\":\"#00c8e5\",\"size\":5,\"symbol\":\"circle\"},\"mode\":\"markers\",\"name\":\"Metric\",\"showlegend\":false,\"x\":[\"2006-07-02T12:00:00\",\"2007-07-02T12:00:00\",\"2008-07-02T00:00:00\",\"2009-07-02T12:00:00\",\"2010-07-02T12:00:00\"],\"y\":[1.542669108438453,1.2868130158774083,1.080121062197965,1.1206115961292966,1.089245126866907,1.089245126866907],\"type\":\"scatter\"},{\"hoverinfo\":\"skip\",\"legendgroup\":\"metric_analysis\",\"line\":{\"color\":\"#00c8e5\",\"shape\":\"hv\",\"width\":2},\"mode\":\"lines\",\"name\":\"Metric\",\"showlegend\":false,\"x\":[\"2006-01-01T00:00:00\",\"2007-01-01T00:00:00\",\"2008-01-01T00:00:00\",\"2009-01-01T00:00:00\",\"2010-01-01T00:00:00\",\"2010-12-31T23:59:59.999999999\"],\"y\":[1.5641357665920437,1.2927886796492152,1.0833095663339813,1.1202373513498207,1.0958873888675835,1.0958873888675835],\"type\":\"scatter\"},{\"customdata\":[[\"Data reconstruction drift\",\"\\u003cb style=\\\"color:#3b0280;line-height:60px\\\"\\u003eAnalysis\\u003c\\u002fb\\u003e\",\"\",\"2006\",\"From \\u003cb\\u003eJan-01-2006\\u003c\\u002fb\\u003e to \\u003cb\\u003eDec-31-2006\\u003c\\u002fb\\u003e\",1.5641,0.0499],[\"Data reconstruction drift\",\"\\u003cb style=\\\"color:#3b0280;line-height:60px\\\"\\u003eAnalysis\\u003c\\u002fb\\u003e\",\"\",\"2007\",\"From \\u003cb\\u003eJan-01-2007\\u003c\\u002fb\\u003e to \\u003cb\\u003eDec-31-2007\\u003c\\u002fb\\u003e\",1.2928,0.01],[\"Data reconstruction drift\",\"\\u003cb style=\\\"color:#3b0280;line-height:60px\\\"\\u003eAnalysis\\u003c\\u002fb\\u003e\",\"\",\"2008\",\"From \\u003cb\\u003eJan-01-2008\\u003c\\u002fb\\u003e to \\u003cb\\u003eDec-31-2008\\u003c\\u002fb\\u003e\",1.0833,0.01],[\"Data reconstruction drift\",\"\\u003cb style=\\\"color:#3b0280;line-height:60px\\\"\\u003eAnalysis\\u003c\\u002fb\\u003e\",\"\",\"2009\",\"From \\u003cb\\u003eJan-01-2009\\u003c\\u002fb\\u003e to \\u003cb\\u003eDec-31-2009\\u003c\\u002fb\\u003e\",1.1202,0.01],[\"Data reconstruction drift\",\"\\u003cb style=\\\"color:#3b0280;line-height:60px\\\"\\u003eAnalysis\\u003c\\u002fb\\u003e\",\"\",\"2010\",\"From \\u003cb\\u003eJan-01-2010\\u003c\\u002fb\\u003e to \\u003cb\\u003eDec-31-2010\\u003c\\u002fb\\u003e\",1.0959,0.0107]],\"hovertemplate\":\"%{customdata[1]} &nbsp; &nbsp; %{customdata[2]} \\u003cbr \\u002f\\u003eChunk: \\u003cb\\u003e%{customdata[3]}\\u003c\\u002fb\\u003e &nbsp; &nbsp; %{customdata[4]} \\u003cbr \\u002f\\u003e%{customdata[0]}: \\u003cb\\u003e%{customdata[5]}\\u003c\\u002fb\\u003e\\u003cbr \\u002f\\u003eConfidence band: +\\u002f- \\u003cb\\u003e%{customdata[6]}\\u003c\\u002fb\\u003e\\u003cbr \\u002f\\u003e\\u003cextra\\u003e\\u003c\\u002fextra\\u003e\",\"legendgroup\":\"metric_analysis\",\"marker\":{\"color\":\"#00c8e5\",\"size\":5,\"symbol\":\"circle\"},\"mode\":\"markers\",\"name\":\"Metric\",\"showlegend\":false,\"x\":[\"2006-07-02T12:00:00\",\"2007-07-02T12:00:00\",\"2008-07-02T00:00:00\",\"2009-07-02T12:00:00\",\"2010-07-02T12:00:00\"],\"y\":[1.5641357665920437,1.2927886796492152,1.0833095663339813,1.1202373513498207,1.0958873888675835,1.0958873888675835],\"type\":\"scatter\"},{\"hoverinfo\":\"skip\",\"legendgroup\":\"alert\",\"marker\":{\"color\":\"#DD4040\",\"size\":8,\"symbol\":\"diamond\"},\"mode\":\"markers\",\"name\":\"Alert\",\"showlegend\":true,\"x\":[],\"y\":[],\"type\":\"scatter\"},{\"hoverinfo\":\"skip\",\"legendgroup\":\"thresh\",\"line\":{\"color\":\"#DD4040\",\"dash\":\"dash\",\"width\":2},\"mode\":\"lines\",\"name\":\"Threshold\",\"showlegend\":false,\"x\":[\"2006-01-01T00:00:00\",\"2007-01-01T00:00:00\",\"2008-01-01T00:00:00\",\"2009-01-01T00:00:00\",\"2010-01-01T00:00:00\",\"2010-12-31T23:59:59.999999999\"],\"y\":[1.7521724822714677,1.7521724822714677,1.7521724822714677,1.7521724822714677,1.7521724822714677,1.7521724822714677],\"type\":\"scatter\"},{\"hoverinfo\":\"skip\",\"legendgroup\":\"thresh\",\"line\":{\"color\":\"#DD4040\",\"dash\":\"dash\",\"width\":2},\"mode\":\"lines\",\"name\":\"Threshold\",\"showlegend\":false,\"x\":[\"2006-01-01T00:00:00\",\"2007-01-01T00:00:00\",\"2008-01-01T00:00:00\",\"2009-01-01T00:00:00\",\"2010-01-01T00:00:00\",\"2010-12-31T23:59:59.999999999\"],\"y\":[0.6956114815325443,0.6956114815325443,0.6956114815325443,0.6956114815325443,0.6956114815325443,0.6956114815325443],\"type\":\"scatter\"},{\"hoverinfo\":\"skip\",\"legendgroup\":\"thresh\",\"line\":{\"color\":\"#DD4040\",\"dash\":\"dash\",\"width\":2},\"mode\":\"lines\",\"name\":\"Threshold\",\"showlegend\":false,\"x\":[\"2006-01-01T00:00:00\",\"2007-01-01T00:00:00\",\"2008-01-01T00:00:00\",\"2009-01-01T00:00:00\",\"2010-01-01T00:00:00\",\"2010-12-31T23:59:59.999999999\"],\"y\":[1.7521724822714677,1.7521724822714677,1.7521724822714677,1.7521724822714677,1.7521724822714677,1.7521724822714677],\"type\":\"scatter\"},{\"hoverinfo\":\"skip\",\"legendgroup\":\"thresh\",\"line\":{\"color\":\"#DD4040\",\"dash\":\"dash\",\"width\":2},\"mode\":\"lines\",\"name\":\"Threshold\",\"showlegend\":false,\"x\":[\"2006-01-01T00:00:00\",\"2007-01-01T00:00:00\",\"2008-01-01T00:00:00\",\"2009-01-01T00:00:00\",\"2010-01-01T00:00:00\",\"2010-12-31T23:59:59.999999999\"],\"y\":[0.6956114815325443,0.6956114815325443,0.6956114815325443,0.6956114815325443,0.6956114815325443,0.6956114815325443],\"type\":\"scatter\"},{\"hoverinfo\":\"skip\",\"line\":{\"color\":\"rgba(0,0,0,0)\",\"shape\":\"hv\"},\"mode\":\"lines\",\"name\":\"Confidence band\",\"showlegend\":false,\"x\":[\"2006-01-01T00:00:00\",\"2007-01-01T00:00:00\",\"2008-01-01T00:00:00\",\"2009-01-01T00:00:00\",\"2010-01-01T00:00:00\",\"2010-12-31T23:59:59.999999999\"],\"y\":[1.5885994327989676,1.2963142451304153,1.0895905399379224,1.1301108258697208,1.099420340924736,1.099420340924736],\"type\":\"scatter\"},{\"fill\":\"tonexty\",\"fillcolor\":\"rgba(0.0, 0.7843137254901961, 0.8980392156862745, 0.2)\",\"hoverinfo\":\"skip\",\"line\":{\"color\":\"rgba(0,0,0,0)\",\"shape\":\"hv\"},\"mode\":\"lines\",\"name\":\"Confidence band\",\"showlegend\":true,\"x\":[\"2006-01-01T00:00:00\",\"2007-01-01T00:00:00\",\"2008-01-01T00:00:00\",\"2009-01-01T00:00:00\",\"2010-01-01T00:00:00\",\"2010-12-31T23:59:59.999999999\"],\"y\":[1.4967387840779383,1.2773117866244013,1.0706515844580078,1.1111123663888725,1.079069912809078,1.079069912809078],\"type\":\"scatter\"},{\"hoverinfo\":\"skip\",\"line\":{\"color\":\"rgba(0,0,0,0)\",\"shape\":\"hv\"},\"mode\":\"lines\",\"name\":\"Confidence band\",\"showlegend\":false,\"x\":[\"2006-01-01T00:00:00\",\"2007-01-01T00:00:00\",\"2008-01-01T00:00:00\",\"2009-01-01T00:00:00\",\"2010-01-01T00:00:00\",\"2010-12-31T23:59:59.999999999\"],\"y\":[1.6140672933846125,1.302793722347755,1.0932904923046824,1.1302522814546294,1.1066083009848617,1.1066083009848617],\"type\":\"scatter\"},{\"fill\":\"tonexty\",\"fillcolor\":\"rgba(0.0, 0.7843137254901961, 0.8980392156862745, 0.2)\",\"hoverinfo\":\"skip\",\"line\":{\"color\":\"rgba(0,0,0,0)\",\"shape\":\"hv\"},\"mode\":\"lines\",\"name\":\"Confidence band\",\"showlegend\":false,\"x\":[\"2006-01-01T00:00:00\",\"2007-01-01T00:00:00\",\"2008-01-01T00:00:00\",\"2009-01-01T00:00:00\",\"2010-01-01T00:00:00\",\"2010-12-31T23:59:59.999999999\"],\"y\":[1.5142042397994748,1.2827836369506753,1.0733286403632802,1.110222421245012,1.0851664767503053,1.0851664767503053],\"type\":\"scatter\"}],                        {\"hoverlabel\":{\"bgcolor\":\"white\",\"font\":{\"size\":14}},\"legend\":{\"itemclick\":false,\"itemdoubleclick\":false,\"traceorder\":\"grouped\"},\"paper_bgcolor\":\"rgba(255,255,255,1)\",\"plot_bgcolor\":\"rgba(255,255,255,1)\",\"title\":{\"text\":\"Multivariate drift (PCA reconstruction error)\"},\"xaxis\":{\"linecolor\":\"#3b0280\",\"mirror\":true,\"showgrid\":false,\"title\":{\"text\":\"Time\"},\"zeroline\":false,\"matches\":\"x\"},\"yaxis\":{\"linecolor\":\"#3b0280\",\"mirror\":true,\"showgrid\":false,\"title\":{\"text\":\"Data reconstruction drift\"},\"zeroline\":false},\"template\":{\"data\":{\"histogram2dcontour\":[{\"type\":\"histogram2dcontour\",\"colorbar\":{\"outlinewidth\":0,\"ticks\":\"\"},\"colorscale\":[[0.0,\"#0d0887\"],[0.1111111111111111,\"#46039f\"],[0.2222222222222222,\"#7201a8\"],[0.3333333333333333,\"#9c179e\"],[0.4444444444444444,\"#bd3786\"],[0.5555555555555556,\"#d8576b\"],[0.6666666666666666,\"#ed7953\"],[0.7777777777777778,\"#fb9f3a\"],[0.8888888888888888,\"#fdca26\"],[1.0,\"#f0f921\"]]}],\"choropleth\":[{\"type\":\"choropleth\",\"colorbar\":{\"outlinewidth\":0,\"ticks\":\"\"}}],\"histogram2d\":[{\"type\":\"histogram2d\",\"colorbar\":{\"outlinewidth\":0,\"ticks\":\"\"},\"colorscale\":[[0.0,\"#0d0887\"],[0.1111111111111111,\"#46039f\"],[0.2222222222222222,\"#7201a8\"],[0.3333333333333333,\"#9c179e\"],[0.4444444444444444,\"#bd3786\"],[0.5555555555555556,\"#d8576b\"],[0.6666666666666666,\"#ed7953\"],[0.7777777777777778,\"#fb9f3a\"],[0.8888888888888888,\"#fdca26\"],[1.0,\"#f0f921\"]]}],\"heatmap\":[{\"type\":\"heatmap\",\"colorbar\":{\"outlinewidth\":0,\"ticks\":\"\"},\"colorscale\":[[0.0,\"#0d0887\"],[0.1111111111111111,\"#46039f\"],[0.2222222222222222,\"#7201a8\"],[0.3333333333333333,\"#9c179e\"],[0.4444444444444444,\"#bd3786\"],[0.5555555555555556,\"#d8576b\"],[0.6666666666666666,\"#ed7953\"],[0.7777777777777778,\"#fb9f3a\"],[0.8888888888888888,\"#fdca26\"],[1.0,\"#f0f921\"]]}],\"heatmapgl\":[{\"type\":\"heatmapgl\",\"colorbar\":{\"outlinewidth\":0,\"ticks\":\"\"},\"colorscale\":[[0.0,\"#0d0887\"],[0.1111111111111111,\"#46039f\"],[0.2222222222222222,\"#7201a8\"],[0.3333333333333333,\"#9c179e\"],[0.4444444444444444,\"#bd3786\"],[0.5555555555555556,\"#d8576b\"],[0.6666666666666666,\"#ed7953\"],[0.7777777777777778,\"#fb9f3a\"],[0.8888888888888888,\"#fdca26\"],[1.0,\"#f0f921\"]]}],\"contourcarpet\":[{\"type\":\"contourcarpet\",\"colorbar\":{\"outlinewidth\":0,\"ticks\":\"\"}}],\"contour\":[{\"type\":\"contour\",\"colorbar\":{\"outlinewidth\":0,\"ticks\":\"\"},\"colorscale\":[[0.0,\"#0d0887\"],[0.1111111111111111,\"#46039f\"],[0.2222222222222222,\"#7201a8\"],[0.3333333333333333,\"#9c179e\"],[0.4444444444444444,\"#bd3786\"],[0.5555555555555556,\"#d8576b\"],[0.6666666666666666,\"#ed7953\"],[0.7777777777777778,\"#fb9f3a\"],[0.8888888888888888,\"#fdca26\"],[1.0,\"#f0f921\"]]}],\"surface\":[{\"type\":\"surface\",\"colorbar\":{\"outlinewidth\":0,\"ticks\":\"\"},\"colorscale\":[[0.0,\"#0d0887\"],[0.1111111111111111,\"#46039f\"],[0.2222222222222222,\"#7201a8\"],[0.3333333333333333,\"#9c179e\"],[0.4444444444444444,\"#bd3786\"],[0.5555555555555556,\"#d8576b\"],[0.6666666666666666,\"#ed7953\"],[0.7777777777777778,\"#fb9f3a\"],[0.8888888888888888,\"#fdca26\"],[1.0,\"#f0f921\"]]}],\"mesh3d\":[{\"type\":\"mesh3d\",\"colorbar\":{\"outlinewidth\":0,\"ticks\":\"\"}}],\"scatter\":[{\"fillpattern\":{\"fillmode\":\"overlay\",\"size\":10,\"solidity\":0.2},\"type\":\"scatter\"}],\"parcoords\":[{\"type\":\"parcoords\",\"line\":{\"colorbar\":{\"outlinewidth\":0,\"ticks\":\"\"}}}],\"scatterpolargl\":[{\"type\":\"scatterpolargl\",\"marker\":{\"colorbar\":{\"outlinewidth\":0,\"ticks\":\"\"}}}],\"bar\":[{\"error_x\":{\"color\":\"#2a3f5f\"},\"error_y\":{\"color\":\"#2a3f5f\"},\"marker\":{\"line\":{\"color\":\"#E5ECF6\",\"width\":0.5},\"pattern\":{\"fillmode\":\"overlay\",\"size\":10,\"solidity\":0.2}},\"type\":\"bar\"}],\"scattergeo\":[{\"type\":\"scattergeo\",\"marker\":{\"colorbar\":{\"outlinewidth\":0,\"ticks\":\"\"}}}],\"scatterpolar\":[{\"type\":\"scatterpolar\",\"marker\":{\"colorbar\":{\"outlinewidth\":0,\"ticks\":\"\"}}}],\"histogram\":[{\"marker\":{\"pattern\":{\"fillmode\":\"overlay\",\"size\":10,\"solidity\":0.2}},\"type\":\"histogram\"}],\"scattergl\":[{\"type\":\"scattergl\",\"marker\":{\"colorbar\":{\"outlinewidth\":0,\"ticks\":\"\"}}}],\"scatter3d\":[{\"type\":\"scatter3d\",\"line\":{\"colorbar\":{\"outlinewidth\":0,\"ticks\":\"\"}},\"marker\":{\"colorbar\":{\"outlinewidth\":0,\"ticks\":\"\"}}}],\"scattermapbox\":[{\"type\":\"scattermapbox\",\"marker\":{\"colorbar\":{\"outlinewidth\":0,\"ticks\":\"\"}}}],\"scatterternary\":[{\"type\":\"scatterternary\",\"marker\":{\"colorbar\":{\"outlinewidth\":0,\"ticks\":\"\"}}}],\"scattercarpet\":[{\"type\":\"scattercarpet\",\"marker\":{\"colorbar\":{\"outlinewidth\":0,\"ticks\":\"\"}}}],\"carpet\":[{\"aaxis\":{\"endlinecolor\":\"#2a3f5f\",\"gridcolor\":\"white\",\"linecolor\":\"white\",\"minorgridcolor\":\"white\",\"startlinecolor\":\"#2a3f5f\"},\"baxis\":{\"endlinecolor\":\"#2a3f5f\",\"gridcolor\":\"white\",\"linecolor\":\"white\",\"minorgridcolor\":\"white\",\"startlinecolor\":\"#2a3f5f\"},\"type\":\"carpet\"}],\"table\":[{\"cells\":{\"fill\":{\"color\":\"#EBF0F8\"},\"line\":{\"color\":\"white\"}},\"header\":{\"fill\":{\"color\":\"#C8D4E3\"},\"line\":{\"color\":\"white\"}},\"type\":\"table\"}],\"barpolar\":[{\"marker\":{\"line\":{\"color\":\"#E5ECF6\",\"width\":0.5},\"pattern\":{\"fillmode\":\"overlay\",\"size\":10,\"solidity\":0.2}},\"type\":\"barpolar\"}],\"pie\":[{\"automargin\":true,\"type\":\"pie\"}]},\"layout\":{\"autotypenumbers\":\"strict\",\"colorway\":[\"#636efa\",\"#EF553B\",\"#00cc96\",\"#ab63fa\",\"#FFA15A\",\"#19d3f3\",\"#FF6692\",\"#B6E880\",\"#FF97FF\",\"#FECB52\"],\"font\":{\"color\":\"#2a3f5f\"},\"hovermode\":\"closest\",\"hoverlabel\":{\"align\":\"left\"},\"paper_bgcolor\":\"white\",\"plot_bgcolor\":\"#E5ECF6\",\"polar\":{\"bgcolor\":\"#E5ECF6\",\"angularaxis\":{\"gridcolor\":\"white\",\"linecolor\":\"white\",\"ticks\":\"\"},\"radialaxis\":{\"gridcolor\":\"white\",\"linecolor\":\"white\",\"ticks\":\"\"}},\"ternary\":{\"bgcolor\":\"#E5ECF6\",\"aaxis\":{\"gridcolor\":\"white\",\"linecolor\":\"white\",\"ticks\":\"\"},\"baxis\":{\"gridcolor\":\"white\",\"linecolor\":\"white\",\"ticks\":\"\"},\"caxis\":{\"gridcolor\":\"white\",\"linecolor\":\"white\",\"ticks\":\"\"}},\"coloraxis\":{\"colorbar\":{\"outlinewidth\":0,\"ticks\":\"\"}},\"colorscale\":{\"sequential\":[[0.0,\"#0d0887\"],[0.1111111111111111,\"#46039f\"],[0.2222222222222222,\"#7201a8\"],[0.3333333333333333,\"#9c179e\"],[0.4444444444444444,\"#bd3786\"],[0.5555555555555556,\"#d8576b\"],[0.6666666666666666,\"#ed7953\"],[0.7777777777777778,\"#fb9f3a\"],[0.8888888888888888,\"#fdca26\"],[1.0,\"#f0f921\"]],\"sequentialminus\":[[0.0,\"#0d0887\"],[0.1111111111111111,\"#46039f\"],[0.2222222222222222,\"#7201a8\"],[0.3333333333333333,\"#9c179e\"],[0.4444444444444444,\"#bd3786\"],[0.5555555555555556,\"#d8576b\"],[0.6666666666666666,\"#ed7953\"],[0.7777777777777778,\"#fb9f3a\"],[0.8888888888888888,\"#fdca26\"],[1.0,\"#f0f921\"]],\"diverging\":[[0,\"#8e0152\"],[0.1,\"#c51b7d\"],[0.2,\"#de77ae\"],[0.3,\"#f1b6da\"],[0.4,\"#fde0ef\"],[0.5,\"#f7f7f7\"],[0.6,\"#e6f5d0\"],[0.7,\"#b8e186\"],[0.8,\"#7fbc41\"],[0.9,\"#4d9221\"],[1,\"#276419\"]]},\"xaxis\":{\"gridcolor\":\"white\",\"linecolor\":\"white\",\"ticks\":\"\",\"title\":{\"standoff\":15},\"zerolinecolor\":\"white\",\"automargin\":true,\"zerolinewidth\":2},\"yaxis\":{\"gridcolor\":\"white\",\"linecolor\":\"white\",\"ticks\":\"\",\"title\":{\"standoff\":15},\"zerolinecolor\":\"white\",\"automargin\":true,\"zerolinewidth\":2},\"scene\":{\"xaxis\":{\"backgroundcolor\":\"#E5ECF6\",\"gridcolor\":\"white\",\"linecolor\":\"white\",\"showbackground\":true,\"ticks\":\"\",\"zerolinecolor\":\"white\",\"gridwidth\":2},\"yaxis\":{\"backgroundcolor\":\"#E5ECF6\",\"gridcolor\":\"white\",\"linecolor\":\"white\",\"showbackground\":true,\"ticks\":\"\",\"zerolinecolor\":\"white\",\"gridwidth\":2},\"zaxis\":{\"backgroundcolor\":\"#E5ECF6\",\"gridcolor\":\"white\",\"linecolor\":\"white\",\"showbackground\":true,\"ticks\":\"\",\"zerolinecolor\":\"white\",\"gridwidth\":2}},\"shapedefaults\":{\"line\":{\"color\":\"#2a3f5f\"}},\"annotationdefaults\":{\"arrowcolor\":\"#2a3f5f\",\"arrowhead\":0,\"arrowwidth\":1},\"geo\":{\"bgcolor\":\"white\",\"landcolor\":\"#E5ECF6\",\"subunitcolor\":\"white\",\"showland\":true,\"showlakes\":true,\"lakecolor\":\"white\"},\"title\":{\"x\":0.05},\"mapbox\":{\"style\":\"light\"}}},\"shapes\":[{\"layer\":\"below\",\"line\":{\"color\":\"#666666\",\"width\":1},\"type\":\"line\",\"x0\":\"2006-01-01T00:00:00\",\"x1\":\"2006-01-01T00:00:00\",\"xref\":\"x\",\"y0\":0,\"y1\":1,\"yref\":\"y domain\"}],\"annotations\":[{\"showarrow\":false,\"text\":\"Reference\",\"x\":\"2008-01-01T09:36:00\",\"xshift\":10,\"y\":1.01,\"yref\":\"y domain\"},{\"showarrow\":false,\"text\":\"Analysis\",\"x\":\"2008-01-01T09:36:00\",\"xshift\":15,\"y\":1.01,\"yref\":\"y domain\"}]},                        {\"responsive\": true}                    ).then(function(){\n",
              "                            \n",
              "var gd = document.getElementById('1bd4d2f7-92d3-489a-b4ba-4c13086ba480');\n",
              "var x = new MutationObserver(function (mutations, observer) {{\n",
              "        var display = window.getComputedStyle(gd).display;\n",
              "        if (!display || display === 'none') {{\n",
              "            console.log([gd, 'removed!']);\n",
              "            Plotly.purge(gd);\n",
              "            observer.disconnect();\n",
              "        }}\n",
              "}});\n",
              "\n",
              "// Listen for the removal of the full notebook cells\n",
              "var notebookContainer = gd.closest('#notebook-container');\n",
              "if (notebookContainer) {{\n",
              "    x.observe(notebookContainer, {childList: true});\n",
              "}}\n",
              "\n",
              "// Listen for the clearing of the current output cell\n",
              "var outputEl = gd.closest('.output');\n",
              "if (outputEl) {{\n",
              "    x.observe(outputEl, {childList: true});\n",
              "}}\n",
              "\n",
              "                        })                };                            </script>        </div>\n",
              "</body>\n",
              "</html>"
            ]
          },
          "metadata": {}
        }
      ]
    },
    {
      "cell_type": "markdown",
      "source": [
        "**Univariate Data Drift**"
      ],
      "metadata": {
        "id": "BlqsEhKuuflB"
      }
    },
    {
      "cell_type": "code",
      "source": [
        "udc = nml.UnivariateDriftCalculator(\n",
        "    column_names=features,\n",
        "    #timestamp_column_name='lpep_pickup_datetime',\n",
        "    #chunk_period='d',\n",
        ")\n",
        "\n",
        "udc.fit(reference)\n",
        "univariate_data_drift = udc.calculate(analysis)\n",
        "figure = univariate_data_drift.plot()\n",
        "figure"
      ],
      "metadata": {
        "colab": {
          "base_uri": "https://localhost:8080/",
          "height": 1000
        },
        "id": "vR2HDVZyuKzT",
        "outputId": "697aff76-4935-4944-985a-c4934a4e582e"
      },
      "execution_count": null,
      "outputs": [
        {
          "output_type": "display_data",
          "data": {
            "text/html": [
              "<html>\n",
              "<head><meta charset=\"utf-8\" /></head>\n",
              "<body>\n",
              "    <div>            <script src=\"https://cdnjs.cloudflare.com/ajax/libs/mathjax/2.7.5/MathJax.js?config=TeX-AMS-MML_SVG\"></script><script type=\"text/javascript\">if (window.MathJax && window.MathJax.Hub && window.MathJax.Hub.Config) {window.MathJax.Hub.Config({SVG: {font: \"STIX-Web\"}});}</script>                <script type=\"text/javascript\">window.PlotlyConfig = {MathJaxConfig: 'local'};</script>\n",
              "        <script charset=\"utf-8\" src=\"https://cdn.plot.ly/plotly-2.24.1.min.js\"></script>                <div id=\"18d35348-b7fd-4d40-b91a-c9b044f10c71\" class=\"plotly-graph-div\" style=\"height:3500.0px; width:100%;\"></div>            <script type=\"text/javascript\">                                    window.PLOTLYENV=window.PLOTLYENV || {};                                    if (document.getElementById(\"18d35348-b7fd-4d40-b91a-c9b044f10c71\")) {                    Plotly.newPlot(                        \"18d35348-b7fd-4d40-b91a-c9b044f10c71\",                        [{\"hoverinfo\":\"skip\",\"legendgroup\":\"metric_reference\",\"line\":{\"color\":\"#00c8e5\",\"shape\":\"hv\",\"width\":2},\"mode\":\"lines\",\"name\":\"Method\",\"showlegend\":true,\"x\":[0,1,2,3,4,5,6,7,8,9,10],\"y\":[0.01243617488094067,0.01570242122075779,0.012031627693876473,0.014650860280002332,0.012397897073821076,0.014568774141123777,0.015421152096976292,0.016874582410049396,0.014057685219436605,0.014665708637224592,0.014665708637224592],\"type\":\"scatter\",\"xaxis\":\"x\",\"yaxis\":\"y\"},{\"customdata\":[[\"Jensen-Shannon distance for \\u003cb\\u003eGlobal_active_power\\u003c\\u002fb\\u003e\",\"\\u003cb style=\\\"color:#00c8e5;line-height:60px\\\"\\u003eReference\\u003c\\u002fb\\u003e\",\"\",\"[0:20491]\",\"Chunk index: \\u003cb\\u003e0\\u003c\\u002fb\\u003e\",0.0124],[\"Jensen-Shannon distance for \\u003cb\\u003eGlobal_active_power\\u003c\\u002fb\\u003e\",\"\\u003cb style=\\\"color:#00c8e5;line-height:60px\\\"\\u003eReference\\u003c\\u002fb\\u003e\",\"\",\"[20492:40983]\",\"Chunk index: \\u003cb\\u003e1\\u003c\\u002fb\\u003e\",0.0157],[\"Jensen-Shannon distance for \\u003cb\\u003eGlobal_active_power\\u003c\\u002fb\\u003e\",\"\\u003cb style=\\\"color:#00c8e5;line-height:60px\\\"\\u003eReference\\u003c\\u002fb\\u003e\",\"\",\"[40984:61475]\",\"Chunk index: \\u003cb\\u003e2\\u003c\\u002fb\\u003e\",0.012],[\"Jensen-Shannon distance for \\u003cb\\u003eGlobal_active_power\\u003c\\u002fb\\u003e\",\"\\u003cb style=\\\"color:#00c8e5;line-height:60px\\\"\\u003eReference\\u003c\\u002fb\\u003e\",\"\",\"[61476:81967]\",\"Chunk index: \\u003cb\\u003e3\\u003c\\u002fb\\u003e\",0.0147],[\"Jensen-Shannon distance for \\u003cb\\u003eGlobal_active_power\\u003c\\u002fb\\u003e\",\"\\u003cb style=\\\"color:#00c8e5;line-height:60px\\\"\\u003eReference\\u003c\\u002fb\\u003e\",\"\",\"[81968:102459]\",\"Chunk index: \\u003cb\\u003e4\\u003c\\u002fb\\u003e\",0.0124],[\"Jensen-Shannon distance for \\u003cb\\u003eGlobal_active_power\\u003c\\u002fb\\u003e\",\"\\u003cb style=\\\"color:#00c8e5;line-height:60px\\\"\\u003eReference\\u003c\\u002fb\\u003e\",\"\",\"[102460:122951]\",\"Chunk index: \\u003cb\\u003e5\\u003c\\u002fb\\u003e\",0.0146],[\"Jensen-Shannon distance for \\u003cb\\u003eGlobal_active_power\\u003c\\u002fb\\u003e\",\"\\u003cb style=\\\"color:#00c8e5;line-height:60px\\\"\\u003eReference\\u003c\\u002fb\\u003e\",\"\",\"[122952:143443]\",\"Chunk index: \\u003cb\\u003e6\\u003c\\u002fb\\u003e\",0.0154],[\"Jensen-Shannon distance for \\u003cb\\u003eGlobal_active_power\\u003c\\u002fb\\u003e\",\"\\u003cb style=\\\"color:#00c8e5;line-height:60px\\\"\\u003eReference\\u003c\\u002fb\\u003e\",\"\",\"[143444:163935]\",\"Chunk index: \\u003cb\\u003e7\\u003c\\u002fb\\u003e\",0.0169],[\"Jensen-Shannon distance for \\u003cb\\u003eGlobal_active_power\\u003c\\u002fb\\u003e\",\"\\u003cb style=\\\"color:#00c8e5;line-height:60px\\\"\\u003eReference\\u003c\\u002fb\\u003e\",\"\",\"[163936:184427]\",\"Chunk index: \\u003cb\\u003e8\\u003c\\u002fb\\u003e\",0.0141],[\"Jensen-Shannon distance for \\u003cb\\u003eGlobal_active_power\\u003c\\u002fb\\u003e\",\"\\u003cb style=\\\"color:#00c8e5;line-height:60px\\\"\\u003eReference\\u003c\\u002fb\\u003e\",\"\",\"[184428:204927]\",\"Chunk index: \\u003cb\\u003e9\\u003c\\u002fb\\u003e\",0.0147]],\"hovertemplate\":\"%{customdata[1]} &nbsp; &nbsp; %{customdata[2]} \\u003cbr \\u002f\\u003eChunk: \\u003cb\\u003e%{customdata[3]}\\u003c\\u002fb\\u003e &nbsp; &nbsp; %{customdata[4]} \\u003cbr \\u002f\\u003e%{customdata[0]}: \\u003cb\\u003e%{customdata[5]}\\u003c\\u002fb\\u003e\\u003cb r \\u002f\\u003e\\u003cextra\\u003e\\u003c\\u002fextra\\u003e\",\"legendgroup\":\"metric_reference\",\"marker\":{\"color\":\"#00c8e5\",\"size\":5,\"symbol\":\"circle\"},\"mode\":\"markers\",\"name\":\"Method\",\"showlegend\":false,\"x\":[0.5,1.5,2.5,3.5,4.5,5.5,6.5,7.5,8.5,9.5],\"y\":[0.01243617488094067,0.01570242122075779,0.012031627693876473,0.014650860280002332,0.012397897073821076,0.014568774141123777,0.015421152096976292,0.016874582410049396,0.014057685219436605,0.014665708637224592,0.014665708637224592],\"type\":\"scatter\",\"xaxis\":\"x\",\"yaxis\":\"y\"},{\"hoverinfo\":\"skip\",\"legendgroup\":\"metric_analysis\",\"line\":{\"color\":\"#00c8e5\",\"shape\":\"hv\",\"width\":2},\"mode\":\"lines\",\"name\":\"Method\",\"showlegend\":false,\"x\":[10,11,12,13,14,15,16,17,18,19,20],\"y\":[0.02085858637114442,0.020027159283379135,0.013908538411461955,0.01898337238354415,0.02130256235175074,0.017463779294360996,0.014407547225250979,0.017025734899243885,0.01987775139223527,0.014825241891337175,0.014825241891337175],\"type\":\"scatter\",\"xaxis\":\"x\",\"yaxis\":\"y\"},{\"customdata\":[[\"Jensen-Shannon distance for \\u003cb\\u003eGlobal_active_power\\u003c\\u002fb\\u003e\",\"\\u003cb style=\\\"color:#00c8e5;line-height:60px\\\"\\u003eAnalysis\\u003c\\u002fb\\u003e\",\"\",\"[0:18442]\",\"Chunk index: \\u003cb\\u003e0\\u003c\\u002fb\\u003e\",0.0209],[\"Jensen-Shannon distance for \\u003cb\\u003eGlobal_active_power\\u003c\\u002fb\\u003e\",\"\\u003cb style=\\\"color:#00c8e5;line-height:60px\\\"\\u003eAnalysis\\u003c\\u002fb\\u003e\",\"\",\"[18443:36885]\",\"Chunk index: \\u003cb\\u003e1\\u003c\\u002fb\\u003e\",0.02],[\"Jensen-Shannon distance for \\u003cb\\u003eGlobal_active_power\\u003c\\u002fb\\u003e\",\"\\u003cb style=\\\"color:#00c8e5;line-height:60px\\\"\\u003eAnalysis\\u003c\\u002fb\\u003e\",\"\",\"[36886:55328]\",\"Chunk index: \\u003cb\\u003e2\\u003c\\u002fb\\u003e\",0.0139],[\"Jensen-Shannon distance for \\u003cb\\u003eGlobal_active_power\\u003c\\u002fb\\u003e\",\"\\u003cb style=\\\"color:#00c8e5;line-height:60px\\\"\\u003eAnalysis\\u003c\\u002fb\\u003e\",\"\",\"[55329:73771]\",\"Chunk index: \\u003cb\\u003e3\\u003c\\u002fb\\u003e\",0.019],[\"Jensen-Shannon distance for \\u003cb\\u003eGlobal_active_power\\u003c\\u002fb\\u003e\",\"\\u003cb style=\\\"color:#00c8e5;line-height:60px\\\"\\u003eAnalysis\\u003c\\u002fb\\u003e\",\"\",\"[73772:92214]\",\"Chunk index: \\u003cb\\u003e4\\u003c\\u002fb\\u003e\",0.0213],[\"Jensen-Shannon distance for \\u003cb\\u003eGlobal_active_power\\u003c\\u002fb\\u003e\",\"\\u003cb style=\\\"color:#00c8e5;line-height:60px\\\"\\u003eAnalysis\\u003c\\u002fb\\u003e\",\"\",\"[92215:110657]\",\"Chunk index: \\u003cb\\u003e5\\u003c\\u002fb\\u003e\",0.0175],[\"Jensen-Shannon distance for \\u003cb\\u003eGlobal_active_power\\u003c\\u002fb\\u003e\",\"\\u003cb style=\\\"color:#00c8e5;line-height:60px\\\"\\u003eAnalysis\\u003c\\u002fb\\u003e\",\"\",\"[110658:129100]\",\"Chunk index: \\u003cb\\u003e6\\u003c\\u002fb\\u003e\",0.0144],[\"Jensen-Shannon distance for \\u003cb\\u003eGlobal_active_power\\u003c\\u002fb\\u003e\",\"\\u003cb style=\\\"color:#00c8e5;line-height:60px\\\"\\u003eAnalysis\\u003c\\u002fb\\u003e\",\"\",\"[129101:147543]\",\"Chunk index: \\u003cb\\u003e7\\u003c\\u002fb\\u003e\",0.017],[\"Jensen-Shannon distance for \\u003cb\\u003eGlobal_active_power\\u003c\\u002fb\\u003e\",\"\\u003cb style=\\\"color:#00c8e5;line-height:60px\\\"\\u003eAnalysis\\u003c\\u002fb\\u003e\",\"\",\"[147544:165986]\",\"Chunk index: \\u003cb\\u003e8\\u003c\\u002fb\\u003e\",0.0199],[\"Jensen-Shannon distance for \\u003cb\\u003eGlobal_active_power\\u003c\\u002fb\\u003e\",\"\\u003cb style=\\\"color:#00c8e5;line-height:60px\\\"\\u003eAnalysis\\u003c\\u002fb\\u003e\",\"\",\"[165987:184435]\",\"Chunk index: \\u003cb\\u003e9\\u003c\\u002fb\\u003e\",0.0148]],\"hovertemplate\":\"%{customdata[1]} &nbsp; &nbsp; %{customdata[2]} \\u003cbr \\u002f\\u003eChunk: \\u003cb\\u003e%{customdata[3]}\\u003c\\u002fb\\u003e &nbsp; &nbsp; %{customdata[4]} \\u003cbr \\u002f\\u003e%{customdata[0]}: \\u003cb\\u003e%{customdata[5]}\\u003c\\u002fb\\u003e\\u003cb r \\u002f\\u003e\\u003cextra\\u003e\\u003c\\u002fextra\\u003e\",\"legendgroup\":\"metric_analysis\",\"marker\":{\"color\":\"#00c8e5\",\"size\":5,\"symbol\":\"circle\"},\"mode\":\"markers\",\"name\":\"Method\",\"showlegend\":false,\"x\":[10.5,11.5,12.5,13.5,14.5,15.5,16.5,17.5,18.5,19.5],\"y\":[0.02085858637114442,0.020027159283379135,0.013908538411461955,0.01898337238354415,0.02130256235175074,0.017463779294360996,0.014407547225250979,0.017025734899243885,0.01987775139223527,0.014825241891337175,0.014825241891337175],\"type\":\"scatter\",\"xaxis\":\"x\",\"yaxis\":\"y\"},{\"hoverinfo\":\"skip\",\"legendgroup\":\"alert\",\"marker\":{\"color\":\"#DD4040\",\"size\":8,\"symbol\":\"diamond\"},\"mode\":\"markers\",\"name\":\"Alert\",\"showlegend\":true,\"x\":[],\"y\":[],\"type\":\"scatter\",\"xaxis\":\"x\",\"yaxis\":\"y\"},{\"hoverinfo\":\"skip\",\"legendgroup\":\"thresh\",\"line\":{\"color\":\"#DD4040\",\"dash\":\"dash\",\"width\":2},\"mode\":\"lines\",\"name\":\"Threshold\",\"showlegend\":true,\"x\":[0,1,2,3,4,5,6,7,8,9,10],\"y\":[0.1,0.1,0.1,0.1,0.1,0.1,0.1,0.1,0.1,0.1,0.1],\"type\":\"scatter\",\"xaxis\":\"x\",\"yaxis\":\"y\"},{\"hoverinfo\":\"skip\",\"legendgroup\":\"thresh\",\"line\":{\"color\":\"#DD4040\",\"dash\":\"dash\",\"width\":2},\"mode\":\"lines\",\"name\":\"Threshold\",\"showlegend\":false,\"x\":[10,11,12,13,14,15,16,17,18,19,20],\"y\":[0.1,0.1,0.1,0.1,0.1,0.1,0.1,0.1,0.1,0.1,0.1],\"type\":\"scatter\",\"xaxis\":\"x\",\"yaxis\":\"y\"},{\"hoverinfo\":\"skip\",\"legendgroup\":\"metric_reference\",\"line\":{\"color\":\"#00c8e5\",\"shape\":\"hv\",\"width\":2},\"mode\":\"lines\",\"name\":\"Method\",\"showlegend\":false,\"x\":[0,1,2,3,4,5,6,7,8,9,10],\"y\":[0.013332960112777011,0.017700881690498164,0.014376255768684537,0.010864344990343989,0.01501078885785704,0.016335243333797336,0.016407085504395902,0.015061779676443485,0.01216965952610588,0.014804724059926716,0.014804724059926716],\"type\":\"scatter\",\"xaxis\":\"x2\",\"yaxis\":\"y2\"},{\"customdata\":[[\"Jensen-Shannon distance for \\u003cb\\u003eGlobal_intensity\\u003c\\u002fb\\u003e\",\"\\u003cb style=\\\"color:#00c8e5;line-height:60px\\\"\\u003eReference\\u003c\\u002fb\\u003e\",\"\",\"[0:20491]\",\"Chunk index: \\u003cb\\u003e0\\u003c\\u002fb\\u003e\",0.0133],[\"Jensen-Shannon distance for \\u003cb\\u003eGlobal_intensity\\u003c\\u002fb\\u003e\",\"\\u003cb style=\\\"color:#00c8e5;line-height:60px\\\"\\u003eReference\\u003c\\u002fb\\u003e\",\"\",\"[20492:40983]\",\"Chunk index: \\u003cb\\u003e1\\u003c\\u002fb\\u003e\",0.0177],[\"Jensen-Shannon distance for \\u003cb\\u003eGlobal_intensity\\u003c\\u002fb\\u003e\",\"\\u003cb style=\\\"color:#00c8e5;line-height:60px\\\"\\u003eReference\\u003c\\u002fb\\u003e\",\"\",\"[40984:61475]\",\"Chunk index: \\u003cb\\u003e2\\u003c\\u002fb\\u003e\",0.0144],[\"Jensen-Shannon distance for \\u003cb\\u003eGlobal_intensity\\u003c\\u002fb\\u003e\",\"\\u003cb style=\\\"color:#00c8e5;line-height:60px\\\"\\u003eReference\\u003c\\u002fb\\u003e\",\"\",\"[61476:81967]\",\"Chunk index: \\u003cb\\u003e3\\u003c\\u002fb\\u003e\",0.0109],[\"Jensen-Shannon distance for \\u003cb\\u003eGlobal_intensity\\u003c\\u002fb\\u003e\",\"\\u003cb style=\\\"color:#00c8e5;line-height:60px\\\"\\u003eReference\\u003c\\u002fb\\u003e\",\"\",\"[81968:102459]\",\"Chunk index: \\u003cb\\u003e4\\u003c\\u002fb\\u003e\",0.015],[\"Jensen-Shannon distance for \\u003cb\\u003eGlobal_intensity\\u003c\\u002fb\\u003e\",\"\\u003cb style=\\\"color:#00c8e5;line-height:60px\\\"\\u003eReference\\u003c\\u002fb\\u003e\",\"\",\"[102460:122951]\",\"Chunk index: \\u003cb\\u003e5\\u003c\\u002fb\\u003e\",0.0163],[\"Jensen-Shannon distance for \\u003cb\\u003eGlobal_intensity\\u003c\\u002fb\\u003e\",\"\\u003cb style=\\\"color:#00c8e5;line-height:60px\\\"\\u003eReference\\u003c\\u002fb\\u003e\",\"\",\"[122952:143443]\",\"Chunk index: \\u003cb\\u003e6\\u003c\\u002fb\\u003e\",0.0164],[\"Jensen-Shannon distance for \\u003cb\\u003eGlobal_intensity\\u003c\\u002fb\\u003e\",\"\\u003cb style=\\\"color:#00c8e5;line-height:60px\\\"\\u003eReference\\u003c\\u002fb\\u003e\",\"\",\"[143444:163935]\",\"Chunk index: \\u003cb\\u003e7\\u003c\\u002fb\\u003e\",0.0151],[\"Jensen-Shannon distance for \\u003cb\\u003eGlobal_intensity\\u003c\\u002fb\\u003e\",\"\\u003cb style=\\\"color:#00c8e5;line-height:60px\\\"\\u003eReference\\u003c\\u002fb\\u003e\",\"\",\"[163936:184427]\",\"Chunk index: \\u003cb\\u003e8\\u003c\\u002fb\\u003e\",0.0122],[\"Jensen-Shannon distance for \\u003cb\\u003eGlobal_intensity\\u003c\\u002fb\\u003e\",\"\\u003cb style=\\\"color:#00c8e5;line-height:60px\\\"\\u003eReference\\u003c\\u002fb\\u003e\",\"\",\"[184428:204927]\",\"Chunk index: \\u003cb\\u003e9\\u003c\\u002fb\\u003e\",0.0148]],\"hovertemplate\":\"%{customdata[1]} &nbsp; &nbsp; %{customdata[2]} \\u003cbr \\u002f\\u003eChunk: \\u003cb\\u003e%{customdata[3]}\\u003c\\u002fb\\u003e &nbsp; &nbsp; %{customdata[4]} \\u003cbr \\u002f\\u003e%{customdata[0]}: \\u003cb\\u003e%{customdata[5]}\\u003c\\u002fb\\u003e\\u003cb r \\u002f\\u003e\\u003cextra\\u003e\\u003c\\u002fextra\\u003e\",\"legendgroup\":\"metric_reference\",\"marker\":{\"color\":\"#00c8e5\",\"size\":5,\"symbol\":\"circle\"},\"mode\":\"markers\",\"name\":\"Method\",\"showlegend\":false,\"x\":[0.5,1.5,2.5,3.5,4.5,5.5,6.5,7.5,8.5,9.5],\"y\":[0.013332960112777011,0.017700881690498164,0.014376255768684537,0.010864344990343989,0.01501078885785704,0.016335243333797336,0.016407085504395902,0.015061779676443485,0.01216965952610588,0.014804724059926716,0.014804724059926716],\"type\":\"scatter\",\"xaxis\":\"x2\",\"yaxis\":\"y2\"},{\"hoverinfo\":\"skip\",\"legendgroup\":\"metric_analysis\",\"line\":{\"color\":\"#00c8e5\",\"shape\":\"hv\",\"width\":2},\"mode\":\"lines\",\"name\":\"Method\",\"showlegend\":false,\"x\":[10,11,12,13,14,15,16,17,18,19,20],\"y\":[0.017094838652003407,0.01917030885623279,0.014347591997425038,0.016146369509106362,0.017578902695414365,0.01816389474036034,0.01689616167271161,0.01736754906921539,0.01603659125148689,0.01329123452132803,0.01329123452132803],\"type\":\"scatter\",\"xaxis\":\"x2\",\"yaxis\":\"y2\"},{\"customdata\":[[\"Jensen-Shannon distance for \\u003cb\\u003eGlobal_intensity\\u003c\\u002fb\\u003e\",\"\\u003cb style=\\\"color:#00c8e5;line-height:60px\\\"\\u003eAnalysis\\u003c\\u002fb\\u003e\",\"\",\"[0:18442]\",\"Chunk index: \\u003cb\\u003e0\\u003c\\u002fb\\u003e\",0.0171],[\"Jensen-Shannon distance for \\u003cb\\u003eGlobal_intensity\\u003c\\u002fb\\u003e\",\"\\u003cb style=\\\"color:#00c8e5;line-height:60px\\\"\\u003eAnalysis\\u003c\\u002fb\\u003e\",\"\",\"[18443:36885]\",\"Chunk index: \\u003cb\\u003e1\\u003c\\u002fb\\u003e\",0.0192],[\"Jensen-Shannon distance for \\u003cb\\u003eGlobal_intensity\\u003c\\u002fb\\u003e\",\"\\u003cb style=\\\"color:#00c8e5;line-height:60px\\\"\\u003eAnalysis\\u003c\\u002fb\\u003e\",\"\",\"[36886:55328]\",\"Chunk index: \\u003cb\\u003e2\\u003c\\u002fb\\u003e\",0.0143],[\"Jensen-Shannon distance for \\u003cb\\u003eGlobal_intensity\\u003c\\u002fb\\u003e\",\"\\u003cb style=\\\"color:#00c8e5;line-height:60px\\\"\\u003eAnalysis\\u003c\\u002fb\\u003e\",\"\",\"[55329:73771]\",\"Chunk index: \\u003cb\\u003e3\\u003c\\u002fb\\u003e\",0.0161],[\"Jensen-Shannon distance for \\u003cb\\u003eGlobal_intensity\\u003c\\u002fb\\u003e\",\"\\u003cb style=\\\"color:#00c8e5;line-height:60px\\\"\\u003eAnalysis\\u003c\\u002fb\\u003e\",\"\",\"[73772:92214]\",\"Chunk index: \\u003cb\\u003e4\\u003c\\u002fb\\u003e\",0.0176],[\"Jensen-Shannon distance for \\u003cb\\u003eGlobal_intensity\\u003c\\u002fb\\u003e\",\"\\u003cb style=\\\"color:#00c8e5;line-height:60px\\\"\\u003eAnalysis\\u003c\\u002fb\\u003e\",\"\",\"[92215:110657]\",\"Chunk index: \\u003cb\\u003e5\\u003c\\u002fb\\u003e\",0.0182],[\"Jensen-Shannon distance for \\u003cb\\u003eGlobal_intensity\\u003c\\u002fb\\u003e\",\"\\u003cb style=\\\"color:#00c8e5;line-height:60px\\\"\\u003eAnalysis\\u003c\\u002fb\\u003e\",\"\",\"[110658:129100]\",\"Chunk index: \\u003cb\\u003e6\\u003c\\u002fb\\u003e\",0.0169],[\"Jensen-Shannon distance for \\u003cb\\u003eGlobal_intensity\\u003c\\u002fb\\u003e\",\"\\u003cb style=\\\"color:#00c8e5;line-height:60px\\\"\\u003eAnalysis\\u003c\\u002fb\\u003e\",\"\",\"[129101:147543]\",\"Chunk index: \\u003cb\\u003e7\\u003c\\u002fb\\u003e\",0.0174],[\"Jensen-Shannon distance for \\u003cb\\u003eGlobal_intensity\\u003c\\u002fb\\u003e\",\"\\u003cb style=\\\"color:#00c8e5;line-height:60px\\\"\\u003eAnalysis\\u003c\\u002fb\\u003e\",\"\",\"[147544:165986]\",\"Chunk index: \\u003cb\\u003e8\\u003c\\u002fb\\u003e\",0.016],[\"Jensen-Shannon distance for \\u003cb\\u003eGlobal_intensity\\u003c\\u002fb\\u003e\",\"\\u003cb style=\\\"color:#00c8e5;line-height:60px\\\"\\u003eAnalysis\\u003c\\u002fb\\u003e\",\"\",\"[165987:184435]\",\"Chunk index: \\u003cb\\u003e9\\u003c\\u002fb\\u003e\",0.0133]],\"hovertemplate\":\"%{customdata[1]} &nbsp; &nbsp; %{customdata[2]} \\u003cbr \\u002f\\u003eChunk: \\u003cb\\u003e%{customdata[3]}\\u003c\\u002fb\\u003e &nbsp; &nbsp; %{customdata[4]} \\u003cbr \\u002f\\u003e%{customdata[0]}: \\u003cb\\u003e%{customdata[5]}\\u003c\\u002fb\\u003e\\u003cb r \\u002f\\u003e\\u003cextra\\u003e\\u003c\\u002fextra\\u003e\",\"legendgroup\":\"metric_analysis\",\"marker\":{\"color\":\"#00c8e5\",\"size\":5,\"symbol\":\"circle\"},\"mode\":\"markers\",\"name\":\"Method\",\"showlegend\":false,\"x\":[10.5,11.5,12.5,13.5,14.5,15.5,16.5,17.5,18.5,19.5],\"y\":[0.017094838652003407,0.01917030885623279,0.014347591997425038,0.016146369509106362,0.017578902695414365,0.01816389474036034,0.01689616167271161,0.01736754906921539,0.01603659125148689,0.01329123452132803,0.01329123452132803],\"type\":\"scatter\",\"xaxis\":\"x2\",\"yaxis\":\"y2\"},{\"hoverinfo\":\"skip\",\"legendgroup\":\"alert\",\"marker\":{\"color\":\"#DD4040\",\"size\":8,\"symbol\":\"diamond\"},\"mode\":\"markers\",\"name\":\"Alert\",\"showlegend\":false,\"x\":[],\"y\":[],\"type\":\"scatter\",\"xaxis\":\"x2\",\"yaxis\":\"y2\"},{\"hoverinfo\":\"skip\",\"legendgroup\":\"thresh\",\"line\":{\"color\":\"#DD4040\",\"dash\":\"dash\",\"width\":2},\"mode\":\"lines\",\"name\":\"Threshold\",\"showlegend\":false,\"x\":[0,1,2,3,4,5,6,7,8,9,10],\"y\":[0.1,0.1,0.1,0.1,0.1,0.1,0.1,0.1,0.1,0.1,0.1],\"type\":\"scatter\",\"xaxis\":\"x2\",\"yaxis\":\"y2\"},{\"hoverinfo\":\"skip\",\"legendgroup\":\"thresh\",\"line\":{\"color\":\"#DD4040\",\"dash\":\"dash\",\"width\":2},\"mode\":\"lines\",\"name\":\"Threshold\",\"showlegend\":false,\"x\":[10,11,12,13,14,15,16,17,18,19,20],\"y\":[0.1,0.1,0.1,0.1,0.1,0.1,0.1,0.1,0.1,0.1,0.1],\"type\":\"scatter\",\"xaxis\":\"x2\",\"yaxis\":\"y2\"},{\"hoverinfo\":\"skip\",\"legendgroup\":\"metric_reference\",\"line\":{\"color\":\"#00c8e5\",\"shape\":\"hv\",\"width\":2},\"mode\":\"lines\",\"name\":\"Method\",\"showlegend\":false,\"x\":[0,1,2,3,4,5,6,7,8,9,10],\"y\":[0.014094116468550829,0.01120427414835234,0.01604496554937594,0.014288808009872554,0.011747411659378055,0.01732480783080624,0.012039465154200311,0.01563299033790774,0.017191887522716658,0.011910357955409534,0.011910357955409534],\"type\":\"scatter\",\"xaxis\":\"x3\",\"yaxis\":\"y3\"},{\"customdata\":[[\"Jensen-Shannon distance for \\u003cb\\u003eGlobal_reactive_power\\u003c\\u002fb\\u003e\",\"\\u003cb style=\\\"color:#00c8e5;line-height:60px\\\"\\u003eReference\\u003c\\u002fb\\u003e\",\"\",\"[0:20491]\",\"Chunk index: \\u003cb\\u003e0\\u003c\\u002fb\\u003e\",0.0141],[\"Jensen-Shannon distance for \\u003cb\\u003eGlobal_reactive_power\\u003c\\u002fb\\u003e\",\"\\u003cb style=\\\"color:#00c8e5;line-height:60px\\\"\\u003eReference\\u003c\\u002fb\\u003e\",\"\",\"[20492:40983]\",\"Chunk index: \\u003cb\\u003e1\\u003c\\u002fb\\u003e\",0.0112],[\"Jensen-Shannon distance for \\u003cb\\u003eGlobal_reactive_power\\u003c\\u002fb\\u003e\",\"\\u003cb style=\\\"color:#00c8e5;line-height:60px\\\"\\u003eReference\\u003c\\u002fb\\u003e\",\"\",\"[40984:61475]\",\"Chunk index: \\u003cb\\u003e2\\u003c\\u002fb\\u003e\",0.016],[\"Jensen-Shannon distance for \\u003cb\\u003eGlobal_reactive_power\\u003c\\u002fb\\u003e\",\"\\u003cb style=\\\"color:#00c8e5;line-height:60px\\\"\\u003eReference\\u003c\\u002fb\\u003e\",\"\",\"[61476:81967]\",\"Chunk index: \\u003cb\\u003e3\\u003c\\u002fb\\u003e\",0.0143],[\"Jensen-Shannon distance for \\u003cb\\u003eGlobal_reactive_power\\u003c\\u002fb\\u003e\",\"\\u003cb style=\\\"color:#00c8e5;line-height:60px\\\"\\u003eReference\\u003c\\u002fb\\u003e\",\"\",\"[81968:102459]\",\"Chunk index: \\u003cb\\u003e4\\u003c\\u002fb\\u003e\",0.0117],[\"Jensen-Shannon distance for \\u003cb\\u003eGlobal_reactive_power\\u003c\\u002fb\\u003e\",\"\\u003cb style=\\\"color:#00c8e5;line-height:60px\\\"\\u003eReference\\u003c\\u002fb\\u003e\",\"\",\"[102460:122951]\",\"Chunk index: \\u003cb\\u003e5\\u003c\\u002fb\\u003e\",0.0173],[\"Jensen-Shannon distance for \\u003cb\\u003eGlobal_reactive_power\\u003c\\u002fb\\u003e\",\"\\u003cb style=\\\"color:#00c8e5;line-height:60px\\\"\\u003eReference\\u003c\\u002fb\\u003e\",\"\",\"[122952:143443]\",\"Chunk index: \\u003cb\\u003e6\\u003c\\u002fb\\u003e\",0.012],[\"Jensen-Shannon distance for \\u003cb\\u003eGlobal_reactive_power\\u003c\\u002fb\\u003e\",\"\\u003cb style=\\\"color:#00c8e5;line-height:60px\\\"\\u003eReference\\u003c\\u002fb\\u003e\",\"\",\"[143444:163935]\",\"Chunk index: \\u003cb\\u003e7\\u003c\\u002fb\\u003e\",0.0156],[\"Jensen-Shannon distance for \\u003cb\\u003eGlobal_reactive_power\\u003c\\u002fb\\u003e\",\"\\u003cb style=\\\"color:#00c8e5;line-height:60px\\\"\\u003eReference\\u003c\\u002fb\\u003e\",\"\",\"[163936:184427]\",\"Chunk index: \\u003cb\\u003e8\\u003c\\u002fb\\u003e\",0.0172],[\"Jensen-Shannon distance for \\u003cb\\u003eGlobal_reactive_power\\u003c\\u002fb\\u003e\",\"\\u003cb style=\\\"color:#00c8e5;line-height:60px\\\"\\u003eReference\\u003c\\u002fb\\u003e\",\"\",\"[184428:204927]\",\"Chunk index: \\u003cb\\u003e9\\u003c\\u002fb\\u003e\",0.0119]],\"hovertemplate\":\"%{customdata[1]} &nbsp; &nbsp; %{customdata[2]} \\u003cbr \\u002f\\u003eChunk: \\u003cb\\u003e%{customdata[3]}\\u003c\\u002fb\\u003e &nbsp; &nbsp; %{customdata[4]} \\u003cbr \\u002f\\u003e%{customdata[0]}: \\u003cb\\u003e%{customdata[5]}\\u003c\\u002fb\\u003e\\u003cb r \\u002f\\u003e\\u003cextra\\u003e\\u003c\\u002fextra\\u003e\",\"legendgroup\":\"metric_reference\",\"marker\":{\"color\":\"#00c8e5\",\"size\":5,\"symbol\":\"circle\"},\"mode\":\"markers\",\"name\":\"Method\",\"showlegend\":false,\"x\":[0.5,1.5,2.5,3.5,4.5,5.5,6.5,7.5,8.5,9.5],\"y\":[0.014094116468550829,0.01120427414835234,0.01604496554937594,0.014288808009872554,0.011747411659378055,0.01732480783080624,0.012039465154200311,0.01563299033790774,0.017191887522716658,0.011910357955409534,0.011910357955409534],\"type\":\"scatter\",\"xaxis\":\"x3\",\"yaxis\":\"y3\"},{\"hoverinfo\":\"skip\",\"legendgroup\":\"metric_analysis\",\"line\":{\"color\":\"#00c8e5\",\"shape\":\"hv\",\"width\":2},\"mode\":\"lines\",\"name\":\"Method\",\"showlegend\":false,\"x\":[10,11,12,13,14,15,16,17,18,19,20],\"y\":[0.014829241203462473,0.013535754381888816,0.012679155908189427,0.0185659857254684,0.01606336303589229,0.013477622223786567,0.016792563829583003,0.013673599147544202,0.016145111362451982,0.016018896883274642,0.016018896883274642],\"type\":\"scatter\",\"xaxis\":\"x3\",\"yaxis\":\"y3\"},{\"customdata\":[[\"Jensen-Shannon distance for \\u003cb\\u003eGlobal_reactive_power\\u003c\\u002fb\\u003e\",\"\\u003cb style=\\\"color:#00c8e5;line-height:60px\\\"\\u003eAnalysis\\u003c\\u002fb\\u003e\",\"\",\"[0:18442]\",\"Chunk index: \\u003cb\\u003e0\\u003c\\u002fb\\u003e\",0.0148],[\"Jensen-Shannon distance for \\u003cb\\u003eGlobal_reactive_power\\u003c\\u002fb\\u003e\",\"\\u003cb style=\\\"color:#00c8e5;line-height:60px\\\"\\u003eAnalysis\\u003c\\u002fb\\u003e\",\"\",\"[18443:36885]\",\"Chunk index: \\u003cb\\u003e1\\u003c\\u002fb\\u003e\",0.0135],[\"Jensen-Shannon distance for \\u003cb\\u003eGlobal_reactive_power\\u003c\\u002fb\\u003e\",\"\\u003cb style=\\\"color:#00c8e5;line-height:60px\\\"\\u003eAnalysis\\u003c\\u002fb\\u003e\",\"\",\"[36886:55328]\",\"Chunk index: \\u003cb\\u003e2\\u003c\\u002fb\\u003e\",0.0127],[\"Jensen-Shannon distance for \\u003cb\\u003eGlobal_reactive_power\\u003c\\u002fb\\u003e\",\"\\u003cb style=\\\"color:#00c8e5;line-height:60px\\\"\\u003eAnalysis\\u003c\\u002fb\\u003e\",\"\",\"[55329:73771]\",\"Chunk index: \\u003cb\\u003e3\\u003c\\u002fb\\u003e\",0.0186],[\"Jensen-Shannon distance for \\u003cb\\u003eGlobal_reactive_power\\u003c\\u002fb\\u003e\",\"\\u003cb style=\\\"color:#00c8e5;line-height:60px\\\"\\u003eAnalysis\\u003c\\u002fb\\u003e\",\"\",\"[73772:92214]\",\"Chunk index: \\u003cb\\u003e4\\u003c\\u002fb\\u003e\",0.0161],[\"Jensen-Shannon distance for \\u003cb\\u003eGlobal_reactive_power\\u003c\\u002fb\\u003e\",\"\\u003cb style=\\\"color:#00c8e5;line-height:60px\\\"\\u003eAnalysis\\u003c\\u002fb\\u003e\",\"\",\"[92215:110657]\",\"Chunk index: \\u003cb\\u003e5\\u003c\\u002fb\\u003e\",0.0135],[\"Jensen-Shannon distance for \\u003cb\\u003eGlobal_reactive_power\\u003c\\u002fb\\u003e\",\"\\u003cb style=\\\"color:#00c8e5;line-height:60px\\\"\\u003eAnalysis\\u003c\\u002fb\\u003e\",\"\",\"[110658:129100]\",\"Chunk index: \\u003cb\\u003e6\\u003c\\u002fb\\u003e\",0.0168],[\"Jensen-Shannon distance for \\u003cb\\u003eGlobal_reactive_power\\u003c\\u002fb\\u003e\",\"\\u003cb style=\\\"color:#00c8e5;line-height:60px\\\"\\u003eAnalysis\\u003c\\u002fb\\u003e\",\"\",\"[129101:147543]\",\"Chunk index: \\u003cb\\u003e7\\u003c\\u002fb\\u003e\",0.0137],[\"Jensen-Shannon distance for \\u003cb\\u003eGlobal_reactive_power\\u003c\\u002fb\\u003e\",\"\\u003cb style=\\\"color:#00c8e5;line-height:60px\\\"\\u003eAnalysis\\u003c\\u002fb\\u003e\",\"\",\"[147544:165986]\",\"Chunk index: \\u003cb\\u003e8\\u003c\\u002fb\\u003e\",0.0161],[\"Jensen-Shannon distance for \\u003cb\\u003eGlobal_reactive_power\\u003c\\u002fb\\u003e\",\"\\u003cb style=\\\"color:#00c8e5;line-height:60px\\\"\\u003eAnalysis\\u003c\\u002fb\\u003e\",\"\",\"[165987:184435]\",\"Chunk index: \\u003cb\\u003e9\\u003c\\u002fb\\u003e\",0.016]],\"hovertemplate\":\"%{customdata[1]} &nbsp; &nbsp; %{customdata[2]} \\u003cbr \\u002f\\u003eChunk: \\u003cb\\u003e%{customdata[3]}\\u003c\\u002fb\\u003e &nbsp; &nbsp; %{customdata[4]} \\u003cbr \\u002f\\u003e%{customdata[0]}: \\u003cb\\u003e%{customdata[5]}\\u003c\\u002fb\\u003e\\u003cb r \\u002f\\u003e\\u003cextra\\u003e\\u003c\\u002fextra\\u003e\",\"legendgroup\":\"metric_analysis\",\"marker\":{\"color\":\"#00c8e5\",\"size\":5,\"symbol\":\"circle\"},\"mode\":\"markers\",\"name\":\"Method\",\"showlegend\":false,\"x\":[10.5,11.5,12.5,13.5,14.5,15.5,16.5,17.5,18.5,19.5],\"y\":[0.014829241203462473,0.013535754381888816,0.012679155908189427,0.0185659857254684,0.01606336303589229,0.013477622223786567,0.016792563829583003,0.013673599147544202,0.016145111362451982,0.016018896883274642,0.016018896883274642],\"type\":\"scatter\",\"xaxis\":\"x3\",\"yaxis\":\"y3\"},{\"hoverinfo\":\"skip\",\"legendgroup\":\"alert\",\"marker\":{\"color\":\"#DD4040\",\"size\":8,\"symbol\":\"diamond\"},\"mode\":\"markers\",\"name\":\"Alert\",\"showlegend\":false,\"x\":[],\"y\":[],\"type\":\"scatter\",\"xaxis\":\"x3\",\"yaxis\":\"y3\"},{\"hoverinfo\":\"skip\",\"legendgroup\":\"thresh\",\"line\":{\"color\":\"#DD4040\",\"dash\":\"dash\",\"width\":2},\"mode\":\"lines\",\"name\":\"Threshold\",\"showlegend\":false,\"x\":[0,1,2,3,4,5,6,7,8,9,10],\"y\":[0.1,0.1,0.1,0.1,0.1,0.1,0.1,0.1,0.1,0.1,0.1],\"type\":\"scatter\",\"xaxis\":\"x3\",\"yaxis\":\"y3\"},{\"hoverinfo\":\"skip\",\"legendgroup\":\"thresh\",\"line\":{\"color\":\"#DD4040\",\"dash\":\"dash\",\"width\":2},\"mode\":\"lines\",\"name\":\"Threshold\",\"showlegend\":false,\"x\":[10,11,12,13,14,15,16,17,18,19,20],\"y\":[0.1,0.1,0.1,0.1,0.1,0.1,0.1,0.1,0.1,0.1,0.1],\"type\":\"scatter\",\"xaxis\":\"x3\",\"yaxis\":\"y3\"},{\"hoverinfo\":\"skip\",\"legendgroup\":\"metric_reference\",\"line\":{\"color\":\"#00c8e5\",\"shape\":\"hv\",\"width\":2},\"mode\":\"lines\",\"name\":\"Method\",\"showlegend\":false,\"x\":[0,1,2,3,4,5,6,7,8,9,10],\"y\":[0.014261513667099875,0.0152434469587797,0.013046479786453674,0.011879539064050553,0.018535750114261514,0.0148383654844547,0.015036834322190202,0.015665983771198003,0.016580622073684093,0.012727708639872588,0.012727708639872588],\"type\":\"scatter\",\"xaxis\":\"x4\",\"yaxis\":\"y4\"},{\"customdata\":[[\"Jensen-Shannon distance for \\u003cb\\u003eSub_metering_1\\u003c\\u002fb\\u003e\",\"\\u003cb style=\\\"color:#00c8e5;line-height:60px\\\"\\u003eReference\\u003c\\u002fb\\u003e\",\"\",\"[0:20491]\",\"Chunk index: \\u003cb\\u003e0\\u003c\\u002fb\\u003e\",0.0143],[\"Jensen-Shannon distance for \\u003cb\\u003eSub_metering_1\\u003c\\u002fb\\u003e\",\"\\u003cb style=\\\"color:#00c8e5;line-height:60px\\\"\\u003eReference\\u003c\\u002fb\\u003e\",\"\",\"[20492:40983]\",\"Chunk index: \\u003cb\\u003e1\\u003c\\u002fb\\u003e\",0.0152],[\"Jensen-Shannon distance for \\u003cb\\u003eSub_metering_1\\u003c\\u002fb\\u003e\",\"\\u003cb style=\\\"color:#00c8e5;line-height:60px\\\"\\u003eReference\\u003c\\u002fb\\u003e\",\"\",\"[40984:61475]\",\"Chunk index: \\u003cb\\u003e2\\u003c\\u002fb\\u003e\",0.013],[\"Jensen-Shannon distance for \\u003cb\\u003eSub_metering_1\\u003c\\u002fb\\u003e\",\"\\u003cb style=\\\"color:#00c8e5;line-height:60px\\\"\\u003eReference\\u003c\\u002fb\\u003e\",\"\",\"[61476:81967]\",\"Chunk index: \\u003cb\\u003e3\\u003c\\u002fb\\u003e\",0.0119],[\"Jensen-Shannon distance for \\u003cb\\u003eSub_metering_1\\u003c\\u002fb\\u003e\",\"\\u003cb style=\\\"color:#00c8e5;line-height:60px\\\"\\u003eReference\\u003c\\u002fb\\u003e\",\"\",\"[81968:102459]\",\"Chunk index: \\u003cb\\u003e4\\u003c\\u002fb\\u003e\",0.0185],[\"Jensen-Shannon distance for \\u003cb\\u003eSub_metering_1\\u003c\\u002fb\\u003e\",\"\\u003cb style=\\\"color:#00c8e5;line-height:60px\\\"\\u003eReference\\u003c\\u002fb\\u003e\",\"\",\"[102460:122951]\",\"Chunk index: \\u003cb\\u003e5\\u003c\\u002fb\\u003e\",0.0148],[\"Jensen-Shannon distance for \\u003cb\\u003eSub_metering_1\\u003c\\u002fb\\u003e\",\"\\u003cb style=\\\"color:#00c8e5;line-height:60px\\\"\\u003eReference\\u003c\\u002fb\\u003e\",\"\",\"[122952:143443]\",\"Chunk index: \\u003cb\\u003e6\\u003c\\u002fb\\u003e\",0.015],[\"Jensen-Shannon distance for \\u003cb\\u003eSub_metering_1\\u003c\\u002fb\\u003e\",\"\\u003cb style=\\\"color:#00c8e5;line-height:60px\\\"\\u003eReference\\u003c\\u002fb\\u003e\",\"\",\"[143444:163935]\",\"Chunk index: \\u003cb\\u003e7\\u003c\\u002fb\\u003e\",0.0157],[\"Jensen-Shannon distance for \\u003cb\\u003eSub_metering_1\\u003c\\u002fb\\u003e\",\"\\u003cb style=\\\"color:#00c8e5;line-height:60px\\\"\\u003eReference\\u003c\\u002fb\\u003e\",\"\",\"[163936:184427]\",\"Chunk index: \\u003cb\\u003e8\\u003c\\u002fb\\u003e\",0.0166],[\"Jensen-Shannon distance for \\u003cb\\u003eSub_metering_1\\u003c\\u002fb\\u003e\",\"\\u003cb style=\\\"color:#00c8e5;line-height:60px\\\"\\u003eReference\\u003c\\u002fb\\u003e\",\"\",\"[184428:204927]\",\"Chunk index: \\u003cb\\u003e9\\u003c\\u002fb\\u003e\",0.0127]],\"hovertemplate\":\"%{customdata[1]} &nbsp; &nbsp; %{customdata[2]} \\u003cbr \\u002f\\u003eChunk: \\u003cb\\u003e%{customdata[3]}\\u003c\\u002fb\\u003e &nbsp; &nbsp; %{customdata[4]} \\u003cbr \\u002f\\u003e%{customdata[0]}: \\u003cb\\u003e%{customdata[5]}\\u003c\\u002fb\\u003e\\u003cb r \\u002f\\u003e\\u003cextra\\u003e\\u003c\\u002fextra\\u003e\",\"legendgroup\":\"metric_reference\",\"marker\":{\"color\":\"#00c8e5\",\"size\":5,\"symbol\":\"circle\"},\"mode\":\"markers\",\"name\":\"Method\",\"showlegend\":false,\"x\":[0.5,1.5,2.5,3.5,4.5,5.5,6.5,7.5,8.5,9.5],\"y\":[0.014261513667099875,0.0152434469587797,0.013046479786453674,0.011879539064050553,0.018535750114261514,0.0148383654844547,0.015036834322190202,0.015665983771198003,0.016580622073684093,0.012727708639872588,0.012727708639872588],\"type\":\"scatter\",\"xaxis\":\"x4\",\"yaxis\":\"y4\"},{\"hoverinfo\":\"skip\",\"legendgroup\":\"metric_analysis\",\"line\":{\"color\":\"#00c8e5\",\"shape\":\"hv\",\"width\":2},\"mode\":\"lines\",\"name\":\"Method\",\"showlegend\":false,\"x\":[10,11,12,13,14,15,16,17,18,19,20],\"y\":[0.01806267385933998,0.01888462932747995,0.016598439813198213,0.016601805495818352,0.017577575578326593,0.015506523473138564,0.013587904928379333,0.020217445854412285,0.01620354956234276,0.018672360459595493,0.018672360459595493],\"type\":\"scatter\",\"xaxis\":\"x4\",\"yaxis\":\"y4\"},{\"customdata\":[[\"Jensen-Shannon distance for \\u003cb\\u003eSub_metering_1\\u003c\\u002fb\\u003e\",\"\\u003cb style=\\\"color:#00c8e5;line-height:60px\\\"\\u003eAnalysis\\u003c\\u002fb\\u003e\",\"\",\"[0:18442]\",\"Chunk index: \\u003cb\\u003e0\\u003c\\u002fb\\u003e\",0.0181],[\"Jensen-Shannon distance for \\u003cb\\u003eSub_metering_1\\u003c\\u002fb\\u003e\",\"\\u003cb style=\\\"color:#00c8e5;line-height:60px\\\"\\u003eAnalysis\\u003c\\u002fb\\u003e\",\"\",\"[18443:36885]\",\"Chunk index: \\u003cb\\u003e1\\u003c\\u002fb\\u003e\",0.0189],[\"Jensen-Shannon distance for \\u003cb\\u003eSub_metering_1\\u003c\\u002fb\\u003e\",\"\\u003cb style=\\\"color:#00c8e5;line-height:60px\\\"\\u003eAnalysis\\u003c\\u002fb\\u003e\",\"\",\"[36886:55328]\",\"Chunk index: \\u003cb\\u003e2\\u003c\\u002fb\\u003e\",0.0166],[\"Jensen-Shannon distance for \\u003cb\\u003eSub_metering_1\\u003c\\u002fb\\u003e\",\"\\u003cb style=\\\"color:#00c8e5;line-height:60px\\\"\\u003eAnalysis\\u003c\\u002fb\\u003e\",\"\",\"[55329:73771]\",\"Chunk index: \\u003cb\\u003e3\\u003c\\u002fb\\u003e\",0.0166],[\"Jensen-Shannon distance for \\u003cb\\u003eSub_metering_1\\u003c\\u002fb\\u003e\",\"\\u003cb style=\\\"color:#00c8e5;line-height:60px\\\"\\u003eAnalysis\\u003c\\u002fb\\u003e\",\"\",\"[73772:92214]\",\"Chunk index: \\u003cb\\u003e4\\u003c\\u002fb\\u003e\",0.0176],[\"Jensen-Shannon distance for \\u003cb\\u003eSub_metering_1\\u003c\\u002fb\\u003e\",\"\\u003cb style=\\\"color:#00c8e5;line-height:60px\\\"\\u003eAnalysis\\u003c\\u002fb\\u003e\",\"\",\"[92215:110657]\",\"Chunk index: \\u003cb\\u003e5\\u003c\\u002fb\\u003e\",0.0155],[\"Jensen-Shannon distance for \\u003cb\\u003eSub_metering_1\\u003c\\u002fb\\u003e\",\"\\u003cb style=\\\"color:#00c8e5;line-height:60px\\\"\\u003eAnalysis\\u003c\\u002fb\\u003e\",\"\",\"[110658:129100]\",\"Chunk index: \\u003cb\\u003e6\\u003c\\u002fb\\u003e\",0.0136],[\"Jensen-Shannon distance for \\u003cb\\u003eSub_metering_1\\u003c\\u002fb\\u003e\",\"\\u003cb style=\\\"color:#00c8e5;line-height:60px\\\"\\u003eAnalysis\\u003c\\u002fb\\u003e\",\"\",\"[129101:147543]\",\"Chunk index: \\u003cb\\u003e7\\u003c\\u002fb\\u003e\",0.0202],[\"Jensen-Shannon distance for \\u003cb\\u003eSub_metering_1\\u003c\\u002fb\\u003e\",\"\\u003cb style=\\\"color:#00c8e5;line-height:60px\\\"\\u003eAnalysis\\u003c\\u002fb\\u003e\",\"\",\"[147544:165986]\",\"Chunk index: \\u003cb\\u003e8\\u003c\\u002fb\\u003e\",0.0162],[\"Jensen-Shannon distance for \\u003cb\\u003eSub_metering_1\\u003c\\u002fb\\u003e\",\"\\u003cb style=\\\"color:#00c8e5;line-height:60px\\\"\\u003eAnalysis\\u003c\\u002fb\\u003e\",\"\",\"[165987:184435]\",\"Chunk index: \\u003cb\\u003e9\\u003c\\u002fb\\u003e\",0.0187]],\"hovertemplate\":\"%{customdata[1]} &nbsp; &nbsp; %{customdata[2]} \\u003cbr \\u002f\\u003eChunk: \\u003cb\\u003e%{customdata[3]}\\u003c\\u002fb\\u003e &nbsp; &nbsp; %{customdata[4]} \\u003cbr \\u002f\\u003e%{customdata[0]}: \\u003cb\\u003e%{customdata[5]}\\u003c\\u002fb\\u003e\\u003cb r \\u002f\\u003e\\u003cextra\\u003e\\u003c\\u002fextra\\u003e\",\"legendgroup\":\"metric_analysis\",\"marker\":{\"color\":\"#00c8e5\",\"size\":5,\"symbol\":\"circle\"},\"mode\":\"markers\",\"name\":\"Method\",\"showlegend\":false,\"x\":[10.5,11.5,12.5,13.5,14.5,15.5,16.5,17.5,18.5,19.5],\"y\":[0.01806267385933998,0.01888462932747995,0.016598439813198213,0.016601805495818352,0.017577575578326593,0.015506523473138564,0.013587904928379333,0.020217445854412285,0.01620354956234276,0.018672360459595493,0.018672360459595493],\"type\":\"scatter\",\"xaxis\":\"x4\",\"yaxis\":\"y4\"},{\"hoverinfo\":\"skip\",\"legendgroup\":\"alert\",\"marker\":{\"color\":\"#DD4040\",\"size\":8,\"symbol\":\"diamond\"},\"mode\":\"markers\",\"name\":\"Alert\",\"showlegend\":false,\"x\":[],\"y\":[],\"type\":\"scatter\",\"xaxis\":\"x4\",\"yaxis\":\"y4\"},{\"hoverinfo\":\"skip\",\"legendgroup\":\"thresh\",\"line\":{\"color\":\"#DD4040\",\"dash\":\"dash\",\"width\":2},\"mode\":\"lines\",\"name\":\"Threshold\",\"showlegend\":false,\"x\":[0,1,2,3,4,5,6,7,8,9,10],\"y\":[0.1,0.1,0.1,0.1,0.1,0.1,0.1,0.1,0.1,0.1,0.1],\"type\":\"scatter\",\"xaxis\":\"x4\",\"yaxis\":\"y4\"},{\"hoverinfo\":\"skip\",\"legendgroup\":\"thresh\",\"line\":{\"color\":\"#DD4040\",\"dash\":\"dash\",\"width\":2},\"mode\":\"lines\",\"name\":\"Threshold\",\"showlegend\":false,\"x\":[10,11,12,13,14,15,16,17,18,19,20],\"y\":[0.1,0.1,0.1,0.1,0.1,0.1,0.1,0.1,0.1,0.1,0.1],\"type\":\"scatter\",\"xaxis\":\"x4\",\"yaxis\":\"y4\"},{\"hoverinfo\":\"skip\",\"legendgroup\":\"metric_reference\",\"line\":{\"color\":\"#00c8e5\",\"shape\":\"hv\",\"width\":2},\"mode\":\"lines\",\"name\":\"Method\",\"showlegend\":false,\"x\":[0,1,2,3,4,5,6,7,8,9,10],\"y\":[0.015150852800560619,0.01793834117656122,0.01739346722042672,0.015017429157517666,0.01800620142350263,0.016208993187395913,0.015387765224962907,0.016226551323942247,0.019526906592397166,0.016719182507971053,0.016719182507971053],\"type\":\"scatter\",\"xaxis\":\"x5\",\"yaxis\":\"y5\"},{\"customdata\":[[\"Jensen-Shannon distance for \\u003cb\\u003eSub_metering_2\\u003c\\u002fb\\u003e\",\"\\u003cb style=\\\"color:#00c8e5;line-height:60px\\\"\\u003eReference\\u003c\\u002fb\\u003e\",\"\",\"[0:20491]\",\"Chunk index: \\u003cb\\u003e0\\u003c\\u002fb\\u003e\",0.0152],[\"Jensen-Shannon distance for \\u003cb\\u003eSub_metering_2\\u003c\\u002fb\\u003e\",\"\\u003cb style=\\\"color:#00c8e5;line-height:60px\\\"\\u003eReference\\u003c\\u002fb\\u003e\",\"\",\"[20492:40983]\",\"Chunk index: \\u003cb\\u003e1\\u003c\\u002fb\\u003e\",0.0179],[\"Jensen-Shannon distance for \\u003cb\\u003eSub_metering_2\\u003c\\u002fb\\u003e\",\"\\u003cb style=\\\"color:#00c8e5;line-height:60px\\\"\\u003eReference\\u003c\\u002fb\\u003e\",\"\",\"[40984:61475]\",\"Chunk index: \\u003cb\\u003e2\\u003c\\u002fb\\u003e\",0.0174],[\"Jensen-Shannon distance for \\u003cb\\u003eSub_metering_2\\u003c\\u002fb\\u003e\",\"\\u003cb style=\\\"color:#00c8e5;line-height:60px\\\"\\u003eReference\\u003c\\u002fb\\u003e\",\"\",\"[61476:81967]\",\"Chunk index: \\u003cb\\u003e3\\u003c\\u002fb\\u003e\",0.015],[\"Jensen-Shannon distance for \\u003cb\\u003eSub_metering_2\\u003c\\u002fb\\u003e\",\"\\u003cb style=\\\"color:#00c8e5;line-height:60px\\\"\\u003eReference\\u003c\\u002fb\\u003e\",\"\",\"[81968:102459]\",\"Chunk index: \\u003cb\\u003e4\\u003c\\u002fb\\u003e\",0.018],[\"Jensen-Shannon distance for \\u003cb\\u003eSub_metering_2\\u003c\\u002fb\\u003e\",\"\\u003cb style=\\\"color:#00c8e5;line-height:60px\\\"\\u003eReference\\u003c\\u002fb\\u003e\",\"\",\"[102460:122951]\",\"Chunk index: \\u003cb\\u003e5\\u003c\\u002fb\\u003e\",0.0162],[\"Jensen-Shannon distance for \\u003cb\\u003eSub_metering_2\\u003c\\u002fb\\u003e\",\"\\u003cb style=\\\"color:#00c8e5;line-height:60px\\\"\\u003eReference\\u003c\\u002fb\\u003e\",\"\",\"[122952:143443]\",\"Chunk index: \\u003cb\\u003e6\\u003c\\u002fb\\u003e\",0.0154],[\"Jensen-Shannon distance for \\u003cb\\u003eSub_metering_2\\u003c\\u002fb\\u003e\",\"\\u003cb style=\\\"color:#00c8e5;line-height:60px\\\"\\u003eReference\\u003c\\u002fb\\u003e\",\"\",\"[143444:163935]\",\"Chunk index: \\u003cb\\u003e7\\u003c\\u002fb\\u003e\",0.0162],[\"Jensen-Shannon distance for \\u003cb\\u003eSub_metering_2\\u003c\\u002fb\\u003e\",\"\\u003cb style=\\\"color:#00c8e5;line-height:60px\\\"\\u003eReference\\u003c\\u002fb\\u003e\",\"\",\"[163936:184427]\",\"Chunk index: \\u003cb\\u003e8\\u003c\\u002fb\\u003e\",0.0195],[\"Jensen-Shannon distance for \\u003cb\\u003eSub_metering_2\\u003c\\u002fb\\u003e\",\"\\u003cb style=\\\"color:#00c8e5;line-height:60px\\\"\\u003eReference\\u003c\\u002fb\\u003e\",\"\",\"[184428:204927]\",\"Chunk index: \\u003cb\\u003e9\\u003c\\u002fb\\u003e\",0.0167]],\"hovertemplate\":\"%{customdata[1]} &nbsp; &nbsp; %{customdata[2]} \\u003cbr \\u002f\\u003eChunk: \\u003cb\\u003e%{customdata[3]}\\u003c\\u002fb\\u003e &nbsp; &nbsp; %{customdata[4]} \\u003cbr \\u002f\\u003e%{customdata[0]}: \\u003cb\\u003e%{customdata[5]}\\u003c\\u002fb\\u003e\\u003cb r \\u002f\\u003e\\u003cextra\\u003e\\u003c\\u002fextra\\u003e\",\"legendgroup\":\"metric_reference\",\"marker\":{\"color\":\"#00c8e5\",\"size\":5,\"symbol\":\"circle\"},\"mode\":\"markers\",\"name\":\"Method\",\"showlegend\":false,\"x\":[0.5,1.5,2.5,3.5,4.5,5.5,6.5,7.5,8.5,9.5],\"y\":[0.015150852800560619,0.01793834117656122,0.01739346722042672,0.015017429157517666,0.01800620142350263,0.016208993187395913,0.015387765224962907,0.016226551323942247,0.019526906592397166,0.016719182507971053,0.016719182507971053],\"type\":\"scatter\",\"xaxis\":\"x5\",\"yaxis\":\"y5\"},{\"hoverinfo\":\"skip\",\"legendgroup\":\"metric_analysis\",\"line\":{\"color\":\"#00c8e5\",\"shape\":\"hv\",\"width\":2},\"mode\":\"lines\",\"name\":\"Method\",\"showlegend\":false,\"x\":[10,11,12,13,14,15,16,17,18,19,20],\"y\":[0.02060968300414536,0.0187021501326608,0.021861331979670825,0.020481198308173815,0.018838592865874443,0.02170139048011395,0.0170897888919307,0.01938959650031721,0.016921870745538026,0.02037861187841366,0.02037861187841366],\"type\":\"scatter\",\"xaxis\":\"x5\",\"yaxis\":\"y5\"},{\"customdata\":[[\"Jensen-Shannon distance for \\u003cb\\u003eSub_metering_2\\u003c\\u002fb\\u003e\",\"\\u003cb style=\\\"color:#00c8e5;line-height:60px\\\"\\u003eAnalysis\\u003c\\u002fb\\u003e\",\"\",\"[0:18442]\",\"Chunk index: \\u003cb\\u003e0\\u003c\\u002fb\\u003e\",0.0206],[\"Jensen-Shannon distance for \\u003cb\\u003eSub_metering_2\\u003c\\u002fb\\u003e\",\"\\u003cb style=\\\"color:#00c8e5;line-height:60px\\\"\\u003eAnalysis\\u003c\\u002fb\\u003e\",\"\",\"[18443:36885]\",\"Chunk index: \\u003cb\\u003e1\\u003c\\u002fb\\u003e\",0.0187],[\"Jensen-Shannon distance for \\u003cb\\u003eSub_metering_2\\u003c\\u002fb\\u003e\",\"\\u003cb style=\\\"color:#00c8e5;line-height:60px\\\"\\u003eAnalysis\\u003c\\u002fb\\u003e\",\"\",\"[36886:55328]\",\"Chunk index: \\u003cb\\u003e2\\u003c\\u002fb\\u003e\",0.0219],[\"Jensen-Shannon distance for \\u003cb\\u003eSub_metering_2\\u003c\\u002fb\\u003e\",\"\\u003cb style=\\\"color:#00c8e5;line-height:60px\\\"\\u003eAnalysis\\u003c\\u002fb\\u003e\",\"\",\"[55329:73771]\",\"Chunk index: \\u003cb\\u003e3\\u003c\\u002fb\\u003e\",0.0205],[\"Jensen-Shannon distance for \\u003cb\\u003eSub_metering_2\\u003c\\u002fb\\u003e\",\"\\u003cb style=\\\"color:#00c8e5;line-height:60px\\\"\\u003eAnalysis\\u003c\\u002fb\\u003e\",\"\",\"[73772:92214]\",\"Chunk index: \\u003cb\\u003e4\\u003c\\u002fb\\u003e\",0.0188],[\"Jensen-Shannon distance for \\u003cb\\u003eSub_metering_2\\u003c\\u002fb\\u003e\",\"\\u003cb style=\\\"color:#00c8e5;line-height:60px\\\"\\u003eAnalysis\\u003c\\u002fb\\u003e\",\"\",\"[92215:110657]\",\"Chunk index: \\u003cb\\u003e5\\u003c\\u002fb\\u003e\",0.0217],[\"Jensen-Shannon distance for \\u003cb\\u003eSub_metering_2\\u003c\\u002fb\\u003e\",\"\\u003cb style=\\\"color:#00c8e5;line-height:60px\\\"\\u003eAnalysis\\u003c\\u002fb\\u003e\",\"\",\"[110658:129100]\",\"Chunk index: \\u003cb\\u003e6\\u003c\\u002fb\\u003e\",0.0171],[\"Jensen-Shannon distance for \\u003cb\\u003eSub_metering_2\\u003c\\u002fb\\u003e\",\"\\u003cb style=\\\"color:#00c8e5;line-height:60px\\\"\\u003eAnalysis\\u003c\\u002fb\\u003e\",\"\",\"[129101:147543]\",\"Chunk index: \\u003cb\\u003e7\\u003c\\u002fb\\u003e\",0.0194],[\"Jensen-Shannon distance for \\u003cb\\u003eSub_metering_2\\u003c\\u002fb\\u003e\",\"\\u003cb style=\\\"color:#00c8e5;line-height:60px\\\"\\u003eAnalysis\\u003c\\u002fb\\u003e\",\"\",\"[147544:165986]\",\"Chunk index: \\u003cb\\u003e8\\u003c\\u002fb\\u003e\",0.0169],[\"Jensen-Shannon distance for \\u003cb\\u003eSub_metering_2\\u003c\\u002fb\\u003e\",\"\\u003cb style=\\\"color:#00c8e5;line-height:60px\\\"\\u003eAnalysis\\u003c\\u002fb\\u003e\",\"\",\"[165987:184435]\",\"Chunk index: \\u003cb\\u003e9\\u003c\\u002fb\\u003e\",0.0204]],\"hovertemplate\":\"%{customdata[1]} &nbsp; &nbsp; %{customdata[2]} \\u003cbr \\u002f\\u003eChunk: \\u003cb\\u003e%{customdata[3]}\\u003c\\u002fb\\u003e &nbsp; &nbsp; %{customdata[4]} \\u003cbr \\u002f\\u003e%{customdata[0]}: \\u003cb\\u003e%{customdata[5]}\\u003c\\u002fb\\u003e\\u003cb r \\u002f\\u003e\\u003cextra\\u003e\\u003c\\u002fextra\\u003e\",\"legendgroup\":\"metric_analysis\",\"marker\":{\"color\":\"#00c8e5\",\"size\":5,\"symbol\":\"circle\"},\"mode\":\"markers\",\"name\":\"Method\",\"showlegend\":false,\"x\":[10.5,11.5,12.5,13.5,14.5,15.5,16.5,17.5,18.5,19.5],\"y\":[0.02060968300414536,0.0187021501326608,0.021861331979670825,0.020481198308173815,0.018838592865874443,0.02170139048011395,0.0170897888919307,0.01938959650031721,0.016921870745538026,0.02037861187841366,0.02037861187841366],\"type\":\"scatter\",\"xaxis\":\"x5\",\"yaxis\":\"y5\"},{\"hoverinfo\":\"skip\",\"legendgroup\":\"alert\",\"marker\":{\"color\":\"#DD4040\",\"size\":8,\"symbol\":\"diamond\"},\"mode\":\"markers\",\"name\":\"Alert\",\"showlegend\":false,\"x\":[],\"y\":[],\"type\":\"scatter\",\"xaxis\":\"x5\",\"yaxis\":\"y5\"},{\"hoverinfo\":\"skip\",\"legendgroup\":\"thresh\",\"line\":{\"color\":\"#DD4040\",\"dash\":\"dash\",\"width\":2},\"mode\":\"lines\",\"name\":\"Threshold\",\"showlegend\":false,\"x\":[0,1,2,3,4,5,6,7,8,9,10],\"y\":[0.1,0.1,0.1,0.1,0.1,0.1,0.1,0.1,0.1,0.1,0.1],\"type\":\"scatter\",\"xaxis\":\"x5\",\"yaxis\":\"y5\"},{\"hoverinfo\":\"skip\",\"legendgroup\":\"thresh\",\"line\":{\"color\":\"#DD4040\",\"dash\":\"dash\",\"width\":2},\"mode\":\"lines\",\"name\":\"Threshold\",\"showlegend\":false,\"x\":[10,11,12,13,14,15,16,17,18,19,20],\"y\":[0.1,0.1,0.1,0.1,0.1,0.1,0.1,0.1,0.1,0.1,0.1],\"type\":\"scatter\",\"xaxis\":\"x5\",\"yaxis\":\"y5\"},{\"hoverinfo\":\"skip\",\"legendgroup\":\"metric_reference\",\"line\":{\"color\":\"#00c8e5\",\"shape\":\"hv\",\"width\":2},\"mode\":\"lines\",\"name\":\"Method\",\"showlegend\":false,\"x\":[0,1,2,3,4,5,6,7,8,9,10],\"y\":[0.016390706622245954,0.01414523064470794,0.012163860575279085,0.01644489653476644,0.012999480236307476,0.016099254151583975,0.013143853699140675,0.016051943313469024,0.019876704893146118,0.017063969486900664,0.017063969486900664],\"type\":\"scatter\",\"xaxis\":\"x6\",\"yaxis\":\"y6\"},{\"customdata\":[[\"Jensen-Shannon distance for \\u003cb\\u003eSub_metering_3\\u003c\\u002fb\\u003e\",\"\\u003cb style=\\\"color:#00c8e5;line-height:60px\\\"\\u003eReference\\u003c\\u002fb\\u003e\",\"\",\"[0:20491]\",\"Chunk index: \\u003cb\\u003e0\\u003c\\u002fb\\u003e\",0.0164],[\"Jensen-Shannon distance for \\u003cb\\u003eSub_metering_3\\u003c\\u002fb\\u003e\",\"\\u003cb style=\\\"color:#00c8e5;line-height:60px\\\"\\u003eReference\\u003c\\u002fb\\u003e\",\"\",\"[20492:40983]\",\"Chunk index: \\u003cb\\u003e1\\u003c\\u002fb\\u003e\",0.0141],[\"Jensen-Shannon distance for \\u003cb\\u003eSub_metering_3\\u003c\\u002fb\\u003e\",\"\\u003cb style=\\\"color:#00c8e5;line-height:60px\\\"\\u003eReference\\u003c\\u002fb\\u003e\",\"\",\"[40984:61475]\",\"Chunk index: \\u003cb\\u003e2\\u003c\\u002fb\\u003e\",0.0122],[\"Jensen-Shannon distance for \\u003cb\\u003eSub_metering_3\\u003c\\u002fb\\u003e\",\"\\u003cb style=\\\"color:#00c8e5;line-height:60px\\\"\\u003eReference\\u003c\\u002fb\\u003e\",\"\",\"[61476:81967]\",\"Chunk index: \\u003cb\\u003e3\\u003c\\u002fb\\u003e\",0.0164],[\"Jensen-Shannon distance for \\u003cb\\u003eSub_metering_3\\u003c\\u002fb\\u003e\",\"\\u003cb style=\\\"color:#00c8e5;line-height:60px\\\"\\u003eReference\\u003c\\u002fb\\u003e\",\"\",\"[81968:102459]\",\"Chunk index: \\u003cb\\u003e4\\u003c\\u002fb\\u003e\",0.013],[\"Jensen-Shannon distance for \\u003cb\\u003eSub_metering_3\\u003c\\u002fb\\u003e\",\"\\u003cb style=\\\"color:#00c8e5;line-height:60px\\\"\\u003eReference\\u003c\\u002fb\\u003e\",\"\",\"[102460:122951]\",\"Chunk index: \\u003cb\\u003e5\\u003c\\u002fb\\u003e\",0.0161],[\"Jensen-Shannon distance for \\u003cb\\u003eSub_metering_3\\u003c\\u002fb\\u003e\",\"\\u003cb style=\\\"color:#00c8e5;line-height:60px\\\"\\u003eReference\\u003c\\u002fb\\u003e\",\"\",\"[122952:143443]\",\"Chunk index: \\u003cb\\u003e6\\u003c\\u002fb\\u003e\",0.0131],[\"Jensen-Shannon distance for \\u003cb\\u003eSub_metering_3\\u003c\\u002fb\\u003e\",\"\\u003cb style=\\\"color:#00c8e5;line-height:60px\\\"\\u003eReference\\u003c\\u002fb\\u003e\",\"\",\"[143444:163935]\",\"Chunk index: \\u003cb\\u003e7\\u003c\\u002fb\\u003e\",0.0161],[\"Jensen-Shannon distance for \\u003cb\\u003eSub_metering_3\\u003c\\u002fb\\u003e\",\"\\u003cb style=\\\"color:#00c8e5;line-height:60px\\\"\\u003eReference\\u003c\\u002fb\\u003e\",\"\",\"[163936:184427]\",\"Chunk index: \\u003cb\\u003e8\\u003c\\u002fb\\u003e\",0.0199],[\"Jensen-Shannon distance for \\u003cb\\u003eSub_metering_3\\u003c\\u002fb\\u003e\",\"\\u003cb style=\\\"color:#00c8e5;line-height:60px\\\"\\u003eReference\\u003c\\u002fb\\u003e\",\"\",\"[184428:204927]\",\"Chunk index: \\u003cb\\u003e9\\u003c\\u002fb\\u003e\",0.0171]],\"hovertemplate\":\"%{customdata[1]} &nbsp; &nbsp; %{customdata[2]} \\u003cbr \\u002f\\u003eChunk: \\u003cb\\u003e%{customdata[3]}\\u003c\\u002fb\\u003e &nbsp; &nbsp; %{customdata[4]} \\u003cbr \\u002f\\u003e%{customdata[0]}: \\u003cb\\u003e%{customdata[5]}\\u003c\\u002fb\\u003e\\u003cb r \\u002f\\u003e\\u003cextra\\u003e\\u003c\\u002fextra\\u003e\",\"legendgroup\":\"metric_reference\",\"marker\":{\"color\":\"#00c8e5\",\"size\":5,\"symbol\":\"circle\"},\"mode\":\"markers\",\"name\":\"Method\",\"showlegend\":false,\"x\":[0.5,1.5,2.5,3.5,4.5,5.5,6.5,7.5,8.5,9.5],\"y\":[0.016390706622245954,0.01414523064470794,0.012163860575279085,0.01644489653476644,0.012999480236307476,0.016099254151583975,0.013143853699140675,0.016051943313469024,0.019876704893146118,0.017063969486900664,0.017063969486900664],\"type\":\"scatter\",\"xaxis\":\"x6\",\"yaxis\":\"y6\"},{\"hoverinfo\":\"skip\",\"legendgroup\":\"metric_analysis\",\"line\":{\"color\":\"#00c8e5\",\"shape\":\"hv\",\"width\":2},\"mode\":\"lines\",\"name\":\"Method\",\"showlegend\":false,\"x\":[10,11,12,13,14,15,16,17,18,19,20],\"y\":[0.019328497297616064,0.016064323472567685,0.01829702854737125,0.019899451103415285,0.018351175944549204,0.015804949720981183,0.014666345074493247,0.016906388613155254,0.01957642056064787,0.014381081565742134,0.014381081565742134],\"type\":\"scatter\",\"xaxis\":\"x6\",\"yaxis\":\"y6\"},{\"customdata\":[[\"Jensen-Shannon distance for \\u003cb\\u003eSub_metering_3\\u003c\\u002fb\\u003e\",\"\\u003cb style=\\\"color:#00c8e5;line-height:60px\\\"\\u003eAnalysis\\u003c\\u002fb\\u003e\",\"\",\"[0:18442]\",\"Chunk index: \\u003cb\\u003e0\\u003c\\u002fb\\u003e\",0.0193],[\"Jensen-Shannon distance for \\u003cb\\u003eSub_metering_3\\u003c\\u002fb\\u003e\",\"\\u003cb style=\\\"color:#00c8e5;line-height:60px\\\"\\u003eAnalysis\\u003c\\u002fb\\u003e\",\"\",\"[18443:36885]\",\"Chunk index: \\u003cb\\u003e1\\u003c\\u002fb\\u003e\",0.0161],[\"Jensen-Shannon distance for \\u003cb\\u003eSub_metering_3\\u003c\\u002fb\\u003e\",\"\\u003cb style=\\\"color:#00c8e5;line-height:60px\\\"\\u003eAnalysis\\u003c\\u002fb\\u003e\",\"\",\"[36886:55328]\",\"Chunk index: \\u003cb\\u003e2\\u003c\\u002fb\\u003e\",0.0183],[\"Jensen-Shannon distance for \\u003cb\\u003eSub_metering_3\\u003c\\u002fb\\u003e\",\"\\u003cb style=\\\"color:#00c8e5;line-height:60px\\\"\\u003eAnalysis\\u003c\\u002fb\\u003e\",\"\",\"[55329:73771]\",\"Chunk index: \\u003cb\\u003e3\\u003c\\u002fb\\u003e\",0.0199],[\"Jensen-Shannon distance for \\u003cb\\u003eSub_metering_3\\u003c\\u002fb\\u003e\",\"\\u003cb style=\\\"color:#00c8e5;line-height:60px\\\"\\u003eAnalysis\\u003c\\u002fb\\u003e\",\"\",\"[73772:92214]\",\"Chunk index: \\u003cb\\u003e4\\u003c\\u002fb\\u003e\",0.0184],[\"Jensen-Shannon distance for \\u003cb\\u003eSub_metering_3\\u003c\\u002fb\\u003e\",\"\\u003cb style=\\\"color:#00c8e5;line-height:60px\\\"\\u003eAnalysis\\u003c\\u002fb\\u003e\",\"\",\"[92215:110657]\",\"Chunk index: \\u003cb\\u003e5\\u003c\\u002fb\\u003e\",0.0158],[\"Jensen-Shannon distance for \\u003cb\\u003eSub_metering_3\\u003c\\u002fb\\u003e\",\"\\u003cb style=\\\"color:#00c8e5;line-height:60px\\\"\\u003eAnalysis\\u003c\\u002fb\\u003e\",\"\",\"[110658:129100]\",\"Chunk index: \\u003cb\\u003e6\\u003c\\u002fb\\u003e\",0.0147],[\"Jensen-Shannon distance for \\u003cb\\u003eSub_metering_3\\u003c\\u002fb\\u003e\",\"\\u003cb style=\\\"color:#00c8e5;line-height:60px\\\"\\u003eAnalysis\\u003c\\u002fb\\u003e\",\"\",\"[129101:147543]\",\"Chunk index: \\u003cb\\u003e7\\u003c\\u002fb\\u003e\",0.0169],[\"Jensen-Shannon distance for \\u003cb\\u003eSub_metering_3\\u003c\\u002fb\\u003e\",\"\\u003cb style=\\\"color:#00c8e5;line-height:60px\\\"\\u003eAnalysis\\u003c\\u002fb\\u003e\",\"\",\"[147544:165986]\",\"Chunk index: \\u003cb\\u003e8\\u003c\\u002fb\\u003e\",0.0196],[\"Jensen-Shannon distance for \\u003cb\\u003eSub_metering_3\\u003c\\u002fb\\u003e\",\"\\u003cb style=\\\"color:#00c8e5;line-height:60px\\\"\\u003eAnalysis\\u003c\\u002fb\\u003e\",\"\",\"[165987:184435]\",\"Chunk index: \\u003cb\\u003e9\\u003c\\u002fb\\u003e\",0.0144]],\"hovertemplate\":\"%{customdata[1]} &nbsp; &nbsp; %{customdata[2]} \\u003cbr \\u002f\\u003eChunk: \\u003cb\\u003e%{customdata[3]}\\u003c\\u002fb\\u003e &nbsp; &nbsp; %{customdata[4]} \\u003cbr \\u002f\\u003e%{customdata[0]}: \\u003cb\\u003e%{customdata[5]}\\u003c\\u002fb\\u003e\\u003cb r \\u002f\\u003e\\u003cextra\\u003e\\u003c\\u002fextra\\u003e\",\"legendgroup\":\"metric_analysis\",\"marker\":{\"color\":\"#00c8e5\",\"size\":5,\"symbol\":\"circle\"},\"mode\":\"markers\",\"name\":\"Method\",\"showlegend\":false,\"x\":[10.5,11.5,12.5,13.5,14.5,15.5,16.5,17.5,18.5,19.5],\"y\":[0.019328497297616064,0.016064323472567685,0.01829702854737125,0.019899451103415285,0.018351175944549204,0.015804949720981183,0.014666345074493247,0.016906388613155254,0.01957642056064787,0.014381081565742134,0.014381081565742134],\"type\":\"scatter\",\"xaxis\":\"x6\",\"yaxis\":\"y6\"},{\"hoverinfo\":\"skip\",\"legendgroup\":\"alert\",\"marker\":{\"color\":\"#DD4040\",\"size\":8,\"symbol\":\"diamond\"},\"mode\":\"markers\",\"name\":\"Alert\",\"showlegend\":false,\"x\":[],\"y\":[],\"type\":\"scatter\",\"xaxis\":\"x6\",\"yaxis\":\"y6\"},{\"hoverinfo\":\"skip\",\"legendgroup\":\"thresh\",\"line\":{\"color\":\"#DD4040\",\"dash\":\"dash\",\"width\":2},\"mode\":\"lines\",\"name\":\"Threshold\",\"showlegend\":false,\"x\":[0,1,2,3,4,5,6,7,8,9,10],\"y\":[0.1,0.1,0.1,0.1,0.1,0.1,0.1,0.1,0.1,0.1,0.1],\"type\":\"scatter\",\"xaxis\":\"x6\",\"yaxis\":\"y6\"},{\"hoverinfo\":\"skip\",\"legendgroup\":\"thresh\",\"line\":{\"color\":\"#DD4040\",\"dash\":\"dash\",\"width\":2},\"mode\":\"lines\",\"name\":\"Threshold\",\"showlegend\":false,\"x\":[10,11,12,13,14,15,16,17,18,19,20],\"y\":[0.1,0.1,0.1,0.1,0.1,0.1,0.1,0.1,0.1,0.1,0.1],\"type\":\"scatter\",\"xaxis\":\"x6\",\"yaxis\":\"y6\"},{\"hoverinfo\":\"skip\",\"legendgroup\":\"metric_reference\",\"line\":{\"color\":\"#00c8e5\",\"shape\":\"hv\",\"width\":2},\"mode\":\"lines\",\"name\":\"Method\",\"showlegend\":false,\"x\":[0,1,2,3,4,5,6,7,8,9,10],\"y\":[0.011947969851043525,0.012550218011008868,0.013407765582684661,0.012476327204467862,0.014124858197341479,0.015517668208608627,0.015197455058480315,0.013330170391031067,0.015286773788948112,0.01433235104134013,0.01433235104134013],\"type\":\"scatter\",\"xaxis\":\"x7\",\"yaxis\":\"y7\"},{\"customdata\":[[\"Jensen-Shannon distance for \\u003cb\\u003eVoltage\\u003c\\u002fb\\u003e\",\"\\u003cb style=\\\"color:#00c8e5;line-height:60px\\\"\\u003eReference\\u003c\\u002fb\\u003e\",\"\",\"[0:20491]\",\"Chunk index: \\u003cb\\u003e0\\u003c\\u002fb\\u003e\",0.0119],[\"Jensen-Shannon distance for \\u003cb\\u003eVoltage\\u003c\\u002fb\\u003e\",\"\\u003cb style=\\\"color:#00c8e5;line-height:60px\\\"\\u003eReference\\u003c\\u002fb\\u003e\",\"\",\"[20492:40983]\",\"Chunk index: \\u003cb\\u003e1\\u003c\\u002fb\\u003e\",0.0126],[\"Jensen-Shannon distance for \\u003cb\\u003eVoltage\\u003c\\u002fb\\u003e\",\"\\u003cb style=\\\"color:#00c8e5;line-height:60px\\\"\\u003eReference\\u003c\\u002fb\\u003e\",\"\",\"[40984:61475]\",\"Chunk index: \\u003cb\\u003e2\\u003c\\u002fb\\u003e\",0.0134],[\"Jensen-Shannon distance for \\u003cb\\u003eVoltage\\u003c\\u002fb\\u003e\",\"\\u003cb style=\\\"color:#00c8e5;line-height:60px\\\"\\u003eReference\\u003c\\u002fb\\u003e\",\"\",\"[61476:81967]\",\"Chunk index: \\u003cb\\u003e3\\u003c\\u002fb\\u003e\",0.0125],[\"Jensen-Shannon distance for \\u003cb\\u003eVoltage\\u003c\\u002fb\\u003e\",\"\\u003cb style=\\\"color:#00c8e5;line-height:60px\\\"\\u003eReference\\u003c\\u002fb\\u003e\",\"\",\"[81968:102459]\",\"Chunk index: \\u003cb\\u003e4\\u003c\\u002fb\\u003e\",0.0141],[\"Jensen-Shannon distance for \\u003cb\\u003eVoltage\\u003c\\u002fb\\u003e\",\"\\u003cb style=\\\"color:#00c8e5;line-height:60px\\\"\\u003eReference\\u003c\\u002fb\\u003e\",\"\",\"[102460:122951]\",\"Chunk index: \\u003cb\\u003e5\\u003c\\u002fb\\u003e\",0.0155],[\"Jensen-Shannon distance for \\u003cb\\u003eVoltage\\u003c\\u002fb\\u003e\",\"\\u003cb style=\\\"color:#00c8e5;line-height:60px\\\"\\u003eReference\\u003c\\u002fb\\u003e\",\"\",\"[122952:143443]\",\"Chunk index: \\u003cb\\u003e6\\u003c\\u002fb\\u003e\",0.0152],[\"Jensen-Shannon distance for \\u003cb\\u003eVoltage\\u003c\\u002fb\\u003e\",\"\\u003cb style=\\\"color:#00c8e5;line-height:60px\\\"\\u003eReference\\u003c\\u002fb\\u003e\",\"\",\"[143444:163935]\",\"Chunk index: \\u003cb\\u003e7\\u003c\\u002fb\\u003e\",0.0133],[\"Jensen-Shannon distance for \\u003cb\\u003eVoltage\\u003c\\u002fb\\u003e\",\"\\u003cb style=\\\"color:#00c8e5;line-height:60px\\\"\\u003eReference\\u003c\\u002fb\\u003e\",\"\",\"[163936:184427]\",\"Chunk index: \\u003cb\\u003e8\\u003c\\u002fb\\u003e\",0.0153],[\"Jensen-Shannon distance for \\u003cb\\u003eVoltage\\u003c\\u002fb\\u003e\",\"\\u003cb style=\\\"color:#00c8e5;line-height:60px\\\"\\u003eReference\\u003c\\u002fb\\u003e\",\"\",\"[184428:204927]\",\"Chunk index: \\u003cb\\u003e9\\u003c\\u002fb\\u003e\",0.0143]],\"hovertemplate\":\"%{customdata[1]} &nbsp; &nbsp; %{customdata[2]} \\u003cbr \\u002f\\u003eChunk: \\u003cb\\u003e%{customdata[3]}\\u003c\\u002fb\\u003e &nbsp; &nbsp; %{customdata[4]} \\u003cbr \\u002f\\u003e%{customdata[0]}: \\u003cb\\u003e%{customdata[5]}\\u003c\\u002fb\\u003e\\u003cb r \\u002f\\u003e\\u003cextra\\u003e\\u003c\\u002fextra\\u003e\",\"legendgroup\":\"metric_reference\",\"marker\":{\"color\":\"#00c8e5\",\"size\":5,\"symbol\":\"circle\"},\"mode\":\"markers\",\"name\":\"Method\",\"showlegend\":false,\"x\":[0.5,1.5,2.5,3.5,4.5,5.5,6.5,7.5,8.5,9.5],\"y\":[0.011947969851043525,0.012550218011008868,0.013407765582684661,0.012476327204467862,0.014124858197341479,0.015517668208608627,0.015197455058480315,0.013330170391031067,0.015286773788948112,0.01433235104134013,0.01433235104134013],\"type\":\"scatter\",\"xaxis\":\"x7\",\"yaxis\":\"y7\"},{\"hoverinfo\":\"skip\",\"legendgroup\":\"metric_analysis\",\"line\":{\"color\":\"#00c8e5\",\"shape\":\"hv\",\"width\":2},\"mode\":\"lines\",\"name\":\"Method\",\"showlegend\":false,\"x\":[10,11,12,13,14,15,16,17,18,19,20],\"y\":[0.015613713959390011,0.01577568070139498,0.01694802451378582,0.020794050400388727,0.016240435052312208,0.01641651489517331,0.015151091185023422,0.014346694808654385,0.016529109469076427,0.01740032363813921,0.01740032363813921],\"type\":\"scatter\",\"xaxis\":\"x7\",\"yaxis\":\"y7\"},{\"customdata\":[[\"Jensen-Shannon distance for \\u003cb\\u003eVoltage\\u003c\\u002fb\\u003e\",\"\\u003cb style=\\\"color:#00c8e5;line-height:60px\\\"\\u003eAnalysis\\u003c\\u002fb\\u003e\",\"\",\"[0:18442]\",\"Chunk index: \\u003cb\\u003e0\\u003c\\u002fb\\u003e\",0.0156],[\"Jensen-Shannon distance for \\u003cb\\u003eVoltage\\u003c\\u002fb\\u003e\",\"\\u003cb style=\\\"color:#00c8e5;line-height:60px\\\"\\u003eAnalysis\\u003c\\u002fb\\u003e\",\"\",\"[18443:36885]\",\"Chunk index: \\u003cb\\u003e1\\u003c\\u002fb\\u003e\",0.0158],[\"Jensen-Shannon distance for \\u003cb\\u003eVoltage\\u003c\\u002fb\\u003e\",\"\\u003cb style=\\\"color:#00c8e5;line-height:60px\\\"\\u003eAnalysis\\u003c\\u002fb\\u003e\",\"\",\"[36886:55328]\",\"Chunk index: \\u003cb\\u003e2\\u003c\\u002fb\\u003e\",0.0169],[\"Jensen-Shannon distance for \\u003cb\\u003eVoltage\\u003c\\u002fb\\u003e\",\"\\u003cb style=\\\"color:#00c8e5;line-height:60px\\\"\\u003eAnalysis\\u003c\\u002fb\\u003e\",\"\",\"[55329:73771]\",\"Chunk index: \\u003cb\\u003e3\\u003c\\u002fb\\u003e\",0.0208],[\"Jensen-Shannon distance for \\u003cb\\u003eVoltage\\u003c\\u002fb\\u003e\",\"\\u003cb style=\\\"color:#00c8e5;line-height:60px\\\"\\u003eAnalysis\\u003c\\u002fb\\u003e\",\"\",\"[73772:92214]\",\"Chunk index: \\u003cb\\u003e4\\u003c\\u002fb\\u003e\",0.0162],[\"Jensen-Shannon distance for \\u003cb\\u003eVoltage\\u003c\\u002fb\\u003e\",\"\\u003cb style=\\\"color:#00c8e5;line-height:60px\\\"\\u003eAnalysis\\u003c\\u002fb\\u003e\",\"\",\"[92215:110657]\",\"Chunk index: \\u003cb\\u003e5\\u003c\\u002fb\\u003e\",0.0164],[\"Jensen-Shannon distance for \\u003cb\\u003eVoltage\\u003c\\u002fb\\u003e\",\"\\u003cb style=\\\"color:#00c8e5;line-height:60px\\\"\\u003eAnalysis\\u003c\\u002fb\\u003e\",\"\",\"[110658:129100]\",\"Chunk index: \\u003cb\\u003e6\\u003c\\u002fb\\u003e\",0.0152],[\"Jensen-Shannon distance for \\u003cb\\u003eVoltage\\u003c\\u002fb\\u003e\",\"\\u003cb style=\\\"color:#00c8e5;line-height:60px\\\"\\u003eAnalysis\\u003c\\u002fb\\u003e\",\"\",\"[129101:147543]\",\"Chunk index: \\u003cb\\u003e7\\u003c\\u002fb\\u003e\",0.0143],[\"Jensen-Shannon distance for \\u003cb\\u003eVoltage\\u003c\\u002fb\\u003e\",\"\\u003cb style=\\\"color:#00c8e5;line-height:60px\\\"\\u003eAnalysis\\u003c\\u002fb\\u003e\",\"\",\"[147544:165986]\",\"Chunk index: \\u003cb\\u003e8\\u003c\\u002fb\\u003e\",0.0165],[\"Jensen-Shannon distance for \\u003cb\\u003eVoltage\\u003c\\u002fb\\u003e\",\"\\u003cb style=\\\"color:#00c8e5;line-height:60px\\\"\\u003eAnalysis\\u003c\\u002fb\\u003e\",\"\",\"[165987:184435]\",\"Chunk index: \\u003cb\\u003e9\\u003c\\u002fb\\u003e\",0.0174]],\"hovertemplate\":\"%{customdata[1]} &nbsp; &nbsp; %{customdata[2]} \\u003cbr \\u002f\\u003eChunk: \\u003cb\\u003e%{customdata[3]}\\u003c\\u002fb\\u003e &nbsp; &nbsp; %{customdata[4]} \\u003cbr \\u002f\\u003e%{customdata[0]}: \\u003cb\\u003e%{customdata[5]}\\u003c\\u002fb\\u003e\\u003cb r \\u002f\\u003e\\u003cextra\\u003e\\u003c\\u002fextra\\u003e\",\"legendgroup\":\"metric_analysis\",\"marker\":{\"color\":\"#00c8e5\",\"size\":5,\"symbol\":\"circle\"},\"mode\":\"markers\",\"name\":\"Method\",\"showlegend\":false,\"x\":[10.5,11.5,12.5,13.5,14.5,15.5,16.5,17.5,18.5,19.5],\"y\":[0.015613713959390011,0.01577568070139498,0.01694802451378582,0.020794050400388727,0.016240435052312208,0.01641651489517331,0.015151091185023422,0.014346694808654385,0.016529109469076427,0.01740032363813921,0.01740032363813921],\"type\":\"scatter\",\"xaxis\":\"x7\",\"yaxis\":\"y7\"},{\"hoverinfo\":\"skip\",\"legendgroup\":\"alert\",\"marker\":{\"color\":\"#DD4040\",\"size\":8,\"symbol\":\"diamond\"},\"mode\":\"markers\",\"name\":\"Alert\",\"showlegend\":false,\"x\":[],\"y\":[],\"type\":\"scatter\",\"xaxis\":\"x7\",\"yaxis\":\"y7\"},{\"hoverinfo\":\"skip\",\"legendgroup\":\"thresh\",\"line\":{\"color\":\"#DD4040\",\"dash\":\"dash\",\"width\":2},\"mode\":\"lines\",\"name\":\"Threshold\",\"showlegend\":false,\"x\":[0,1,2,3,4,5,6,7,8,9,10],\"y\":[0.1,0.1,0.1,0.1,0.1,0.1,0.1,0.1,0.1,0.1,0.1],\"type\":\"scatter\",\"xaxis\":\"x7\",\"yaxis\":\"y7\"},{\"hoverinfo\":\"skip\",\"legendgroup\":\"thresh\",\"line\":{\"color\":\"#DD4040\",\"dash\":\"dash\",\"width\":2},\"mode\":\"lines\",\"name\":\"Threshold\",\"showlegend\":false,\"x\":[10,11,12,13,14,15,16,17,18,19,20],\"y\":[0.1,0.1,0.1,0.1,0.1,0.1,0.1,0.1,0.1,0.1,0.1],\"type\":\"scatter\",\"xaxis\":\"x7\",\"yaxis\":\"y7\"}],                        {\"height\":3500.0,\"hoverlabel\":{\"bgcolor\":\"white\",\"font\":{\"size\":14}},\"legend\":{\"itemclick\":false,\"itemdoubleclick\":false,\"traceorder\":\"grouped\"},\"paper_bgcolor\":\"rgba(255,255,255,1)\",\"plot_bgcolor\":\"rgba(255,255,255,1)\",\"title\":{\"text\":\"Univariate drift metrics\"},\"xaxis\":{\"linecolor\":\"#3b0280\",\"mirror\":true,\"showgrid\":false,\"title\":{\"text\":\"Chunk\"},\"zeroline\":false,\"anchor\":\"y\",\"domain\":[0.0,1.0],\"matches\":\"x\"},\"yaxis\":{\"linecolor\":\"#3b0280\",\"mirror\":true,\"showgrid\":false,\"title\":{\"text\":\"Jensen-Shannon distance\"},\"zeroline\":false,\"anchor\":\"x\",\"domain\":[0.9183673469387754,0.9999999999999999]},\"template\":{\"data\":{\"histogram2dcontour\":[{\"type\":\"histogram2dcontour\",\"colorbar\":{\"outlinewidth\":0,\"ticks\":\"\"},\"colorscale\":[[0.0,\"#0d0887\"],[0.1111111111111111,\"#46039f\"],[0.2222222222222222,\"#7201a8\"],[0.3333333333333333,\"#9c179e\"],[0.4444444444444444,\"#bd3786\"],[0.5555555555555556,\"#d8576b\"],[0.6666666666666666,\"#ed7953\"],[0.7777777777777778,\"#fb9f3a\"],[0.8888888888888888,\"#fdca26\"],[1.0,\"#f0f921\"]]}],\"choropleth\":[{\"type\":\"choropleth\",\"colorbar\":{\"outlinewidth\":0,\"ticks\":\"\"}}],\"histogram2d\":[{\"type\":\"histogram2d\",\"colorbar\":{\"outlinewidth\":0,\"ticks\":\"\"},\"colorscale\":[[0.0,\"#0d0887\"],[0.1111111111111111,\"#46039f\"],[0.2222222222222222,\"#7201a8\"],[0.3333333333333333,\"#9c179e\"],[0.4444444444444444,\"#bd3786\"],[0.5555555555555556,\"#d8576b\"],[0.6666666666666666,\"#ed7953\"],[0.7777777777777778,\"#fb9f3a\"],[0.8888888888888888,\"#fdca26\"],[1.0,\"#f0f921\"]]}],\"heatmap\":[{\"type\":\"heatmap\",\"colorbar\":{\"outlinewidth\":0,\"ticks\":\"\"},\"colorscale\":[[0.0,\"#0d0887\"],[0.1111111111111111,\"#46039f\"],[0.2222222222222222,\"#7201a8\"],[0.3333333333333333,\"#9c179e\"],[0.4444444444444444,\"#bd3786\"],[0.5555555555555556,\"#d8576b\"],[0.6666666666666666,\"#ed7953\"],[0.7777777777777778,\"#fb9f3a\"],[0.8888888888888888,\"#fdca26\"],[1.0,\"#f0f921\"]]}],\"heatmapgl\":[{\"type\":\"heatmapgl\",\"colorbar\":{\"outlinewidth\":0,\"ticks\":\"\"},\"colorscale\":[[0.0,\"#0d0887\"],[0.1111111111111111,\"#46039f\"],[0.2222222222222222,\"#7201a8\"],[0.3333333333333333,\"#9c179e\"],[0.4444444444444444,\"#bd3786\"],[0.5555555555555556,\"#d8576b\"],[0.6666666666666666,\"#ed7953\"],[0.7777777777777778,\"#fb9f3a\"],[0.8888888888888888,\"#fdca26\"],[1.0,\"#f0f921\"]]}],\"contourcarpet\":[{\"type\":\"contourcarpet\",\"colorbar\":{\"outlinewidth\":0,\"ticks\":\"\"}}],\"contour\":[{\"type\":\"contour\",\"colorbar\":{\"outlinewidth\":0,\"ticks\":\"\"},\"colorscale\":[[0.0,\"#0d0887\"],[0.1111111111111111,\"#46039f\"],[0.2222222222222222,\"#7201a8\"],[0.3333333333333333,\"#9c179e\"],[0.4444444444444444,\"#bd3786\"],[0.5555555555555556,\"#d8576b\"],[0.6666666666666666,\"#ed7953\"],[0.7777777777777778,\"#fb9f3a\"],[0.8888888888888888,\"#fdca26\"],[1.0,\"#f0f921\"]]}],\"surface\":[{\"type\":\"surface\",\"colorbar\":{\"outlinewidth\":0,\"ticks\":\"\"},\"colorscale\":[[0.0,\"#0d0887\"],[0.1111111111111111,\"#46039f\"],[0.2222222222222222,\"#7201a8\"],[0.3333333333333333,\"#9c179e\"],[0.4444444444444444,\"#bd3786\"],[0.5555555555555556,\"#d8576b\"],[0.6666666666666666,\"#ed7953\"],[0.7777777777777778,\"#fb9f3a\"],[0.8888888888888888,\"#fdca26\"],[1.0,\"#f0f921\"]]}],\"mesh3d\":[{\"type\":\"mesh3d\",\"colorbar\":{\"outlinewidth\":0,\"ticks\":\"\"}}],\"scatter\":[{\"fillpattern\":{\"fillmode\":\"overlay\",\"size\":10,\"solidity\":0.2},\"type\":\"scatter\"}],\"parcoords\":[{\"type\":\"parcoords\",\"line\":{\"colorbar\":{\"outlinewidth\":0,\"ticks\":\"\"}}}],\"scatterpolargl\":[{\"type\":\"scatterpolargl\",\"marker\":{\"colorbar\":{\"outlinewidth\":0,\"ticks\":\"\"}}}],\"bar\":[{\"error_x\":{\"color\":\"#2a3f5f\"},\"error_y\":{\"color\":\"#2a3f5f\"},\"marker\":{\"line\":{\"color\":\"#E5ECF6\",\"width\":0.5},\"pattern\":{\"fillmode\":\"overlay\",\"size\":10,\"solidity\":0.2}},\"type\":\"bar\"}],\"scattergeo\":[{\"type\":\"scattergeo\",\"marker\":{\"colorbar\":{\"outlinewidth\":0,\"ticks\":\"\"}}}],\"scatterpolar\":[{\"type\":\"scatterpolar\",\"marker\":{\"colorbar\":{\"outlinewidth\":0,\"ticks\":\"\"}}}],\"histogram\":[{\"marker\":{\"pattern\":{\"fillmode\":\"overlay\",\"size\":10,\"solidity\":0.2}},\"type\":\"histogram\"}],\"scattergl\":[{\"type\":\"scattergl\",\"marker\":{\"colorbar\":{\"outlinewidth\":0,\"ticks\":\"\"}}}],\"scatter3d\":[{\"type\":\"scatter3d\",\"line\":{\"colorbar\":{\"outlinewidth\":0,\"ticks\":\"\"}},\"marker\":{\"colorbar\":{\"outlinewidth\":0,\"ticks\":\"\"}}}],\"scattermapbox\":[{\"type\":\"scattermapbox\",\"marker\":{\"colorbar\":{\"outlinewidth\":0,\"ticks\":\"\"}}}],\"scatterternary\":[{\"type\":\"scatterternary\",\"marker\":{\"colorbar\":{\"outlinewidth\":0,\"ticks\":\"\"}}}],\"scattercarpet\":[{\"type\":\"scattercarpet\",\"marker\":{\"colorbar\":{\"outlinewidth\":0,\"ticks\":\"\"}}}],\"carpet\":[{\"aaxis\":{\"endlinecolor\":\"#2a3f5f\",\"gridcolor\":\"white\",\"linecolor\":\"white\",\"minorgridcolor\":\"white\",\"startlinecolor\":\"#2a3f5f\"},\"baxis\":{\"endlinecolor\":\"#2a3f5f\",\"gridcolor\":\"white\",\"linecolor\":\"white\",\"minorgridcolor\":\"white\",\"startlinecolor\":\"#2a3f5f\"},\"type\":\"carpet\"}],\"table\":[{\"cells\":{\"fill\":{\"color\":\"#EBF0F8\"},\"line\":{\"color\":\"white\"}},\"header\":{\"fill\":{\"color\":\"#C8D4E3\"},\"line\":{\"color\":\"white\"}},\"type\":\"table\"}],\"barpolar\":[{\"marker\":{\"line\":{\"color\":\"#E5ECF6\",\"width\":0.5},\"pattern\":{\"fillmode\":\"overlay\",\"size\":10,\"solidity\":0.2}},\"type\":\"barpolar\"}],\"pie\":[{\"automargin\":true,\"type\":\"pie\"}]},\"layout\":{\"autotypenumbers\":\"strict\",\"colorway\":[\"#636efa\",\"#EF553B\",\"#00cc96\",\"#ab63fa\",\"#FFA15A\",\"#19d3f3\",\"#FF6692\",\"#B6E880\",\"#FF97FF\",\"#FECB52\"],\"font\":{\"color\":\"#2a3f5f\"},\"hovermode\":\"closest\",\"hoverlabel\":{\"align\":\"left\"},\"paper_bgcolor\":\"white\",\"plot_bgcolor\":\"#E5ECF6\",\"polar\":{\"bgcolor\":\"#E5ECF6\",\"angularaxis\":{\"gridcolor\":\"white\",\"linecolor\":\"white\",\"ticks\":\"\"},\"radialaxis\":{\"gridcolor\":\"white\",\"linecolor\":\"white\",\"ticks\":\"\"}},\"ternary\":{\"bgcolor\":\"#E5ECF6\",\"aaxis\":{\"gridcolor\":\"white\",\"linecolor\":\"white\",\"ticks\":\"\"},\"baxis\":{\"gridcolor\":\"white\",\"linecolor\":\"white\",\"ticks\":\"\"},\"caxis\":{\"gridcolor\":\"white\",\"linecolor\":\"white\",\"ticks\":\"\"}},\"coloraxis\":{\"colorbar\":{\"outlinewidth\":0,\"ticks\":\"\"}},\"colorscale\":{\"sequential\":[[0.0,\"#0d0887\"],[0.1111111111111111,\"#46039f\"],[0.2222222222222222,\"#7201a8\"],[0.3333333333333333,\"#9c179e\"],[0.4444444444444444,\"#bd3786\"],[0.5555555555555556,\"#d8576b\"],[0.6666666666666666,\"#ed7953\"],[0.7777777777777778,\"#fb9f3a\"],[0.8888888888888888,\"#fdca26\"],[1.0,\"#f0f921\"]],\"sequentialminus\":[[0.0,\"#0d0887\"],[0.1111111111111111,\"#46039f\"],[0.2222222222222222,\"#7201a8\"],[0.3333333333333333,\"#9c179e\"],[0.4444444444444444,\"#bd3786\"],[0.5555555555555556,\"#d8576b\"],[0.6666666666666666,\"#ed7953\"],[0.7777777777777778,\"#fb9f3a\"],[0.8888888888888888,\"#fdca26\"],[1.0,\"#f0f921\"]],\"diverging\":[[0,\"#8e0152\"],[0.1,\"#c51b7d\"],[0.2,\"#de77ae\"],[0.3,\"#f1b6da\"],[0.4,\"#fde0ef\"],[0.5,\"#f7f7f7\"],[0.6,\"#e6f5d0\"],[0.7,\"#b8e186\"],[0.8,\"#7fbc41\"],[0.9,\"#4d9221\"],[1,\"#276419\"]]},\"xaxis\":{\"gridcolor\":\"white\",\"linecolor\":\"white\",\"ticks\":\"\",\"title\":{\"standoff\":15},\"zerolinecolor\":\"white\",\"automargin\":true,\"zerolinewidth\":2},\"yaxis\":{\"gridcolor\":\"white\",\"linecolor\":\"white\",\"ticks\":\"\",\"title\":{\"standoff\":15},\"zerolinecolor\":\"white\",\"automargin\":true,\"zerolinewidth\":2},\"scene\":{\"xaxis\":{\"backgroundcolor\":\"#E5ECF6\",\"gridcolor\":\"white\",\"linecolor\":\"white\",\"showbackground\":true,\"ticks\":\"\",\"zerolinecolor\":\"white\",\"gridwidth\":2},\"yaxis\":{\"backgroundcolor\":\"#E5ECF6\",\"gridcolor\":\"white\",\"linecolor\":\"white\",\"showbackground\":true,\"ticks\":\"\",\"zerolinecolor\":\"white\",\"gridwidth\":2},\"zaxis\":{\"backgroundcolor\":\"#E5ECF6\",\"gridcolor\":\"white\",\"linecolor\":\"white\",\"showbackground\":true,\"ticks\":\"\",\"zerolinecolor\":\"white\",\"gridwidth\":2}},\"shapedefaults\":{\"line\":{\"color\":\"#2a3f5f\"}},\"annotationdefaults\":{\"arrowcolor\":\"#2a3f5f\",\"arrowhead\":0,\"arrowwidth\":1},\"geo\":{\"bgcolor\":\"white\",\"landcolor\":\"#E5ECF6\",\"subunitcolor\":\"white\",\"showland\":true,\"showlakes\":true,\"lakecolor\":\"white\"},\"title\":{\"x\":0.05},\"mapbox\":{\"style\":\"light\"}}},\"xaxis2\":{\"anchor\":\"y2\",\"domain\":[0.0,1.0],\"linecolor\":\"#3b0280\",\"showgrid\":false,\"mirror\":true,\"zeroline\":false,\"matches\":\"x\",\"title\":{\"text\":\"Chunk\"}},\"yaxis2\":{\"anchor\":\"x2\",\"domain\":[0.7653061224489794,0.8469387755102039],\"linecolor\":\"#3b0280\",\"showgrid\":false,\"title\":{\"text\":\"Jensen-Shannon distance\"},\"mirror\":true,\"zeroline\":false},\"xaxis3\":{\"anchor\":\"y3\",\"domain\":[0.0,1.0],\"linecolor\":\"#3b0280\",\"showgrid\":false,\"mirror\":true,\"zeroline\":false,\"matches\":\"x\",\"title\":{\"text\":\"Chunk\"}},\"yaxis3\":{\"anchor\":\"x3\",\"domain\":[0.6122448979591837,0.6938775510204082],\"linecolor\":\"#3b0280\",\"showgrid\":false,\"title\":{\"text\":\"Jensen-Shannon distance\"},\"mirror\":true,\"zeroline\":false},\"xaxis4\":{\"anchor\":\"y4\",\"domain\":[0.0,1.0],\"linecolor\":\"#3b0280\",\"showgrid\":false,\"mirror\":true,\"zeroline\":false,\"matches\":\"x\",\"title\":{\"text\":\"Chunk\"}},\"yaxis4\":{\"anchor\":\"x4\",\"domain\":[0.4591836734693877,0.5408163265306122],\"linecolor\":\"#3b0280\",\"showgrid\":false,\"title\":{\"text\":\"Jensen-Shannon distance\"},\"mirror\":true,\"zeroline\":false},\"xaxis5\":{\"anchor\":\"y5\",\"domain\":[0.0,1.0],\"linecolor\":\"#3b0280\",\"showgrid\":false,\"mirror\":true,\"zeroline\":false,\"matches\":\"x\",\"title\":{\"text\":\"Chunk\"}},\"yaxis5\":{\"anchor\":\"x5\",\"domain\":[0.30612244897959184,0.3877551020408163],\"linecolor\":\"#3b0280\",\"showgrid\":false,\"title\":{\"text\":\"Jensen-Shannon distance\"},\"mirror\":true,\"zeroline\":false},\"xaxis6\":{\"anchor\":\"y6\",\"domain\":[0.0,1.0],\"linecolor\":\"#3b0280\",\"showgrid\":false,\"mirror\":true,\"zeroline\":false,\"matches\":\"x\",\"title\":{\"text\":\"Chunk\"}},\"yaxis6\":{\"anchor\":\"x6\",\"domain\":[0.15306122448979592,0.2346938775510204],\"linecolor\":\"#3b0280\",\"showgrid\":false,\"title\":{\"text\":\"Jensen-Shannon distance\"},\"mirror\":true,\"zeroline\":false},\"xaxis7\":{\"anchor\":\"y7\",\"domain\":[0.0,1.0],\"linecolor\":\"#3b0280\",\"showgrid\":false,\"mirror\":true,\"zeroline\":false,\"matches\":\"x\",\"title\":{\"text\":\"Chunk\"}},\"yaxis7\":{\"anchor\":\"x7\",\"domain\":[0.0,0.08163265306122448],\"linecolor\":\"#3b0280\",\"showgrid\":false,\"title\":{\"text\":\"Jensen-Shannon distance\"},\"mirror\":true,\"zeroline\":false},\"annotations\":[{\"font\":{\"size\":16},\"showarrow\":false,\"text\":\"Jensen-Shannon distance for \\u003cb\\u003eGlobal_active_power\\u003c\\u002fb\\u003e\",\"x\":0.5,\"xanchor\":\"center\",\"xref\":\"paper\",\"y\":0.9999999999999999,\"yanchor\":\"bottom\",\"yref\":\"paper\"},{\"font\":{\"size\":16},\"showarrow\":false,\"text\":\"Jensen-Shannon distance for \\u003cb\\u003eGlobal_intensity\\u003c\\u002fb\\u003e\",\"x\":0.5,\"xanchor\":\"center\",\"xref\":\"paper\",\"y\":0.8469387755102039,\"yanchor\":\"bottom\",\"yref\":\"paper\"},{\"font\":{\"size\":16},\"showarrow\":false,\"text\":\"Jensen-Shannon distance for \\u003cb\\u003eGlobal_reactive_power\\u003c\\u002fb\\u003e\",\"x\":0.5,\"xanchor\":\"center\",\"xref\":\"paper\",\"y\":0.6938775510204082,\"yanchor\":\"bottom\",\"yref\":\"paper\"},{\"font\":{\"size\":16},\"showarrow\":false,\"text\":\"Jensen-Shannon distance for \\u003cb\\u003eSub_metering_1\\u003c\\u002fb\\u003e\",\"x\":0.5,\"xanchor\":\"center\",\"xref\":\"paper\",\"y\":0.5408163265306122,\"yanchor\":\"bottom\",\"yref\":\"paper\"},{\"font\":{\"size\":16},\"showarrow\":false,\"text\":\"Jensen-Shannon distance for \\u003cb\\u003eSub_metering_2\\u003c\\u002fb\\u003e\",\"x\":0.5,\"xanchor\":\"center\",\"xref\":\"paper\",\"y\":0.3877551020408163,\"yanchor\":\"bottom\",\"yref\":\"paper\"},{\"font\":{\"size\":16},\"showarrow\":false,\"text\":\"Jensen-Shannon distance for \\u003cb\\u003eSub_metering_3\\u003c\\u002fb\\u003e\",\"x\":0.5,\"xanchor\":\"center\",\"xref\":\"paper\",\"y\":0.2346938775510204,\"yanchor\":\"bottom\",\"yref\":\"paper\"},{\"font\":{\"size\":16},\"showarrow\":false,\"text\":\"Jensen-Shannon distance for \\u003cb\\u003eVoltage\\u003c\\u002fb\\u003e\",\"x\":0.5,\"xanchor\":\"center\",\"xref\":\"paper\",\"y\":0.08163265306122448,\"yanchor\":\"bottom\",\"yref\":\"paper\"},{\"showarrow\":false,\"text\":\"Reference\",\"x\":4.5,\"xref\":\"x\",\"xshift\":10,\"y\":1.01,\"yref\":\"y domain\"},{\"showarrow\":false,\"text\":\"Analysis\",\"x\":14.5,\"xref\":\"x\",\"xshift\":15,\"y\":1.01,\"yref\":\"y domain\"},{\"showarrow\":false,\"text\":\"Reference\",\"x\":4.5,\"xref\":\"x2\",\"xshift\":10,\"y\":1.01,\"yref\":\"y2 domain\"},{\"showarrow\":false,\"text\":\"Analysis\",\"x\":14.5,\"xref\":\"x2\",\"xshift\":15,\"y\":1.01,\"yref\":\"y2 domain\"},{\"showarrow\":false,\"text\":\"Reference\",\"x\":4.5,\"xref\":\"x3\",\"xshift\":10,\"y\":1.01,\"yref\":\"y3 domain\"},{\"showarrow\":false,\"text\":\"Analysis\",\"x\":14.5,\"xref\":\"x3\",\"xshift\":15,\"y\":1.01,\"yref\":\"y3 domain\"},{\"showarrow\":false,\"text\":\"Reference\",\"x\":4.5,\"xref\":\"x4\",\"xshift\":10,\"y\":1.01,\"yref\":\"y4 domain\"},{\"showarrow\":false,\"text\":\"Analysis\",\"x\":14.5,\"xref\":\"x4\",\"xshift\":15,\"y\":1.01,\"yref\":\"y4 domain\"},{\"showarrow\":false,\"text\":\"Reference\",\"x\":4.5,\"xref\":\"x5\",\"xshift\":10,\"y\":1.01,\"yref\":\"y5 domain\"},{\"showarrow\":false,\"text\":\"Analysis\",\"x\":14.5,\"xref\":\"x5\",\"xshift\":15,\"y\":1.01,\"yref\":\"y5 domain\"},{\"showarrow\":false,\"text\":\"Reference\",\"x\":4.5,\"xref\":\"x6\",\"xshift\":10,\"y\":1.01,\"yref\":\"y6 domain\"},{\"showarrow\":false,\"text\":\"Analysis\",\"x\":14.5,\"xref\":\"x6\",\"xshift\":15,\"y\":1.01,\"yref\":\"y6 domain\"},{\"showarrow\":false,\"text\":\"Reference\",\"x\":4.5,\"xref\":\"x7\",\"xshift\":10,\"y\":1.01,\"yref\":\"y7 domain\"},{\"showarrow\":false,\"text\":\"Analysis\",\"x\":14.5,\"xref\":\"x7\",\"xshift\":15,\"y\":1.01,\"yref\":\"y7 domain\"}],\"shapes\":[{\"layer\":\"below\",\"line\":{\"color\":\"#666666\",\"width\":1},\"type\":\"line\",\"x0\":10,\"x1\":10,\"xref\":\"x\",\"y0\":0,\"y1\":1,\"yref\":\"y domain\"},{\"layer\":\"below\",\"line\":{\"color\":\"#666666\",\"width\":1},\"type\":\"line\",\"x0\":10,\"x1\":10,\"xref\":\"x\",\"y0\":0,\"y1\":1,\"yref\":\"y domain\"},{\"layer\":\"below\",\"line\":{\"color\":\"#666666\",\"width\":1},\"type\":\"line\",\"x0\":10,\"x1\":10,\"xref\":\"x2\",\"y0\":0,\"y1\":1,\"yref\":\"y2 domain\"},{\"layer\":\"below\",\"line\":{\"color\":\"#666666\",\"width\":1},\"type\":\"line\",\"x0\":10,\"x1\":10,\"xref\":\"x\",\"y0\":0,\"y1\":1,\"yref\":\"y domain\"},{\"layer\":\"below\",\"line\":{\"color\":\"#666666\",\"width\":1},\"type\":\"line\",\"x0\":10,\"x1\":10,\"xref\":\"x2\",\"y0\":0,\"y1\":1,\"yref\":\"y2 domain\"},{\"layer\":\"below\",\"line\":{\"color\":\"#666666\",\"width\":1},\"type\":\"line\",\"x0\":10,\"x1\":10,\"xref\":\"x3\",\"y0\":0,\"y1\":1,\"yref\":\"y3 domain\"},{\"layer\":\"below\",\"line\":{\"color\":\"#666666\",\"width\":1},\"type\":\"line\",\"x0\":10,\"x1\":10,\"xref\":\"x\",\"y0\":0,\"y1\":1,\"yref\":\"y domain\"},{\"layer\":\"below\",\"line\":{\"color\":\"#666666\",\"width\":1},\"type\":\"line\",\"x0\":10,\"x1\":10,\"xref\":\"x2\",\"y0\":0,\"y1\":1,\"yref\":\"y2 domain\"},{\"layer\":\"below\",\"line\":{\"color\":\"#666666\",\"width\":1},\"type\":\"line\",\"x0\":10,\"x1\":10,\"xref\":\"x3\",\"y0\":0,\"y1\":1,\"yref\":\"y3 domain\"},{\"layer\":\"below\",\"line\":{\"color\":\"#666666\",\"width\":1},\"type\":\"line\",\"x0\":10,\"x1\":10,\"xref\":\"x4\",\"y0\":0,\"y1\":1,\"yref\":\"y4 domain\"},{\"layer\":\"below\",\"line\":{\"color\":\"#666666\",\"width\":1},\"type\":\"line\",\"x0\":10,\"x1\":10,\"xref\":\"x\",\"y0\":0,\"y1\":1,\"yref\":\"y domain\"},{\"layer\":\"below\",\"line\":{\"color\":\"#666666\",\"width\":1},\"type\":\"line\",\"x0\":10,\"x1\":10,\"xref\":\"x2\",\"y0\":0,\"y1\":1,\"yref\":\"y2 domain\"},{\"layer\":\"below\",\"line\":{\"color\":\"#666666\",\"width\":1},\"type\":\"line\",\"x0\":10,\"x1\":10,\"xref\":\"x3\",\"y0\":0,\"y1\":1,\"yref\":\"y3 domain\"},{\"layer\":\"below\",\"line\":{\"color\":\"#666666\",\"width\":1},\"type\":\"line\",\"x0\":10,\"x1\":10,\"xref\":\"x4\",\"y0\":0,\"y1\":1,\"yref\":\"y4 domain\"},{\"layer\":\"below\",\"line\":{\"color\":\"#666666\",\"width\":1},\"type\":\"line\",\"x0\":10,\"x1\":10,\"xref\":\"x5\",\"y0\":0,\"y1\":1,\"yref\":\"y5 domain\"},{\"layer\":\"below\",\"line\":{\"color\":\"#666666\",\"width\":1},\"type\":\"line\",\"x0\":10,\"x1\":10,\"xref\":\"x\",\"y0\":0,\"y1\":1,\"yref\":\"y domain\"},{\"layer\":\"below\",\"line\":{\"color\":\"#666666\",\"width\":1},\"type\":\"line\",\"x0\":10,\"x1\":10,\"xref\":\"x2\",\"y0\":0,\"y1\":1,\"yref\":\"y2 domain\"},{\"layer\":\"below\",\"line\":{\"color\":\"#666666\",\"width\":1},\"type\":\"line\",\"x0\":10,\"x1\":10,\"xref\":\"x3\",\"y0\":0,\"y1\":1,\"yref\":\"y3 domain\"},{\"layer\":\"below\",\"line\":{\"color\":\"#666666\",\"width\":1},\"type\":\"line\",\"x0\":10,\"x1\":10,\"xref\":\"x4\",\"y0\":0,\"y1\":1,\"yref\":\"y4 domain\"},{\"layer\":\"below\",\"line\":{\"color\":\"#666666\",\"width\":1},\"type\":\"line\",\"x0\":10,\"x1\":10,\"xref\":\"x5\",\"y0\":0,\"y1\":1,\"yref\":\"y5 domain\"},{\"layer\":\"below\",\"line\":{\"color\":\"#666666\",\"width\":1},\"type\":\"line\",\"x0\":10,\"x1\":10,\"xref\":\"x6\",\"y0\":0,\"y1\":1,\"yref\":\"y6 domain\"},{\"layer\":\"below\",\"line\":{\"color\":\"#666666\",\"width\":1},\"type\":\"line\",\"x0\":10,\"x1\":10,\"xref\":\"x\",\"y0\":0,\"y1\":1,\"yref\":\"y domain\"},{\"layer\":\"below\",\"line\":{\"color\":\"#666666\",\"width\":1},\"type\":\"line\",\"x0\":10,\"x1\":10,\"xref\":\"x2\",\"y0\":0,\"y1\":1,\"yref\":\"y2 domain\"},{\"layer\":\"below\",\"line\":{\"color\":\"#666666\",\"width\":1},\"type\":\"line\",\"x0\":10,\"x1\":10,\"xref\":\"x3\",\"y0\":0,\"y1\":1,\"yref\":\"y3 domain\"},{\"layer\":\"below\",\"line\":{\"color\":\"#666666\",\"width\":1},\"type\":\"line\",\"x0\":10,\"x1\":10,\"xref\":\"x4\",\"y0\":0,\"y1\":1,\"yref\":\"y4 domain\"},{\"layer\":\"below\",\"line\":{\"color\":\"#666666\",\"width\":1},\"type\":\"line\",\"x0\":10,\"x1\":10,\"xref\":\"x5\",\"y0\":0,\"y1\":1,\"yref\":\"y5 domain\"},{\"layer\":\"below\",\"line\":{\"color\":\"#666666\",\"width\":1},\"type\":\"line\",\"x0\":10,\"x1\":10,\"xref\":\"x6\",\"y0\":0,\"y1\":1,\"yref\":\"y6 domain\"},{\"layer\":\"below\",\"line\":{\"color\":\"#666666\",\"width\":1},\"type\":\"line\",\"x0\":10,\"x1\":10,\"xref\":\"x7\",\"y0\":0,\"y1\":1,\"yref\":\"y7 domain\"}]},                        {\"responsive\": true}                    ).then(function(){\n",
              "                            \n",
              "var gd = document.getElementById('18d35348-b7fd-4d40-b91a-c9b044f10c71');\n",
              "var x = new MutationObserver(function (mutations, observer) {{\n",
              "        var display = window.getComputedStyle(gd).display;\n",
              "        if (!display || display === 'none') {{\n",
              "            console.log([gd, 'removed!']);\n",
              "            Plotly.purge(gd);\n",
              "            observer.disconnect();\n",
              "        }}\n",
              "}});\n",
              "\n",
              "// Listen for the removal of the full notebook cells\n",
              "var notebookContainer = gd.closest('#notebook-container');\n",
              "if (notebookContainer) {{\n",
              "    x.observe(notebookContainer, {childList: true});\n",
              "}}\n",
              "\n",
              "// Listen for the clearing of the current output cell\n",
              "var outputEl = gd.closest('.output');\n",
              "if (outputEl) {{\n",
              "    x.observe(outputEl, {childList: true});\n",
              "}}\n",
              "\n",
              "                        })                };                            </script>        </div>\n",
              "</body>\n",
              "</html>"
            ]
          },
          "metadata": {}
        }
      ]
    },
    {
      "cell_type": "code",
      "source": [
        "figure = univariate_data_drift.filter(period='all', metrics='jensen_shannon').plot(kind='distribution')\n",
        "\n",
        "figure"
      ],
      "metadata": {
        "id": "_hk9yBocH3m6"
      },
      "execution_count": null,
      "outputs": []
    },
    {
      "cell_type": "code",
      "source": [
        "import datetime as dt"
      ],
      "metadata": {
        "id": "2hvpGz-pW4aX"
      },
      "execution_count": null,
      "outputs": []
    },
    {
      "cell_type": "code",
      "source": [
        "X_test['partition'], X_test['power_consumtion'] = 'reference', y_test.values\n",
        "X_prod['partition'], X_prod['power_consumtion'] = 'analysis', y_prod.values\n",
        "#X_prod['YOJ'] = X_prod['YOJ'] * (random.uniform(0, 12) + 0.4)\n",
        "#X_prod['MORTDUE'] = X_prod['MORTDUE'] * random.uniform(0, 5)\n",
        "#X_prod['CLAGE'] = X_prod['CLAGE'] * 0.1\n",
        "nanny_ml_df = pd.concat([X_test, X_prod])\n",
        "nanny_ml_df['Time'] = df['Date']\n",
        "#nanny_ml_df['identifier'] = nanny_ml_df.index\n",
        "#nanny_ml_df['y_pred_proba'] = model.predict_proba(nanny_ml_df[nanny_ml_df.columns[:-4]])[:,1]\n",
        "#nanny_ml_df['y_pred'] = nanny_ml_df['y_pred_proba'].map(lambda p: int(p >= 0.75))\n",
        "\n",
        "reference1 = nanny_ml_df[nanny_ml_df['partition']=='reference'].copy()\n",
        "analysis1 = nanny_ml_df[nanny_ml_df['partition']=='analysis'].copy()"
      ],
      "metadata": {
        "id": "FWs_OP_TMmw9"
      },
      "execution_count": null,
      "outputs": []
    },
    {
      "cell_type": "code",
      "source": [
        "y_pred = pd.DataFrame(y_pred)"
      ],
      "metadata": {
        "id": "nO5Vq7QVYoxS"
      },
      "execution_count": null,
      "outputs": []
    },
    {
      "cell_type": "code",
      "source": [
        "y_pred"
      ],
      "metadata": {
        "id": "bR-29DRDY4G7"
      },
      "execution_count": null,
      "outputs": []
    },
    {
      "cell_type": "code",
      "source": [
        "reference2 = pd.concat([reference1,y_pred],axis = 1)"
      ],
      "metadata": {
        "id": "ClK8Ly-MYLJ_"
      },
      "execution_count": null,
      "outputs": []
    },
    {
      "cell_type": "code",
      "source": [
        "reference2"
      ],
      "metadata": {
        "id": "TABJ3fHJZDd5"
      },
      "execution_count": null,
      "outputs": []
    },
    {
      "cell_type": "code",
      "source": [
        "dle1 = nml.DLE(\n",
        "    metrics=['mae'],\n",
        "    y_true='power_consumtion',\n",
        "    y_pred='y_pred',\n",
        "    feature_column_names=features\n",
        "    #timestamp_column_name='Date'\n",
        "    #chunk_period='d' # perform an estimation daily\n",
        ")\n",
        "\n",
        "dle1.fit(reference1) # fit on the reference (test) data\n",
        "estimated_performance = dle.estimate(analysis1) # estimate on the prod data"
      ],
      "metadata": {
        "id": "M6RcJDjpXQ_9"
      },
      "execution_count": null,
      "outputs": []
    },
    {
      "cell_type": "code",
      "source": [
        "df.columns"
      ],
      "metadata": {
        "id": "jnN1a0KUXyF6"
      },
      "execution_count": null,
      "outputs": []
    },
    {
      "cell_type": "code",
      "source": [],
      "metadata": {
        "id": "0-sazxk7XzjA"
      },
      "execution_count": null,
      "outputs": []
    }
  ]
}